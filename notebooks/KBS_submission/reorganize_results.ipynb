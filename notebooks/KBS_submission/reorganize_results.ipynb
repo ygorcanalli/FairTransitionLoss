{
 "cells": [
  {
   "cell_type": "code",
   "execution_count": 14,
   "metadata": {
    "collapsed": true,
    "ExecuteTime": {
     "end_time": "2023-10-20T02:05:36.510053428Z",
     "start_time": "2023-10-20T02:05:36.497204212Z"
    }
   },
   "outputs": [],
   "source": [
    "import pandas as pd\n",
    "import os\n",
    "from IPython.display import display"
   ]
  },
  {
   "cell_type": "code",
   "execution_count": 15,
   "outputs": [],
   "source": [
    "def read_csv_files_from_folder(folder_path):\n",
    "    # Initialize an empty list to store DataFrames\n",
    "    dfs = []\n",
    "\n",
    "    # Get a list of files in the folder\n",
    "    file_list = os.listdir(folder_path)\n",
    "\n",
    "    # Iterate through the files in the folder\n",
    "    for file_name in file_list:\n",
    "        # Check if the file has a .csv extension\n",
    "        if file_name.endswith(\".csv\"):\n",
    "            file_path = os.path.join(folder_path, file_name)\n",
    "\n",
    "            # Read the CSV file into a DataFrame\n",
    "            df = pd.read_csv(file_path)\n",
    "\n",
    "            # Append the DataFrame to the list\n",
    "            dfs.append(df)\n",
    "\n",
    "    # Concatenate all DataFrames into a single DataFrame\n",
    "    combined_df = pd.concat(dfs, ignore_index=True)\n",
    "\n",
    "    return combined_df"
   ],
   "metadata": {
    "collapsed": false,
    "ExecuteTime": {
     "end_time": "2023-10-20T02:05:36.510841650Z",
     "start_time": "2023-10-20T02:05:36.501628344Z"
    }
   }
  },
  {
   "cell_type": "code",
   "execution_count": 16,
   "outputs": [
    {
     "data": {
      "text/plain": "      Unnamed: 0  overall_acc   bal_acc  avg_odds_diff  disp_imp  \\\n0              0     0.650000  0.477941       0.022839  1.007030   \n1              1     0.645000  0.484962       0.073451  1.064832   \n2              2     0.740000  0.659133       0.025781  0.954128   \n3              3     0.545000  0.397810       0.070884  0.895425   \n4              4     0.615000  0.448905       0.066751  0.894180   \n...          ...          ...       ...            ...       ...   \n1752          25     0.896851  0.669304       0.057653  2.118719   \n1753          26     0.896359  0.753549       0.072641  2.153847   \n1754          27     0.898655  0.696844       0.053642  1.420554   \n1755          28     0.901607  0.718345       0.145878  0.755483   \n1756          29     0.894064  0.687906       0.105366  1.858014   \n\n      stat_par_diff  eq_opp_diff  theil_ind  f1_score       TPR  ...  \\\n0          0.006558     0.028241   0.087680  0.804954  0.955882  ...   \n1          0.059217     0.045977   0.077539  0.806250  0.969925  ...   \n2          0.038462     0.017416   0.092947  0.823129  0.937984  ...   \n3          0.077859     0.056402   0.199996  0.775801  0.795620  ...   \n4          0.087912     0.050342   0.121159  0.828283  0.897810  ...   \n...             ...          ...        ...       ...       ...  ...   \n1752       0.074544     0.087314   0.093049  0.472758  0.364341  ...   \n1753       0.133189     0.120516   0.075922  0.584757  0.560453  ...   \n1754       0.034509     0.099174   0.086198  0.514914  0.427083  ...   \n1755       0.022450     0.286523   0.081914  0.551570  0.471867  ...   \n1756       0.069031     0.138699   0.090850  0.500000  0.409898  ...   \n\n           FOR       ACC       MCC   fitness  \\\n0     0.000000  0.650000  0.000000 -0.006558   \n1     0.000000  0.645000  0.000000 -0.059217   \n2     0.228571  0.740000  0.400810  0.362348   \n3     0.000000  0.545000  0.000000 -0.077859   \n4     0.000000  0.615000  0.000000 -0.066751   \n...        ...       ...       ...       ...   \n1752  0.086635  0.896851  0.445599  0.809537   \n1753  0.064991  0.896359  0.526321  0.775843   \n1754  0.078684  0.898655  0.473519  0.799482   \n1755  0.074522  0.901607  0.507223  0.615084   \n1756  0.083125  0.894064  0.457830  0.755364   \n\n                                               solution  \\\n0                      {'dropout': 0.18124389809074126}   \n1     {'dropout': 0.022732599406043996, 'privileged_...   \n2         {'adversary_loss_weight': 0.6148404367300289}   \n3                           {'eta': 49.471477392162484}   \n4                    {'dropout': 0.0037868792501197348}   \n...                                                 ...   \n1752            {'C': 10.459577021264977, 'gamma': 0.1}   \n1753                  {'dropout': 0.000321942353699714}   \n1754  {'dropout': 0.014472416047403187, 'privileged_...   \n1755      {'adversary_loss_weight': 0.8391213408528397}   \n1756                         {'eta': 39.18922596420359}   \n\n                                   tune_results_history     fitness_rule  \\\n0     [{'overall_acc': 0.59375, 'bal_acc': 0.4481132...       mcc_parity   \n1     [{'overall_acc': 0.00625, 'bal_acc': 0.0043859...       mcc_parity   \n2     [{'overall_acc': 0.70625, 'bal_acc': 0.5580357...       mcc_parity   \n3     [{'overall_acc': 0.56875, 'bal_acc': 0.4136363...       mcc_parity   \n4     [{'overall_acc': 0.56875, 'bal_acc': 0.4099099...         mcc_odds   \n...                                                 ...              ...   \n1752  [{'overall_acc': 0.8993439934399344, 'bal_acc'...  acc_opportunity   \n1753  [{'overall_acc': 0.9093890938909389, 'bal_acc'...  acc_opportunity   \n1754  [{'overall_acc': 0.8511685116851169, 'bal_acc'...  acc_opportunity   \n1755  [{'overall_acc': 0.8987289872898729, 'bal_acc'...  acc_opportunity   \n1756  [{'overall_acc': 0.8964739647396474, 'bal_acc'...  acc_opportunity   \n\n                                 method                dataset  \\\n0                simple_mlp_initializer  german_dataset_reader   \n1                   ftl_mlp_initializer  german_dataset_reader   \n2     adversarial_debiasing_initializer  german_dataset_reader   \n3         prejudice_remover_initializer  german_dataset_reader   \n4                simple_mlp_initializer  german_dataset_reader   \n...                                 ...                    ...   \n1752  gerry_fair_classifier_initializer    bank_dataset_reader   \n1753             simple_mlp_initializer    bank_dataset_reader   \n1754                ftl_mlp_initializer    bank_dataset_reader   \n1755  adversarial_debiasing_initializer    bank_dataset_reader   \n1756      prejudice_remover_initializer    bank_dataset_reader   \n\n                               best_solution_tf_history  \n0     {'loss': [0.7094872196515402, 0.64226885371738...  \n1     {'loss': [0.8503885070482889, 0.78124442100524...  \n2                                                   NaN  \n3                                                   NaN  \n4     {'loss': [0.7087434199121263, 0.61068538427352...  \n...                                                 ...  \n1752                                                NaN  \n1753  {'loss': [0.2854798949427075, 0.22084286485976...  \n1754  {'loss': [0.49211953761153904, 0.4700222834873...  \n1755                                                NaN  \n1756                                                NaN  \n\n[1757 rows x 30 columns]",
      "text/html": "<div>\n<style scoped>\n    .dataframe tbody tr th:only-of-type {\n        vertical-align: middle;\n    }\n\n    .dataframe tbody tr th {\n        vertical-align: top;\n    }\n\n    .dataframe thead th {\n        text-align: right;\n    }\n</style>\n<table border=\"1\" class=\"dataframe\">\n  <thead>\n    <tr style=\"text-align: right;\">\n      <th></th>\n      <th>Unnamed: 0</th>\n      <th>overall_acc</th>\n      <th>bal_acc</th>\n      <th>avg_odds_diff</th>\n      <th>disp_imp</th>\n      <th>stat_par_diff</th>\n      <th>eq_opp_diff</th>\n      <th>theil_ind</th>\n      <th>f1_score</th>\n      <th>TPR</th>\n      <th>...</th>\n      <th>FOR</th>\n      <th>ACC</th>\n      <th>MCC</th>\n      <th>fitness</th>\n      <th>solution</th>\n      <th>tune_results_history</th>\n      <th>fitness_rule</th>\n      <th>method</th>\n      <th>dataset</th>\n      <th>best_solution_tf_history</th>\n    </tr>\n  </thead>\n  <tbody>\n    <tr>\n      <th>0</th>\n      <td>0</td>\n      <td>0.650000</td>\n      <td>0.477941</td>\n      <td>0.022839</td>\n      <td>1.007030</td>\n      <td>0.006558</td>\n      <td>0.028241</td>\n      <td>0.087680</td>\n      <td>0.804954</td>\n      <td>0.955882</td>\n      <td>...</td>\n      <td>0.000000</td>\n      <td>0.650000</td>\n      <td>0.000000</td>\n      <td>-0.006558</td>\n      <td>{'dropout': 0.18124389809074126}</td>\n      <td>[{'overall_acc': 0.59375, 'bal_acc': 0.4481132...</td>\n      <td>mcc_parity</td>\n      <td>simple_mlp_initializer</td>\n      <td>german_dataset_reader</td>\n      <td>{'loss': [0.7094872196515402, 0.64226885371738...</td>\n    </tr>\n    <tr>\n      <th>1</th>\n      <td>1</td>\n      <td>0.645000</td>\n      <td>0.484962</td>\n      <td>0.073451</td>\n      <td>1.064832</td>\n      <td>0.059217</td>\n      <td>0.045977</td>\n      <td>0.077539</td>\n      <td>0.806250</td>\n      <td>0.969925</td>\n      <td>...</td>\n      <td>0.000000</td>\n      <td>0.645000</td>\n      <td>0.000000</td>\n      <td>-0.059217</td>\n      <td>{'dropout': 0.022732599406043996, 'privileged_...</td>\n      <td>[{'overall_acc': 0.00625, 'bal_acc': 0.0043859...</td>\n      <td>mcc_parity</td>\n      <td>ftl_mlp_initializer</td>\n      <td>german_dataset_reader</td>\n      <td>{'loss': [0.8503885070482889, 0.78124442100524...</td>\n    </tr>\n    <tr>\n      <th>2</th>\n      <td>2</td>\n      <td>0.740000</td>\n      <td>0.659133</td>\n      <td>0.025781</td>\n      <td>0.954128</td>\n      <td>0.038462</td>\n      <td>0.017416</td>\n      <td>0.092947</td>\n      <td>0.823129</td>\n      <td>0.937984</td>\n      <td>...</td>\n      <td>0.228571</td>\n      <td>0.740000</td>\n      <td>0.400810</td>\n      <td>0.362348</td>\n      <td>{'adversary_loss_weight': 0.6148404367300289}</td>\n      <td>[{'overall_acc': 0.70625, 'bal_acc': 0.5580357...</td>\n      <td>mcc_parity</td>\n      <td>adversarial_debiasing_initializer</td>\n      <td>german_dataset_reader</td>\n      <td>NaN</td>\n    </tr>\n    <tr>\n      <th>3</th>\n      <td>3</td>\n      <td>0.545000</td>\n      <td>0.397810</td>\n      <td>0.070884</td>\n      <td>0.895425</td>\n      <td>0.077859</td>\n      <td>0.056402</td>\n      <td>0.199996</td>\n      <td>0.775801</td>\n      <td>0.795620</td>\n      <td>...</td>\n      <td>0.000000</td>\n      <td>0.545000</td>\n      <td>0.000000</td>\n      <td>-0.077859</td>\n      <td>{'eta': 49.471477392162484}</td>\n      <td>[{'overall_acc': 0.56875, 'bal_acc': 0.4136363...</td>\n      <td>mcc_parity</td>\n      <td>prejudice_remover_initializer</td>\n      <td>german_dataset_reader</td>\n      <td>NaN</td>\n    </tr>\n    <tr>\n      <th>4</th>\n      <td>4</td>\n      <td>0.615000</td>\n      <td>0.448905</td>\n      <td>0.066751</td>\n      <td>0.894180</td>\n      <td>0.087912</td>\n      <td>0.050342</td>\n      <td>0.121159</td>\n      <td>0.828283</td>\n      <td>0.897810</td>\n      <td>...</td>\n      <td>0.000000</td>\n      <td>0.615000</td>\n      <td>0.000000</td>\n      <td>-0.066751</td>\n      <td>{'dropout': 0.0037868792501197348}</td>\n      <td>[{'overall_acc': 0.56875, 'bal_acc': 0.4099099...</td>\n      <td>mcc_odds</td>\n      <td>simple_mlp_initializer</td>\n      <td>german_dataset_reader</td>\n      <td>{'loss': [0.7087434199121263, 0.61068538427352...</td>\n    </tr>\n    <tr>\n      <th>...</th>\n      <td>...</td>\n      <td>...</td>\n      <td>...</td>\n      <td>...</td>\n      <td>...</td>\n      <td>...</td>\n      <td>...</td>\n      <td>...</td>\n      <td>...</td>\n      <td>...</td>\n      <td>...</td>\n      <td>...</td>\n      <td>...</td>\n      <td>...</td>\n      <td>...</td>\n      <td>...</td>\n      <td>...</td>\n      <td>...</td>\n      <td>...</td>\n      <td>...</td>\n      <td>...</td>\n    </tr>\n    <tr>\n      <th>1752</th>\n      <td>25</td>\n      <td>0.896851</td>\n      <td>0.669304</td>\n      <td>0.057653</td>\n      <td>2.118719</td>\n      <td>0.074544</td>\n      <td>0.087314</td>\n      <td>0.093049</td>\n      <td>0.472758</td>\n      <td>0.364341</td>\n      <td>...</td>\n      <td>0.086635</td>\n      <td>0.896851</td>\n      <td>0.445599</td>\n      <td>0.809537</td>\n      <td>{'C': 10.459577021264977, 'gamma': 0.1}</td>\n      <td>[{'overall_acc': 0.8993439934399344, 'bal_acc'...</td>\n      <td>acc_opportunity</td>\n      <td>gerry_fair_classifier_initializer</td>\n      <td>bank_dataset_reader</td>\n      <td>NaN</td>\n    </tr>\n    <tr>\n      <th>1753</th>\n      <td>26</td>\n      <td>0.896359</td>\n      <td>0.753549</td>\n      <td>0.072641</td>\n      <td>2.153847</td>\n      <td>0.133189</td>\n      <td>0.120516</td>\n      <td>0.075922</td>\n      <td>0.584757</td>\n      <td>0.560453</td>\n      <td>...</td>\n      <td>0.064991</td>\n      <td>0.896359</td>\n      <td>0.526321</td>\n      <td>0.775843</td>\n      <td>{'dropout': 0.000321942353699714}</td>\n      <td>[{'overall_acc': 0.9093890938909389, 'bal_acc'...</td>\n      <td>acc_opportunity</td>\n      <td>simple_mlp_initializer</td>\n      <td>bank_dataset_reader</td>\n      <td>{'loss': [0.2854798949427075, 0.22084286485976...</td>\n    </tr>\n    <tr>\n      <th>1754</th>\n      <td>27</td>\n      <td>0.898655</td>\n      <td>0.696844</td>\n      <td>0.053642</td>\n      <td>1.420554</td>\n      <td>0.034509</td>\n      <td>0.099174</td>\n      <td>0.086198</td>\n      <td>0.514914</td>\n      <td>0.427083</td>\n      <td>...</td>\n      <td>0.078684</td>\n      <td>0.898655</td>\n      <td>0.473519</td>\n      <td>0.799482</td>\n      <td>{'dropout': 0.014472416047403187, 'privileged_...</td>\n      <td>[{'overall_acc': 0.8511685116851169, 'bal_acc'...</td>\n      <td>acc_opportunity</td>\n      <td>ftl_mlp_initializer</td>\n      <td>bank_dataset_reader</td>\n      <td>{'loss': [0.49211953761153904, 0.4700222834873...</td>\n    </tr>\n    <tr>\n      <th>1755</th>\n      <td>28</td>\n      <td>0.901607</td>\n      <td>0.718345</td>\n      <td>0.145878</td>\n      <td>0.755483</td>\n      <td>0.022450</td>\n      <td>0.286523</td>\n      <td>0.081914</td>\n      <td>0.551570</td>\n      <td>0.471867</td>\n      <td>...</td>\n      <td>0.074522</td>\n      <td>0.901607</td>\n      <td>0.507223</td>\n      <td>0.615084</td>\n      <td>{'adversary_loss_weight': 0.8391213408528397}</td>\n      <td>[{'overall_acc': 0.8987289872898729, 'bal_acc'...</td>\n      <td>acc_opportunity</td>\n      <td>adversarial_debiasing_initializer</td>\n      <td>bank_dataset_reader</td>\n      <td>NaN</td>\n    </tr>\n    <tr>\n      <th>1756</th>\n      <td>29</td>\n      <td>0.894064</td>\n      <td>0.687906</td>\n      <td>0.105366</td>\n      <td>1.858014</td>\n      <td>0.069031</td>\n      <td>0.138699</td>\n      <td>0.090850</td>\n      <td>0.500000</td>\n      <td>0.409898</td>\n      <td>...</td>\n      <td>0.083125</td>\n      <td>0.894064</td>\n      <td>0.457830</td>\n      <td>0.755364</td>\n      <td>{'eta': 39.18922596420359}</td>\n      <td>[{'overall_acc': 0.8964739647396474, 'bal_acc'...</td>\n      <td>acc_opportunity</td>\n      <td>prejudice_remover_initializer</td>\n      <td>bank_dataset_reader</td>\n      <td>NaN</td>\n    </tr>\n  </tbody>\n</table>\n<p>1757 rows × 30 columns</p>\n</div>"
     },
     "metadata": {},
     "output_type": "display_data"
    }
   ],
   "source": [
    "cols = ['dataset', 'method', 'fitness_rule', 'fitness', 'ACC', 'MCC', 'avg_odds_diff', 'stat_par_diff', 'eq_opp_diff']\n",
    "old_results = read_csv_files_from_folder('../2023-07-26/results')\n",
    "display(old_results)"
   ],
   "metadata": {
    "collapsed": false,
    "ExecuteTime": {
     "end_time": "2023-10-20T02:05:37.582465567Z",
     "start_time": "2023-10-20T02:05:36.504081638Z"
    }
   }
  },
  {
   "cell_type": "code",
   "execution_count": 17,
   "outputs": [],
   "source": [
    "# remove old Gerry Fair Classifier Results and keep the others\n",
    "old_results_without_gfc = old_results.query(\"method != 'gerry_fair_classifier_initializer'\")\n",
    "\n",
    "# get new Gerry Fair Classifier results\n",
    "gfc_results = read_csv_files_from_folder('../2023-10-04/results')\n",
    "\n",
    "# merge old results with new GFC\n",
    "old_and_gfc_results = pd.concat([old_results_without_gfc, gfc_results])\n",
    "\n",
    "# remove german credit dataset results exept adversarial debiasing\n",
    "old_and_gfc_results_without_german = old_and_gfc_results.query(\"dataset != 'german_dataset_reader' or method == 'adversarial_debiasing_initializer'\")\n",
    "\n",
    "# read new german credit results\n",
    "german_results = read_csv_files_from_folder('../2023-10-17/results')\n",
    "\n",
    "# merge definitive results\n",
    "results = pd.concat([old_and_gfc_results_without_german, german_results])\n"
   ],
   "metadata": {
    "collapsed": false,
    "ExecuteTime": {
     "end_time": "2023-10-20T02:05:37.992943305Z",
     "start_time": "2023-10-20T02:05:37.587050274Z"
    }
   }
  },
  {
   "cell_type": "code",
   "execution_count": 18,
   "outputs": [],
   "source": [
    "# save results by method\n",
    "for method in ['simple_mlp_initializer', 'ftl_mlp_initializer', 'adversarial_debiasing_initializer', 'prejudice_remover_initializer', 'gerry_fair_classifier_initializer']:\n",
    "    csv_path = method.replace('_initializer', '_results') + '.csv'\n",
    "    results[results.method == method][cols].to_csv(f'results/{csv_path}')"
   ],
   "metadata": {
    "collapsed": false,
    "ExecuteTime": {
     "end_time": "2023-10-20T02:05:38.036871033Z",
     "start_time": "2023-10-20T02:05:37.996475777Z"
    }
   }
  },
  {
   "cell_type": "code",
   "execution_count": 18,
   "outputs": [],
   "source": [],
   "metadata": {
    "collapsed": false,
    "ExecuteTime": {
     "end_time": "2023-10-20T02:05:38.039270535Z",
     "start_time": "2023-10-20T02:05:38.037108153Z"
    }
   }
  }
 ],
 "metadata": {
  "kernelspec": {
   "display_name": "Python 3",
   "language": "python",
   "name": "python3"
  },
  "language_info": {
   "codemirror_mode": {
    "name": "ipython",
    "version": 2
   },
   "file_extension": ".py",
   "mimetype": "text/x-python",
   "name": "python",
   "nbconvert_exporter": "python",
   "pygments_lexer": "ipython2",
   "version": "2.7.6"
  }
 },
 "nbformat": 4,
 "nbformat_minor": 0
}
