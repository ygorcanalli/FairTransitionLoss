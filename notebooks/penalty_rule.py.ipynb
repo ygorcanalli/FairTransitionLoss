{
 "cells": [
  {
   "cell_type": "code",
   "execution_count": 226,
   "metadata": {
    "collapsed": true
   },
   "outputs": [],
   "source": [
    "import numpy as np\n",
    "import matplotlib.pyplot as plt"
   ]
  },
  {
   "cell_type": "code",
   "execution_count": 227,
   "outputs": [],
   "source": [
    "base_acc = 1.0"
   ],
   "metadata": {
    "collapsed": false,
    "pycharm": {
     "name": "#%%\n"
    }
   }
  },
  {
   "cell_type": "code",
   "execution_count": 228,
   "outputs": [
    {
     "data": {
      "text/plain": "array([0.01 , 0.011, 0.012, 0.013, 0.014, 0.015, 0.016, 0.017, 0.018,\n       0.019, 0.02 , 0.021, 0.022, 0.023, 0.024, 0.025, 0.026, 0.027,\n       0.028, 0.029, 0.03 , 0.031, 0.032, 0.033, 0.034, 0.035, 0.036,\n       0.037, 0.038, 0.039, 0.04 , 0.041, 0.042, 0.043, 0.044, 0.045,\n       0.046, 0.047, 0.048, 0.049, 0.05 , 0.051, 0.052, 0.053, 0.054,\n       0.055, 0.056, 0.057, 0.058, 0.059, 0.06 , 0.061, 0.062, 0.063,\n       0.064, 0.065, 0.066, 0.067, 0.068, 0.069, 0.07 , 0.071, 0.072,\n       0.073, 0.074, 0.075, 0.076, 0.077, 0.078, 0.079])"
     },
     "execution_count": 228,
     "metadata": {},
     "output_type": "execute_result"
    }
   ],
   "source": [
    "odds = np.arange(0.01, 0.08, 0.001)\n",
    "odds"
   ],
   "metadata": {
    "collapsed": false,
    "pycharm": {
     "name": "#%%\n"
    }
   }
  },
  {
   "cell_type": "code",
   "execution_count": 229,
   "outputs": [
    {
     "data": {
      "text/plain": "array([0.5  , 0.501, 0.502, 0.503, 0.504, 0.505, 0.506, 0.507, 0.508,\n       0.509, 0.51 , 0.511, 0.512, 0.513, 0.514, 0.515, 0.516, 0.517,\n       0.518, 0.519, 0.52 , 0.521, 0.522, 0.523, 0.524, 0.525, 0.526,\n       0.527, 0.528, 0.529, 0.53 , 0.531, 0.532, 0.533, 0.534, 0.535,\n       0.536, 0.537, 0.538, 0.539, 0.54 , 0.541, 0.542, 0.543, 0.544,\n       0.545, 0.546, 0.547, 0.548, 0.549, 0.55 , 0.551, 0.552, 0.553,\n       0.554, 0.555, 0.556, 0.557, 0.558, 0.559, 0.56 , 0.561, 0.562,\n       0.563, 0.564, 0.565, 0.566, 0.567, 0.568, 0.569, 0.57 , 0.571,\n       0.572, 0.573, 0.574, 0.575, 0.576, 0.577, 0.578, 0.579, 0.58 ,\n       0.581, 0.582, 0.583, 0.584, 0.585, 0.586, 0.587, 0.588, 0.589,\n       0.59 , 0.591, 0.592, 0.593, 0.594, 0.595, 0.596, 0.597, 0.598,\n       0.599, 0.6  , 0.601, 0.602, 0.603, 0.604, 0.605, 0.606, 0.607,\n       0.608, 0.609, 0.61 , 0.611, 0.612, 0.613, 0.614, 0.615, 0.616,\n       0.617, 0.618, 0.619, 0.62 , 0.621, 0.622, 0.623, 0.624, 0.625,\n       0.626, 0.627, 0.628, 0.629, 0.63 , 0.631, 0.632, 0.633, 0.634,\n       0.635, 0.636, 0.637, 0.638, 0.639, 0.64 , 0.641, 0.642, 0.643,\n       0.644, 0.645, 0.646, 0.647, 0.648, 0.649, 0.65 , 0.651, 0.652,\n       0.653, 0.654, 0.655, 0.656, 0.657, 0.658, 0.659, 0.66 , 0.661,\n       0.662, 0.663, 0.664, 0.665, 0.666, 0.667, 0.668, 0.669, 0.67 ,\n       0.671, 0.672, 0.673, 0.674, 0.675, 0.676, 0.677, 0.678, 0.679,\n       0.68 , 0.681, 0.682, 0.683, 0.684, 0.685, 0.686, 0.687, 0.688,\n       0.689, 0.69 , 0.691, 0.692, 0.693, 0.694, 0.695, 0.696, 0.697,\n       0.698, 0.699, 0.7  , 0.701, 0.702, 0.703, 0.704, 0.705, 0.706,\n       0.707, 0.708, 0.709, 0.71 , 0.711, 0.712, 0.713, 0.714, 0.715,\n       0.716, 0.717, 0.718, 0.719, 0.72 , 0.721, 0.722, 0.723, 0.724,\n       0.725, 0.726, 0.727, 0.728, 0.729, 0.73 , 0.731, 0.732, 0.733,\n       0.734, 0.735, 0.736, 0.737, 0.738, 0.739, 0.74 , 0.741, 0.742,\n       0.743, 0.744, 0.745, 0.746, 0.747, 0.748, 0.749, 0.75 , 0.751,\n       0.752, 0.753, 0.754, 0.755, 0.756, 0.757, 0.758, 0.759, 0.76 ,\n       0.761, 0.762, 0.763, 0.764, 0.765, 0.766, 0.767, 0.768, 0.769,\n       0.77 , 0.771, 0.772, 0.773, 0.774, 0.775, 0.776, 0.777, 0.778,\n       0.779, 0.78 , 0.781, 0.782, 0.783, 0.784, 0.785, 0.786, 0.787,\n       0.788, 0.789, 0.79 , 0.791, 0.792, 0.793, 0.794, 0.795, 0.796,\n       0.797, 0.798, 0.799, 0.8  , 0.801, 0.802, 0.803, 0.804, 0.805,\n       0.806, 0.807, 0.808, 0.809, 0.81 , 0.811, 0.812, 0.813, 0.814,\n       0.815, 0.816, 0.817, 0.818, 0.819, 0.82 , 0.821, 0.822, 0.823,\n       0.824, 0.825, 0.826, 0.827, 0.828, 0.829, 0.83 , 0.831, 0.832,\n       0.833, 0.834, 0.835, 0.836, 0.837, 0.838, 0.839, 0.84 , 0.841,\n       0.842, 0.843, 0.844, 0.845, 0.846, 0.847, 0.848, 0.849, 0.85 ,\n       0.851, 0.852, 0.853, 0.854, 0.855, 0.856, 0.857, 0.858, 0.859,\n       0.86 , 0.861, 0.862, 0.863, 0.864, 0.865, 0.866, 0.867, 0.868,\n       0.869, 0.87 , 0.871, 0.872, 0.873, 0.874, 0.875, 0.876, 0.877,\n       0.878, 0.879, 0.88 , 0.881, 0.882, 0.883, 0.884, 0.885, 0.886,\n       0.887, 0.888, 0.889, 0.89 , 0.891, 0.892, 0.893, 0.894, 0.895,\n       0.896, 0.897, 0.898, 0.899, 0.9  , 0.901, 0.902, 0.903, 0.904,\n       0.905, 0.906, 0.907, 0.908, 0.909, 0.91 , 0.911, 0.912, 0.913,\n       0.914, 0.915, 0.916, 0.917, 0.918, 0.919, 0.92 , 0.921, 0.922,\n       0.923, 0.924, 0.925, 0.926, 0.927, 0.928, 0.929, 0.93 , 0.931,\n       0.932, 0.933, 0.934, 0.935, 0.936, 0.937, 0.938, 0.939, 0.94 ,\n       0.941, 0.942, 0.943, 0.944, 0.945, 0.946, 0.947, 0.948, 0.949,\n       0.95 , 0.951, 0.952, 0.953, 0.954, 0.955, 0.956, 0.957, 0.958,\n       0.959, 0.96 , 0.961, 0.962, 0.963, 0.964, 0.965, 0.966, 0.967,\n       0.968, 0.969, 0.97 , 0.971, 0.972, 0.973, 0.974, 0.975, 0.976,\n       0.977, 0.978, 0.979, 0.98 , 0.981, 0.982, 0.983, 0.984, 0.985,\n       0.986, 0.987, 0.988, 0.989, 0.99 , 0.991, 0.992, 0.993, 0.994,\n       0.995, 0.996, 0.997, 0.998, 0.999])"
     },
     "execution_count": 229,
     "metadata": {},
     "output_type": "execute_result"
    }
   ],
   "source": [
    "accs = np.arange(0.5, 1.0, 0.001)\n",
    "accs"
   ],
   "metadata": {
    "collapsed": false,
    "pycharm": {
     "name": "#%%\n"
    }
   }
  },
  {
   "cell_type": "code",
   "execution_count": 230,
   "outputs": [],
   "source": [
    "xv, yv = np.meshgrid(odds, accs, sparse=False, indexing='ij')"
   ],
   "metadata": {
    "collapsed": false,
    "pycharm": {
     "name": "#%%\n"
    }
   }
  },
  {
   "cell_type": "code",
   "execution_count": 231,
   "outputs": [
    {
     "data": {
      "text/plain": "array([[0.01 , 0.01 , 0.01 , ..., 0.01 , 0.01 , 0.01 ],\n       [0.011, 0.011, 0.011, ..., 0.011, 0.011, 0.011],\n       [0.012, 0.012, 0.012, ..., 0.012, 0.012, 0.012],\n       ...,\n       [0.077, 0.077, 0.077, ..., 0.077, 0.077, 0.077],\n       [0.078, 0.078, 0.078, ..., 0.078, 0.078, 0.078],\n       [0.079, 0.079, 0.079, ..., 0.079, 0.079, 0.079]])"
     },
     "execution_count": 231,
     "metadata": {},
     "output_type": "execute_result"
    }
   ],
   "source": [
    "xv"
   ],
   "metadata": {
    "collapsed": false,
    "pycharm": {
     "name": "#%%\n"
    }
   }
  },
  {
   "cell_type": "code",
   "execution_count": 232,
   "outputs": [
    {
     "data": {
      "text/plain": "array([[0.5  , 0.501, 0.502, ..., 0.997, 0.998, 0.999],\n       [0.5  , 0.501, 0.502, ..., 0.997, 0.998, 0.999],\n       [0.5  , 0.501, 0.502, ..., 0.997, 0.998, 0.999],\n       ...,\n       [0.5  , 0.501, 0.502, ..., 0.997, 0.998, 0.999],\n       [0.5  , 0.501, 0.502, ..., 0.997, 0.998, 0.999],\n       [0.5  , 0.501, 0.502, ..., 0.997, 0.998, 0.999]])"
     },
     "execution_count": 232,
     "metadata": {},
     "output_type": "execute_result"
    }
   ],
   "source": [
    "yv"
   ],
   "metadata": {
    "collapsed": false,
    "pycharm": {
     "name": "#%%\n"
    }
   }
  },
  {
   "cell_type": "code",
   "execution_count": 233,
   "outputs": [],
   "source": [
    "fitness = np.abs(xv)**2 + np.log(yv)**2"
   ],
   "metadata": {
    "collapsed": false,
    "pycharm": {
     "name": "#%%\n"
    }
   }
  },
  {
   "cell_type": "code",
   "execution_count": 233,
   "outputs": [],
   "source": [
    "\n"
   ],
   "metadata": {
    "collapsed": false,
    "pycharm": {
     "name": "#%%\n"
    }
   }
  },
  {
   "cell_type": "code",
   "execution_count": 234,
   "outputs": [
    {
     "name": "stderr",
     "output_type": "stream",
     "text": [
      "/tmp/ipykernel_115770/2428152588.py:2: UserWarning: The following kwargs were not used by contour: 'interpolation'\n",
      "  h = plt.contourf(xv,yv,fitness, interpolation='gaussian')\n"
     ]
    },
    {
     "data": {
      "text/plain": "<Figure size 432x288 with 2 Axes>",
      "image/png": "[encoded data removed]"
     },
     "metadata": {},
     "output_type": "display_data"
    }
   ],
   "source": [
    "\n",
    "plt.style.use('dark_background')\n",
    "h = plt.contourf(xv,yv,fitness, interpolation='gaussian')\n",
    "plt.title(\"fitness = 1/(abs(unfairness) + log(acc)²)\")\n",
    "plt.xlabel('Unfairness')\n",
    "plt.ylabel('Accuracy')\n",
    "plt.colorbar()\n",
    "plt.savefig('penalty.png', dpi=300)"
   ],
   "metadata": {
    "collapsed": false,
    "pycharm": {
     "name": "#%%\n"
    }
   }
  },
  {
   "cell_type": "code",
   "execution_count": 234,
   "outputs": [],
   "source": [],
   "metadata": {
    "collapsed": false,
    "pycharm": {
     "name": "#%%\n"
    }
   }
  }
 ],
 "metadata": {
  "kernelspec": {
   "display_name": "Python 3",
   "language": "python",
   "name": "python3"
  },
  "language_info": {
   "codemirror_mode": {
    "name": "ipython",
    "version": 2
   },
   "file_extension": ".py",
   "mimetype": "text/x-python",
   "name": "python",
   "nbconvert_exporter": "python",
   "pygments_lexer": "ipython2",
   "version": "2.7.6"
  }
 },
 "nbformat": 4,
 "nbformat_minor": 0
}