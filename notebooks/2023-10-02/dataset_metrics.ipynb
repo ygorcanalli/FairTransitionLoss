{
 "cells": [
  {
   "cell_type": "code",
   "execution_count": 1,
   "metadata": {
    "collapsed": true
   },
   "outputs": [
    {
     "name": "stderr",
     "output_type": "stream",
     "text": [
      "WARNING:root:\n",
      "`load_boston` has been removed from scikit-learn since version 1.2.\n",
      "\n",
      "The Boston housing prices dataset has an ethical problem: as\n",
      "investigated in [1], the authors of this dataset engineered a\n",
      "non-invertible variable \"B\" assuming that racial self-segregation had a\n",
      "positive impact on house prices [2]. Furthermore the goal of the\n",
      "research that led to the creation of this dataset was to study the\n",
      "impact of air quality but it did not give adequate demonstration of the\n",
      "validity of this assumption.\n",
      "\n",
      "The scikit-learn maintainers therefore strongly discourage the use of\n",
      "this dataset unless the purpose of the code is to study and educate\n",
      "about ethical issues in data science and machine learning.\n",
      "\n",
      "In this special case, you can fetch the dataset from the original\n",
      "source::\n",
      "\n",
      "    import pandas as pd\n",
      "    import numpy as np\n",
      "\n",
      "    data_url = \"http://lib.stat.cmu.edu/datasets/boston\"\n",
      "    raw_df = pd.read_csv(data_url, sep=\"\\s+\", skiprows=22, header=None)\n",
      "    data = np.hstack([raw_df.values[::2, :], raw_df.values[1::2, :2]])\n",
      "    target = raw_df.values[1::2, 2]\n",
      "\n",
      "Alternative datasets include the California housing dataset and the\n",
      "Ames housing dataset. You can load the datasets as follows::\n",
      "\n",
      "    from sklearn.datasets import fetch_california_housing\n",
      "    housing = fetch_california_housing()\n",
      "\n",
      "for the California housing dataset and::\n",
      "\n",
      "    from sklearn.datasets import fetch_openml\n",
      "    housing = fetch_openml(name=\"house_prices\", as_frame=True)\n",
      "\n",
      "for the Ames housing dataset.\n",
      "\n",
      "[1] M Carlisle.\n",
      "\"Racist data destruction?\"\n",
      "<https://medium.com/@docintangible/racist-data-destruction-113e3eff54a8>\n",
      "\n",
      "[2] Harrison Jr, David, and Daniel L. Rubinfeld.\n",
      "\"Hedonic housing prices and the demand for clean air.\"\n",
      "Journal of environmental economics and management 5.1 (1978): 81-102.\n",
      "<https://www.researchgate.net/publication/4974606_Hedonic_housing_prices_and_the_demand_for_clean_air>\n",
      ": LawSchoolGPADataset will be unavailable. To install, run:\n",
      "pip install 'aif360[LawSchoolGPA]'\n",
      "2023-10-02 16:33:16.750036: I tensorflow/tsl/cuda/cudart_stub.cc:28] Could not find cuda drivers on your machine, GPU will not be used.\n",
      "2023-10-02 16:33:16.783068: I tensorflow/tsl/cuda/cudart_stub.cc:28] Could not find cuda drivers on your machine, GPU will not be used.\n",
      "2023-10-02 16:33:16.783514: I tensorflow/core/platform/cpu_feature_guard.cc:182] This TensorFlow binary is optimized to use available CPU instructions in performance-critical operations.\n",
      "To enable the following instructions: AVX2 FMA, in other operations, rebuild TensorFlow with the appropriate compiler flags.\n",
      "2023-10-02 16:33:17.325395: W tensorflow/compiler/tf2tensorrt/utils/py_utils.cc:38] TF-TRT Warning: Could not find TensorRT\n"
     ]
    }
   ],
   "source": [
    "from dataset_readers import *\n",
    "import numpy as np\n",
    "import pandas as pd\n",
    "\n",
    "from aif360.metrics import ClassificationMetric\n",
    "from models import SimpleMLP\n",
    "from sklearn.ensemble import RandomForestClassifier\n",
    "from sklearn.preprocessing import StandardScaler\n",
    "from sklearn.metrics import matthews_corrcoef as mcc"
   ]
  },
  {
   "cell_type": "code",
   "execution_count": 2,
   "outputs": [],
   "source": [
    "datasets = [\n",
    "    adult_dataset_reader,\n",
    "    bank_dataset_reader,\n",
    "    compas_dataset_reader,\n",
    "    german_dataset_reader\n",
    "]"
   ],
   "metadata": {
    "collapsed": false
   }
  },
  {
   "cell_type": "code",
   "execution_count": 3,
   "outputs": [],
   "source": [
    "def model_initializer(sens_attr):\n",
    "\n",
    "    model = RandomForestClassifier(n_estimators=1000)\n",
    "\n",
    "    return model"
   ],
   "metadata": {
    "collapsed": false
   }
  },
  {
   "cell_type": "code",
   "execution_count": 4,
   "outputs": [],
   "source": [
    "def eval(dataset_train, dataset_test, unprivileged_groups, privileged_groups, sens_attr):\n",
    "    model = model_initializer(sens_attr)\n",
    "\n",
    "    scaler = StandardScaler()\n",
    "    dataset_train.features = scaler.fit_transform(dataset_train.features)\n",
    "    dataset_test.features = scaler.transform(dataset_test.features)\n",
    "\n",
    "    model = model.fit(dataset_train.features, dataset_train.labels.ravel())\n",
    "    y_pred_prob = model.predict_proba(dataset_test.features)\n",
    "    pos_ind = np.where(model.classes_ == dataset_test.favorable_label)[0][0]\n",
    "    y_pred = (y_pred_prob[:, pos_ind] > 0.5).astype(np.float64)\n",
    "\n",
    "    dataset_pred = dataset_test.copy()\n",
    "    dataset_pred.labels = y_pred\n",
    "    metric = ClassificationMetric(\n",
    "            dataset_test, dataset_pred,\n",
    "            unprivileged_groups=unprivileged_groups,\n",
    "            privileged_groups=privileged_groups)\n",
    "\n",
    "    metrics = dict()\n",
    "    metrics['overall_acc'] = abs(metric.accuracy())\n",
    "    metrics['bal_acc'] = abs((metric.true_positive_rate()\n",
    "                                 + metric.true_negative_rate()) / 2)\n",
    "    metrics['avg_odds_diff'] = metric.average_abs_odds_difference()\n",
    "    metrics['disp_imp'] = abs(metric.disparate_impact())\n",
    "    metrics['stat_par_diff'] = abs(metric.statistical_parity_difference())\n",
    "    metrics['eq_opp_diff'] = abs(metric.equal_opportunity_difference())\n",
    "    metrics['theil_ind'] = abs(metric.theil_index())\n",
    "    metrics['f1_score'] = metric.f1_score()\n",
    "    metrics.update(metric.performance_measures())\n",
    "    return metrics"
   ],
   "metadata": {
    "collapsed": false
   }
  },
  {
   "cell_type": "code",
   "execution_count": 5,
   "outputs": [],
   "source": [
    "def eval_rcc(dataset_train, dataset_test, sens_attr):\n",
    "    dataset_train_cp = dataset_train.copy()\n",
    "    dataset_test_cp = dataset_test.copy()\n",
    "\n",
    "    sensitive_index_features = dataset_train_cp.feature_names.index(sens_attr)\n",
    "    sensitive_index_proteced = dataset_train_cp.protected_attribute_names.index(sens_attr)\n",
    "\n",
    "    # switch protected attributes and labels\n",
    "    temp = dataset_train_cp.protected_attributes[:,sensitive_index_proteced]\n",
    "    dataset_train_cp.protected_attributes = dataset_train_cp.labels.reshape(dataset_train_cp.labels.shape[0])\n",
    "    dataset_train_cp.features[:,sensitive_index_features] = dataset_train_cp.labels.reshape(dataset_train_cp.labels.shape[0])\n",
    "    dataset_train_cp.labels = temp\n",
    "\n",
    "    temp = dataset_test_cp.protected_attributes[:,sensitive_index_proteced]\n",
    "    dataset_test_cp.protected_attributes = dataset_test_cp.labels.reshape(dataset_test_cp.labels.shape[0])\n",
    "    dataset_test_cp.features[:,sensitive_index_features] = dataset_test_cp.labels.reshape(dataset_test_cp.labels.shape[0])\n",
    "    dataset_test_cp.labels = temp\n",
    "\n",
    "    model = model_initializer(sens_attr)\n",
    "\n",
    "    scaler = StandardScaler()\n",
    "    dataset_train_cp.features = scaler.fit_transform(dataset_train_cp.features)\n",
    "    dataset_test_cp.features = scaler.transform(dataset_test_cp.features)\n",
    "\n",
    "    model = model.fit(dataset_train_cp.features, dataset_train.labels.ravel())\n",
    "\n",
    "    y_pred_prob = model.predict_proba(dataset_test_cp.features)\n",
    "    pos_ind = np.where(model.classes_ == dataset_test_cp.favorable_label)[0][0]\n",
    "    y_pred = (y_pred_prob[:, pos_ind] > 0.5).astype(np.float64)\n",
    "    y_true = dataset_test_cp.labels.reshape(dataset_test_cp.labels.shape[0])\n",
    "\n",
    "    rcc = mcc(y_true, y_pred)\n",
    "\n",
    "    return rcc"
   ],
   "metadata": {
    "collapsed": false
   }
  },
  {
   "cell_type": "code",
   "execution_count": 6,
   "outputs": [],
   "source": [
    "def get_n_cov_mean(cov, sensitive_index, cov_count):\n",
    "    covs = []\n",
    "    for i in np.argsort(np.abs(cov[sensitive_index]))[::-1]:\n",
    "        if i != sensitive_index and len(covs) < cov_count:\n",
    "            covs.append(np.abs(cov[sensitive_index,i]))\n",
    "    return np.mean(np.array(covs))"
   ],
   "metadata": {
    "collapsed": false
   }
  },
  {
   "cell_type": "code",
   "execution_count": 7,
   "outputs": [
    {
     "name": "stderr",
     "output_type": "stream",
     "text": [
      "WARNING:root:Missing Data: 3620 rows removed from AdultDataset.\n"
     ]
    },
    {
     "name": "stdout",
     "output_type": "stream",
     "text": [
      "#### Training Dataset shape\n",
      "(28941, 102)\n",
      "#### Validation Dataset shape\n",
      "(7236, 102)\n",
      "#### Test Dataset shape\n",
      "(9045, 102)\n",
      "#### Favorable and unfavorable labels\n",
      "1.0 0.0\n",
      "#### Protected attribute names\n",
      "['sex']\n",
      "#### Privileged and unprivileged protected attribute values\n",
      "[array([1.])] [array([0.])]\n",
      "#### Dataset feature names\n",
      "['age', 'education-num', 'sex', 'capital-gain', 'capital-loss', 'hours-per-week', 'workclass=Federal-gov', 'workclass=Local-gov', 'workclass=Private', 'workclass=Self-emp-inc', 'workclass=Self-emp-not-inc', 'workclass=State-gov', 'workclass=Without-pay', 'education=10th', 'education=11th', 'education=12th', 'education=1st-4th', 'education=5th-6th', 'education=7th-8th', 'education=9th', 'education=Assoc-acdm', 'education=Assoc-voc', 'education=Bachelors', 'education=Doctorate', 'education=HS-grad', 'education=Masters', 'education=Preschool', 'education=Prof-school', 'education=Some-college', 'marital-status=Divorced', 'marital-status=Married-AF-spouse', 'marital-status=Married-civ-spouse', 'marital-status=Married-spouse-absent', 'marital-status=Never-married', 'marital-status=Separated', 'marital-status=Widowed', 'occupation=Adm-clerical', 'occupation=Armed-Forces', 'occupation=Craft-repair', 'occupation=Exec-managerial', 'occupation=Farming-fishing', 'occupation=Handlers-cleaners', 'occupation=Machine-op-inspct', 'occupation=Other-service', 'occupation=Priv-house-serv', 'occupation=Prof-specialty', 'occupation=Protective-serv', 'occupation=Sales', 'occupation=Tech-support', 'occupation=Transport-moving', 'relationship=Husband', 'relationship=Not-in-family', 'relationship=Other-relative', 'relationship=Own-child', 'relationship=Unmarried', 'relationship=Wife', 'race=Amer-Indian-Eskimo', 'race=Asian-Pac-Islander', 'race=Black', 'race=Other', 'race=White', 'native-country=Cambodia', 'native-country=Canada', 'native-country=China', 'native-country=Columbia', 'native-country=Cuba', 'native-country=Dominican-Republic', 'native-country=Ecuador', 'native-country=El-Salvador', 'native-country=England', 'native-country=France', 'native-country=Germany', 'native-country=Greece', 'native-country=Guatemala', 'native-country=Haiti', 'native-country=Holand-Netherlands', 'native-country=Honduras', 'native-country=Hong', 'native-country=Hungary', 'native-country=India', 'native-country=Iran', 'native-country=Ireland', 'native-country=Italy', 'native-country=Jamaica', 'native-country=Japan', 'native-country=Laos', 'native-country=Mexico', 'native-country=Nicaragua', 'native-country=Outlying-US(Guam-USVI-etc)', 'native-country=Peru', 'native-country=Philippines', 'native-country=Poland', 'native-country=Portugal', 'native-country=Puerto-Rico', 'native-country=Scotland', 'native-country=South', 'native-country=Taiwan', 'native-country=Thailand', 'native-country=Trinadad&Tobago', 'native-country=United-States', 'native-country=Vietnam', 'native-country=Yugoslavia']\n"
     ]
    },
    {
     "name": "stderr",
     "output_type": "stream",
     "text": [
      "WARNING:root:Missing Data: 10700 rows removed from BankDataset.\n"
     ]
    },
    {
     "name": "stdout",
     "output_type": "stream",
     "text": [
      "#### Training Dataset shape\n",
      "(19512, 57)\n",
      "#### Validation Dataset shape\n",
      "(4878, 57)\n",
      "#### Test Dataset shape\n",
      "(6098, 57)\n",
      "#### Favorable and unfavorable labels\n",
      "1.0 0.0\n",
      "#### Protected attribute names\n",
      "['age']\n",
      "#### Privileged and unprivileged protected attribute values\n",
      "[array([1.])] [array([0.])]\n",
      "#### Dataset feature names\n",
      "['age', 'duration', 'campaign', 'pdays', 'previous', 'emp.var.rate', 'cons.price.idx', 'cons.conf.idx', 'euribor3m', 'nr.employed', 'job=admin.', 'job=blue-collar', 'job=entrepreneur', 'job=housemaid', 'job=management', 'job=retired', 'job=self-employed', 'job=services', 'job=student', 'job=technician', 'job=unemployed', 'marital=divorced', 'marital=married', 'marital=single', 'education=basic.4y', 'education=basic.6y', 'education=basic.9y', 'education=high.school', 'education=illiterate', 'education=professional.course', 'education=university.degree', 'default=no', 'default=yes', 'housing=no', 'housing=yes', 'loan=no', 'loan=yes', 'contact=cellular', 'contact=telephone', 'month=apr', 'month=aug', 'month=dec', 'month=jul', 'month=jun', 'month=mar', 'month=may', 'month=nov', 'month=oct', 'month=sep', 'day_of_week=fri', 'day_of_week=mon', 'day_of_week=thu', 'day_of_week=tue', 'day_of_week=wed', 'poutcome=failure', 'poutcome=nonexistent', 'poutcome=success']\n"
     ]
    },
    {
     "name": "stderr",
     "output_type": "stream",
     "text": [
      "WARNING:root:Missing Data: 5 rows removed from CompasDataset.\n"
     ]
    },
    {
     "name": "stdout",
     "output_type": "stream",
     "text": [
      "#### Training Dataset shape\n",
      "(3946, 401)\n",
      "#### Validation Dataset shape\n",
      "(987, 401)\n",
      "#### Test Dataset shape\n",
      "(1234, 401)\n",
      "#### Favorable and unfavorable labels\n",
      "0.0 1.0\n",
      "#### Protected attribute names\n",
      "['sex', 'race']\n",
      "#### Privileged and unprivileged protected attribute values\n",
      "[array([1.]), array([1.])] [array([0.]), array([0.])]\n",
      "#### Dataset feature names\n",
      "['sex', 'age', 'race', 'juv_fel_count', 'juv_misd_count', 'juv_other_count', 'priors_count', 'age_cat=25 - 45', 'age_cat=Greater than 45', 'age_cat=Less than 25', 'c_charge_degree=F', 'c_charge_degree=M', 'c_charge_desc=Abuse Without Great Harm', 'c_charge_desc=Agg Abuse Elderlly/Disabled Adult', 'c_charge_desc=Agg Assault W/int Com Fel Dome', 'c_charge_desc=Agg Battery Grt/Bod/Harm', 'c_charge_desc=Agg Fleeing and Eluding', 'c_charge_desc=Agg Fleeing/Eluding High Speed', 'c_charge_desc=Aggr Child Abuse-Torture,Punish', 'c_charge_desc=Aggrav Battery w/Deadly Weapon', 'c_charge_desc=Aggrav Child Abuse-Agg Battery', 'c_charge_desc=Aggrav Child Abuse-Causes Harm', 'c_charge_desc=Aggrav Stalking After Injunctn', 'c_charge_desc=Aggravated Assault', 'c_charge_desc=Aggravated Assault W/Dead Weap', 'c_charge_desc=Aggravated Assault W/dead Weap', 'c_charge_desc=Aggravated Assault W/o Firearm', 'c_charge_desc=Aggravated Assault w/Firearm', 'c_charge_desc=Aggravated Battery', 'c_charge_desc=Aggravated Battery (Firearm)', 'c_charge_desc=Aggravated Battery (Firearm/Actual Possession)', 'c_charge_desc=Aggravated Battery / Pregnant', 'c_charge_desc=Aggravated Battery On 65/Older', 'c_charge_desc=Aide/Abet Prostitution Lewdness', 'c_charge_desc=Aiding Escape', 'c_charge_desc=Alcoholic Beverage Violation-FL', 'c_charge_desc=Armed Trafficking in Cannabis', 'c_charge_desc=Arson in the First Degree', 'c_charge_desc=Assault', 'c_charge_desc=Assault Law Enforcement Officer', 'c_charge_desc=Att Burgl Conv Occp', 'c_charge_desc=Att Burgl Struc/Conv Dwel/Occp', 'c_charge_desc=Att Burgl Unoccupied Dwel', 'c_charge_desc=Att Tamper w/Physical Evidence', 'c_charge_desc=Attempt Armed Burglary Dwell', 'c_charge_desc=Attempted Burg/Convey/Unocc', 'c_charge_desc=Attempted Burg/struct/unocc', 'c_charge_desc=Attempted Deliv Control Subst', 'c_charge_desc=Attempted Robbery  No Weapon', 'c_charge_desc=Attempted Robbery  Weapon', 'c_charge_desc=Battery', 'c_charge_desc=Battery Emergency Care Provide', 'c_charge_desc=Battery On A Person Over 65', 'c_charge_desc=Battery On Fire Fighter', 'c_charge_desc=Battery On Parking Enfor Speci', 'c_charge_desc=Battery Spouse Or Girlfriend', 'c_charge_desc=Battery on Law Enforc Officer', 'c_charge_desc=Battery on a Person Over 65', 'c_charge_desc=Bribery Athletic Contests', 'c_charge_desc=Burgl Dwel/Struct/Convey Armed', 'c_charge_desc=Burglary Assault/Battery Armed', 'c_charge_desc=Burglary Conveyance Armed', 'c_charge_desc=Burglary Conveyance Assault/Bat', 'c_charge_desc=Burglary Conveyance Occupied', 'c_charge_desc=Burglary Conveyance Unoccup', 'c_charge_desc=Burglary Dwelling Armed', 'c_charge_desc=Burglary Dwelling Assault/Batt', 'c_charge_desc=Burglary Dwelling Occupied', 'c_charge_desc=Burglary Structure Assault/Batt', 'c_charge_desc=Burglary Structure Occupied', 'c_charge_desc=Burglary Structure Unoccup', 'c_charge_desc=Burglary Unoccupied Dwelling', 'c_charge_desc=Burglary With Assault/battery', 'c_charge_desc=Carjacking w/o Deadly Weapon', 'c_charge_desc=Carjacking with a Firearm', 'c_charge_desc=Carry Open/Uncov Bev In Pub', 'c_charge_desc=Carrying A Concealed Weapon', 'c_charge_desc=Carrying Concealed Firearm', 'c_charge_desc=Cash Item w/Intent to Defraud', 'c_charge_desc=Child Abuse', 'c_charge_desc=Computer Pornography', 'c_charge_desc=Consp Traff Oxycodone  4g><14g', 'c_charge_desc=Conspiracy Dealing Stolen Prop', 'c_charge_desc=Consume Alcoholic Bev Pub', 'c_charge_desc=Contradict Statement', 'c_charge_desc=Contribute Delinquency Of A Minor', 'c_charge_desc=Corrupt Public Servant', 'c_charge_desc=Counterfeit Lic Plates/Sticker', 'c_charge_desc=Crim Attempt/Solic/Consp', 'c_charge_desc=Crim Use of Personal ID Info', 'c_charge_desc=Crimin Mischief Damage $1000+', 'c_charge_desc=Criminal Mischief', 'c_charge_desc=Criminal Mischief Damage <$200', 'c_charge_desc=Criminal Mischief>$200<$1000', 'c_charge_desc=Crlty Twrd Child Urge Oth Act', 'c_charge_desc=Cruelty Toward Child', 'c_charge_desc=Cruelty to Animals', 'c_charge_desc=Culpable Negligence', 'c_charge_desc=D.U.I. Serious Bodily Injury', 'c_charge_desc=DOC/Cause Public Danger', 'c_charge_desc=DUI - Enhanced', 'c_charge_desc=DUI - Property Damage/Personal Injury', 'c_charge_desc=DUI Blood Alcohol Above 0.20', 'c_charge_desc=DUI Level 0.15 Or Minor In Veh', 'c_charge_desc=DUI Property Damage/Injury', 'c_charge_desc=DUI- Enhanced', 'c_charge_desc=DUI/Property Damage/Persnl Inj', 'c_charge_desc=DWI w/Inj Susp Lic / Habit Off', 'c_charge_desc=DWLS Canceled Disqul 1st Off', 'c_charge_desc=DWLS Susp/Cancel Revoked', 'c_charge_desc=Dealing in Stolen Property', 'c_charge_desc=Defrauding Innkeeper', 'c_charge_desc=Defrauding Innkeeper $300/More', 'c_charge_desc=Del 3,4 Methylenedioxymethcath', 'c_charge_desc=Del Cannabis At/Near Park', 'c_charge_desc=Del Cannabis For Consideration', 'c_charge_desc=Del of JWH-250 2-Methox 1-Pentyl', 'c_charge_desc=Deliver 3,4 Methylenediox', 'c_charge_desc=Deliver Alprazolam', 'c_charge_desc=Deliver Cannabis', 'c_charge_desc=Deliver Cannabis 1000FTSch', 'c_charge_desc=Deliver Cocaine', 'c_charge_desc=Deliver Cocaine 1000FT Church', 'c_charge_desc=Deliver Cocaine 1000FT Park', 'c_charge_desc=Deliver Cocaine 1000FT School', 'c_charge_desc=Deliver Cocaine 1000FT Store', 'c_charge_desc=Delivery Of Drug Paraphernalia', 'c_charge_desc=Delivery of 5-Fluoro PB-22', 'c_charge_desc=Delivery of Heroin', 'c_charge_desc=Depriv LEO of Protect/Communic', 'c_charge_desc=Disorderly Conduct', 'c_charge_desc=Disorderly Intoxication', 'c_charge_desc=Disrupting School Function', 'c_charge_desc=Drivg While Lic Suspd/Revk/Can', 'c_charge_desc=Driving License Suspended', 'c_charge_desc=Driving Under The Influence', 'c_charge_desc=Driving While License Revoked', 'c_charge_desc=Escape', 'c_charge_desc=Exhibition Weapon School Prop', 'c_charge_desc=Expired DL More Than 6 Months', 'c_charge_desc=Exposes Culpable Negligence', 'c_charge_desc=Extradition/Defendants', 'c_charge_desc=Fabricating Physical Evidence', 'c_charge_desc=Fail Register Vehicle', 'c_charge_desc=Fail Sex Offend Report Bylaw', 'c_charge_desc=Fail To Obey Police Officer', 'c_charge_desc=Fail To Redeliv Hire/Leas Prop', 'c_charge_desc=Failure To Pay Taxi Cab Charge', 'c_charge_desc=Failure To Return Hired Vehicle', 'c_charge_desc=False 911 Call', 'c_charge_desc=False Bomb Report', 'c_charge_desc=False Imprisonment', 'c_charge_desc=False Info LEO During Invest', 'c_charge_desc=False Motor Veh Insurance Card', 'c_charge_desc=False Name By Person Arrest', 'c_charge_desc=False Ownership Info/Pawn Item', 'c_charge_desc=Falsely Impersonating Officer', 'c_charge_desc=Fel Drive License Perm Revoke', 'c_charge_desc=Felon in Pos of Firearm or Amm', 'c_charge_desc=Felony Batt(Great Bodily Harm)', 'c_charge_desc=Felony Battery', 'c_charge_desc=Felony Battery (Dom Strang)', 'c_charge_desc=Felony Battery w/Prior Convict', 'c_charge_desc=Felony Committing Prostitution', 'c_charge_desc=Felony DUI (level 3)', 'c_charge_desc=Felony DUI - Enhanced', 'c_charge_desc=Felony Driving While Lic Suspd', 'c_charge_desc=Felony Petit Theft', 'c_charge_desc=Felony/Driving Under Influence', 'c_charge_desc=Fighting/Baiting Animals', 'c_charge_desc=Fleeing Or Attmp Eluding A Leo', 'c_charge_desc=Fleeing or Eluding a LEO', 'c_charge_desc=Forging Bank Bills/Promis Note', 'c_charge_desc=Fraudulent Use of Credit Card', 'c_charge_desc=Grand Theft (Motor Vehicle)', 'c_charge_desc=Grand Theft Dwell Property', 'c_charge_desc=Grand Theft Firearm', 'c_charge_desc=Grand Theft in the 1st Degree', 'c_charge_desc=Grand Theft in the 3rd Degree', 'c_charge_desc=Grand Theft of a Fire Extinquisher', 'c_charge_desc=Grand Theft of the 2nd Degree', 'c_charge_desc=Grand Theft on 65 Yr or Older', 'c_charge_desc=Harass Witness/Victm/Informnt', 'c_charge_desc=Harm Public Servant Or Family', 'c_charge_desc=Hiring with Intent to Defraud', 'c_charge_desc=Imperson Public Officer or Emplyee', 'c_charge_desc=Interfere W/Traf Cont Dev RR', 'c_charge_desc=Interference with Custody', 'c_charge_desc=Intoxicated/Safety Of Another', 'c_charge_desc=Introduce Contraband Into Jail', 'c_charge_desc=Issuing a Worthless Draft', 'c_charge_desc=Kidnapping / Domestic Violence', 'c_charge_desc=Lease For Purpose Trafficking', 'c_charge_desc=Leave Acc/Attend Veh/More $50', 'c_charge_desc=Leave Accd/Attend Veh/Less $50', 'c_charge_desc=Leaving Acc/Unattended Veh', 'c_charge_desc=Leaving the Scene of Accident', 'c_charge_desc=Lewd Act Presence Child 16-', 'c_charge_desc=Lewd or Lascivious Molestation', 'c_charge_desc=Lewd/Lasc Battery Pers 12+/<16', 'c_charge_desc=Lewd/Lasc Exhib Presence <16yr', 'c_charge_desc=Lewd/Lasciv Molest Elder Persn', 'c_charge_desc=Lewdness Violation', 'c_charge_desc=License Suspended Revoked', 'c_charge_desc=Littering', 'c_charge_desc=Live on Earnings of Prostitute', 'c_charge_desc=Lve/Scen/Acc/Veh/Prop/Damage', 'c_charge_desc=Manage Busn W/O City Occup Lic', 'c_charge_desc=Manslaughter W/Weapon/Firearm', 'c_charge_desc=Manufacture Cannabis', 'c_charge_desc=Misuse Of 911 Or E911 System', 'c_charge_desc=Money Launder 100K or More Dols', 'c_charge_desc=Murder In 2nd Degree W/firearm', 'c_charge_desc=Murder in the First Degree', 'c_charge_desc=Neglect Child / Bodily Harm', 'c_charge_desc=Neglect Child / No Bodily Harm', 'c_charge_desc=Neglect/Abuse Elderly Person', 'c_charge_desc=Obstruct Fire Equipment', 'c_charge_desc=Obstruct Officer W/Violence', 'c_charge_desc=Obtain Control Substance By Fraud', 'c_charge_desc=Offer Agree Secure For Lewd Act', 'c_charge_desc=Offer Agree Secure/Lewd Act', 'c_charge_desc=Offn Against Intellectual Prop', 'c_charge_desc=Open Carrying Of Weapon', 'c_charge_desc=Oper Motorcycle W/O Valid DL', 'c_charge_desc=Operating W/O Valid License', 'c_charge_desc=Opert With Susp DL 2nd Offens', 'c_charge_desc=PL/Unlaw Use Credit Card', 'c_charge_desc=Petit Theft', 'c_charge_desc=Petit Theft $100- $300', 'c_charge_desc=Pos Cannabis For Consideration', 'c_charge_desc=Pos Cannabis W/Intent Sel/Del', 'c_charge_desc=Pos Methylenedioxymethcath W/I/D/S', 'c_charge_desc=Poss 3,4 MDMA (Ecstasy)', 'c_charge_desc=Poss Alprazolam W/int Sell/Del', 'c_charge_desc=Poss Anti-Shoplifting Device', 'c_charge_desc=Poss Cntrft Contr Sub w/Intent', 'c_charge_desc=Poss Cocaine/Intent To Del/Sel', 'c_charge_desc=Poss Contr Subst W/o Prescript', 'c_charge_desc=Poss Counterfeit Payment Inst', 'c_charge_desc=Poss Drugs W/O A Prescription', 'c_charge_desc=Poss F/Arm Delinq', 'c_charge_desc=Poss Firearm W/Altered ID#', 'c_charge_desc=Poss Meth/Diox/Meth/Amp (MDMA)', 'c_charge_desc=Poss Of 1,4-Butanediol', 'c_charge_desc=Poss Of Controlled Substance', 'c_charge_desc=Poss Of RX Without RX', 'c_charge_desc=Poss Oxycodone W/Int/Sell/Del', 'c_charge_desc=Poss Pyrrolidinobutiophenone', 'c_charge_desc=Poss Pyrrolidinovalerophenone', 'c_charge_desc=Poss Pyrrolidinovalerophenone W/I/D/S', 'c_charge_desc=Poss Similitude of Drivers Lic', 'c_charge_desc=Poss Tetrahydrocannabinols', 'c_charge_desc=Poss Unlaw Issue Driver Licenc', 'c_charge_desc=Poss Unlaw Issue Id', 'c_charge_desc=Poss Wep Conv Felon', 'c_charge_desc=Poss of Cocaine W/I/D/S 1000FT Park', 'c_charge_desc=Poss of Firearm by Convic Felo', 'c_charge_desc=Poss of Methylethcathinone', 'c_charge_desc=Poss/Sell/Del Cocaine 1000FT Sch', 'c_charge_desc=Poss/Sell/Del/Man Amobarbital', 'c_charge_desc=Poss/pur/sell/deliver Cocaine', 'c_charge_desc=Poss3,4 Methylenedioxymethcath', 'c_charge_desc=Posses/Disply Susp/Revk/Frd DL', 'c_charge_desc=Possess Cannabis 1000FTSch', 'c_charge_desc=Possess Cannabis/20 Grams Or Less', 'c_charge_desc=Possess Controlled Substance', 'c_charge_desc=Possess Countrfeit Credit Card', 'c_charge_desc=Possess Drug Paraphernalia', 'c_charge_desc=Possess Mot Veh W/Alt Vin #', 'c_charge_desc=Possess Tobacco Product Under 18', 'c_charge_desc=Possess Weapon On School Prop', 'c_charge_desc=Possess w/I/Utter Forged Bills', 'c_charge_desc=Possession Burglary Tools', 'c_charge_desc=Possession Child Pornography', 'c_charge_desc=Possession Firearm School Prop', 'c_charge_desc=Possession Of 3,4Methylenediox', 'c_charge_desc=Possession Of Alprazolam', 'c_charge_desc=Possession Of Amphetamine', 'c_charge_desc=Possession Of Anabolic Steroid', 'c_charge_desc=Possession Of Buprenorphine', 'c_charge_desc=Possession Of Carisoprodol', 'c_charge_desc=Possession Of Clonazepam', 'c_charge_desc=Possession Of Cocaine', 'c_charge_desc=Possession Of Diazepam', 'c_charge_desc=Possession Of Fentanyl', 'c_charge_desc=Possession Of Heroin', 'c_charge_desc=Possession Of Methamphetamine', 'c_charge_desc=Possession Of Paraphernalia', 'c_charge_desc=Possession Of Phentermine', 'c_charge_desc=Possession of Alcohol Under 21', 'c_charge_desc=Possession of Benzylpiperazine', 'c_charge_desc=Possession of Butylone', 'c_charge_desc=Possession of Cannabis', 'c_charge_desc=Possession of Cocaine', 'c_charge_desc=Possession of Codeine', 'c_charge_desc=Possession of Ethylone', 'c_charge_desc=Possession of Hydrocodone', 'c_charge_desc=Possession of Hydromorphone', 'c_charge_desc=Possession of LSD', 'c_charge_desc=Possession of Methadone', 'c_charge_desc=Possession of Morphine', 'c_charge_desc=Possession of Oxycodone', 'c_charge_desc=Possession of XLR11', 'c_charge_desc=Principal In The First Degree', 'c_charge_desc=Prostitution', 'c_charge_desc=Prostitution/Lewd Act Assignation', 'c_charge_desc=Prostitution/Lewdness/Assign', 'c_charge_desc=Prowling/Loitering', 'c_charge_desc=Purchase Cannabis', 'c_charge_desc=Purchase/P/W/Int Cannabis', 'c_charge_desc=Reckless Driving', 'c_charge_desc=Refuse Submit Blood/Breath Test', 'c_charge_desc=Refuse to Supply DNA Sample', 'c_charge_desc=Resist Officer w/Violence', 'c_charge_desc=Resist/Obstruct W/O Violence', 'c_charge_desc=Retail Theft $300 1st Offense', 'c_charge_desc=Retail Theft $300 2nd Offense', 'c_charge_desc=Ride Tri-Rail Without Paying', 'c_charge_desc=Robbery / No Weapon', 'c_charge_desc=Robbery / Weapon', 'c_charge_desc=Robbery Sudd Snatch No Weapon', 'c_charge_desc=Robbery W/Deadly Weapon', 'c_charge_desc=Robbery W/Firearm', 'c_charge_desc=Sale/Del Cannabis At/Near Scho', 'c_charge_desc=Sale/Del Counterfeit Cont Subs', 'c_charge_desc=Sel/Pur/Mfr/Del Control Substa', 'c_charge_desc=Sell or Offer for Sale Counterfeit Goods', 'c_charge_desc=Sell/Man/Del Pos/w/int Heroin', 'c_charge_desc=Sex Batt Faml/Cust Vict 12-17Y', 'c_charge_desc=Sex Battery Deft 18+/Vict 11-', 'c_charge_desc=Sex Offender Fail Comply W/Law', 'c_charge_desc=Sexual Battery / Vict 12 Yrs +', 'c_charge_desc=Sexual Performance by a Child', 'c_charge_desc=Shoot In Occupied Dwell', 'c_charge_desc=Shoot Into Vehicle', 'c_charge_desc=Simulation of Legal Process', 'c_charge_desc=Solic to Commit Battery', 'c_charge_desc=Solicit Deliver Cocaine', 'c_charge_desc=Solicit Purchase Cocaine', 'c_charge_desc=Solicit To Deliver Cocaine', 'c_charge_desc=Solicitation On Felony 3 Deg', 'c_charge_desc=Soliciting For Prostitution', 'c_charge_desc=Sound Articles Over 100', 'c_charge_desc=Stalking', 'c_charge_desc=Stalking (Aggravated)', 'c_charge_desc=Strong Armed  Robbery', 'c_charge_desc=Structuring Transactions', 'c_charge_desc=Susp Drivers Lic 1st Offense', 'c_charge_desc=Tamper With Victim', 'c_charge_desc=Tamper With Witness', 'c_charge_desc=Tamper With Witness/Victim/CI', 'c_charge_desc=Tampering With Physical Evidence', 'c_charge_desc=Tampering with a Victim', 'c_charge_desc=Theft/To Deprive', 'c_charge_desc=Threat Public Servant', 'c_charge_desc=Throw Deadly Missile Into Veh', 'c_charge_desc=Throw In Occupied Dwell', 'c_charge_desc=Throw Missile Into Pub/Priv Dw', 'c_charge_desc=Traff In Cocaine <400g>150 Kil', 'c_charge_desc=Traffic Counterfeit Cred Cards', 'c_charge_desc=Traffick Amphetamine 28g><200g', 'c_charge_desc=Traffick Oxycodone     4g><14g', 'c_charge_desc=Trans/Harm/Material to a Minor', 'c_charge_desc=Trespass On School Grounds', 'c_charge_desc=Trespass Other Struct/Conve', 'c_charge_desc=Trespass Private Property', 'c_charge_desc=Trespass Property w/Dang Weap', 'c_charge_desc=Trespass Struct/Conveyance', 'c_charge_desc=Trespass Structure w/Dang Weap', 'c_charge_desc=Trespass Structure/Conveyance', 'c_charge_desc=Trespassing/Construction Site', 'c_charge_desc=Tresspass Struct/Conveyance', 'c_charge_desc=Tresspass in Structure or Conveyance', 'c_charge_desc=Unauth C/P/S Sounds>1000/Audio', 'c_charge_desc=Unauth Poss ID Card or DL', 'c_charge_desc=Unauthorized Interf w/Railroad', 'c_charge_desc=Unl/Disturb Education/Instui', 'c_charge_desc=Unlaw Lic Use/Disply Of Others', 'c_charge_desc=Unlaw LicTag/Sticker Attach', 'c_charge_desc=Unlaw Use False Name/Identity', 'c_charge_desc=Unlawful Conveyance of Fuel', 'c_charge_desc=Unlicensed Telemarketing', 'c_charge_desc=Use Computer for Child Exploit', 'c_charge_desc=Use Of 2 Way Device To Fac Fel', 'c_charge_desc=Use Scanning Device to Defraud', 'c_charge_desc=Use of Anti-Shoplifting Device', 'c_charge_desc=Uttering Forged Bills', 'c_charge_desc=Uttering Forged Credit Card', 'c_charge_desc=Uttering Worthless Check +$150', 'c_charge_desc=Uttering a Forged Instrument', 'c_charge_desc=Video Voyeur-<24Y on Child >16', 'c_charge_desc=Viol Injunct Domestic Violence', 'c_charge_desc=Viol Injunction Protect Dom Vi', 'c_charge_desc=Viol Pretrial Release Dom Viol', 'c_charge_desc=Viol Prot Injunc Repeat Viol', 'c_charge_desc=Violation License Restrictions', 'c_charge_desc=Violation Of Boater Safety Id', 'c_charge_desc=Violation of Injunction Order/Stalking/Cyberstalking', 'c_charge_desc=Voyeurism', 'c_charge_desc=arrest case no charge']\n",
      "#### Training Dataset shape\n",
      "(640, 58)\n",
      "#### Validation Dataset shape\n",
      "(160, 58)\n",
      "#### Test Dataset shape\n",
      "(200, 58)\n",
      "#### Favorable and unfavorable labels\n",
      "1.0 2.0\n",
      "#### Protected attribute names\n",
      "['sex', 'age']\n",
      "#### Privileged and unprivileged protected attribute values\n",
      "[array([1.]), array([1.])] [array([0.]), array([0.])]\n",
      "#### Dataset feature names\n",
      "['month', 'credit_amount', 'investment_as_income_percentage', 'residence_since', 'age', 'number_of_credits', 'people_liable_for', 'sex', 'status=A11', 'status=A12', 'status=A13', 'status=A14', 'credit_history=A30', 'credit_history=A31', 'credit_history=A32', 'credit_history=A33', 'credit_history=A34', 'purpose=A40', 'purpose=A41', 'purpose=A410', 'purpose=A42', 'purpose=A43', 'purpose=A44', 'purpose=A45', 'purpose=A46', 'purpose=A48', 'purpose=A49', 'savings=A61', 'savings=A62', 'savings=A63', 'savings=A64', 'savings=A65', 'employment=A71', 'employment=A72', 'employment=A73', 'employment=A74', 'employment=A75', 'other_debtors=A101', 'other_debtors=A102', 'other_debtors=A103', 'property=A121', 'property=A122', 'property=A123', 'property=A124', 'installment_plans=A141', 'installment_plans=A142', 'installment_plans=A143', 'housing=A151', 'housing=A152', 'housing=A153', 'skill_level=A171', 'skill_level=A172', 'skill_level=A173', 'skill_level=A174', 'telephone=A191', 'telephone=A192', 'foreign_worker=A201', 'foreign_worker=A202']\n"
     ]
    }
   ],
   "source": [
    "dataset_info = []\n",
    "for dataset_reader in datasets:\n",
    "    dataset_expanded_train, dataset_train, dataset_val, dataset_test, unprivileged_groups, privileged_groups, sens_attr = dataset_reader()\n",
    "\n",
    "    num_instances = dataset_expanded_train.features.shape[0] + dataset_test.features.shape[0]\n",
    "    num_encoded_features = dataset_expanded_train.features.shape[1]\n",
    "    positive_instances = np.vstack([dataset_expanded_train.labels == dataset_expanded_train.favorable_label, dataset_test.labels == dataset_test.favorable_label]).reshape(num_instances)\n",
    "    negative_instances = np.vstack([dataset_expanded_train.labels == dataset_expanded_train.unfavorable_label, dataset_test.labels == dataset_test.unfavorable_label]).reshape(num_instances)\n",
    "    sensitive_index = dataset_expanded_train.protected_attribute_names.index(sens_attr)\n",
    "\n",
    "    privileged_instances = np.hstack([dataset_expanded_train.protected_attributes[:,sensitive_index] == dataset_expanded_train.privileged_protected_attributes[sensitive_index], dataset_test.protected_attributes[:,sensitive_index] == dataset_test.privileged_protected_attributes[sensitive_index]]).reshape(num_instances)\n",
    "\n",
    "    unprivileged_instances = np.hstack([dataset_expanded_train.protected_attributes[:,sensitive_index] == dataset_expanded_train.unprivileged_protected_attributes[sensitive_index], dataset_test.protected_attributes[:,sensitive_index] == dataset_test.unprivileged_protected_attributes[sensitive_index]]).reshape(num_instances)\n",
    "\n",
    "    positive_privileged_instances = np.logical_and(positive_instances, privileged_instances)\n",
    "    positive_unprivileged_instances = np.logical_and(positive_instances, unprivileged_instances)\n",
    "    negative_privileged_instances = np.logical_and(negative_instances, privileged_instances)\n",
    "    negative_unprivileged_instances = np.logical_and(negative_instances, unprivileged_instances)\n",
    "\n",
    "    metrics = eval(dataset_expanded_train, dataset_test, unprivileged_groups, privileged_groups, sens_attr)\n",
    "\n",
    "    cov = np.cov(dataset_expanded_train.features.T)\n",
    "    max_cov = get_n_cov_mean(cov, sensitive_index, 1)\n",
    "    three_cov_mean = get_n_cov_mean(cov, sensitive_index, 3)\n",
    "\n",
    "    rcc = eval_rcc(dataset_expanded_train, dataset_test, sens_attr)\n",
    "\n",
    "    info = {\n",
    "        'Dataset': dataset_reader.__name__,\n",
    "        '\\# Features' : num_encoded_features,\n",
    "        '\\# Instances': num_instances,\n",
    "        'Sens. Attr.': sens_attr,\n",
    "        'Positives': \"{:.2%}\".format(np.sum(positive_instances)/num_instances),\n",
    "        'Negatives': \"{:.2%}\".format(np.sum(negative_instances)/num_instances),\n",
    "        'Privileged': \"{:.2%}\".format(np.sum(privileged_instances)/num_instances),\n",
    "        'Unprivileged': \"{:.2%}\".format(np.sum(unprivileged_instances)/num_instances),\n",
    "        'Acc': \"{:.3f}\".format(metrics['ACC']),\n",
    "        'MCC': \"{:.3f}\".format(metrics['MCC']),\n",
    "        'Stat. Parity.': \"{:.3f}\".format(metrics['stat_par_diff']),\n",
    "        'Eq. Opp.': \"{:.3f}\".format(metrics['eq_opp_diff']),\n",
    "        'Eq. Odds': \"{:.3f}\".format(metrics['avg_odds_diff']),\n",
    "        'Max. Cov.': \"{:.3f}\".format(max_cov),\n",
    "        '3-Cov. Mean': \"{:.3f}\".format(three_cov_mean),\n",
    "        'RCC': \"{:.3f}\".format(rcc)\n",
    "\n",
    "    }\n",
    "    dataset_info.append(info)"
   ],
   "metadata": {
    "collapsed": false
   }
  },
  {
   "cell_type": "code",
   "execution_count": 11,
   "outputs": [
    {
     "data": {
      "text/plain": "                       \\# Features  \\# Instances Sens. Attr. Positives  \\\nDataset                                                                  \nadult_dataset_reader           102         45222         sex    24.78%   \nbank_dataset_reader             57         30488         age    12.66%   \ncompas_dataset_reader          401          6167        race    54.45%   \ngerman_dataset_reader           58          1000         sex    70.00%   \n\n                      Negatives Privileged Unprivileged    Acc     MCC  \\\nDataset                                                                  \nadult_dataset_reader     75.22%     67.50%       32.50%  0.842   0.563   \nbank_dataset_reader      87.34%     97.17%        2.83%  0.903   0.516   \ncompas_dataset_reader    45.55%     34.05%       65.95%  0.374  -0.248   \ngerman_dataset_reader    30.00%     69.00%       31.00%  0.620   0.000   \n\n                      Stat. Parity. Eq. Opp. Eq. Odds Max. Cov. 3-Cov. Mean  \\\nDataset                                                                       \nadult_dataset_reader          0.193    0.099    0.098     0.527       0.418   \nbank_dataset_reader           0.115    0.038    0.053     0.332       0.232   \ncompas_dataset_reader         0.129    0.044    0.115     0.827       0.532   \ngerman_dataset_reader         0.034    0.012    0.025     0.626       0.354   \n\n                          RCC  \nDataset                        \nadult_dataset_reader    0.200  \nbank_dataset_reader    -0.064  \ncompas_dataset_reader   0.091  \ngerman_dataset_reader   0.114  ",
      "text/html": "<div>\n<style scoped>\n    .dataframe tbody tr th:only-of-type {\n        vertical-align: middle;\n    }\n\n    .dataframe tbody tr th {\n        vertical-align: top;\n    }\n\n    .dataframe thead th {\n        text-align: right;\n    }\n</style>\n<table border=\"1\" class=\"dataframe\">\n  <thead>\n    <tr style=\"text-align: right;\">\n      <th></th>\n      <th>\\# Features</th>\n      <th>\\# Instances</th>\n      <th>Sens. Attr.</th>\n      <th>Positives</th>\n      <th>Negatives</th>\n      <th>Privileged</th>\n      <th>Unprivileged</th>\n      <th>Acc</th>\n      <th>MCC</th>\n      <th>Stat. Parity.</th>\n      <th>Eq. Opp.</th>\n      <th>Eq. Odds</th>\n      <th>Max. Cov.</th>\n      <th>3-Cov. Mean</th>\n      <th>RCC</th>\n    </tr>\n    <tr>\n      <th>Dataset</th>\n      <th></th>\n      <th></th>\n      <th></th>\n      <th></th>\n      <th></th>\n      <th></th>\n      <th></th>\n      <th></th>\n      <th></th>\n      <th></th>\n      <th></th>\n      <th></th>\n      <th></th>\n      <th></th>\n      <th></th>\n    </tr>\n  </thead>\n  <tbody>\n    <tr>\n      <th>adult_dataset_reader</th>\n      <td>102</td>\n      <td>45222</td>\n      <td>sex</td>\n      <td>24.78%</td>\n      <td>75.22%</td>\n      <td>67.50%</td>\n      <td>32.50%</td>\n      <td>0.842</td>\n      <td>0.563</td>\n      <td>0.193</td>\n      <td>0.099</td>\n      <td>0.098</td>\n      <td>0.527</td>\n      <td>0.418</td>\n      <td>0.200</td>\n    </tr>\n    <tr>\n      <th>bank_dataset_reader</th>\n      <td>57</td>\n      <td>30488</td>\n      <td>age</td>\n      <td>12.66%</td>\n      <td>87.34%</td>\n      <td>97.17%</td>\n      <td>2.83%</td>\n      <td>0.903</td>\n      <td>0.516</td>\n      <td>0.115</td>\n      <td>0.038</td>\n      <td>0.053</td>\n      <td>0.332</td>\n      <td>0.232</td>\n      <td>-0.064</td>\n    </tr>\n    <tr>\n      <th>compas_dataset_reader</th>\n      <td>401</td>\n      <td>6167</td>\n      <td>race</td>\n      <td>54.45%</td>\n      <td>45.55%</td>\n      <td>34.05%</td>\n      <td>65.95%</td>\n      <td>0.374</td>\n      <td>-0.248</td>\n      <td>0.129</td>\n      <td>0.044</td>\n      <td>0.115</td>\n      <td>0.827</td>\n      <td>0.532</td>\n      <td>0.091</td>\n    </tr>\n    <tr>\n      <th>german_dataset_reader</th>\n      <td>58</td>\n      <td>1000</td>\n      <td>sex</td>\n      <td>70.00%</td>\n      <td>30.00%</td>\n      <td>69.00%</td>\n      <td>31.00%</td>\n      <td>0.620</td>\n      <td>0.000</td>\n      <td>0.034</td>\n      <td>0.012</td>\n      <td>0.025</td>\n      <td>0.626</td>\n      <td>0.354</td>\n      <td>0.114</td>\n    </tr>\n  </tbody>\n</table>\n</div>"
     },
     "execution_count": 8,
     "metadata": {},
     "output_type": "execute_result"
    },
    {
     "data": {
      "text/plain": "                       \\# Features  \\# Instances Sens. Attr. Positives  \\\nDataset                                                                  \nadult_dataset_reader           102         45222         sex    24.78%   \nbank_dataset_reader             57         30488         age    12.66%   \ncompas_dataset_reader          401          6167        race    54.45%   \ngerman_dataset_reader           58          1000         sex    70.00%   \n\n                      Negatives Privileged Unprivileged    Acc     MCC  \\\nDataset                                                                  \nadult_dataset_reader     75.22%     67.50%       32.50%  0.842   0.563   \nbank_dataset_reader      87.34%     97.17%        2.83%  0.903   0.516   \ncompas_dataset_reader    45.55%     34.05%       65.95%  0.374  -0.248   \ngerman_dataset_reader    30.00%     69.00%       31.00%  0.620   0.000   \n\n                      Stat. Parity. Eq. Opp. Eq. Odds Max. Cov. 3-Cov. Mean  \\\nDataset                                                                       \nadult_dataset_reader          0.193    0.099    0.098     0.527       0.418   \nbank_dataset_reader           0.115    0.038    0.053     0.332       0.232   \ncompas_dataset_reader         0.129    0.044    0.115     0.827       0.532   \ngerman_dataset_reader         0.034    0.012    0.025     0.626       0.354   \n\n                          RCC  \nDataset                        \nadult_dataset_reader    0.200  \nbank_dataset_reader    -0.064  \ncompas_dataset_reader   0.091  \ngerman_dataset_reader   0.114  ",
      "text/html": "<div>\n<style scoped>\n    .dataframe tbody tr th:only-of-type {\n        vertical-align: middle;\n    }\n\n    .dataframe tbody tr th {\n        vertical-align: top;\n    }\n\n    .dataframe thead th {\n        text-align: right;\n    }\n</style>\n<table border=\"1\" class=\"dataframe\">\n  <thead>\n    <tr style=\"text-align: right;\">\n      <th></th>\n      <th>\\# Features</th>\n      <th>\\# Instances</th>\n      <th>Sens. Attr.</th>\n      <th>Positives</th>\n      <th>Negatives</th>\n      <th>Privileged</th>\n      <th>Unprivileged</th>\n      <th>Acc</th>\n      <th>MCC</th>\n      <th>Stat. Parity.</th>\n      <th>Eq. Opp.</th>\n      <th>Eq. Odds</th>\n      <th>Max. Cov.</th>\n      <th>3-Cov. Mean</th>\n      <th>RCC</th>\n    </tr>\n    <tr>\n      <th>Dataset</th>\n      <th></th>\n      <th></th>\n      <th></th>\n      <th></th>\n      <th></th>\n      <th></th>\n      <th></th>\n      <th></th>\n      <th></th>\n      <th></th>\n      <th></th>\n      <th></th>\n      <th></th>\n      <th></th>\n      <th></th>\n    </tr>\n  </thead>\n  <tbody>\n    <tr>\n      <th>adult_dataset_reader</th>\n      <td>102</td>\n      <td>45222</td>\n      <td>sex</td>\n      <td>24.78%</td>\n      <td>75.22%</td>\n      <td>67.50%</td>\n      <td>32.50%</td>\n      <td>0.842</td>\n      <td>0.563</td>\n      <td>0.193</td>\n      <td>0.099</td>\n      <td>0.098</td>\n      <td>0.527</td>\n      <td>0.418</td>\n      <td>0.200</td>\n    </tr>\n    <tr>\n      <th>bank_dataset_reader</th>\n      <td>57</td>\n      <td>30488</td>\n      <td>age</td>\n      <td>12.66%</td>\n      <td>87.34%</td>\n      <td>97.17%</td>\n      <td>2.83%</td>\n      <td>0.903</td>\n      <td>0.516</td>\n      <td>0.115</td>\n      <td>0.038</td>\n      <td>0.053</td>\n      <td>0.332</td>\n      <td>0.232</td>\n      <td>-0.064</td>\n    </tr>\n    <tr>\n      <th>compas_dataset_reader</th>\n      <td>401</td>\n      <td>6167</td>\n      <td>race</td>\n      <td>54.45%</td>\n      <td>45.55%</td>\n      <td>34.05%</td>\n      <td>65.95%</td>\n      <td>0.374</td>\n      <td>-0.248</td>\n      <td>0.129</td>\n      <td>0.044</td>\n      <td>0.115</td>\n      <td>0.827</td>\n      <td>0.532</td>\n      <td>0.091</td>\n    </tr>\n    <tr>\n      <th>german_dataset_reader</th>\n      <td>58</td>\n      <td>1000</td>\n      <td>sex</td>\n      <td>70.00%</td>\n      <td>30.00%</td>\n      <td>69.00%</td>\n      <td>31.00%</td>\n      <td>0.620</td>\n      <td>0.000</td>\n      <td>0.034</td>\n      <td>0.012</td>\n      <td>0.025</td>\n      <td>0.626</td>\n      <td>0.354</td>\n      <td>0.114</td>\n    </tr>\n  </tbody>\n</table>\n</div>"
     },
     "execution_count": 11,
     "metadata": {},
     "output_type": "execute_result"
    }
   ],
   "source": [
    "dataset_info_df = pd.DataFrame(dataset_info).set_index(['Dataset'])\n",
    "dataset_info_df"
   ],
   "metadata": {
    "collapsed": false,
    "ExecuteTime": {
     "end_time": "2023-10-02T19:34:38.893772305Z",
     "start_time": "2023-10-02T19:34:38.701576237Z"
    }
   }
  },
  {
   "cell_type": "code",
   "execution_count": 12,
   "outputs": [
    {
     "data": {
      "text/plain": "Dataset       adult_dataset_reader bank_dataset_reader compas_dataset_reader  \\\n\\# Features                    102                  57                   401   \n\\# Instances                 45222               30488                  6167   \nSens. Attr.                    sex                 age                  race   \nPositives                   24.78%              12.66%                54.45%   \nNegatives                   75.22%              87.34%                45.55%   \nPrivileged                  67.50%              97.17%                34.05%   \nUnprivileged                32.50%               2.83%                65.95%   \nAcc                          0.842               0.903                 0.374   \nMCC                          0.563               0.516                -0.248   \nStat. Parity.                0.193               0.115                 0.129   \nEq. Opp.                     0.099               0.038                 0.044   \nEq. Odds                     0.098               0.053                 0.115   \nMax. Cov.                    0.527               0.332                 0.827   \n3-Cov. Mean                  0.418               0.232                 0.532   \nRCC                          0.200              -0.064                 0.091   \n\nDataset       german_dataset_reader  \n\\# Features                      58  \n\\# Instances                   1000  \nSens. Attr.                     sex  \nPositives                    70.00%  \nNegatives                    30.00%  \nPrivileged                   69.00%  \nUnprivileged                 31.00%  \nAcc                           0.620  \nMCC                           0.000  \nStat. Parity.                 0.034  \nEq. Opp.                      0.012  \nEq. Odds                      0.025  \nMax. Cov.                     0.626  \n3-Cov. Mean                   0.354  \nRCC                           0.114  ",
      "text/html": "<div>\n<style scoped>\n    .dataframe tbody tr th:only-of-type {\n        vertical-align: middle;\n    }\n\n    .dataframe tbody tr th {\n        vertical-align: top;\n    }\n\n    .dataframe thead th {\n        text-align: right;\n    }\n</style>\n<table border=\"1\" class=\"dataframe\">\n  <thead>\n    <tr style=\"text-align: right;\">\n      <th>Dataset</th>\n      <th>adult_dataset_reader</th>\n      <th>bank_dataset_reader</th>\n      <th>compas_dataset_reader</th>\n      <th>german_dataset_reader</th>\n    </tr>\n  </thead>\n  <tbody>\n    <tr>\n      <th>\\# Features</th>\n      <td>102</td>\n      <td>57</td>\n      <td>401</td>\n      <td>58</td>\n    </tr>\n    <tr>\n      <th>\\# Instances</th>\n      <td>45222</td>\n      <td>30488</td>\n      <td>6167</td>\n      <td>1000</td>\n    </tr>\n    <tr>\n      <th>Sens. Attr.</th>\n      <td>sex</td>\n      <td>age</td>\n      <td>race</td>\n      <td>sex</td>\n    </tr>\n    <tr>\n      <th>Positives</th>\n      <td>24.78%</td>\n      <td>12.66%</td>\n      <td>54.45%</td>\n      <td>70.00%</td>\n    </tr>\n    <tr>\n      <th>Negatives</th>\n      <td>75.22%</td>\n      <td>87.34%</td>\n      <td>45.55%</td>\n      <td>30.00%</td>\n    </tr>\n    <tr>\n      <th>Privileged</th>\n      <td>67.50%</td>\n      <td>97.17%</td>\n      <td>34.05%</td>\n      <td>69.00%</td>\n    </tr>\n    <tr>\n      <th>Unprivileged</th>\n      <td>32.50%</td>\n      <td>2.83%</td>\n      <td>65.95%</td>\n      <td>31.00%</td>\n    </tr>\n    <tr>\n      <th>Acc</th>\n      <td>0.842</td>\n      <td>0.903</td>\n      <td>0.374</td>\n      <td>0.620</td>\n    </tr>\n    <tr>\n      <th>MCC</th>\n      <td>0.563</td>\n      <td>0.516</td>\n      <td>-0.248</td>\n      <td>0.000</td>\n    </tr>\n    <tr>\n      <th>Stat. Parity.</th>\n      <td>0.193</td>\n      <td>0.115</td>\n      <td>0.129</td>\n      <td>0.034</td>\n    </tr>\n    <tr>\n      <th>Eq. Opp.</th>\n      <td>0.099</td>\n      <td>0.038</td>\n      <td>0.044</td>\n      <td>0.012</td>\n    </tr>\n    <tr>\n      <th>Eq. Odds</th>\n      <td>0.098</td>\n      <td>0.053</td>\n      <td>0.115</td>\n      <td>0.025</td>\n    </tr>\n    <tr>\n      <th>Max. Cov.</th>\n      <td>0.527</td>\n      <td>0.332</td>\n      <td>0.827</td>\n      <td>0.626</td>\n    </tr>\n    <tr>\n      <th>3-Cov. Mean</th>\n      <td>0.418</td>\n      <td>0.232</td>\n      <td>0.532</td>\n      <td>0.354</td>\n    </tr>\n    <tr>\n      <th>RCC</th>\n      <td>0.200</td>\n      <td>-0.064</td>\n      <td>0.091</td>\n      <td>0.114</td>\n    </tr>\n  </tbody>\n</table>\n</div>"
     },
     "execution_count": 9,
     "metadata": {},
     "output_type": "execute_result"
    },
    {
     "data": {
      "text/plain": "Dataset       adult_dataset_reader bank_dataset_reader compas_dataset_reader  \\\n\\# Features                    102                  57                   401   \n\\# Instances                 45222               30488                  6167   \nSens. Attr.                    sex                 age                  race   \nPositives                   24.78%              12.66%                54.45%   \nNegatives                   75.22%              87.34%                45.55%   \nPrivileged                  67.50%              97.17%                34.05%   \nUnprivileged                32.50%               2.83%                65.95%   \nAcc                          0.842               0.903                 0.374   \nMCC                          0.563               0.516                -0.248   \nStat. Parity.                0.193               0.115                 0.129   \nEq. Opp.                     0.099               0.038                 0.044   \nEq. Odds                     0.098               0.053                 0.115   \nMax. Cov.                    0.527               0.332                 0.827   \n3-Cov. Mean                  0.418               0.232                 0.532   \nRCC                          0.200              -0.064                 0.091   \n\nDataset       german_dataset_reader  \n\\# Features                      58  \n\\# Instances                   1000  \nSens. Attr.                     sex  \nPositives                    70.00%  \nNegatives                    30.00%  \nPrivileged                   69.00%  \nUnprivileged                 31.00%  \nAcc                           0.620  \nMCC                           0.000  \nStat. Parity.                 0.034  \nEq. Opp.                      0.012  \nEq. Odds                      0.025  \nMax. Cov.                     0.626  \n3-Cov. Mean                   0.354  \nRCC                           0.114  ",
      "text/html": "<div>\n<style scoped>\n    .dataframe tbody tr th:only-of-type {\n        vertical-align: middle;\n    }\n\n    .dataframe tbody tr th {\n        vertical-align: top;\n    }\n\n    .dataframe thead th {\n        text-align: right;\n    }\n</style>\n<table border=\"1\" class=\"dataframe\">\n  <thead>\n    <tr style=\"text-align: right;\">\n      <th>Dataset</th>\n      <th>adult_dataset_reader</th>\n      <th>bank_dataset_reader</th>\n      <th>compas_dataset_reader</th>\n      <th>german_dataset_reader</th>\n    </tr>\n  </thead>\n  <tbody>\n    <tr>\n      <th>\\# Features</th>\n      <td>102</td>\n      <td>57</td>\n      <td>401</td>\n      <td>58</td>\n    </tr>\n    <tr>\n      <th>\\# Instances</th>\n      <td>45222</td>\n      <td>30488</td>\n      <td>6167</td>\n      <td>1000</td>\n    </tr>\n    <tr>\n      <th>Sens. Attr.</th>\n      <td>sex</td>\n      <td>age</td>\n      <td>race</td>\n      <td>sex</td>\n    </tr>\n    <tr>\n      <th>Positives</th>\n      <td>24.78%</td>\n      <td>12.66%</td>\n      <td>54.45%</td>\n      <td>70.00%</td>\n    </tr>\n    <tr>\n      <th>Negatives</th>\n      <td>75.22%</td>\n      <td>87.34%</td>\n      <td>45.55%</td>\n      <td>30.00%</td>\n    </tr>\n    <tr>\n      <th>Privileged</th>\n      <td>67.50%</td>\n      <td>97.17%</td>\n      <td>34.05%</td>\n      <td>69.00%</td>\n    </tr>\n    <tr>\n      <th>Unprivileged</th>\n      <td>32.50%</td>\n      <td>2.83%</td>\n      <td>65.95%</td>\n      <td>31.00%</td>\n    </tr>\n    <tr>\n      <th>Acc</th>\n      <td>0.842</td>\n      <td>0.903</td>\n      <td>0.374</td>\n      <td>0.620</td>\n    </tr>\n    <tr>\n      <th>MCC</th>\n      <td>0.563</td>\n      <td>0.516</td>\n      <td>-0.248</td>\n      <td>0.000</td>\n    </tr>\n    <tr>\n      <th>Stat. Parity.</th>\n      <td>0.193</td>\n      <td>0.115</td>\n      <td>0.129</td>\n      <td>0.034</td>\n    </tr>\n    <tr>\n      <th>Eq. Opp.</th>\n      <td>0.099</td>\n      <td>0.038</td>\n      <td>0.044</td>\n      <td>0.012</td>\n    </tr>\n    <tr>\n      <th>Eq. Odds</th>\n      <td>0.098</td>\n      <td>0.053</td>\n      <td>0.115</td>\n      <td>0.025</td>\n    </tr>\n    <tr>\n      <th>Max. Cov.</th>\n      <td>0.527</td>\n      <td>0.332</td>\n      <td>0.827</td>\n      <td>0.626</td>\n    </tr>\n    <tr>\n      <th>3-Cov. Mean</th>\n      <td>0.418</td>\n      <td>0.232</td>\n      <td>0.532</td>\n      <td>0.354</td>\n    </tr>\n    <tr>\n      <th>RCC</th>\n      <td>0.200</td>\n      <td>-0.064</td>\n      <td>0.091</td>\n      <td>0.114</td>\n    </tr>\n  </tbody>\n</table>\n</div>"
     },
     "execution_count": 12,
     "metadata": {},
     "output_type": "execute_result"
    }
   ],
   "source": [
    "dataset_info_df_transpose = dataset_info_df.transpose()\n",
    "dataset_info_df_transpose"
   ],
   "metadata": {
    "collapsed": false,
    "ExecuteTime": {
     "end_time": "2023-10-02T19:34:38.894178042Z",
     "start_time": "2023-10-02T19:34:38.744855905Z"
    }
   }
  },
  {
   "cell_type": "code",
   "execution_count": 10,
   "outputs": [],
   "source": [
    "dataset_info_df_transpose.to_latex(('dataset_info.tex'))"
   ],
   "metadata": {
    "collapsed": false
   }
  }
 ],
 "metadata": {
  "kernelspec": {
   "display_name": "Python 3",
   "language": "python",
   "name": "python3"
  },
  "language_info": {
   "codemirror_mode": {
    "name": "ipython",
    "version": 2
   },
   "file_extension": ".py",
   "mimetype": "text/x-python",
   "name": "python",
   "nbconvert_exporter": "python",
   "pygments_lexer": "ipython2",
   "version": "2.7.6"
  }
 },
 "nbformat": 4,
 "nbformat_minor": 0
}
