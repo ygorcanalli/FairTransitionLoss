{
 "cells": [
  {
   "cell_type": "code",
   "execution_count": 29,
   "metadata": {
    "ExecuteTime": {
     "end_time": "2023-08-25T20:21:47.940343746Z",
     "start_time": "2023-08-25T20:21:47.932725743Z"
    }
   },
   "outputs": [],
   "source": [
    "import matplotlib.pyplot as plt\n",
    "import pandas\n",
    "import pandas as pd\n",
    "import seaborn as sns\n",
    "from matplotlib.lines import Line2D\n",
    "import json\n",
    "import os\n",
    "import deepsig\n",
    "from IPython.display import display"
   ]
  },
  {
   "cell_type": "code",
   "execution_count": 3,
   "metadata": {
    "ExecuteTime": {
     "end_time": "2023-08-25T20:09:07.133534621Z",
     "start_time": "2023-08-25T20:09:07.128291858Z"
    }
   },
   "outputs": [],
   "source": [
    "def convert_to_json_of_arrays(array_of_jsons):\n",
    "    json_of_arrays = {}\n",
    "\n",
    "    # Iterate through each JSON in the array\n",
    "    for json_obj in array_of_jsons:\n",
    "        for key, value in json_obj.items():\n",
    "            # Check if the key exists in the new JSON, if not, create an array\n",
    "            if key not in json_of_arrays:\n",
    "                json_of_arrays[key] = []\n",
    "\n",
    "            # Append the value to the corresponding array\n",
    "            json_of_arrays[key].append(value)\n",
    "\n",
    "    return json_of_arrays"
   ]
  },
  {
   "cell_type": "code",
   "execution_count": 4,
   "metadata": {
    "ExecuteTime": {
     "end_time": "2023-08-25T20:09:07.137651560Z",
     "start_time": "2023-08-25T20:09:07.131719250Z"
    }
   },
   "outputs": [],
   "source": [
    "def read_csv_files_from_folder(folder_path):\n",
    "    # Initialize an empty list to store DataFrames\n",
    "    dfs = []\n",
    "\n",
    "    # Get a list of files in the folder\n",
    "    file_list = os.listdir(folder_path)\n",
    "\n",
    "    # Iterate through the files in the folder\n",
    "    for file_name in file_list:\n",
    "        # Check if the file has a .csv extension\n",
    "        if file_name.endswith(\".csv\"):\n",
    "            file_path = os.path.join(folder_path, file_name)\n",
    "\n",
    "            # Read the CSV file into a DataFrame\n",
    "            df = pd.read_csv(file_path)\n",
    "\n",
    "            # Append the DataFrame to the list\n",
    "            dfs.append(df)\n",
    "\n",
    "    # Concatenate all DataFrames into a single DataFrame\n",
    "    combined_df = pd.concat(dfs, ignore_index=True)\n",
    "\n",
    "    return combined_df"
   ]
  },
  {
   "cell_type": "code",
   "execution_count": 5,
   "metadata": {
    "ExecuteTime": {
     "end_time": "2023-08-25T20:09:07.145677073Z",
     "start_time": "2023-08-25T20:09:07.137921383Z"
    }
   },
   "outputs": [],
   "source": [
    "def read_json_files_from_folder(folder_path):\n",
    "    json_list = []\n",
    "\n",
    "    # Get a list of files in the folder\n",
    "    file_list = os.listdir(folder_path)\n",
    "\n",
    "    # Iterate through the files in the folder\n",
    "    for file_name in file_list:\n",
    "        # Check if the file has a .json extension\n",
    "        if file_name.endswith(\".json\"):\n",
    "            file_path = os.path.join(folder_path, file_name)\n",
    "\n",
    "            # Read the contents of the JSON file\n",
    "            with open(file_path, \"r\") as file:\n",
    "                try:\n",
    "                    # Parse the JSON data and append it to the list\n",
    "                    json_data = json.load(file)\n",
    "                    json_list.append(json_data)\n",
    "                except json.JSONDecodeError:\n",
    "                    # Handle parsing errors, if any\n",
    "                    print(f\"Error parsing JSON from file: {file_name}\")\n",
    "\n",
    "    return json_list"
   ]
  },
  {
   "cell_type": "code",
   "execution_count": 6,
   "metadata": {
    "ExecuteTime": {
     "end_time": "2023-08-25T20:09:07.167121357Z",
     "start_time": "2023-08-25T20:09:07.143284470Z"
    }
   },
   "outputs": [],
   "source": [
    "cols = ['dataset', 'method', 'fitness_rule', 'fitness', 'ACC', 'MCC', 'f1_score', 'avg_odds_diff', 'stat_par_diff', 'eq_opp_diff']"
   ]
  },
  {
   "cell_type": "code",
   "execution_count": 7,
   "metadata": {
    "ExecuteTime": {
     "end_time": "2023-08-25T20:09:09.285615753Z",
     "start_time": "2023-08-25T20:09:08.452368313Z"
    }
   },
   "outputs": [],
   "source": [
    "results = read_csv_files_from_folder('../2023-07-26/results')\n",
    "results.replace({'ftl_mlp_initializer': 'Fair Transition Loss', 'adversarial_debiasing_initializer': 'Adversarial Debiasing', 'gerry_fair_classifier_initializer': 'Gerry Fair Classifier', 'prejudice_remover_initializer': 'Prejudice Remover', 'simple_mlp_initializer': 'Standard MLP (baseline)'}, inplace=True)\n",
    "results.replace({'adult_dataset_reader': 'Adult Income', 'compas_dataset_reader': 'Compas Recidivism', 'german_dataset_reader': 'German Credit', 'bank_dataset_reader': 'Bank Market'}, inplace=True)\n",
    "results.rename(columns={'avg_odds_diff': 'Equalized Odds', 'stat_par_diff': 'Statistical Parity', 'eq_opp_diff': 'Equal Opportunity', 'MCC': 'Mathew Correlation', 'ACC': 'Accuracy'}, inplace=True)"
   ]
  },
  {
   "cell_type": "code",
   "execution_count": 8,
   "metadata": {
    "ExecuteTime": {
     "end_time": "2023-08-25T20:09:09.313916728Z",
     "start_time": "2023-08-25T20:09:09.310025068Z"
    }
   },
   "outputs": [],
   "source": [
    "fitness_rules_target_metrics = {\n",
    "    'mcc_parity': {'performance': 'Mathew Correlation', 'fairness': 'Statistical Parity'},\n",
    "    'mcc_opportunity': {'performance': 'Mathew Correlation', 'fairness': 'Equal Opportunity'},\n",
    "    'mcc_odds': {'performance': 'Mathew Correlation', 'fairness': 'Equalized Odds'},\n",
    "    'acc_parity': {'performance': 'Accuracy', 'fairness': 'Statistical Parity'},\n",
    "    'acc_opportunity': {'performance': 'Accuracy', 'fairness': 'Equal Opportunity'},\n",
    "    'acc_odds': {'performance': 'Accuracy', 'fairness': 'Equalized Odds'}\n",
    "}"
   ]
  },
  {
   "cell_type": "code",
   "execution_count": 9,
   "metadata": {
    "ExecuteTime": {
     "end_time": "2023-08-25T20:09:09.923796945Z",
     "start_time": "2023-08-25T20:09:09.916131421Z"
    }
   },
   "outputs": [
    {
     "data": {
      "text/plain": "      Unnamed: 0  overall_acc   bal_acc  Equalized Odds  disp_imp  \\\n0              0     0.650000  0.477941        0.022839  1.007030   \n1              1     0.645000  0.484962        0.073451  1.064832   \n2              2     0.740000  0.659133        0.025781  0.954128   \n3              3     0.545000  0.397810        0.070884  0.895425   \n4              4     0.615000  0.448905        0.066751  0.894180   \n...          ...          ...       ...             ...       ...   \n1752          25     0.896851  0.669304        0.057653  2.118719   \n1753          26     0.896359  0.753549        0.072641  2.153847   \n1754          27     0.898655  0.696844        0.053642  1.420554   \n1755          28     0.901607  0.718345        0.145878  0.755483   \n1756          29     0.894064  0.687906        0.105366  1.858014   \n\n      Statistical Parity  Equal Opportunity  theil_ind  f1_score       TPR  \\\n0               0.006558           0.028241   0.087680  0.804954  0.955882   \n1               0.059217           0.045977   0.077539  0.806250  0.969925   \n2               0.038462           0.017416   0.092947  0.823129  0.937984   \n3               0.077859           0.056402   0.199996  0.775801  0.795620   \n4               0.087912           0.050342   0.121159  0.828283  0.897810   \n...                  ...                ...        ...       ...       ...   \n1752            0.074544           0.087314   0.093049  0.472758  0.364341   \n1753            0.133189           0.120516   0.075922  0.584757  0.560453   \n1754            0.034509           0.099174   0.086198  0.514914  0.427083   \n1755            0.022450           0.286523   0.081914  0.551570  0.471867   \n1756            0.069031           0.138699   0.090850  0.500000  0.409898   \n\n      ...       FOR  Accuracy  Mathew Correlation   fitness  \\\n0     ...  0.000000  0.650000            0.000000 -0.006558   \n1     ...  0.000000  0.645000            0.000000 -0.059217   \n2     ...  0.228571  0.740000            0.400810  0.362348   \n3     ...  0.000000  0.545000            0.000000 -0.077859   \n4     ...  0.000000  0.615000            0.000000 -0.066751   \n...   ...       ...       ...                 ...       ...   \n1752  ...  0.086635  0.896851            0.445599  0.809537   \n1753  ...  0.064991  0.896359            0.526321  0.775843   \n1754  ...  0.078684  0.898655            0.473519  0.799482   \n1755  ...  0.074522  0.901607            0.507223  0.615084   \n1756  ...  0.083125  0.894064            0.457830  0.755364   \n\n                                               solution  \\\n0                      {'dropout': 0.18124389809074126}   \n1     {'dropout': 0.022732599406043996, 'privileged_...   \n2         {'adversary_loss_weight': 0.6148404367300289}   \n3                           {'eta': 49.471477392162484}   \n4                    {'dropout': 0.0037868792501197348}   \n...                                                 ...   \n1752            {'C': 10.459577021264977, 'gamma': 0.1}   \n1753                  {'dropout': 0.000321942353699714}   \n1754  {'dropout': 0.014472416047403187, 'privileged_...   \n1755      {'adversary_loss_weight': 0.8391213408528397}   \n1756                         {'eta': 39.18922596420359}   \n\n                                   tune_results_history     fitness_rule  \\\n0     [{'overall_acc': 0.59375, 'bal_acc': 0.4481132...       mcc_parity   \n1     [{'overall_acc': 0.00625, 'bal_acc': 0.0043859...       mcc_parity   \n2     [{'overall_acc': 0.70625, 'bal_acc': 0.5580357...       mcc_parity   \n3     [{'overall_acc': 0.56875, 'bal_acc': 0.4136363...       mcc_parity   \n4     [{'overall_acc': 0.56875, 'bal_acc': 0.4099099...         mcc_odds   \n...                                                 ...              ...   \n1752  [{'overall_acc': 0.8993439934399344, 'bal_acc'...  acc_opportunity   \n1753  [{'overall_acc': 0.9093890938909389, 'bal_acc'...  acc_opportunity   \n1754  [{'overall_acc': 0.8511685116851169, 'bal_acc'...  acc_opportunity   \n1755  [{'overall_acc': 0.8987289872898729, 'bal_acc'...  acc_opportunity   \n1756  [{'overall_acc': 0.8964739647396474, 'bal_acc'...  acc_opportunity   \n\n                       method        dataset  \\\n0     Standard MLP (baseline)  German Credit   \n1        Fair Transition Loss  German Credit   \n2       Adversarial Debiasing  German Credit   \n3           Prejudice Remover  German Credit   \n4     Standard MLP (baseline)  German Credit   \n...                       ...            ...   \n1752    Gerry Fair Classifier    Bank Market   \n1753  Standard MLP (baseline)    Bank Market   \n1754     Fair Transition Loss    Bank Market   \n1755    Adversarial Debiasing    Bank Market   \n1756        Prejudice Remover    Bank Market   \n\n                               best_solution_tf_history  \n0     {'loss': [0.7094872196515402, 0.64226885371738...  \n1     {'loss': [0.8503885070482889, 0.78124442100524...  \n2                                                   NaN  \n3                                                   NaN  \n4     {'loss': [0.7087434199121263, 0.61068538427352...  \n...                                                 ...  \n1752                                                NaN  \n1753  {'loss': [0.2854798949427075, 0.22084286485976...  \n1754  {'loss': [0.49211953761153904, 0.4700222834873...  \n1755                                                NaN  \n1756                                                NaN  \n\n[1757 rows x 30 columns]",
      "text/html": "<div>\n<style scoped>\n    .dataframe tbody tr th:only-of-type {\n        vertical-align: middle;\n    }\n\n    .dataframe tbody tr th {\n        vertical-align: top;\n    }\n\n    .dataframe thead th {\n        text-align: right;\n    }\n</style>\n<table border=\"1\" class=\"dataframe\">\n  <thead>\n    <tr style=\"text-align: right;\">\n      <th></th>\n      <th>Unnamed: 0</th>\n      <th>overall_acc</th>\n      <th>bal_acc</th>\n      <th>Equalized Odds</th>\n      <th>disp_imp</th>\n      <th>Statistical Parity</th>\n      <th>Equal Opportunity</th>\n      <th>theil_ind</th>\n      <th>f1_score</th>\n      <th>TPR</th>\n      <th>...</th>\n      <th>FOR</th>\n      <th>Accuracy</th>\n      <th>Mathew Correlation</th>\n      <th>fitness</th>\n      <th>solution</th>\n      <th>tune_results_history</th>\n      <th>fitness_rule</th>\n      <th>method</th>\n      <th>dataset</th>\n      <th>best_solution_tf_history</th>\n    </tr>\n  </thead>\n  <tbody>\n    <tr>\n      <th>0</th>\n      <td>0</td>\n      <td>0.650000</td>\n      <td>0.477941</td>\n      <td>0.022839</td>\n      <td>1.007030</td>\n      <td>0.006558</td>\n      <td>0.028241</td>\n      <td>0.087680</td>\n      <td>0.804954</td>\n      <td>0.955882</td>\n      <td>...</td>\n      <td>0.000000</td>\n      <td>0.650000</td>\n      <td>0.000000</td>\n      <td>-0.006558</td>\n      <td>{'dropout': 0.18124389809074126}</td>\n      <td>[{'overall_acc': 0.59375, 'bal_acc': 0.4481132...</td>\n      <td>mcc_parity</td>\n      <td>Standard MLP (baseline)</td>\n      <td>German Credit</td>\n      <td>{'loss': [0.7094872196515402, 0.64226885371738...</td>\n    </tr>\n    <tr>\n      <th>1</th>\n      <td>1</td>\n      <td>0.645000</td>\n      <td>0.484962</td>\n      <td>0.073451</td>\n      <td>1.064832</td>\n      <td>0.059217</td>\n      <td>0.045977</td>\n      <td>0.077539</td>\n      <td>0.806250</td>\n      <td>0.969925</td>\n      <td>...</td>\n      <td>0.000000</td>\n      <td>0.645000</td>\n      <td>0.000000</td>\n      <td>-0.059217</td>\n      <td>{'dropout': 0.022732599406043996, 'privileged_...</td>\n      <td>[{'overall_acc': 0.00625, 'bal_acc': 0.0043859...</td>\n      <td>mcc_parity</td>\n      <td>Fair Transition Loss</td>\n      <td>German Credit</td>\n      <td>{'loss': [0.8503885070482889, 0.78124442100524...</td>\n    </tr>\n    <tr>\n      <th>2</th>\n      <td>2</td>\n      <td>0.740000</td>\n      <td>0.659133</td>\n      <td>0.025781</td>\n      <td>0.954128</td>\n      <td>0.038462</td>\n      <td>0.017416</td>\n      <td>0.092947</td>\n      <td>0.823129</td>\n      <td>0.937984</td>\n      <td>...</td>\n      <td>0.228571</td>\n      <td>0.740000</td>\n      <td>0.400810</td>\n      <td>0.362348</td>\n      <td>{'adversary_loss_weight': 0.6148404367300289}</td>\n      <td>[{'overall_acc': 0.70625, 'bal_acc': 0.5580357...</td>\n      <td>mcc_parity</td>\n      <td>Adversarial Debiasing</td>\n      <td>German Credit</td>\n      <td>NaN</td>\n    </tr>\n    <tr>\n      <th>3</th>\n      <td>3</td>\n      <td>0.545000</td>\n      <td>0.397810</td>\n      <td>0.070884</td>\n      <td>0.895425</td>\n      <td>0.077859</td>\n      <td>0.056402</td>\n      <td>0.199996</td>\n      <td>0.775801</td>\n      <td>0.795620</td>\n      <td>...</td>\n      <td>0.000000</td>\n      <td>0.545000</td>\n      <td>0.000000</td>\n      <td>-0.077859</td>\n      <td>{'eta': 49.471477392162484}</td>\n      <td>[{'overall_acc': 0.56875, 'bal_acc': 0.4136363...</td>\n      <td>mcc_parity</td>\n      <td>Prejudice Remover</td>\n      <td>German Credit</td>\n      <td>NaN</td>\n    </tr>\n    <tr>\n      <th>4</th>\n      <td>4</td>\n      <td>0.615000</td>\n      <td>0.448905</td>\n      <td>0.066751</td>\n      <td>0.894180</td>\n      <td>0.087912</td>\n      <td>0.050342</td>\n      <td>0.121159</td>\n      <td>0.828283</td>\n      <td>0.897810</td>\n      <td>...</td>\n      <td>0.000000</td>\n      <td>0.615000</td>\n      <td>0.000000</td>\n      <td>-0.066751</td>\n      <td>{'dropout': 0.0037868792501197348}</td>\n      <td>[{'overall_acc': 0.56875, 'bal_acc': 0.4099099...</td>\n      <td>mcc_odds</td>\n      <td>Standard MLP (baseline)</td>\n      <td>German Credit</td>\n      <td>{'loss': [0.7087434199121263, 0.61068538427352...</td>\n    </tr>\n    <tr>\n      <th>...</th>\n      <td>...</td>\n      <td>...</td>\n      <td>...</td>\n      <td>...</td>\n      <td>...</td>\n      <td>...</td>\n      <td>...</td>\n      <td>...</td>\n      <td>...</td>\n      <td>...</td>\n      <td>...</td>\n      <td>...</td>\n      <td>...</td>\n      <td>...</td>\n      <td>...</td>\n      <td>...</td>\n      <td>...</td>\n      <td>...</td>\n      <td>...</td>\n      <td>...</td>\n      <td>...</td>\n    </tr>\n    <tr>\n      <th>1752</th>\n      <td>25</td>\n      <td>0.896851</td>\n      <td>0.669304</td>\n      <td>0.057653</td>\n      <td>2.118719</td>\n      <td>0.074544</td>\n      <td>0.087314</td>\n      <td>0.093049</td>\n      <td>0.472758</td>\n      <td>0.364341</td>\n      <td>...</td>\n      <td>0.086635</td>\n      <td>0.896851</td>\n      <td>0.445599</td>\n      <td>0.809537</td>\n      <td>{'C': 10.459577021264977, 'gamma': 0.1}</td>\n      <td>[{'overall_acc': 0.8993439934399344, 'bal_acc'...</td>\n      <td>acc_opportunity</td>\n      <td>Gerry Fair Classifier</td>\n      <td>Bank Market</td>\n      <td>NaN</td>\n    </tr>\n    <tr>\n      <th>1753</th>\n      <td>26</td>\n      <td>0.896359</td>\n      <td>0.753549</td>\n      <td>0.072641</td>\n      <td>2.153847</td>\n      <td>0.133189</td>\n      <td>0.120516</td>\n      <td>0.075922</td>\n      <td>0.584757</td>\n      <td>0.560453</td>\n      <td>...</td>\n      <td>0.064991</td>\n      <td>0.896359</td>\n      <td>0.526321</td>\n      <td>0.775843</td>\n      <td>{'dropout': 0.000321942353699714}</td>\n      <td>[{'overall_acc': 0.9093890938909389, 'bal_acc'...</td>\n      <td>acc_opportunity</td>\n      <td>Standard MLP (baseline)</td>\n      <td>Bank Market</td>\n      <td>{'loss': [0.2854798949427075, 0.22084286485976...</td>\n    </tr>\n    <tr>\n      <th>1754</th>\n      <td>27</td>\n      <td>0.898655</td>\n      <td>0.696844</td>\n      <td>0.053642</td>\n      <td>1.420554</td>\n      <td>0.034509</td>\n      <td>0.099174</td>\n      <td>0.086198</td>\n      <td>0.514914</td>\n      <td>0.427083</td>\n      <td>...</td>\n      <td>0.078684</td>\n      <td>0.898655</td>\n      <td>0.473519</td>\n      <td>0.799482</td>\n      <td>{'dropout': 0.014472416047403187, 'privileged_...</td>\n      <td>[{'overall_acc': 0.8511685116851169, 'bal_acc'...</td>\n      <td>acc_opportunity</td>\n      <td>Fair Transition Loss</td>\n      <td>Bank Market</td>\n      <td>{'loss': [0.49211953761153904, 0.4700222834873...</td>\n    </tr>\n    <tr>\n      <th>1755</th>\n      <td>28</td>\n      <td>0.901607</td>\n      <td>0.718345</td>\n      <td>0.145878</td>\n      <td>0.755483</td>\n      <td>0.022450</td>\n      <td>0.286523</td>\n      <td>0.081914</td>\n      <td>0.551570</td>\n      <td>0.471867</td>\n      <td>...</td>\n      <td>0.074522</td>\n      <td>0.901607</td>\n      <td>0.507223</td>\n      <td>0.615084</td>\n      <td>{'adversary_loss_weight': 0.8391213408528397}</td>\n      <td>[{'overall_acc': 0.8987289872898729, 'bal_acc'...</td>\n      <td>acc_opportunity</td>\n      <td>Adversarial Debiasing</td>\n      <td>Bank Market</td>\n      <td>NaN</td>\n    </tr>\n    <tr>\n      <th>1756</th>\n      <td>29</td>\n      <td>0.894064</td>\n      <td>0.687906</td>\n      <td>0.105366</td>\n      <td>1.858014</td>\n      <td>0.069031</td>\n      <td>0.138699</td>\n      <td>0.090850</td>\n      <td>0.500000</td>\n      <td>0.409898</td>\n      <td>...</td>\n      <td>0.083125</td>\n      <td>0.894064</td>\n      <td>0.457830</td>\n      <td>0.755364</td>\n      <td>{'eta': 39.18922596420359}</td>\n      <td>[{'overall_acc': 0.8964739647396474, 'bal_acc'...</td>\n      <td>acc_opportunity</td>\n      <td>Prejudice Remover</td>\n      <td>Bank Market</td>\n      <td>NaN</td>\n    </tr>\n  </tbody>\n</table>\n<p>1757 rows × 30 columns</p>\n</div>"
     },
     "metadata": {},
     "output_type": "display_data"
    }
   ],
   "source": [
    "display(results)"
   ]
  },
  {
   "cell_type": "code",
   "execution_count": 10,
   "metadata": {
    "ExecuteTime": {
     "end_time": "2023-08-25T20:09:11.218875341Z",
     "start_time": "2023-08-25T20:09:11.209306272Z"
    }
   },
   "outputs": [
    {
     "data": {
      "text/plain": "['German Credit', 'Bank Market', 'Adult Income', 'Compas Recidivism']"
     },
     "execution_count": 10,
     "metadata": {},
     "output_type": "execute_result"
    }
   ],
   "source": [
    "datasets = results['dataset'].unique().tolist()\n",
    "datasets"
   ]
  },
  {
   "cell_type": "code",
   "execution_count": 11,
   "metadata": {
    "ExecuteTime": {
     "end_time": "2023-08-25T20:09:11.678272145Z",
     "start_time": "2023-08-25T20:09:11.665643973Z"
    }
   },
   "outputs": [
    {
     "data": {
      "text/plain": "['mcc_parity',\n 'mcc_odds',\n 'mcc_opportunity',\n 'acc_parity',\n 'acc_odds',\n 'acc_opportunity']"
     },
     "execution_count": 11,
     "metadata": {},
     "output_type": "execute_result"
    }
   ],
   "source": [
    "fitness_rules = results['fitness_rule'].unique().tolist()\n",
    "fitness_rules"
   ]
  },
  {
   "cell_type": "code",
   "execution_count": 12,
   "metadata": {
    "ExecuteTime": {
     "end_time": "2023-08-25T20:09:12.599927722Z",
     "start_time": "2023-08-25T20:09:12.593898102Z"
    }
   },
   "outputs": [
    {
     "data": {
      "text/plain": "['Standard MLP (baseline)',\n 'Fair Transition Loss',\n 'Adversarial Debiasing',\n 'Prejudice Remover',\n 'Gerry Fair Classifier']"
     },
     "execution_count": 12,
     "metadata": {},
     "output_type": "execute_result"
    }
   ],
   "source": [
    "methods = results['method'].unique().tolist()\n",
    "methods"
   ]
  },
  {
   "cell_type": "markdown",
   "metadata": {},
   "source": []
  },
  {
   "cell_type": "markdown",
   "metadata": {},
   "source": []
  },
  {
   "cell_type": "code",
   "execution_count": 13,
   "outputs": [],
   "source": [
    "if os.path.exists('multi_aso_data_list.json'):\n",
    "    with open('multi_aso_data_list.json') as file:\n",
    "        multi_aso_data_list = json.load(file)\n",
    "else:    \n",
    "    multi_aso_data_list = []\n",
    "    for d in datasets:\n",
    "        multi_aso_data = []\n",
    "        for f in fitness_rules:\n",
    "            methods_results = []\n",
    "            for m in methods:\n",
    "                r = results.loc[ (results['dataset'] == d) &\n",
    "                                     (results['fitness_rule'] == f) &\n",
    "                                     (results['method'] == m) ]\\\n",
    "                            .fitness.tolist()\n",
    "                if len(r) == 0:\n",
    "                    r = [-1]\n",
    "                methods_results.append(r)\n",
    "            min_eps = deepsig.multi_aso(methods_results, confidence_level=0.95)\n",
    "            multi_aso_data_list.append({'fitness_rule': f, 'dataset': d, 'min_eps': min_eps.tolist()})\n",
    "    with open('multi_aso_data_list.json', 'w') as file:\n",
    "        json.dump(multi_aso_data_list, file)"
   ],
   "metadata": {
    "collapsed": false,
    "ExecuteTime": {
     "end_time": "2023-08-25T20:09:15.213534829Z",
     "start_time": "2023-08-25T20:09:15.206538294Z"
    }
   }
  },
  {
   "cell_type": "code",
   "execution_count": 14,
   "outputs": [
    {
     "data": {
      "text/plain": "[{'fitness_rule': 'mcc_parity',\n  'dataset': 'Adult Income',\n  'min_eps': [[1.0,\n    0.9988805908520648,\n    0.9979750223790821,\n    0.995877444722284,\n    0.0],\n   [0.004620261792774651, 1.0, 0.1528664058142362, 1.0, 0.0],\n   [0.004940540275507269, 1.0, 1.0, 1.0, 0.0],\n   [0.00595911008417298, 1.0, 0.1050132284790311, 1.0, 0.0],\n   [1.0, 1.0, 1.0, 1.0, 1.0]]},\n {'fitness_rule': 'mcc_odds',\n  'dataset': 'Adult Income',\n  'min_eps': [[1.0, 1.0, 1.0, 1.0, 0.0],\n   [0.027617628263128934, 1.0, 0.25458170757222737, 0.42157426878629345, 0.0],\n   [0.251460472570234, 1.0, 1.0, 0.7790530472236021, 0.0],\n   [0.8744194609335025, 1.0, 1.0, 1.0, 0.04857425621287411],\n   [1.0, 1.0, 1.0, 1.0, 1.0]]},\n {'fitness_rule': 'mcc_opportunity',\n  'dataset': 'Adult Income',\n  'min_eps': [[1.0,\n    0.9976536340274126,\n    0.9789694086170047,\n    0.8910534937566084,\n    0.0],\n   [0.008614325158317561,\n    1.0,\n    0.0032188112253179217,\n    0.058227525767044014,\n    0.0],\n   [1.0, 1.0, 1.0, 0.9400209938187005, 0.0002617078041570944],\n   [1.0, 1.0, 1.0, 1.0, 0.15451518591497215],\n   [1.0, 1.0, 1.0, 1.0, 1.0]]},\n {'fitness_rule': 'acc_parity',\n  'dataset': 'Adult Income',\n  'min_eps': [[1.0,\n    0.9950360484753606,\n    0.9949105109493437,\n    0.9964406398468255,\n    0.0394551615196866],\n   [0.006225729078117825, 1.0, 0.2529296056466894, 0.3053776342075385, 0.0],\n   [0.006429303361474617, 1.0, 1.0, 0.6316912103027725, 0.0],\n   [0.0056063674759192425, 1.0, 1.0, 1.0, 0.0],\n   [1.0, 1.0, 1.0, 1.0, 1.0]]},\n {'fitness_rule': 'acc_odds',\n  'dataset': 'Adult Income',\n  'min_eps': [[1.0,\n    0.9994436780779213,\n    0.9975293445388792,\n    1.0,\n    0.030096420312781796],\n   [0.009394746778854133, 1.0, 0.22555155968671803, 0.17071299144585012, 0.0],\n   [0.016999173062888145, 1.0, 1.0, 0.673624879461726, 0.0],\n   [0.011947247780703656, 1.0, 1.0, 1.0, 0.0],\n   [1.0, 1.0, 1.0, 1.0, 1.0]]},\n {'fitness_rule': 'acc_opportunity',\n  'dataset': 'Adult Income',\n  'min_eps': [[1.0, 1.0, 0.8752920125200908, 1.0, 0.06269912351790513],\n   [0.898703479153361, 1.0, 0.9595358291412686, 1.0, 0.20422819195323694],\n   [1.0, 1.0, 1.0, 1.0, 0.04251303828101332],\n   [0.032922380844822914, 0.48077934404958633, 0.009660939890395489, 1.0, 0.0],\n   [1.0, 1.0, 1.0, 1.0, 1.0]]},\n {'fitness_rule': 'mcc_parity',\n  'dataset': 'German Credit',\n  'min_eps': [[1.0, 1.0, 1.0, 1.0, 0.0],\n   [0.3624195996532688, 1.0, 1.0, 0.47599565501123986, 0.0],\n   [0.018516986100523995, 0.05807457632704096, 1.0, 0.02461515200505715, 0.0],\n   [0.686937395613882, 1.0, 1.0, 1.0, 0.0],\n   [1.0, 1.0, 1.0, 1.0, 1.0]]},\n {'fitness_rule': 'mcc_odds',\n  'dataset': 'German Credit',\n  'min_eps': [[1.0, 0.32872180337272944, 0.8751415145521141, 1.0, 0.0],\n   [1.0, 1.0, 1.0, 1.0, 0.0],\n   [0.7552209184611754, 0.5012608600838759, 1.0, 0.7693750102314423, 0.0],\n   [0.611742683463305, 0.3187262622728647, 0.8627319051823037, 1.0, 0.0],\n   [1.0, 1.0, 1.0, 1.0, 1.0]]},\n {'fitness_rule': 'mcc_opportunity',\n  'dataset': 'German Credit',\n  'min_eps': [[1.0, 0.5607280652891645, 1.0, 1.0, 0.0],\n   [1.0, 1.0, 1.0, 1.0, 0.0],\n   [0.6781915133747459,\n    0.42345322578115097,\n    1.0,\n    0.696818672791103,\n    0.0005326791571545874],\n   [0.5402843649271543, 0.5636642290788085, 1.0, 1.0, 0.0],\n   [1.0, 1.0, 1.0, 1.0, 1.0]]},\n {'fitness_rule': 'acc_parity',\n  'dataset': 'German Credit',\n  'min_eps': [[1.0,\n    0.9499848057596021,\n    0.396354190425606,\n    0.5316144403531916,\n    0.0],\n   [1.0, 1.0, 0.46920661795010343, 1.0, 0.0],\n   [1.0, 1.0, 1.0, 1.0, 0.0],\n   [1.0, 1.0, 0.5100479210492452, 1.0, 0.0],\n   [1.0, 1.0, 1.0, 1.0, 1.0]]},\n {'fitness_rule': 'acc_odds',\n  'dataset': 'German Credit',\n  'min_eps': [[1.0,\n    0.7390061230233556,\n    0.1858439661176031,\n    0.26530520738633256,\n    0.0],\n   [1.0, 1.0, 0.42935624695217994, 0.9694999250800437, 0.0],\n   [1.0, 1.0, 1.0, 1.0, 0.0],\n   [1.0, 0.8556924156514959, 0.2868502390535438, 1.0, 0.0],\n   [1.0, 1.0, 1.0, 1.0, 1.0]]},\n {'fitness_rule': 'acc_opportunity',\n  'dataset': 'German Credit',\n  'min_eps': [[1.0,\n    0.9984467969197504,\n    0.6873040580608222,\n    0.2983582846086183,\n    0.0],\n   [0.014195469250577408, 1.0, 0.08245584468880583, 0.0, 0.0],\n   [1.0, 1.0, 1.0, 1.0, 0.0],\n   [1.0, 1.0, 0.8281658006293872, 1.0, 0.0],\n   [1.0, 1.0, 1.0, 1.0, 1.0]]},\n {'fitness_rule': 'mcc_parity',\n  'dataset': 'Compas Recidivism',\n  'min_eps': [[1.0,\n    0.996345451821701,\n    1.0,\n    0.9971538834417574,\n    0.9969679397506217],\n   [0.005095454797238863, 1.0, 0.2114724659813415, 0.0, 0.001871605722274972],\n   [0.00319330600561554, 1.0, 1.0, 0.0, 0.7855461432682043],\n   [0.006301016583276977, 1.0, 1.0, 1.0, 0.9976384448957424],\n   [0.0053563120862509285, 1.0, 1.0, 0.005636269097527458, 1.0]]},\n {'fitness_rule': 'mcc_odds',\n  'dataset': 'Compas Recidivism',\n  'min_eps': [[1.0,\n    0.9958410232165026,\n    0.9978517259800597,\n    0.9983653202147851,\n    0.9969927039688842],\n   [0.0053171943439897125, 1.0, 0.5826099141370038, 0.0, 0.056215379221281246],\n   [0.003936094537720433, 1.0, 1.0, 0.0, 0.5703008276608574],\n   [0.01006033843002712, 1.0, 1.0, 1.0, 0.9977129025696337],\n   [0.004939854847852999, 1.0, 1.0, 0.004811035845649398, 1.0]]},\n {'fitness_rule': 'mcc_opportunity',\n  'dataset': 'Compas Recidivism',\n  'min_eps': [[1.0,\n    0.9969006610086028,\n    0.9961922506227103,\n    0.9956275208956598,\n    0.9967664964196008],\n   [0.004836575731732025, 1.0, 1.0, 0.0, 0.18379137799590023],\n   [0.00491363745863182, 0.15711692734962218, 1.0, 0.0, 0.0022971877991543764],\n   [0.008905420726050581, 1.0, 1.0, 1.0, 0.9974174317629128],\n   [0.004775866588516959, 1.0, 1.0, 0.004340316711278074, 1.0]]},\n {'fitness_rule': 'acc_parity',\n  'dataset': 'Compas Recidivism',\n  'min_eps': [[1.0,\n    1.0,\n    0.9976837349194161,\n    0.996783801822952,\n    0.9964110141491773],\n   [0.002008014561581577, 1.0, 1.0, 0.10722310263471485, 1.0],\n   [0.003972319647900641, 0.499793623701224, 1.0, 0.0, 0.09117224073350287],\n   [0.005942755673351301, 1.0, 1.0, 1.0, 0.997301180747543],\n   [0.0049691462258987336,\n    0.7997723950365627,\n    1.0,\n    0.0052847893972988716,\n    1.0]]},\n {'fitness_rule': 'acc_odds',\n  'dataset': 'Compas Recidivism',\n  'min_eps': [[1.0,\n    0.9954394018013354,\n    1.0,\n    0.9949231732052054,\n    0.9962645323589645],\n   [0.006611629514857826,\n    1.0,\n    0.47144279173592085,\n    0.0,\n    0.0016459742158632668],\n   [0.0035643952536280423, 1.0, 1.0, 0.0, 0.7037652985236738],\n   [0.013259837911963578, 1.0, 1.0, 1.0, 0.9976838284180044],\n   [0.006098084893997277, 1.0, 1.0, 0.004525596070414767, 1.0]]},\n {'fitness_rule': 'acc_opportunity',\n  'dataset': 'Compas Recidivism',\n  'min_eps': [[1.0,\n    0.9949114196436929,\n    0.9980076737021623,\n    0.9995857285820564,\n    0.9966478281353292],\n   [0.009026907940373637, 1.0, 0.792934731873191, 0.0, 0.10766720269600878],\n   [0.006306431437160257, 1.0, 1.0, 0.0, 0.2892344029132326],\n   [0.03725341315012319, 1.0, 1.0, 1.0, 0.998079152761984],\n   [0.007542528883846126, 1.0, 1.0, 0.004031847137897644, 1.0]]},\n {'fitness_rule': 'mcc_parity',\n  'dataset': 'Bank Market',\n  'min_eps': [[1.0, 0.9981980028139403, 1.0, 1.0, 0.0009460339408744347],\n   [0.008001555686330606, 1.0, 0.0, 0.0, 0.0],\n   [0.042411717122785506, 1.0, 1.0, 0.8573663667569091, 0.0],\n   [0.10434464009728979, 1.0, 1.0, 1.0, 0.0],\n   [1.0, 1.0, 1.0, 1.0, 1.0]]},\n {'fitness_rule': 'mcc_odds',\n  'dataset': 'Bank Market',\n  'min_eps': [[1.0,\n    1.0,\n    0.45896730468153546,\n    0.18640262567280202,\n    1.7301083336423904e-06],\n   [0.4716880506504565,\n    1.0,\n    0.18964153849558837,\n    0.10813830897646884,\n    0.027290292135252057],\n   [1.0, 1.0, 1.0, 0.9096132549111414, 0.16746431508423842],\n   [1.0, 1.0, 1.0, 1.0, 0.10449607893973765],\n   [1.0, 1.0, 1.0, 1.0, 1.0]]},\n {'fitness_rule': 'mcc_opportunity',\n  'dataset': 'Bank Market',\n  'min_eps': [[1.0,\n    1.0,\n    0.11511613463016282,\n    0.2510154961534753,\n    0.03352890707543308],\n   [0.8206826164276726,\n    1.0,\n    0.18029336324935888,\n    0.23648030970563658,\n    0.15257636074003936],\n   [1.0, 1.0, 1.0, 1.0, 0.8620717465553391],\n   [1.0, 1.0, 0.6541856713543407, 1.0, 0.5267167773393983],\n   [1.0, 1.0, 1.0, 1.0, 1.0]]},\n {'fitness_rule': 'acc_parity',\n  'dataset': 'Bank Market',\n  'min_eps': [[1.0, 1.0, 1.0, 0.9970852444877828, 1.0],\n   [0.23504728944115005, 1.0, 1.0, 1.0, 0.7632998261151391],\n   [0.008439706323999579,\n    0.5520590706491247,\n    1.0,\n    0.6116250480852774,\n    0.018229540404833367],\n   [0.01373628720784489, 0.7458555300132127, 1.0, 1.0, 0.004088500125489158],\n   [0.20079551484267796, 1.0, 1.0, 1.0, 1.0]]},\n {'fitness_rule': 'acc_odds',\n  'dataset': 'Bank Market',\n  'min_eps': [[1.0, 1.0, 0.4548185398897963, 1.0, 1.0],\n   [0.7755299330569755, 1.0, 0.3863101312659838, 0.8140481241509756, 1.0],\n   [1.0, 1.0, 1.0, 1.0, 1.0],\n   [0.8879876649228032, 1.0, 0.4081388497136002, 1.0, 1.0],\n   [0.3642333270500555,\n    0.47927956964779683,\n    0.1726798301108078,\n    0.3368045133996774,\n    1.0]]},\n {'fitness_rule': 'acc_opportunity',\n  'dataset': 'Bank Market',\n  'min_eps': [[1.0,\n    0.7837539376458472,\n    0.20943597176783837,\n    0.5393966819144387,\n    1.0],\n   [1.0, 1.0, 0.3695274258074673, 0.8190277860838835, 1.0],\n   [1.0, 1.0, 1.0, 1.0, 1.0],\n   [1.0, 1.0, 0.4903422386952121, 1.0, 1.0],\n   [1.0, 0.7361511831535712, 0.17176844765824179, 0.5263146667461224, 1.0]]}]"
     },
     "execution_count": 14,
     "metadata": {},
     "output_type": "execute_result"
    }
   ],
   "source": [
    "multi_aso_data_list"
   ],
   "metadata": {
    "collapsed": false,
    "ExecuteTime": {
     "end_time": "2023-08-25T20:09:16.269528574Z",
     "start_time": "2023-08-25T20:09:16.267004897Z"
    }
   }
  },
  {
   "cell_type": "code",
   "execution_count": 15,
   "outputs": [
    {
     "name": "stdout",
     "output_type": "stream",
     "text": [
      "Adult Income | max(Mathew Correlation - Statistical Parity)\n"
     ]
    },
    {
     "data": {
      "text/plain": "                          fitness                 Mathew Correlation  \\\n                             mean       std count               mean   \nmethod                                                                 \nFair Transition Loss     0.492021  0.016387    16           0.512027   \nPrejudice Remover        0.490575  0.008865    16           0.500024   \nAdversarial Debiasing    0.477586  0.014882    16           0.501430   \nStandard MLP (baseline)  0.395355  0.012556    17           0.580617   \nGerry Fair Classifier    0.304991  0.128019    16           0.453065   \n\n                                  Statistical Parity            \n                              std               mean       std  \nmethod                                                          \nFair Transition Loss     0.010737           0.020006  0.010913  \nPrejudice Remover        0.008227           0.009449  0.009857  \nAdversarial Debiasing    0.020095           0.023844  0.022968  \nStandard MLP (baseline)  0.008613           0.185263  0.010419  \nGerry Fair Classifier    0.173689           0.148074  0.080770  ",
      "text/html": "<div>\n<style scoped>\n    .dataframe tbody tr th:only-of-type {\n        vertical-align: middle;\n    }\n\n    .dataframe tbody tr th {\n        vertical-align: top;\n    }\n\n    .dataframe thead tr th {\n        text-align: left;\n    }\n\n    .dataframe thead tr:last-of-type th {\n        text-align: right;\n    }\n</style>\n<table border=\"1\" class=\"dataframe\">\n  <thead>\n    <tr>\n      <th></th>\n      <th colspan=\"3\" halign=\"left\">fitness</th>\n      <th colspan=\"2\" halign=\"left\">Mathew Correlation</th>\n      <th colspan=\"2\" halign=\"left\">Statistical Parity</th>\n    </tr>\n    <tr>\n      <th></th>\n      <th>mean</th>\n      <th>std</th>\n      <th>count</th>\n      <th>mean</th>\n      <th>std</th>\n      <th>mean</th>\n      <th>std</th>\n    </tr>\n    <tr>\n      <th>method</th>\n      <th></th>\n      <th></th>\n      <th></th>\n      <th></th>\n      <th></th>\n      <th></th>\n      <th></th>\n    </tr>\n  </thead>\n  <tbody>\n    <tr>\n      <th>Fair Transition Loss</th>\n      <td>0.492021</td>\n      <td>0.016387</td>\n      <td>16</td>\n      <td>0.512027</td>\n      <td>0.010737</td>\n      <td>0.020006</td>\n      <td>0.010913</td>\n    </tr>\n    <tr>\n      <th>Prejudice Remover</th>\n      <td>0.490575</td>\n      <td>0.008865</td>\n      <td>16</td>\n      <td>0.500024</td>\n      <td>0.008227</td>\n      <td>0.009449</td>\n      <td>0.009857</td>\n    </tr>\n    <tr>\n      <th>Adversarial Debiasing</th>\n      <td>0.477586</td>\n      <td>0.014882</td>\n      <td>16</td>\n      <td>0.501430</td>\n      <td>0.020095</td>\n      <td>0.023844</td>\n      <td>0.022968</td>\n    </tr>\n    <tr>\n      <th>Standard MLP (baseline)</th>\n      <td>0.395355</td>\n      <td>0.012556</td>\n      <td>17</td>\n      <td>0.580617</td>\n      <td>0.008613</td>\n      <td>0.185263</td>\n      <td>0.010419</td>\n    </tr>\n    <tr>\n      <th>Gerry Fair Classifier</th>\n      <td>0.304991</td>\n      <td>0.128019</td>\n      <td>16</td>\n      <td>0.453065</td>\n      <td>0.173689</td>\n      <td>0.148074</td>\n      <td>0.080770</td>\n    </tr>\n  </tbody>\n</table>\n</div>"
     },
     "metadata": {},
     "output_type": "display_data"
    },
    {
     "name": "stdout",
     "output_type": "stream",
     "text": [
      "Significance Testing\n"
     ]
    },
    {
     "data": {
      "text/plain": "                         Standard MLP (baseline)  Fair Transition Loss  \\\nmethods                                                                  \nStandard MLP (baseline)                 1.000000              0.998881   \nFair Transition Loss                    0.004620              1.000000   \nAdversarial Debiasing                   0.004941              1.000000   \nPrejudice Remover                       0.005959              1.000000   \nGerry Fair Classifier                   1.000000              1.000000   \n\n                         Adversarial Debiasing  Prejudice Remover  \\\nmethods                                                             \nStandard MLP (baseline)               0.997975           0.995877   \nFair Transition Loss                  0.152866           1.000000   \nAdversarial Debiasing                 1.000000           1.000000   \nPrejudice Remover                     0.105013           1.000000   \nGerry Fair Classifier                 1.000000           1.000000   \n\n                         Gerry Fair Classifier  \nmethods                                         \nStandard MLP (baseline)                    0.0  \nFair Transition Loss                       0.0  \nAdversarial Debiasing                      0.0  \nPrejudice Remover                          0.0  \nGerry Fair Classifier                      1.0  ",
      "text/html": "<div>\n<style scoped>\n    .dataframe tbody tr th:only-of-type {\n        vertical-align: middle;\n    }\n\n    .dataframe tbody tr th {\n        vertical-align: top;\n    }\n\n    .dataframe thead th {\n        text-align: right;\n    }\n</style>\n<table border=\"1\" class=\"dataframe\">\n  <thead>\n    <tr style=\"text-align: right;\">\n      <th></th>\n      <th>Standard MLP (baseline)</th>\n      <th>Fair Transition Loss</th>\n      <th>Adversarial Debiasing</th>\n      <th>Prejudice Remover</th>\n      <th>Gerry Fair Classifier</th>\n    </tr>\n    <tr>\n      <th>methods</th>\n      <th></th>\n      <th></th>\n      <th></th>\n      <th></th>\n      <th></th>\n    </tr>\n  </thead>\n  <tbody>\n    <tr>\n      <th>Standard MLP (baseline)</th>\n      <td>1.000000</td>\n      <td>0.998881</td>\n      <td>0.997975</td>\n      <td>0.995877</td>\n      <td>0.0</td>\n    </tr>\n    <tr>\n      <th>Fair Transition Loss</th>\n      <td>0.004620</td>\n      <td>1.000000</td>\n      <td>0.152866</td>\n      <td>1.000000</td>\n      <td>0.0</td>\n    </tr>\n    <tr>\n      <th>Adversarial Debiasing</th>\n      <td>0.004941</td>\n      <td>1.000000</td>\n      <td>1.000000</td>\n      <td>1.000000</td>\n      <td>0.0</td>\n    </tr>\n    <tr>\n      <th>Prejudice Remover</th>\n      <td>0.005959</td>\n      <td>1.000000</td>\n      <td>0.105013</td>\n      <td>1.000000</td>\n      <td>0.0</td>\n    </tr>\n    <tr>\n      <th>Gerry Fair Classifier</th>\n      <td>1.000000</td>\n      <td>1.000000</td>\n      <td>1.000000</td>\n      <td>1.000000</td>\n      <td>1.0</td>\n    </tr>\n  </tbody>\n</table>\n</div>"
     },
     "metadata": {},
     "output_type": "display_data"
    },
    {
     "name": "stdout",
     "output_type": "stream",
     "text": [
      "Adult Income | max(Mathew Correlation - Equalized Odds)\n"
     ]
    },
    {
     "data": {
      "text/plain": "                          fitness                 Mathew Correlation  \\\n                             mean       std count               mean   \nmethod                                                                 \nFair Transition Loss     0.523425  0.020328    16           0.575880   \nPrejudice Remover        0.508792  0.049072    16           0.557913   \nAdversarial Debiasing    0.508718  0.030129    16           0.564504   \nStandard MLP (baseline)  0.489029  0.031826    16           0.575790   \nGerry Fair Classifier    0.403599  0.068466    16           0.503477   \n\n                                  Equalized Odds            \n                              std           mean       std  \nmethod                                                      \nFair Transition Loss     0.019230       0.052455  0.015316  \nPrejudice Remover        0.020503       0.049121  0.029543  \nAdversarial Debiasing    0.015855       0.055786  0.017017  \nStandard MLP (baseline)  0.010824       0.086761  0.025333  \nGerry Fair Classifier    0.039191       0.099878  0.034109  ",
      "text/html": "<div>\n<style scoped>\n    .dataframe tbody tr th:only-of-type {\n        vertical-align: middle;\n    }\n\n    .dataframe tbody tr th {\n        vertical-align: top;\n    }\n\n    .dataframe thead tr th {\n        text-align: left;\n    }\n\n    .dataframe thead tr:last-of-type th {\n        text-align: right;\n    }\n</style>\n<table border=\"1\" class=\"dataframe\">\n  <thead>\n    <tr>\n      <th></th>\n      <th colspan=\"3\" halign=\"left\">fitness</th>\n      <th colspan=\"2\" halign=\"left\">Mathew Correlation</th>\n      <th colspan=\"2\" halign=\"left\">Equalized Odds</th>\n    </tr>\n    <tr>\n      <th></th>\n      <th>mean</th>\n      <th>std</th>\n      <th>count</th>\n      <th>mean</th>\n      <th>std</th>\n      <th>mean</th>\n      <th>std</th>\n    </tr>\n    <tr>\n      <th>method</th>\n      <th></th>\n      <th></th>\n      <th></th>\n      <th></th>\n      <th></th>\n      <th></th>\n      <th></th>\n    </tr>\n  </thead>\n  <tbody>\n    <tr>\n      <th>Fair Transition Loss</th>\n      <td>0.523425</td>\n      <td>0.020328</td>\n      <td>16</td>\n      <td>0.575880</td>\n      <td>0.019230</td>\n      <td>0.052455</td>\n      <td>0.015316</td>\n    </tr>\n    <tr>\n      <th>Prejudice Remover</th>\n      <td>0.508792</td>\n      <td>0.049072</td>\n      <td>16</td>\n      <td>0.557913</td>\n      <td>0.020503</td>\n      <td>0.049121</td>\n      <td>0.029543</td>\n    </tr>\n    <tr>\n      <th>Adversarial Debiasing</th>\n      <td>0.508718</td>\n      <td>0.030129</td>\n      <td>16</td>\n      <td>0.564504</td>\n      <td>0.015855</td>\n      <td>0.055786</td>\n      <td>0.017017</td>\n    </tr>\n    <tr>\n      <th>Standard MLP (baseline)</th>\n      <td>0.489029</td>\n      <td>0.031826</td>\n      <td>16</td>\n      <td>0.575790</td>\n      <td>0.010824</td>\n      <td>0.086761</td>\n      <td>0.025333</td>\n    </tr>\n    <tr>\n      <th>Gerry Fair Classifier</th>\n      <td>0.403599</td>\n      <td>0.068466</td>\n      <td>16</td>\n      <td>0.503477</td>\n      <td>0.039191</td>\n      <td>0.099878</td>\n      <td>0.034109</td>\n    </tr>\n  </tbody>\n</table>\n</div>"
     },
     "metadata": {},
     "output_type": "display_data"
    },
    {
     "name": "stdout",
     "output_type": "stream",
     "text": [
      "Significance Testing\n"
     ]
    },
    {
     "data": {
      "text/plain": "                         Standard MLP (baseline)  Fair Transition Loss  \\\nmethods                                                                  \nStandard MLP (baseline)                 1.000000                   1.0   \nFair Transition Loss                    0.027618                   1.0   \nAdversarial Debiasing                   0.251460                   1.0   \nPrejudice Remover                       0.874419                   1.0   \nGerry Fair Classifier                   1.000000                   1.0   \n\n                         Adversarial Debiasing  Prejudice Remover  \\\nmethods                                                             \nStandard MLP (baseline)               1.000000           1.000000   \nFair Transition Loss                  0.254582           0.421574   \nAdversarial Debiasing                 1.000000           0.779053   \nPrejudice Remover                     1.000000           1.000000   \nGerry Fair Classifier                 1.000000           1.000000   \n\n                         Gerry Fair Classifier  \nmethods                                         \nStandard MLP (baseline)               0.000000  \nFair Transition Loss                  0.000000  \nAdversarial Debiasing                 0.000000  \nPrejudice Remover                     0.048574  \nGerry Fair Classifier                 1.000000  ",
      "text/html": "<div>\n<style scoped>\n    .dataframe tbody tr th:only-of-type {\n        vertical-align: middle;\n    }\n\n    .dataframe tbody tr th {\n        vertical-align: top;\n    }\n\n    .dataframe thead th {\n        text-align: right;\n    }\n</style>\n<table border=\"1\" class=\"dataframe\">\n  <thead>\n    <tr style=\"text-align: right;\">\n      <th></th>\n      <th>Standard MLP (baseline)</th>\n      <th>Fair Transition Loss</th>\n      <th>Adversarial Debiasing</th>\n      <th>Prejudice Remover</th>\n      <th>Gerry Fair Classifier</th>\n    </tr>\n    <tr>\n      <th>methods</th>\n      <th></th>\n      <th></th>\n      <th></th>\n      <th></th>\n      <th></th>\n    </tr>\n  </thead>\n  <tbody>\n    <tr>\n      <th>Standard MLP (baseline)</th>\n      <td>1.000000</td>\n      <td>1.0</td>\n      <td>1.000000</td>\n      <td>1.000000</td>\n      <td>0.000000</td>\n    </tr>\n    <tr>\n      <th>Fair Transition Loss</th>\n      <td>0.027618</td>\n      <td>1.0</td>\n      <td>0.254582</td>\n      <td>0.421574</td>\n      <td>0.000000</td>\n    </tr>\n    <tr>\n      <th>Adversarial Debiasing</th>\n      <td>0.251460</td>\n      <td>1.0</td>\n      <td>1.000000</td>\n      <td>0.779053</td>\n      <td>0.000000</td>\n    </tr>\n    <tr>\n      <th>Prejudice Remover</th>\n      <td>0.874419</td>\n      <td>1.0</td>\n      <td>1.000000</td>\n      <td>1.000000</td>\n      <td>0.048574</td>\n    </tr>\n    <tr>\n      <th>Gerry Fair Classifier</th>\n      <td>1.000000</td>\n      <td>1.0</td>\n      <td>1.000000</td>\n      <td>1.000000</td>\n      <td>1.000000</td>\n    </tr>\n  </tbody>\n</table>\n</div>"
     },
     "metadata": {},
     "output_type": "display_data"
    },
    {
     "name": "stdout",
     "output_type": "stream",
     "text": [
      "Adult Income | max(Mathew Correlation - Equal Opportunity)\n"
     ]
    },
    {
     "data": {
      "text/plain": "                          fitness                 Mathew Correlation  \\\n                             mean       std count               mean   \nmethod                                                                 \nFair Transition Loss     0.555629  0.028296    16           0.584309   \nPrejudice Remover        0.504880  0.090917    16           0.559953   \nAdversarial Debiasing    0.492795  0.052210    16           0.572624   \nStandard MLP (baseline)  0.488503  0.029460    16           0.579698   \nGerry Fair Classifier    0.383114  0.103134    16           0.481545   \n\n                                  Equal Opportunity            \n                              std              mean       std  \nmethod                                                         \nFair Transition Loss     0.011226          0.028680  0.027219  \nPrejudice Remover        0.019364          0.055074  0.075105  \nAdversarial Debiasing    0.010513          0.079829  0.045796  \nStandard MLP (baseline)  0.010412          0.091195  0.029729  \nGerry Fair Classifier    0.127041          0.098431  0.041765  ",
      "text/html": "<div>\n<style scoped>\n    .dataframe tbody tr th:only-of-type {\n        vertical-align: middle;\n    }\n\n    .dataframe tbody tr th {\n        vertical-align: top;\n    }\n\n    .dataframe thead tr th {\n        text-align: left;\n    }\n\n    .dataframe thead tr:last-of-type th {\n        text-align: right;\n    }\n</style>\n<table border=\"1\" class=\"dataframe\">\n  <thead>\n    <tr>\n      <th></th>\n      <th colspan=\"3\" halign=\"left\">fitness</th>\n      <th colspan=\"2\" halign=\"left\">Mathew Correlation</th>\n      <th colspan=\"2\" halign=\"left\">Equal Opportunity</th>\n    </tr>\n    <tr>\n      <th></th>\n      <th>mean</th>\n      <th>std</th>\n      <th>count</th>\n      <th>mean</th>\n      <th>std</th>\n      <th>mean</th>\n      <th>std</th>\n    </tr>\n    <tr>\n      <th>method</th>\n      <th></th>\n      <th></th>\n      <th></th>\n      <th></th>\n      <th></th>\n      <th></th>\n      <th></th>\n    </tr>\n  </thead>\n  <tbody>\n    <tr>\n      <th>Fair Transition Loss</th>\n      <td>0.555629</td>\n      <td>0.028296</td>\n      <td>16</td>\n      <td>0.584309</td>\n      <td>0.011226</td>\n      <td>0.028680</td>\n      <td>0.027219</td>\n    </tr>\n    <tr>\n      <th>Prejudice Remover</th>\n      <td>0.504880</td>\n      <td>0.090917</td>\n      <td>16</td>\n      <td>0.559953</td>\n      <td>0.019364</td>\n      <td>0.055074</td>\n      <td>0.075105</td>\n    </tr>\n    <tr>\n      <th>Adversarial Debiasing</th>\n      <td>0.492795</td>\n      <td>0.052210</td>\n      <td>16</td>\n      <td>0.572624</td>\n      <td>0.010513</td>\n      <td>0.079829</td>\n      <td>0.045796</td>\n    </tr>\n    <tr>\n      <th>Standard MLP (baseline)</th>\n      <td>0.488503</td>\n      <td>0.029460</td>\n      <td>16</td>\n      <td>0.579698</td>\n      <td>0.010412</td>\n      <td>0.091195</td>\n      <td>0.029729</td>\n    </tr>\n    <tr>\n      <th>Gerry Fair Classifier</th>\n      <td>0.383114</td>\n      <td>0.103134</td>\n      <td>16</td>\n      <td>0.481545</td>\n      <td>0.127041</td>\n      <td>0.098431</td>\n      <td>0.041765</td>\n    </tr>\n  </tbody>\n</table>\n</div>"
     },
     "metadata": {},
     "output_type": "display_data"
    },
    {
     "name": "stdout",
     "output_type": "stream",
     "text": [
      "Significance Testing\n"
     ]
    },
    {
     "data": {
      "text/plain": "                         Standard MLP (baseline)  Fair Transition Loss  \\\nmethods                                                                  \nStandard MLP (baseline)                 1.000000              0.997654   \nFair Transition Loss                    0.008614              1.000000   \nAdversarial Debiasing                   1.000000              1.000000   \nPrejudice Remover                       1.000000              1.000000   \nGerry Fair Classifier                   1.000000              1.000000   \n\n                         Adversarial Debiasing  Prejudice Remover  \\\nmethods                                                             \nStandard MLP (baseline)               0.978969           0.891053   \nFair Transition Loss                  0.003219           0.058228   \nAdversarial Debiasing                 1.000000           0.940021   \nPrejudice Remover                     1.000000           1.000000   \nGerry Fair Classifier                 1.000000           1.000000   \n\n                         Gerry Fair Classifier  \nmethods                                         \nStandard MLP (baseline)               0.000000  \nFair Transition Loss                  0.000000  \nAdversarial Debiasing                 0.000262  \nPrejudice Remover                     0.154515  \nGerry Fair Classifier                 1.000000  ",
      "text/html": "<div>\n<style scoped>\n    .dataframe tbody tr th:only-of-type {\n        vertical-align: middle;\n    }\n\n    .dataframe tbody tr th {\n        vertical-align: top;\n    }\n\n    .dataframe thead th {\n        text-align: right;\n    }\n</style>\n<table border=\"1\" class=\"dataframe\">\n  <thead>\n    <tr style=\"text-align: right;\">\n      <th></th>\n      <th>Standard MLP (baseline)</th>\n      <th>Fair Transition Loss</th>\n      <th>Adversarial Debiasing</th>\n      <th>Prejudice Remover</th>\n      <th>Gerry Fair Classifier</th>\n    </tr>\n    <tr>\n      <th>methods</th>\n      <th></th>\n      <th></th>\n      <th></th>\n      <th></th>\n      <th></th>\n    </tr>\n  </thead>\n  <tbody>\n    <tr>\n      <th>Standard MLP (baseline)</th>\n      <td>1.000000</td>\n      <td>0.997654</td>\n      <td>0.978969</td>\n      <td>0.891053</td>\n      <td>0.000000</td>\n    </tr>\n    <tr>\n      <th>Fair Transition Loss</th>\n      <td>0.008614</td>\n      <td>1.000000</td>\n      <td>0.003219</td>\n      <td>0.058228</td>\n      <td>0.000000</td>\n    </tr>\n    <tr>\n      <th>Adversarial Debiasing</th>\n      <td>1.000000</td>\n      <td>1.000000</td>\n      <td>1.000000</td>\n      <td>0.940021</td>\n      <td>0.000262</td>\n    </tr>\n    <tr>\n      <th>Prejudice Remover</th>\n      <td>1.000000</td>\n      <td>1.000000</td>\n      <td>1.000000</td>\n      <td>1.000000</td>\n      <td>0.154515</td>\n    </tr>\n    <tr>\n      <th>Gerry Fair Classifier</th>\n      <td>1.000000</td>\n      <td>1.000000</td>\n      <td>1.000000</td>\n      <td>1.000000</td>\n      <td>1.000000</td>\n    </tr>\n  </tbody>\n</table>\n</div>"
     },
     "metadata": {},
     "output_type": "display_data"
    },
    {
     "name": "stdout",
     "output_type": "stream",
     "text": [
      "Adult Income | max(Accuracy - Statistical Parity)\n"
     ]
    },
    {
     "data": {
      "text/plain": "                          fitness                  Accuracy            \\\n                             mean       std count      mean       std   \nmethod                                                                  \nFair Transition Loss     0.813556  0.010233    16  0.827785  0.007240   \nAdversarial Debiasing    0.807533  0.008959    16  0.829657  0.005835   \nPrejudice Remover        0.807014  0.014847    16  0.824848  0.004380   \nStandard MLP (baseline)  0.666467  0.012829    16  0.850663  0.004163   \nGerry Fair Classifier    0.526329  0.229352    16  0.600539  0.285115   \n\n                        Statistical Parity            \n                                      mean       std  \nmethod                                                \nFair Transition Loss              0.014229  0.009873  \nAdversarial Debiasing             0.022124  0.010258  \nPrejudice Remover                 0.017834  0.013943  \nStandard MLP (baseline)           0.184197  0.011589  \nGerry Fair Classifier             0.074210  0.079207  ",
      "text/html": "<div>\n<style scoped>\n    .dataframe tbody tr th:only-of-type {\n        vertical-align: middle;\n    }\n\n    .dataframe tbody tr th {\n        vertical-align: top;\n    }\n\n    .dataframe thead tr th {\n        text-align: left;\n    }\n\n    .dataframe thead tr:last-of-type th {\n        text-align: right;\n    }\n</style>\n<table border=\"1\" class=\"dataframe\">\n  <thead>\n    <tr>\n      <th></th>\n      <th colspan=\"3\" halign=\"left\">fitness</th>\n      <th colspan=\"2\" halign=\"left\">Accuracy</th>\n      <th colspan=\"2\" halign=\"left\">Statistical Parity</th>\n    </tr>\n    <tr>\n      <th></th>\n      <th>mean</th>\n      <th>std</th>\n      <th>count</th>\n      <th>mean</th>\n      <th>std</th>\n      <th>mean</th>\n      <th>std</th>\n    </tr>\n    <tr>\n      <th>method</th>\n      <th></th>\n      <th></th>\n      <th></th>\n      <th></th>\n      <th></th>\n      <th></th>\n      <th></th>\n    </tr>\n  </thead>\n  <tbody>\n    <tr>\n      <th>Fair Transition Loss</th>\n      <td>0.813556</td>\n      <td>0.010233</td>\n      <td>16</td>\n      <td>0.827785</td>\n      <td>0.007240</td>\n      <td>0.014229</td>\n      <td>0.009873</td>\n    </tr>\n    <tr>\n      <th>Adversarial Debiasing</th>\n      <td>0.807533</td>\n      <td>0.008959</td>\n      <td>16</td>\n      <td>0.829657</td>\n      <td>0.005835</td>\n      <td>0.022124</td>\n      <td>0.010258</td>\n    </tr>\n    <tr>\n      <th>Prejudice Remover</th>\n      <td>0.807014</td>\n      <td>0.014847</td>\n      <td>16</td>\n      <td>0.824848</td>\n      <td>0.004380</td>\n      <td>0.017834</td>\n      <td>0.013943</td>\n    </tr>\n    <tr>\n      <th>Standard MLP (baseline)</th>\n      <td>0.666467</td>\n      <td>0.012829</td>\n      <td>16</td>\n      <td>0.850663</td>\n      <td>0.004163</td>\n      <td>0.184197</td>\n      <td>0.011589</td>\n    </tr>\n    <tr>\n      <th>Gerry Fair Classifier</th>\n      <td>0.526329</td>\n      <td>0.229352</td>\n      <td>16</td>\n      <td>0.600539</td>\n      <td>0.285115</td>\n      <td>0.074210</td>\n      <td>0.079207</td>\n    </tr>\n  </tbody>\n</table>\n</div>"
     },
     "metadata": {},
     "output_type": "display_data"
    },
    {
     "name": "stdout",
     "output_type": "stream",
     "text": [
      "Significance Testing\n"
     ]
    },
    {
     "data": {
      "text/plain": "                         Standard MLP (baseline)  Fair Transition Loss  \\\nmethods                                                                  \nStandard MLP (baseline)                 1.000000              0.995036   \nFair Transition Loss                    0.006226              1.000000   \nAdversarial Debiasing                   0.006429              1.000000   \nPrejudice Remover                       0.005606              1.000000   \nGerry Fair Classifier                   1.000000              1.000000   \n\n                         Adversarial Debiasing  Prejudice Remover  \\\nmethods                                                             \nStandard MLP (baseline)               0.994911           0.996441   \nFair Transition Loss                  0.252930           0.305378   \nAdversarial Debiasing                 1.000000           0.631691   \nPrejudice Remover                     1.000000           1.000000   \nGerry Fair Classifier                 1.000000           1.000000   \n\n                         Gerry Fair Classifier  \nmethods                                         \nStandard MLP (baseline)               0.039455  \nFair Transition Loss                  0.000000  \nAdversarial Debiasing                 0.000000  \nPrejudice Remover                     0.000000  \nGerry Fair Classifier                 1.000000  ",
      "text/html": "<div>\n<style scoped>\n    .dataframe tbody tr th:only-of-type {\n        vertical-align: middle;\n    }\n\n    .dataframe tbody tr th {\n        vertical-align: top;\n    }\n\n    .dataframe thead th {\n        text-align: right;\n    }\n</style>\n<table border=\"1\" class=\"dataframe\">\n  <thead>\n    <tr style=\"text-align: right;\">\n      <th></th>\n      <th>Standard MLP (baseline)</th>\n      <th>Fair Transition Loss</th>\n      <th>Adversarial Debiasing</th>\n      <th>Prejudice Remover</th>\n      <th>Gerry Fair Classifier</th>\n    </tr>\n    <tr>\n      <th>methods</th>\n      <th></th>\n      <th></th>\n      <th></th>\n      <th></th>\n      <th></th>\n    </tr>\n  </thead>\n  <tbody>\n    <tr>\n      <th>Standard MLP (baseline)</th>\n      <td>1.000000</td>\n      <td>0.995036</td>\n      <td>0.994911</td>\n      <td>0.996441</td>\n      <td>0.039455</td>\n    </tr>\n    <tr>\n      <th>Fair Transition Loss</th>\n      <td>0.006226</td>\n      <td>1.000000</td>\n      <td>0.252930</td>\n      <td>0.305378</td>\n      <td>0.000000</td>\n    </tr>\n    <tr>\n      <th>Adversarial Debiasing</th>\n      <td>0.006429</td>\n      <td>1.000000</td>\n      <td>1.000000</td>\n      <td>0.631691</td>\n      <td>0.000000</td>\n    </tr>\n    <tr>\n      <th>Prejudice Remover</th>\n      <td>0.005606</td>\n      <td>1.000000</td>\n      <td>1.000000</td>\n      <td>1.000000</td>\n      <td>0.000000</td>\n    </tr>\n    <tr>\n      <th>Gerry Fair Classifier</th>\n      <td>1.000000</td>\n      <td>1.000000</td>\n      <td>1.000000</td>\n      <td>1.000000</td>\n      <td>1.000000</td>\n    </tr>\n  </tbody>\n</table>\n</div>"
     },
     "metadata": {},
     "output_type": "display_data"
    },
    {
     "name": "stdout",
     "output_type": "stream",
     "text": [
      "Adult Income | max(Accuracy - Equalized Odds)\n"
     ]
    },
    {
     "data": {
      "text/plain": "                          fitness                  Accuracy            \\\n                             mean       std count      mean       std   \nmethod                                                                  \nFair Transition Loss     0.807825  0.017309    15  0.842270  0.006409   \nAdversarial Debiasing    0.796482  0.013597    15  0.848764  0.003349   \nPrejudice Remover        0.793973  0.017261    15  0.844960  0.005480   \nStandard MLP (baseline)  0.765316  0.017537    16  0.849627  0.003754   \nGerry Fair Classifier    0.654975  0.197797    15  0.713787  0.212745   \n\n                        Equalized Odds            \n                                  mean       std  \nmethod                                            \nFair Transition Loss          0.034445  0.017407  \nAdversarial Debiasing         0.052282  0.013394  \nPrejudice Remover             0.050987  0.014133  \nStandard MLP (baseline)       0.084311  0.017112  \nGerry Fair Classifier         0.058811  0.041480  ",
      "text/html": "<div>\n<style scoped>\n    .dataframe tbody tr th:only-of-type {\n        vertical-align: middle;\n    }\n\n    .dataframe tbody tr th {\n        vertical-align: top;\n    }\n\n    .dataframe thead tr th {\n        text-align: left;\n    }\n\n    .dataframe thead tr:last-of-type th {\n        text-align: right;\n    }\n</style>\n<table border=\"1\" class=\"dataframe\">\n  <thead>\n    <tr>\n      <th></th>\n      <th colspan=\"3\" halign=\"left\">fitness</th>\n      <th colspan=\"2\" halign=\"left\">Accuracy</th>\n      <th colspan=\"2\" halign=\"left\">Equalized Odds</th>\n    </tr>\n    <tr>\n      <th></th>\n      <th>mean</th>\n      <th>std</th>\n      <th>count</th>\n      <th>mean</th>\n      <th>std</th>\n      <th>mean</th>\n      <th>std</th>\n    </tr>\n    <tr>\n      <th>method</th>\n      <th></th>\n      <th></th>\n      <th></th>\n      <th></th>\n      <th></th>\n      <th></th>\n      <th></th>\n    </tr>\n  </thead>\n  <tbody>\n    <tr>\n      <th>Fair Transition Loss</th>\n      <td>0.807825</td>\n      <td>0.017309</td>\n      <td>15</td>\n      <td>0.842270</td>\n      <td>0.006409</td>\n      <td>0.034445</td>\n      <td>0.017407</td>\n    </tr>\n    <tr>\n      <th>Adversarial Debiasing</th>\n      <td>0.796482</td>\n      <td>0.013597</td>\n      <td>15</td>\n      <td>0.848764</td>\n      <td>0.003349</td>\n      <td>0.052282</td>\n      <td>0.013394</td>\n    </tr>\n    <tr>\n      <th>Prejudice Remover</th>\n      <td>0.793973</td>\n      <td>0.017261</td>\n      <td>15</td>\n      <td>0.844960</td>\n      <td>0.005480</td>\n      <td>0.050987</td>\n      <td>0.014133</td>\n    </tr>\n    <tr>\n      <th>Standard MLP (baseline)</th>\n      <td>0.765316</td>\n      <td>0.017537</td>\n      <td>16</td>\n      <td>0.849627</td>\n      <td>0.003754</td>\n      <td>0.084311</td>\n      <td>0.017112</td>\n    </tr>\n    <tr>\n      <th>Gerry Fair Classifier</th>\n      <td>0.654975</td>\n      <td>0.197797</td>\n      <td>15</td>\n      <td>0.713787</td>\n      <td>0.212745</td>\n      <td>0.058811</td>\n      <td>0.041480</td>\n    </tr>\n  </tbody>\n</table>\n</div>"
     },
     "metadata": {},
     "output_type": "display_data"
    },
    {
     "name": "stdout",
     "output_type": "stream",
     "text": [
      "Significance Testing\n"
     ]
    },
    {
     "data": {
      "text/plain": "                         Standard MLP (baseline)  Fair Transition Loss  \\\nmethods                                                                  \nStandard MLP (baseline)                 1.000000              0.999444   \nFair Transition Loss                    0.009395              1.000000   \nAdversarial Debiasing                   0.016999              1.000000   \nPrejudice Remover                       0.011947              1.000000   \nGerry Fair Classifier                   1.000000              1.000000   \n\n                         Adversarial Debiasing  Prejudice Remover  \\\nmethods                                                             \nStandard MLP (baseline)               0.997529           1.000000   \nFair Transition Loss                  0.225552           0.170713   \nAdversarial Debiasing                 1.000000           0.673625   \nPrejudice Remover                     1.000000           1.000000   \nGerry Fair Classifier                 1.000000           1.000000   \n\n                         Gerry Fair Classifier  \nmethods                                         \nStandard MLP (baseline)               0.030096  \nFair Transition Loss                  0.000000  \nAdversarial Debiasing                 0.000000  \nPrejudice Remover                     0.000000  \nGerry Fair Classifier                 1.000000  ",
      "text/html": "<div>\n<style scoped>\n    .dataframe tbody tr th:only-of-type {\n        vertical-align: middle;\n    }\n\n    .dataframe tbody tr th {\n        vertical-align: top;\n    }\n\n    .dataframe thead th {\n        text-align: right;\n    }\n</style>\n<table border=\"1\" class=\"dataframe\">\n  <thead>\n    <tr style=\"text-align: right;\">\n      <th></th>\n      <th>Standard MLP (baseline)</th>\n      <th>Fair Transition Loss</th>\n      <th>Adversarial Debiasing</th>\n      <th>Prejudice Remover</th>\n      <th>Gerry Fair Classifier</th>\n    </tr>\n    <tr>\n      <th>methods</th>\n      <th></th>\n      <th></th>\n      <th></th>\n      <th></th>\n      <th></th>\n    </tr>\n  </thead>\n  <tbody>\n    <tr>\n      <th>Standard MLP (baseline)</th>\n      <td>1.000000</td>\n      <td>0.999444</td>\n      <td>0.997529</td>\n      <td>1.000000</td>\n      <td>0.030096</td>\n    </tr>\n    <tr>\n      <th>Fair Transition Loss</th>\n      <td>0.009395</td>\n      <td>1.000000</td>\n      <td>0.225552</td>\n      <td>0.170713</td>\n      <td>0.000000</td>\n    </tr>\n    <tr>\n      <th>Adversarial Debiasing</th>\n      <td>0.016999</td>\n      <td>1.000000</td>\n      <td>1.000000</td>\n      <td>0.673625</td>\n      <td>0.000000</td>\n    </tr>\n    <tr>\n      <th>Prejudice Remover</th>\n      <td>0.011947</td>\n      <td>1.000000</td>\n      <td>1.000000</td>\n      <td>1.000000</td>\n      <td>0.000000</td>\n    </tr>\n    <tr>\n      <th>Gerry Fair Classifier</th>\n      <td>1.000000</td>\n      <td>1.000000</td>\n      <td>1.000000</td>\n      <td>1.000000</td>\n      <td>1.000000</td>\n    </tr>\n  </tbody>\n</table>\n</div>"
     },
     "metadata": {},
     "output_type": "display_data"
    },
    {
     "name": "stdout",
     "output_type": "stream",
     "text": [
      "Adult Income | max(Accuracy - Equal Opportunity)\n"
     ]
    },
    {
     "data": {
      "text/plain": "                          fitness                  Accuracy            \\\n                             mean       std count      mean       std   \nmethod                                                                  \nPrejudice Remover        0.809534  0.022701    13  0.845788  0.003691   \nFair Transition Loss     0.787013  0.083934    15  0.825826  0.069484   \nAdversarial Debiasing    0.756054  0.028345    14  0.847730  0.002904   \nStandard MLP (baseline)  0.752260  0.041790    15  0.849309  0.003078   \nGerry Fair Classifier    0.655568  0.185910    13  0.720083  0.212767   \n\n                        Equal Opportunity            \n                                     mean       std  \nmethod                                               \nPrejudice Remover                0.036254  0.021244  \nFair Transition Loss             0.038813  0.037378  \nAdversarial Debiasing            0.091676  0.027315  \nStandard MLP (baseline)          0.097049  0.042438  \nGerry Fair Classifier            0.064516  0.051427  ",
      "text/html": "<div>\n<style scoped>\n    .dataframe tbody tr th:only-of-type {\n        vertical-align: middle;\n    }\n\n    .dataframe tbody tr th {\n        vertical-align: top;\n    }\n\n    .dataframe thead tr th {\n        text-align: left;\n    }\n\n    .dataframe thead tr:last-of-type th {\n        text-align: right;\n    }\n</style>\n<table border=\"1\" class=\"dataframe\">\n  <thead>\n    <tr>\n      <th></th>\n      <th colspan=\"3\" halign=\"left\">fitness</th>\n      <th colspan=\"2\" halign=\"left\">Accuracy</th>\n      <th colspan=\"2\" halign=\"left\">Equal Opportunity</th>\n    </tr>\n    <tr>\n      <th></th>\n      <th>mean</th>\n      <th>std</th>\n      <th>count</th>\n      <th>mean</th>\n      <th>std</th>\n      <th>mean</th>\n      <th>std</th>\n    </tr>\n    <tr>\n      <th>method</th>\n      <th></th>\n      <th></th>\n      <th></th>\n      <th></th>\n      <th></th>\n      <th></th>\n      <th></th>\n    </tr>\n  </thead>\n  <tbody>\n    <tr>\n      <th>Prejudice Remover</th>\n      <td>0.809534</td>\n      <td>0.022701</td>\n      <td>13</td>\n      <td>0.845788</td>\n      <td>0.003691</td>\n      <td>0.036254</td>\n      <td>0.021244</td>\n    </tr>\n    <tr>\n      <th>Fair Transition Loss</th>\n      <td>0.787013</td>\n      <td>0.083934</td>\n      <td>15</td>\n      <td>0.825826</td>\n      <td>0.069484</td>\n      <td>0.038813</td>\n      <td>0.037378</td>\n    </tr>\n    <tr>\n      <th>Adversarial Debiasing</th>\n      <td>0.756054</td>\n      <td>0.028345</td>\n      <td>14</td>\n      <td>0.847730</td>\n      <td>0.002904</td>\n      <td>0.091676</td>\n      <td>0.027315</td>\n    </tr>\n    <tr>\n      <th>Standard MLP (baseline)</th>\n      <td>0.752260</td>\n      <td>0.041790</td>\n      <td>15</td>\n      <td>0.849309</td>\n      <td>0.003078</td>\n      <td>0.097049</td>\n      <td>0.042438</td>\n    </tr>\n    <tr>\n      <th>Gerry Fair Classifier</th>\n      <td>0.655568</td>\n      <td>0.185910</td>\n      <td>13</td>\n      <td>0.720083</td>\n      <td>0.212767</td>\n      <td>0.064516</td>\n      <td>0.051427</td>\n    </tr>\n  </tbody>\n</table>\n</div>"
     },
     "metadata": {},
     "output_type": "display_data"
    },
    {
     "name": "stdout",
     "output_type": "stream",
     "text": [
      "Significance Testing\n"
     ]
    },
    {
     "data": {
      "text/plain": "                         Standard MLP (baseline)  Fair Transition Loss  \\\nmethods                                                                  \nStandard MLP (baseline)                 1.000000              1.000000   \nFair Transition Loss                    0.898703              1.000000   \nAdversarial Debiasing                   1.000000              1.000000   \nPrejudice Remover                       0.032922              0.480779   \nGerry Fair Classifier                   1.000000              1.000000   \n\n                         Adversarial Debiasing  Prejudice Remover  \\\nmethods                                                             \nStandard MLP (baseline)               0.875292                1.0   \nFair Transition Loss                  0.959536                1.0   \nAdversarial Debiasing                 1.000000                1.0   \nPrejudice Remover                     0.009661                1.0   \nGerry Fair Classifier                 1.000000                1.0   \n\n                         Gerry Fair Classifier  \nmethods                                         \nStandard MLP (baseline)               0.062699  \nFair Transition Loss                  0.204228  \nAdversarial Debiasing                 0.042513  \nPrejudice Remover                     0.000000  \nGerry Fair Classifier                 1.000000  ",
      "text/html": "<div>\n<style scoped>\n    .dataframe tbody tr th:only-of-type {\n        vertical-align: middle;\n    }\n\n    .dataframe tbody tr th {\n        vertical-align: top;\n    }\n\n    .dataframe thead th {\n        text-align: right;\n    }\n</style>\n<table border=\"1\" class=\"dataframe\">\n  <thead>\n    <tr style=\"text-align: right;\">\n      <th></th>\n      <th>Standard MLP (baseline)</th>\n      <th>Fair Transition Loss</th>\n      <th>Adversarial Debiasing</th>\n      <th>Prejudice Remover</th>\n      <th>Gerry Fair Classifier</th>\n    </tr>\n    <tr>\n      <th>methods</th>\n      <th></th>\n      <th></th>\n      <th></th>\n      <th></th>\n      <th></th>\n    </tr>\n  </thead>\n  <tbody>\n    <tr>\n      <th>Standard MLP (baseline)</th>\n      <td>1.000000</td>\n      <td>1.000000</td>\n      <td>0.875292</td>\n      <td>1.0</td>\n      <td>0.062699</td>\n    </tr>\n    <tr>\n      <th>Fair Transition Loss</th>\n      <td>0.898703</td>\n      <td>1.000000</td>\n      <td>0.959536</td>\n      <td>1.0</td>\n      <td>0.204228</td>\n    </tr>\n    <tr>\n      <th>Adversarial Debiasing</th>\n      <td>1.000000</td>\n      <td>1.000000</td>\n      <td>1.000000</td>\n      <td>1.0</td>\n      <td>0.042513</td>\n    </tr>\n    <tr>\n      <th>Prejudice Remover</th>\n      <td>0.032922</td>\n      <td>0.480779</td>\n      <td>0.009661</td>\n      <td>1.0</td>\n      <td>0.000000</td>\n    </tr>\n    <tr>\n      <th>Gerry Fair Classifier</th>\n      <td>1.000000</td>\n      <td>1.000000</td>\n      <td>1.000000</td>\n      <td>1.0</td>\n      <td>1.000000</td>\n    </tr>\n  </tbody>\n</table>\n</div>"
     },
     "metadata": {},
     "output_type": "display_data"
    },
    {
     "name": "stdout",
     "output_type": "stream",
     "text": [
      "Bank Market | max(Mathew Correlation - Statistical Parity)\n"
     ]
    },
    {
     "data": {
      "text/plain": "                          fitness                 Mathew Correlation  \\\n                             mean       std count               mean   \nmethod                                                                 \nFair Transition Loss     0.538637  0.030203    16           0.578629   \nAdversarial Debiasing    0.459050  0.026773    16           0.505485   \nPrejudice Remover        0.453999  0.028865    16           0.486893   \nStandard MLP (baseline)  0.419313  0.035082    16           0.521521   \nGerry Fair Classifier    0.364122  0.023438    16           0.427766   \n\n                                  Statistical Parity            \n                              std               mean       std  \nmethod                                                          \nFair Transition Loss     0.010484           0.039992  0.032659  \nAdversarial Debiasing    0.020981           0.046435  0.023318  \nPrejudice Remover        0.019122           0.032895  0.017302  \nStandard MLP (baseline)  0.018585           0.102208  0.029541  \nGerry Fair Classifier    0.023644           0.063644  0.014344  ",
      "text/html": "<div>\n<style scoped>\n    .dataframe tbody tr th:only-of-type {\n        vertical-align: middle;\n    }\n\n    .dataframe tbody tr th {\n        vertical-align: top;\n    }\n\n    .dataframe thead tr th {\n        text-align: left;\n    }\n\n    .dataframe thead tr:last-of-type th {\n        text-align: right;\n    }\n</style>\n<table border=\"1\" class=\"dataframe\">\n  <thead>\n    <tr>\n      <th></th>\n      <th colspan=\"3\" halign=\"left\">fitness</th>\n      <th colspan=\"2\" halign=\"left\">Mathew Correlation</th>\n      <th colspan=\"2\" halign=\"left\">Statistical Parity</th>\n    </tr>\n    <tr>\n      <th></th>\n      <th>mean</th>\n      <th>std</th>\n      <th>count</th>\n      <th>mean</th>\n      <th>std</th>\n      <th>mean</th>\n      <th>std</th>\n    </tr>\n    <tr>\n      <th>method</th>\n      <th></th>\n      <th></th>\n      <th></th>\n      <th></th>\n      <th></th>\n      <th></th>\n      <th></th>\n    </tr>\n  </thead>\n  <tbody>\n    <tr>\n      <th>Fair Transition Loss</th>\n      <td>0.538637</td>\n      <td>0.030203</td>\n      <td>16</td>\n      <td>0.578629</td>\n      <td>0.010484</td>\n      <td>0.039992</td>\n      <td>0.032659</td>\n    </tr>\n    <tr>\n      <th>Adversarial Debiasing</th>\n      <td>0.459050</td>\n      <td>0.026773</td>\n      <td>16</td>\n      <td>0.505485</td>\n      <td>0.020981</td>\n      <td>0.046435</td>\n      <td>0.023318</td>\n    </tr>\n    <tr>\n      <th>Prejudice Remover</th>\n      <td>0.453999</td>\n      <td>0.028865</td>\n      <td>16</td>\n      <td>0.486893</td>\n      <td>0.019122</td>\n      <td>0.032895</td>\n      <td>0.017302</td>\n    </tr>\n    <tr>\n      <th>Standard MLP (baseline)</th>\n      <td>0.419313</td>\n      <td>0.035082</td>\n      <td>16</td>\n      <td>0.521521</td>\n      <td>0.018585</td>\n      <td>0.102208</td>\n      <td>0.029541</td>\n    </tr>\n    <tr>\n      <th>Gerry Fair Classifier</th>\n      <td>0.364122</td>\n      <td>0.023438</td>\n      <td>16</td>\n      <td>0.427766</td>\n      <td>0.023644</td>\n      <td>0.063644</td>\n      <td>0.014344</td>\n    </tr>\n  </tbody>\n</table>\n</div>"
     },
     "metadata": {},
     "output_type": "display_data"
    },
    {
     "name": "stdout",
     "output_type": "stream",
     "text": [
      "Significance Testing\n"
     ]
    },
    {
     "data": {
      "text/plain": "                         Standard MLP (baseline)  Fair Transition Loss  \\\nmethods                                                                  \nStandard MLP (baseline)                 1.000000              0.998198   \nFair Transition Loss                    0.008002              1.000000   \nAdversarial Debiasing                   0.042412              1.000000   \nPrejudice Remover                       0.104345              1.000000   \nGerry Fair Classifier                   1.000000              1.000000   \n\n                         Adversarial Debiasing  Prejudice Remover  \\\nmethods                                                             \nStandard MLP (baseline)                    1.0           1.000000   \nFair Transition Loss                       0.0           0.000000   \nAdversarial Debiasing                      1.0           0.857366   \nPrejudice Remover                          1.0           1.000000   \nGerry Fair Classifier                      1.0           1.000000   \n\n                         Gerry Fair Classifier  \nmethods                                         \nStandard MLP (baseline)               0.000946  \nFair Transition Loss                  0.000000  \nAdversarial Debiasing                 0.000000  \nPrejudice Remover                     0.000000  \nGerry Fair Classifier                 1.000000  ",
      "text/html": "<div>\n<style scoped>\n    .dataframe tbody tr th:only-of-type {\n        vertical-align: middle;\n    }\n\n    .dataframe tbody tr th {\n        vertical-align: top;\n    }\n\n    .dataframe thead th {\n        text-align: right;\n    }\n</style>\n<table border=\"1\" class=\"dataframe\">\n  <thead>\n    <tr style=\"text-align: right;\">\n      <th></th>\n      <th>Standard MLP (baseline)</th>\n      <th>Fair Transition Loss</th>\n      <th>Adversarial Debiasing</th>\n      <th>Prejudice Remover</th>\n      <th>Gerry Fair Classifier</th>\n    </tr>\n    <tr>\n      <th>methods</th>\n      <th></th>\n      <th></th>\n      <th></th>\n      <th></th>\n      <th></th>\n    </tr>\n  </thead>\n  <tbody>\n    <tr>\n      <th>Standard MLP (baseline)</th>\n      <td>1.000000</td>\n      <td>0.998198</td>\n      <td>1.0</td>\n      <td>1.000000</td>\n      <td>0.000946</td>\n    </tr>\n    <tr>\n      <th>Fair Transition Loss</th>\n      <td>0.008002</td>\n      <td>1.000000</td>\n      <td>0.0</td>\n      <td>0.000000</td>\n      <td>0.000000</td>\n    </tr>\n    <tr>\n      <th>Adversarial Debiasing</th>\n      <td>0.042412</td>\n      <td>1.000000</td>\n      <td>1.0</td>\n      <td>0.857366</td>\n      <td>0.000000</td>\n    </tr>\n    <tr>\n      <th>Prejudice Remover</th>\n      <td>0.104345</td>\n      <td>1.000000</td>\n      <td>1.0</td>\n      <td>1.000000</td>\n      <td>0.000000</td>\n    </tr>\n    <tr>\n      <th>Gerry Fair Classifier</th>\n      <td>1.000000</td>\n      <td>1.000000</td>\n      <td>1.0</td>\n      <td>1.000000</td>\n      <td>1.000000</td>\n    </tr>\n  </tbody>\n</table>\n</div>"
     },
     "metadata": {},
     "output_type": "display_data"
    },
    {
     "name": "stdout",
     "output_type": "stream",
     "text": [
      "Bank Market | max(Mathew Correlation - Equalized Odds)\n"
     ]
    },
    {
     "data": {
      "text/plain": "                          fitness                 Mathew Correlation  \\\n                             mean       std count               mean   \nmethod                                                                 \nFair Transition Loss     0.485232  0.057766    16           0.568878   \nStandard MLP (baseline)  0.439100  0.033272    16           0.513842   \nAdversarial Debiasing    0.425859  0.059593    16           0.511591   \nPrejudice Remover        0.412904  0.038026    16           0.484515   \nGerry Fair Classifier    0.379921  0.039809    16           0.430305   \n\n                                  Equalized Odds            \n                              std           mean       std  \nmethod                                                      \nFair Transition Loss     0.011656       0.083646  0.057749  \nStandard MLP (baseline)  0.019228       0.074742  0.026389  \nAdversarial Debiasing    0.019124       0.085732  0.052456  \nPrejudice Remover        0.019109       0.071611  0.041584  \nGerry Fair Classifier    0.017406       0.050384  0.032472  ",
      "text/html": "<div>\n<style scoped>\n    .dataframe tbody tr th:only-of-type {\n        vertical-align: middle;\n    }\n\n    .dataframe tbody tr th {\n        vertical-align: top;\n    }\n\n    .dataframe thead tr th {\n        text-align: left;\n    }\n\n    .dataframe thead tr:last-of-type th {\n        text-align: right;\n    }\n</style>\n<table border=\"1\" class=\"dataframe\">\n  <thead>\n    <tr>\n      <th></th>\n      <th colspan=\"3\" halign=\"left\">fitness</th>\n      <th colspan=\"2\" halign=\"left\">Mathew Correlation</th>\n      <th colspan=\"2\" halign=\"left\">Equalized Odds</th>\n    </tr>\n    <tr>\n      <th></th>\n      <th>mean</th>\n      <th>std</th>\n      <th>count</th>\n      <th>mean</th>\n      <th>std</th>\n      <th>mean</th>\n      <th>std</th>\n    </tr>\n    <tr>\n      <th>method</th>\n      <th></th>\n      <th></th>\n      <th></th>\n      <th></th>\n      <th></th>\n      <th></th>\n      <th></th>\n    </tr>\n  </thead>\n  <tbody>\n    <tr>\n      <th>Fair Transition Loss</th>\n      <td>0.485232</td>\n      <td>0.057766</td>\n      <td>16</td>\n      <td>0.568878</td>\n      <td>0.011656</td>\n      <td>0.083646</td>\n      <td>0.057749</td>\n    </tr>\n    <tr>\n      <th>Standard MLP (baseline)</th>\n      <td>0.439100</td>\n      <td>0.033272</td>\n      <td>16</td>\n      <td>0.513842</td>\n      <td>0.019228</td>\n      <td>0.074742</td>\n      <td>0.026389</td>\n    </tr>\n    <tr>\n      <th>Adversarial Debiasing</th>\n      <td>0.425859</td>\n      <td>0.059593</td>\n      <td>16</td>\n      <td>0.511591</td>\n      <td>0.019124</td>\n      <td>0.085732</td>\n      <td>0.052456</td>\n    </tr>\n    <tr>\n      <th>Prejudice Remover</th>\n      <td>0.412904</td>\n      <td>0.038026</td>\n      <td>16</td>\n      <td>0.484515</td>\n      <td>0.019109</td>\n      <td>0.071611</td>\n      <td>0.041584</td>\n    </tr>\n    <tr>\n      <th>Gerry Fair Classifier</th>\n      <td>0.379921</td>\n      <td>0.039809</td>\n      <td>16</td>\n      <td>0.430305</td>\n      <td>0.017406</td>\n      <td>0.050384</td>\n      <td>0.032472</td>\n    </tr>\n  </tbody>\n</table>\n</div>"
     },
     "metadata": {},
     "output_type": "display_data"
    },
    {
     "name": "stdout",
     "output_type": "stream",
     "text": [
      "Significance Testing\n"
     ]
    },
    {
     "data": {
      "text/plain": "                         Standard MLP (baseline)  Fair Transition Loss  \\\nmethods                                                                  \nStandard MLP (baseline)                 1.000000                   1.0   \nFair Transition Loss                    0.471688                   1.0   \nAdversarial Debiasing                   1.000000                   1.0   \nPrejudice Remover                       1.000000                   1.0   \nGerry Fair Classifier                   1.000000                   1.0   \n\n                         Adversarial Debiasing  Prejudice Remover  \\\nmethods                                                             \nStandard MLP (baseline)               0.458967           0.186403   \nFair Transition Loss                  0.189642           0.108138   \nAdversarial Debiasing                 1.000000           0.909613   \nPrejudice Remover                     1.000000           1.000000   \nGerry Fair Classifier                 1.000000           1.000000   \n\n                         Gerry Fair Classifier  \nmethods                                         \nStandard MLP (baseline)               0.000002  \nFair Transition Loss                  0.027290  \nAdversarial Debiasing                 0.167464  \nPrejudice Remover                     0.104496  \nGerry Fair Classifier                 1.000000  ",
      "text/html": "<div>\n<style scoped>\n    .dataframe tbody tr th:only-of-type {\n        vertical-align: middle;\n    }\n\n    .dataframe tbody tr th {\n        vertical-align: top;\n    }\n\n    .dataframe thead th {\n        text-align: right;\n    }\n</style>\n<table border=\"1\" class=\"dataframe\">\n  <thead>\n    <tr style=\"text-align: right;\">\n      <th></th>\n      <th>Standard MLP (baseline)</th>\n      <th>Fair Transition Loss</th>\n      <th>Adversarial Debiasing</th>\n      <th>Prejudice Remover</th>\n      <th>Gerry Fair Classifier</th>\n    </tr>\n    <tr>\n      <th>methods</th>\n      <th></th>\n      <th></th>\n      <th></th>\n      <th></th>\n      <th></th>\n    </tr>\n  </thead>\n  <tbody>\n    <tr>\n      <th>Standard MLP (baseline)</th>\n      <td>1.000000</td>\n      <td>1.0</td>\n      <td>0.458967</td>\n      <td>0.186403</td>\n      <td>0.000002</td>\n    </tr>\n    <tr>\n      <th>Fair Transition Loss</th>\n      <td>0.471688</td>\n      <td>1.0</td>\n      <td>0.189642</td>\n      <td>0.108138</td>\n      <td>0.027290</td>\n    </tr>\n    <tr>\n      <th>Adversarial Debiasing</th>\n      <td>1.000000</td>\n      <td>1.0</td>\n      <td>1.000000</td>\n      <td>0.909613</td>\n      <td>0.167464</td>\n    </tr>\n    <tr>\n      <th>Prejudice Remover</th>\n      <td>1.000000</td>\n      <td>1.0</td>\n      <td>1.000000</td>\n      <td>1.000000</td>\n      <td>0.104496</td>\n    </tr>\n    <tr>\n      <th>Gerry Fair Classifier</th>\n      <td>1.000000</td>\n      <td>1.0</td>\n      <td>1.000000</td>\n      <td>1.000000</td>\n      <td>1.000000</td>\n    </tr>\n  </tbody>\n</table>\n</div>"
     },
     "metadata": {},
     "output_type": "display_data"
    },
    {
     "name": "stdout",
     "output_type": "stream",
     "text": [
      "Bank Market | max(Mathew Correlation - Equal Opportunity)\n"
     ]
    },
    {
     "data": {
      "text/plain": "                          fitness                 Mathew Correlation  \\\n                             mean       std count               mean   \nmethod                                                                 \nFair Transition Loss     0.466943  0.106056    16           0.560218   \nStandard MLP (baseline)  0.432485  0.055535    16           0.519779   \nPrejudice Remover        0.391568  0.086487    16           0.489974   \nAdversarial Debiasing    0.372598  0.093544    16           0.508244   \nGerry Fair Classifier    0.360622  0.056931    16           0.432291   \n\n                                  Equal Opportunity            \n                              std              mean       std  \nmethod                                                         \nFair Transition Loss     0.028665          0.093275  0.095440  \nStandard MLP (baseline)  0.015186          0.087294  0.058595  \nPrejudice Remover        0.016599          0.098406  0.077769  \nAdversarial Debiasing    0.018888          0.135646  0.087756  \nGerry Fair Classifier    0.020158          0.071669  0.052382  ",
      "text/html": "<div>\n<style scoped>\n    .dataframe tbody tr th:only-of-type {\n        vertical-align: middle;\n    }\n\n    .dataframe tbody tr th {\n        vertical-align: top;\n    }\n\n    .dataframe thead tr th {\n        text-align: left;\n    }\n\n    .dataframe thead tr:last-of-type th {\n        text-align: right;\n    }\n</style>\n<table border=\"1\" class=\"dataframe\">\n  <thead>\n    <tr>\n      <th></th>\n      <th colspan=\"3\" halign=\"left\">fitness</th>\n      <th colspan=\"2\" halign=\"left\">Mathew Correlation</th>\n      <th colspan=\"2\" halign=\"left\">Equal Opportunity</th>\n    </tr>\n    <tr>\n      <th></th>\n      <th>mean</th>\n      <th>std</th>\n      <th>count</th>\n      <th>mean</th>\n      <th>std</th>\n      <th>mean</th>\n      <th>std</th>\n    </tr>\n    <tr>\n      <th>method</th>\n      <th></th>\n      <th></th>\n      <th></th>\n      <th></th>\n      <th></th>\n      <th></th>\n      <th></th>\n    </tr>\n  </thead>\n  <tbody>\n    <tr>\n      <th>Fair Transition Loss</th>\n      <td>0.466943</td>\n      <td>0.106056</td>\n      <td>16</td>\n      <td>0.560218</td>\n      <td>0.028665</td>\n      <td>0.093275</td>\n      <td>0.095440</td>\n    </tr>\n    <tr>\n      <th>Standard MLP (baseline)</th>\n      <td>0.432485</td>\n      <td>0.055535</td>\n      <td>16</td>\n      <td>0.519779</td>\n      <td>0.015186</td>\n      <td>0.087294</td>\n      <td>0.058595</td>\n    </tr>\n    <tr>\n      <th>Prejudice Remover</th>\n      <td>0.391568</td>\n      <td>0.086487</td>\n      <td>16</td>\n      <td>0.489974</td>\n      <td>0.016599</td>\n      <td>0.098406</td>\n      <td>0.077769</td>\n    </tr>\n    <tr>\n      <th>Adversarial Debiasing</th>\n      <td>0.372598</td>\n      <td>0.093544</td>\n      <td>16</td>\n      <td>0.508244</td>\n      <td>0.018888</td>\n      <td>0.135646</td>\n      <td>0.087756</td>\n    </tr>\n    <tr>\n      <th>Gerry Fair Classifier</th>\n      <td>0.360622</td>\n      <td>0.056931</td>\n      <td>16</td>\n      <td>0.432291</td>\n      <td>0.020158</td>\n      <td>0.071669</td>\n      <td>0.052382</td>\n    </tr>\n  </tbody>\n</table>\n</div>"
     },
     "metadata": {},
     "output_type": "display_data"
    },
    {
     "name": "stdout",
     "output_type": "stream",
     "text": [
      "Significance Testing\n"
     ]
    },
    {
     "data": {
      "text/plain": "                         Standard MLP (baseline)  Fair Transition Loss  \\\nmethods                                                                  \nStandard MLP (baseline)                 1.000000                   1.0   \nFair Transition Loss                    0.820683                   1.0   \nAdversarial Debiasing                   1.000000                   1.0   \nPrejudice Remover                       1.000000                   1.0   \nGerry Fair Classifier                   1.000000                   1.0   \n\n                         Adversarial Debiasing  Prejudice Remover  \\\nmethods                                                             \nStandard MLP (baseline)               0.115116           0.251015   \nFair Transition Loss                  0.180293           0.236480   \nAdversarial Debiasing                 1.000000           1.000000   \nPrejudice Remover                     0.654186           1.000000   \nGerry Fair Classifier                 1.000000           1.000000   \n\n                         Gerry Fair Classifier  \nmethods                                         \nStandard MLP (baseline)               0.033529  \nFair Transition Loss                  0.152576  \nAdversarial Debiasing                 0.862072  \nPrejudice Remover                     0.526717  \nGerry Fair Classifier                 1.000000  ",
      "text/html": "<div>\n<style scoped>\n    .dataframe tbody tr th:only-of-type {\n        vertical-align: middle;\n    }\n\n    .dataframe tbody tr th {\n        vertical-align: top;\n    }\n\n    .dataframe thead th {\n        text-align: right;\n    }\n</style>\n<table border=\"1\" class=\"dataframe\">\n  <thead>\n    <tr style=\"text-align: right;\">\n      <th></th>\n      <th>Standard MLP (baseline)</th>\n      <th>Fair Transition Loss</th>\n      <th>Adversarial Debiasing</th>\n      <th>Prejudice Remover</th>\n      <th>Gerry Fair Classifier</th>\n    </tr>\n    <tr>\n      <th>methods</th>\n      <th></th>\n      <th></th>\n      <th></th>\n      <th></th>\n      <th></th>\n    </tr>\n  </thead>\n  <tbody>\n    <tr>\n      <th>Standard MLP (baseline)</th>\n      <td>1.000000</td>\n      <td>1.0</td>\n      <td>0.115116</td>\n      <td>0.251015</td>\n      <td>0.033529</td>\n    </tr>\n    <tr>\n      <th>Fair Transition Loss</th>\n      <td>0.820683</td>\n      <td>1.0</td>\n      <td>0.180293</td>\n      <td>0.236480</td>\n      <td>0.152576</td>\n    </tr>\n    <tr>\n      <th>Adversarial Debiasing</th>\n      <td>1.000000</td>\n      <td>1.0</td>\n      <td>1.000000</td>\n      <td>1.000000</td>\n      <td>0.862072</td>\n    </tr>\n    <tr>\n      <th>Prejudice Remover</th>\n      <td>1.000000</td>\n      <td>1.0</td>\n      <td>0.654186</td>\n      <td>1.000000</td>\n      <td>0.526717</td>\n    </tr>\n    <tr>\n      <th>Gerry Fair Classifier</th>\n      <td>1.000000</td>\n      <td>1.0</td>\n      <td>1.000000</td>\n      <td>1.000000</td>\n      <td>1.000000</td>\n    </tr>\n  </tbody>\n</table>\n</div>"
     },
     "metadata": {},
     "output_type": "display_data"
    },
    {
     "name": "stdout",
     "output_type": "stream",
     "text": [
      "Bank Market | max(Accuracy - Statistical Parity)\n"
     ]
    },
    {
     "data": {
      "text/plain": "                          fitness                  Accuracy            \\\n                             mean       std count      mean       std   \nmethod                                                                  \nAdversarial Debiasing    0.869188  0.026198    16  0.900674  0.004901   \nPrejudice Remover        0.860453  0.024102    16  0.898204  0.003222   \nFair Transition Loss     0.853960  0.051311    16  0.888939  0.012644   \nGerry Fair Classifier    0.827902  0.024396    16  0.895253  0.003863   \nStandard MLP (baseline)  0.798856  0.035529    16  0.901689  0.004638   \n\n                        Statistical Parity            \n                                      mean       std  \nmethod                                                \nAdversarial Debiasing             0.031487  0.024422  \nPrejudice Remover                 0.037751  0.023137  \nFair Transition Loss              0.034979  0.051374  \nGerry Fair Classifier             0.067350  0.022572  \nStandard MLP (baseline)           0.102833  0.033983  ",
      "text/html": "<div>\n<style scoped>\n    .dataframe tbody tr th:only-of-type {\n        vertical-align: middle;\n    }\n\n    .dataframe tbody tr th {\n        vertical-align: top;\n    }\n\n    .dataframe thead tr th {\n        text-align: left;\n    }\n\n    .dataframe thead tr:last-of-type th {\n        text-align: right;\n    }\n</style>\n<table border=\"1\" class=\"dataframe\">\n  <thead>\n    <tr>\n      <th></th>\n      <th colspan=\"3\" halign=\"left\">fitness</th>\n      <th colspan=\"2\" halign=\"left\">Accuracy</th>\n      <th colspan=\"2\" halign=\"left\">Statistical Parity</th>\n    </tr>\n    <tr>\n      <th></th>\n      <th>mean</th>\n      <th>std</th>\n      <th>count</th>\n      <th>mean</th>\n      <th>std</th>\n      <th>mean</th>\n      <th>std</th>\n    </tr>\n    <tr>\n      <th>method</th>\n      <th></th>\n      <th></th>\n      <th></th>\n      <th></th>\n      <th></th>\n      <th></th>\n      <th></th>\n    </tr>\n  </thead>\n  <tbody>\n    <tr>\n      <th>Adversarial Debiasing</th>\n      <td>0.869188</td>\n      <td>0.026198</td>\n      <td>16</td>\n      <td>0.900674</td>\n      <td>0.004901</td>\n      <td>0.031487</td>\n      <td>0.024422</td>\n    </tr>\n    <tr>\n      <th>Prejudice Remover</th>\n      <td>0.860453</td>\n      <td>0.024102</td>\n      <td>16</td>\n      <td>0.898204</td>\n      <td>0.003222</td>\n      <td>0.037751</td>\n      <td>0.023137</td>\n    </tr>\n    <tr>\n      <th>Fair Transition Loss</th>\n      <td>0.853960</td>\n      <td>0.051311</td>\n      <td>16</td>\n      <td>0.888939</td>\n      <td>0.012644</td>\n      <td>0.034979</td>\n      <td>0.051374</td>\n    </tr>\n    <tr>\n      <th>Gerry Fair Classifier</th>\n      <td>0.827902</td>\n      <td>0.024396</td>\n      <td>16</td>\n      <td>0.895253</td>\n      <td>0.003863</td>\n      <td>0.067350</td>\n      <td>0.022572</td>\n    </tr>\n    <tr>\n      <th>Standard MLP (baseline)</th>\n      <td>0.798856</td>\n      <td>0.035529</td>\n      <td>16</td>\n      <td>0.901689</td>\n      <td>0.004638</td>\n      <td>0.102833</td>\n      <td>0.033983</td>\n    </tr>\n  </tbody>\n</table>\n</div>"
     },
     "metadata": {},
     "output_type": "display_data"
    },
    {
     "name": "stdout",
     "output_type": "stream",
     "text": [
      "Significance Testing\n"
     ]
    },
    {
     "data": {
      "text/plain": "                         Standard MLP (baseline)  Fair Transition Loss  \\\nmethods                                                                  \nStandard MLP (baseline)                 1.000000              1.000000   \nFair Transition Loss                    0.235047              1.000000   \nAdversarial Debiasing                   0.008440              0.552059   \nPrejudice Remover                       0.013736              0.745856   \nGerry Fair Classifier                   0.200796              1.000000   \n\n                         Adversarial Debiasing  Prejudice Remover  \\\nmethods                                                             \nStandard MLP (baseline)                    1.0           0.997085   \nFair Transition Loss                       1.0           1.000000   \nAdversarial Debiasing                      1.0           0.611625   \nPrejudice Remover                          1.0           1.000000   \nGerry Fair Classifier                      1.0           1.000000   \n\n                         Gerry Fair Classifier  \nmethods                                         \nStandard MLP (baseline)               1.000000  \nFair Transition Loss                  0.763300  \nAdversarial Debiasing                 0.018230  \nPrejudice Remover                     0.004089  \nGerry Fair Classifier                 1.000000  ",
      "text/html": "<div>\n<style scoped>\n    .dataframe tbody tr th:only-of-type {\n        vertical-align: middle;\n    }\n\n    .dataframe tbody tr th {\n        vertical-align: top;\n    }\n\n    .dataframe thead th {\n        text-align: right;\n    }\n</style>\n<table border=\"1\" class=\"dataframe\">\n  <thead>\n    <tr style=\"text-align: right;\">\n      <th></th>\n      <th>Standard MLP (baseline)</th>\n      <th>Fair Transition Loss</th>\n      <th>Adversarial Debiasing</th>\n      <th>Prejudice Remover</th>\n      <th>Gerry Fair Classifier</th>\n    </tr>\n    <tr>\n      <th>methods</th>\n      <th></th>\n      <th></th>\n      <th></th>\n      <th></th>\n      <th></th>\n    </tr>\n  </thead>\n  <tbody>\n    <tr>\n      <th>Standard MLP (baseline)</th>\n      <td>1.000000</td>\n      <td>1.000000</td>\n      <td>1.0</td>\n      <td>0.997085</td>\n      <td>1.000000</td>\n    </tr>\n    <tr>\n      <th>Fair Transition Loss</th>\n      <td>0.235047</td>\n      <td>1.000000</td>\n      <td>1.0</td>\n      <td>1.000000</td>\n      <td>0.763300</td>\n    </tr>\n    <tr>\n      <th>Adversarial Debiasing</th>\n      <td>0.008440</td>\n      <td>0.552059</td>\n      <td>1.0</td>\n      <td>0.611625</td>\n      <td>0.018230</td>\n    </tr>\n    <tr>\n      <th>Prejudice Remover</th>\n      <td>0.013736</td>\n      <td>0.745856</td>\n      <td>1.0</td>\n      <td>1.000000</td>\n      <td>0.004089</td>\n    </tr>\n    <tr>\n      <th>Gerry Fair Classifier</th>\n      <td>0.200796</td>\n      <td>1.000000</td>\n      <td>1.0</td>\n      <td>1.000000</td>\n      <td>1.000000</td>\n    </tr>\n  </tbody>\n</table>\n</div>"
     },
     "metadata": {},
     "output_type": "display_data"
    },
    {
     "name": "stdout",
     "output_type": "stream",
     "text": [
      "Bank Market | max(Accuracy - Equalized Odds)\n"
     ]
    },
    {
     "data": {
      "text/plain": "                          fitness                  Accuracy            \\\n                             mean       std count      mean       std   \nmethod                                                                  \nGerry Fair Classifier    0.847492  0.033414    16  0.895622  0.003053   \nFair Transition Loss     0.832850  0.046099    16  0.891881  0.012613   \nPrejudice Remover        0.826580  0.036570    16  0.897579  0.003235   \nStandard MLP (baseline)  0.825660  0.041732    16  0.900951  0.004575   \nAdversarial Debiasing    0.807064  0.068668    16  0.902038  0.003512   \n\n                        Equalized Odds            \n                                  mean       std  \nmethod                                            \nGerry Fair Classifier         0.048129  0.035106  \nFair Transition Loss          0.059030  0.050259  \nPrejudice Remover             0.070999  0.036964  \nStandard MLP (baseline)       0.075291  0.041982  \nAdversarial Debiasing         0.094973  0.068159  ",
      "text/html": "<div>\n<style scoped>\n    .dataframe tbody tr th:only-of-type {\n        vertical-align: middle;\n    }\n\n    .dataframe tbody tr th {\n        vertical-align: top;\n    }\n\n    .dataframe thead tr th {\n        text-align: left;\n    }\n\n    .dataframe thead tr:last-of-type th {\n        text-align: right;\n    }\n</style>\n<table border=\"1\" class=\"dataframe\">\n  <thead>\n    <tr>\n      <th></th>\n      <th colspan=\"3\" halign=\"left\">fitness</th>\n      <th colspan=\"2\" halign=\"left\">Accuracy</th>\n      <th colspan=\"2\" halign=\"left\">Equalized Odds</th>\n    </tr>\n    <tr>\n      <th></th>\n      <th>mean</th>\n      <th>std</th>\n      <th>count</th>\n      <th>mean</th>\n      <th>std</th>\n      <th>mean</th>\n      <th>std</th>\n    </tr>\n    <tr>\n      <th>method</th>\n      <th></th>\n      <th></th>\n      <th></th>\n      <th></th>\n      <th></th>\n      <th></th>\n      <th></th>\n    </tr>\n  </thead>\n  <tbody>\n    <tr>\n      <th>Gerry Fair Classifier</th>\n      <td>0.847492</td>\n      <td>0.033414</td>\n      <td>16</td>\n      <td>0.895622</td>\n      <td>0.003053</td>\n      <td>0.048129</td>\n      <td>0.035106</td>\n    </tr>\n    <tr>\n      <th>Fair Transition Loss</th>\n      <td>0.832850</td>\n      <td>0.046099</td>\n      <td>16</td>\n      <td>0.891881</td>\n      <td>0.012613</td>\n      <td>0.059030</td>\n      <td>0.050259</td>\n    </tr>\n    <tr>\n      <th>Prejudice Remover</th>\n      <td>0.826580</td>\n      <td>0.036570</td>\n      <td>16</td>\n      <td>0.897579</td>\n      <td>0.003235</td>\n      <td>0.070999</td>\n      <td>0.036964</td>\n    </tr>\n    <tr>\n      <th>Standard MLP (baseline)</th>\n      <td>0.825660</td>\n      <td>0.041732</td>\n      <td>16</td>\n      <td>0.900951</td>\n      <td>0.004575</td>\n      <td>0.075291</td>\n      <td>0.041982</td>\n    </tr>\n    <tr>\n      <th>Adversarial Debiasing</th>\n      <td>0.807064</td>\n      <td>0.068668</td>\n      <td>16</td>\n      <td>0.902038</td>\n      <td>0.003512</td>\n      <td>0.094973</td>\n      <td>0.068159</td>\n    </tr>\n  </tbody>\n</table>\n</div>"
     },
     "metadata": {},
     "output_type": "display_data"
    },
    {
     "name": "stdout",
     "output_type": "stream",
     "text": [
      "Significance Testing\n"
     ]
    },
    {
     "data": {
      "text/plain": "                         Standard MLP (baseline)  Fair Transition Loss  \\\nmethods                                                                  \nStandard MLP (baseline)                 1.000000               1.00000   \nFair Transition Loss                    0.775530               1.00000   \nAdversarial Debiasing                   1.000000               1.00000   \nPrejudice Remover                       0.887988               1.00000   \nGerry Fair Classifier                   0.364233               0.47928   \n\n                         Adversarial Debiasing  Prejudice Remover  \\\nmethods                                                             \nStandard MLP (baseline)               0.454819           1.000000   \nFair Transition Loss                  0.386310           0.814048   \nAdversarial Debiasing                 1.000000           1.000000   \nPrejudice Remover                     0.408139           1.000000   \nGerry Fair Classifier                 0.172680           0.336805   \n\n                         Gerry Fair Classifier  \nmethods                                         \nStandard MLP (baseline)                    1.0  \nFair Transition Loss                       1.0  \nAdversarial Debiasing                      1.0  \nPrejudice Remover                          1.0  \nGerry Fair Classifier                      1.0  ",
      "text/html": "<div>\n<style scoped>\n    .dataframe tbody tr th:only-of-type {\n        vertical-align: middle;\n    }\n\n    .dataframe tbody tr th {\n        vertical-align: top;\n    }\n\n    .dataframe thead th {\n        text-align: right;\n    }\n</style>\n<table border=\"1\" class=\"dataframe\">\n  <thead>\n    <tr style=\"text-align: right;\">\n      <th></th>\n      <th>Standard MLP (baseline)</th>\n      <th>Fair Transition Loss</th>\n      <th>Adversarial Debiasing</th>\n      <th>Prejudice Remover</th>\n      <th>Gerry Fair Classifier</th>\n    </tr>\n    <tr>\n      <th>methods</th>\n      <th></th>\n      <th></th>\n      <th></th>\n      <th></th>\n      <th></th>\n    </tr>\n  </thead>\n  <tbody>\n    <tr>\n      <th>Standard MLP (baseline)</th>\n      <td>1.000000</td>\n      <td>1.00000</td>\n      <td>0.454819</td>\n      <td>1.000000</td>\n      <td>1.0</td>\n    </tr>\n    <tr>\n      <th>Fair Transition Loss</th>\n      <td>0.775530</td>\n      <td>1.00000</td>\n      <td>0.386310</td>\n      <td>0.814048</td>\n      <td>1.0</td>\n    </tr>\n    <tr>\n      <th>Adversarial Debiasing</th>\n      <td>1.000000</td>\n      <td>1.00000</td>\n      <td>1.000000</td>\n      <td>1.000000</td>\n      <td>1.0</td>\n    </tr>\n    <tr>\n      <th>Prejudice Remover</th>\n      <td>0.887988</td>\n      <td>1.00000</td>\n      <td>0.408139</td>\n      <td>1.000000</td>\n      <td>1.0</td>\n    </tr>\n    <tr>\n      <th>Gerry Fair Classifier</th>\n      <td>0.364233</td>\n      <td>0.47928</td>\n      <td>0.172680</td>\n      <td>0.336805</td>\n      <td>1.0</td>\n    </tr>\n  </tbody>\n</table>\n</div>"
     },
     "metadata": {},
     "output_type": "display_data"
    },
    {
     "name": "stdout",
     "output_type": "stream",
     "text": [
      "Bank Market | max(Accuracy - Equal Opportunity)\n"
     ]
    },
    {
     "data": {
      "text/plain": "                          fitness                  Accuracy            \\\n                             mean       std count      mean       std   \nmethod                                                                  \nGerry Fair Classifier    0.801388  0.055304    16  0.895601  0.003050   \nStandard MLP (baseline)  0.799991  0.060918    16  0.902222  0.004254   \nFair Transition Loss     0.799420  0.097449    16  0.891471  0.010348   \nPrejudice Remover        0.780926  0.071711    16  0.899414  0.003267   \nAdversarial Debiasing    0.749968  0.085135    16  0.900203  0.002987   \n\n                        Equal Opportunity            \n                                     mean       std  \nmethod                                               \nGerry Fair Classifier            0.094213  0.056372  \nStandard MLP (baseline)          0.102231  0.062028  \nFair Transition Loss             0.092051  0.098067  \nPrejudice Remover                0.118488  0.072614  \nAdversarial Debiasing            0.150235  0.085263  ",
      "text/html": "<div>\n<style scoped>\n    .dataframe tbody tr th:only-of-type {\n        vertical-align: middle;\n    }\n\n    .dataframe tbody tr th {\n        vertical-align: top;\n    }\n\n    .dataframe thead tr th {\n        text-align: left;\n    }\n\n    .dataframe thead tr:last-of-type th {\n        text-align: right;\n    }\n</style>\n<table border=\"1\" class=\"dataframe\">\n  <thead>\n    <tr>\n      <th></th>\n      <th colspan=\"3\" halign=\"left\">fitness</th>\n      <th colspan=\"2\" halign=\"left\">Accuracy</th>\n      <th colspan=\"2\" halign=\"left\">Equal Opportunity</th>\n    </tr>\n    <tr>\n      <th></th>\n      <th>mean</th>\n      <th>std</th>\n      <th>count</th>\n      <th>mean</th>\n      <th>std</th>\n      <th>mean</th>\n      <th>std</th>\n    </tr>\n    <tr>\n      <th>method</th>\n      <th></th>\n      <th></th>\n      <th></th>\n      <th></th>\n      <th></th>\n      <th></th>\n      <th></th>\n    </tr>\n  </thead>\n  <tbody>\n    <tr>\n      <th>Gerry Fair Classifier</th>\n      <td>0.801388</td>\n      <td>0.055304</td>\n      <td>16</td>\n      <td>0.895601</td>\n      <td>0.003050</td>\n      <td>0.094213</td>\n      <td>0.056372</td>\n    </tr>\n    <tr>\n      <th>Standard MLP (baseline)</th>\n      <td>0.799991</td>\n      <td>0.060918</td>\n      <td>16</td>\n      <td>0.902222</td>\n      <td>0.004254</td>\n      <td>0.102231</td>\n      <td>0.062028</td>\n    </tr>\n    <tr>\n      <th>Fair Transition Loss</th>\n      <td>0.799420</td>\n      <td>0.097449</td>\n      <td>16</td>\n      <td>0.891471</td>\n      <td>0.010348</td>\n      <td>0.092051</td>\n      <td>0.098067</td>\n    </tr>\n    <tr>\n      <th>Prejudice Remover</th>\n      <td>0.780926</td>\n      <td>0.071711</td>\n      <td>16</td>\n      <td>0.899414</td>\n      <td>0.003267</td>\n      <td>0.118488</td>\n      <td>0.072614</td>\n    </tr>\n    <tr>\n      <th>Adversarial Debiasing</th>\n      <td>0.749968</td>\n      <td>0.085135</td>\n      <td>16</td>\n      <td>0.900203</td>\n      <td>0.002987</td>\n      <td>0.150235</td>\n      <td>0.085263</td>\n    </tr>\n  </tbody>\n</table>\n</div>"
     },
     "metadata": {},
     "output_type": "display_data"
    },
    {
     "name": "stdout",
     "output_type": "stream",
     "text": [
      "Significance Testing\n"
     ]
    },
    {
     "data": {
      "text/plain": "                         Standard MLP (baseline)  Fair Transition Loss  \\\nmethods                                                                  \nStandard MLP (baseline)                      1.0              0.783754   \nFair Transition Loss                         1.0              1.000000   \nAdversarial Debiasing                        1.0              1.000000   \nPrejudice Remover                            1.0              1.000000   \nGerry Fair Classifier                        1.0              0.736151   \n\n                         Adversarial Debiasing  Prejudice Remover  \\\nmethods                                                             \nStandard MLP (baseline)               0.209436           0.539397   \nFair Transition Loss                  0.369527           0.819028   \nAdversarial Debiasing                 1.000000           1.000000   \nPrejudice Remover                     0.490342           1.000000   \nGerry Fair Classifier                 0.171768           0.526315   \n\n                         Gerry Fair Classifier  \nmethods                                         \nStandard MLP (baseline)                    1.0  \nFair Transition Loss                       1.0  \nAdversarial Debiasing                      1.0  \nPrejudice Remover                          1.0  \nGerry Fair Classifier                      1.0  ",
      "text/html": "<div>\n<style scoped>\n    .dataframe tbody tr th:only-of-type {\n        vertical-align: middle;\n    }\n\n    .dataframe tbody tr th {\n        vertical-align: top;\n    }\n\n    .dataframe thead th {\n        text-align: right;\n    }\n</style>\n<table border=\"1\" class=\"dataframe\">\n  <thead>\n    <tr style=\"text-align: right;\">\n      <th></th>\n      <th>Standard MLP (baseline)</th>\n      <th>Fair Transition Loss</th>\n      <th>Adversarial Debiasing</th>\n      <th>Prejudice Remover</th>\n      <th>Gerry Fair Classifier</th>\n    </tr>\n    <tr>\n      <th>methods</th>\n      <th></th>\n      <th></th>\n      <th></th>\n      <th></th>\n      <th></th>\n    </tr>\n  </thead>\n  <tbody>\n    <tr>\n      <th>Standard MLP (baseline)</th>\n      <td>1.0</td>\n      <td>0.783754</td>\n      <td>0.209436</td>\n      <td>0.539397</td>\n      <td>1.0</td>\n    </tr>\n    <tr>\n      <th>Fair Transition Loss</th>\n      <td>1.0</td>\n      <td>1.000000</td>\n      <td>0.369527</td>\n      <td>0.819028</td>\n      <td>1.0</td>\n    </tr>\n    <tr>\n      <th>Adversarial Debiasing</th>\n      <td>1.0</td>\n      <td>1.000000</td>\n      <td>1.000000</td>\n      <td>1.000000</td>\n      <td>1.0</td>\n    </tr>\n    <tr>\n      <th>Prejudice Remover</th>\n      <td>1.0</td>\n      <td>1.000000</td>\n      <td>0.490342</td>\n      <td>1.000000</td>\n      <td>1.0</td>\n    </tr>\n    <tr>\n      <th>Gerry Fair Classifier</th>\n      <td>1.0</td>\n      <td>0.736151</td>\n      <td>0.171768</td>\n      <td>0.526315</td>\n      <td>1.0</td>\n    </tr>\n  </tbody>\n</table>\n</div>"
     },
     "metadata": {},
     "output_type": "display_data"
    },
    {
     "name": "stdout",
     "output_type": "stream",
     "text": [
      "Compas Recidivism | max(Mathew Correlation - Statistical Parity)\n"
     ]
    },
    {
     "data": {
      "text/plain": "                          fitness                 Mathew Correlation  \\\n                             mean       std count               mean   \nmethod                                                                 \nFair Transition Loss     0.219648  0.060505    15           0.276319   \nAdversarial Debiasing    0.156659  0.143556    15           0.322097   \nGerry Fair Classifier    0.114192  0.047612    15           0.245784   \nPrejudice Remover       -0.318189  0.052017    15          -0.275734   \nStandard MLP (baseline) -0.511081  0.048197    15          -0.299095   \n\n                                  Statistical Parity            \n                              std               mean       std  \nmethod                                                          \nFair Transition Loss     0.027969           0.056671  0.045211  \nAdversarial Debiasing    0.015693           0.165438  0.135798  \nGerry Fair Classifier    0.093050           0.131592  0.057941  \nPrejudice Remover        0.029641           0.042455  0.027919  \nStandard MLP (baseline)  0.029404           0.211986  0.039521  ",
      "text/html": "<div>\n<style scoped>\n    .dataframe tbody tr th:only-of-type {\n        vertical-align: middle;\n    }\n\n    .dataframe tbody tr th {\n        vertical-align: top;\n    }\n\n    .dataframe thead tr th {\n        text-align: left;\n    }\n\n    .dataframe thead tr:last-of-type th {\n        text-align: right;\n    }\n</style>\n<table border=\"1\" class=\"dataframe\">\n  <thead>\n    <tr>\n      <th></th>\n      <th colspan=\"3\" halign=\"left\">fitness</th>\n      <th colspan=\"2\" halign=\"left\">Mathew Correlation</th>\n      <th colspan=\"2\" halign=\"left\">Statistical Parity</th>\n    </tr>\n    <tr>\n      <th></th>\n      <th>mean</th>\n      <th>std</th>\n      <th>count</th>\n      <th>mean</th>\n      <th>std</th>\n      <th>mean</th>\n      <th>std</th>\n    </tr>\n    <tr>\n      <th>method</th>\n      <th></th>\n      <th></th>\n      <th></th>\n      <th></th>\n      <th></th>\n      <th></th>\n      <th></th>\n    </tr>\n  </thead>\n  <tbody>\n    <tr>\n      <th>Fair Transition Loss</th>\n      <td>0.219648</td>\n      <td>0.060505</td>\n      <td>15</td>\n      <td>0.276319</td>\n      <td>0.027969</td>\n      <td>0.056671</td>\n      <td>0.045211</td>\n    </tr>\n    <tr>\n      <th>Adversarial Debiasing</th>\n      <td>0.156659</td>\n      <td>0.143556</td>\n      <td>15</td>\n      <td>0.322097</td>\n      <td>0.015693</td>\n      <td>0.165438</td>\n      <td>0.135798</td>\n    </tr>\n    <tr>\n      <th>Gerry Fair Classifier</th>\n      <td>0.114192</td>\n      <td>0.047612</td>\n      <td>15</td>\n      <td>0.245784</td>\n      <td>0.093050</td>\n      <td>0.131592</td>\n      <td>0.057941</td>\n    </tr>\n    <tr>\n      <th>Prejudice Remover</th>\n      <td>-0.318189</td>\n      <td>0.052017</td>\n      <td>15</td>\n      <td>-0.275734</td>\n      <td>0.029641</td>\n      <td>0.042455</td>\n      <td>0.027919</td>\n    </tr>\n    <tr>\n      <th>Standard MLP (baseline)</th>\n      <td>-0.511081</td>\n      <td>0.048197</td>\n      <td>15</td>\n      <td>-0.299095</td>\n      <td>0.029404</td>\n      <td>0.211986</td>\n      <td>0.039521</td>\n    </tr>\n  </tbody>\n</table>\n</div>"
     },
     "metadata": {},
     "output_type": "display_data"
    },
    {
     "name": "stdout",
     "output_type": "stream",
     "text": [
      "Significance Testing\n"
     ]
    },
    {
     "data": {
      "text/plain": "                         Standard MLP (baseline)  Fair Transition Loss  \\\nmethods                                                                  \nStandard MLP (baseline)                 1.000000              0.996345   \nFair Transition Loss                    0.005095              1.000000   \nAdversarial Debiasing                   0.003193              1.000000   \nPrejudice Remover                       0.006301              1.000000   \nGerry Fair Classifier                   0.005356              1.000000   \n\n                         Adversarial Debiasing  Prejudice Remover  \\\nmethods                                                             \nStandard MLP (baseline)               1.000000           0.997154   \nFair Transition Loss                  0.211472           0.000000   \nAdversarial Debiasing                 1.000000           0.000000   \nPrejudice Remover                     1.000000           1.000000   \nGerry Fair Classifier                 1.000000           0.005636   \n\n                         Gerry Fair Classifier  \nmethods                                         \nStandard MLP (baseline)               0.996968  \nFair Transition Loss                  0.001872  \nAdversarial Debiasing                 0.785546  \nPrejudice Remover                     0.997638  \nGerry Fair Classifier                 1.000000  ",
      "text/html": "<div>\n<style scoped>\n    .dataframe tbody tr th:only-of-type {\n        vertical-align: middle;\n    }\n\n    .dataframe tbody tr th {\n        vertical-align: top;\n    }\n\n    .dataframe thead th {\n        text-align: right;\n    }\n</style>\n<table border=\"1\" class=\"dataframe\">\n  <thead>\n    <tr style=\"text-align: right;\">\n      <th></th>\n      <th>Standard MLP (baseline)</th>\n      <th>Fair Transition Loss</th>\n      <th>Adversarial Debiasing</th>\n      <th>Prejudice Remover</th>\n      <th>Gerry Fair Classifier</th>\n    </tr>\n    <tr>\n      <th>methods</th>\n      <th></th>\n      <th></th>\n      <th></th>\n      <th></th>\n      <th></th>\n    </tr>\n  </thead>\n  <tbody>\n    <tr>\n      <th>Standard MLP (baseline)</th>\n      <td>1.000000</td>\n      <td>0.996345</td>\n      <td>1.000000</td>\n      <td>0.997154</td>\n      <td>0.996968</td>\n    </tr>\n    <tr>\n      <th>Fair Transition Loss</th>\n      <td>0.005095</td>\n      <td>1.000000</td>\n      <td>0.211472</td>\n      <td>0.000000</td>\n      <td>0.001872</td>\n    </tr>\n    <tr>\n      <th>Adversarial Debiasing</th>\n      <td>0.003193</td>\n      <td>1.000000</td>\n      <td>1.000000</td>\n      <td>0.000000</td>\n      <td>0.785546</td>\n    </tr>\n    <tr>\n      <th>Prejudice Remover</th>\n      <td>0.006301</td>\n      <td>1.000000</td>\n      <td>1.000000</td>\n      <td>1.000000</td>\n      <td>0.997638</td>\n    </tr>\n    <tr>\n      <th>Gerry Fair Classifier</th>\n      <td>0.005356</td>\n      <td>1.000000</td>\n      <td>1.000000</td>\n      <td>0.005636</td>\n      <td>1.000000</td>\n    </tr>\n  </tbody>\n</table>\n</div>"
     },
     "metadata": {},
     "output_type": "display_data"
    },
    {
     "name": "stdout",
     "output_type": "stream",
     "text": [
      "Compas Recidivism | max(Mathew Correlation - Equalized Odds)\n"
     ]
    },
    {
     "data": {
      "text/plain": "                          fitness                 Mathew Correlation  \\\n                             mean       std count               mean   \nmethod                                                                 \nFair Transition Loss     0.208479  0.058105    15           0.282652   \nAdversarial Debiasing    0.191345  0.110034    15           0.324271   \nGerry Fair Classifier    0.150205  0.059268    15           0.269140   \nPrejudice Remover       -0.351727  0.032756    15          -0.278298   \nStandard MLP (baseline) -0.470693  0.048406    15          -0.294316   \n\n                                  Equalized Odds            \n                              std           mean       std  \nmethod                                                      \nFair Transition Loss     0.024903       0.074173  0.046962  \nAdversarial Debiasing    0.034796       0.132926  0.096137  \nGerry Fair Classifier    0.073869       0.118935  0.042625  \nPrejudice Remover        0.020505       0.073429  0.025640  \nStandard MLP (baseline)  0.016584       0.176377  0.042590  ",
      "text/html": "<div>\n<style scoped>\n    .dataframe tbody tr th:only-of-type {\n        vertical-align: middle;\n    }\n\n    .dataframe tbody tr th {\n        vertical-align: top;\n    }\n\n    .dataframe thead tr th {\n        text-align: left;\n    }\n\n    .dataframe thead tr:last-of-type th {\n        text-align: right;\n    }\n</style>\n<table border=\"1\" class=\"dataframe\">\n  <thead>\n    <tr>\n      <th></th>\n      <th colspan=\"3\" halign=\"left\">fitness</th>\n      <th colspan=\"2\" halign=\"left\">Mathew Correlation</th>\n      <th colspan=\"2\" halign=\"left\">Equalized Odds</th>\n    </tr>\n    <tr>\n      <th></th>\n      <th>mean</th>\n      <th>std</th>\n      <th>count</th>\n      <th>mean</th>\n      <th>std</th>\n      <th>mean</th>\n      <th>std</th>\n    </tr>\n    <tr>\n      <th>method</th>\n      <th></th>\n      <th></th>\n      <th></th>\n      <th></th>\n      <th></th>\n      <th></th>\n      <th></th>\n    </tr>\n  </thead>\n  <tbody>\n    <tr>\n      <th>Fair Transition Loss</th>\n      <td>0.208479</td>\n      <td>0.058105</td>\n      <td>15</td>\n      <td>0.282652</td>\n      <td>0.024903</td>\n      <td>0.074173</td>\n      <td>0.046962</td>\n    </tr>\n    <tr>\n      <th>Adversarial Debiasing</th>\n      <td>0.191345</td>\n      <td>0.110034</td>\n      <td>15</td>\n      <td>0.324271</td>\n      <td>0.034796</td>\n      <td>0.132926</td>\n      <td>0.096137</td>\n    </tr>\n    <tr>\n      <th>Gerry Fair Classifier</th>\n      <td>0.150205</td>\n      <td>0.059268</td>\n      <td>15</td>\n      <td>0.269140</td>\n      <td>0.073869</td>\n      <td>0.118935</td>\n      <td>0.042625</td>\n    </tr>\n    <tr>\n      <th>Prejudice Remover</th>\n      <td>-0.351727</td>\n      <td>0.032756</td>\n      <td>15</td>\n      <td>-0.278298</td>\n      <td>0.020505</td>\n      <td>0.073429</td>\n      <td>0.025640</td>\n    </tr>\n    <tr>\n      <th>Standard MLP (baseline)</th>\n      <td>-0.470693</td>\n      <td>0.048406</td>\n      <td>15</td>\n      <td>-0.294316</td>\n      <td>0.016584</td>\n      <td>0.176377</td>\n      <td>0.042590</td>\n    </tr>\n  </tbody>\n</table>\n</div>"
     },
     "metadata": {},
     "output_type": "display_data"
    },
    {
     "name": "stdout",
     "output_type": "stream",
     "text": [
      "Significance Testing\n"
     ]
    },
    {
     "data": {
      "text/plain": "                         Standard MLP (baseline)  Fair Transition Loss  \\\nmethods                                                                  \nStandard MLP (baseline)                 1.000000              0.995841   \nFair Transition Loss                    0.005317              1.000000   \nAdversarial Debiasing                   0.003936              1.000000   \nPrejudice Remover                       0.010060              1.000000   \nGerry Fair Classifier                   0.004940              1.000000   \n\n                         Adversarial Debiasing  Prejudice Remover  \\\nmethods                                                             \nStandard MLP (baseline)               0.997852           0.998365   \nFair Transition Loss                  0.582610           0.000000   \nAdversarial Debiasing                 1.000000           0.000000   \nPrejudice Remover                     1.000000           1.000000   \nGerry Fair Classifier                 1.000000           0.004811   \n\n                         Gerry Fair Classifier  \nmethods                                         \nStandard MLP (baseline)               0.996993  \nFair Transition Loss                  0.056215  \nAdversarial Debiasing                 0.570301  \nPrejudice Remover                     0.997713  \nGerry Fair Classifier                 1.000000  ",
      "text/html": "<div>\n<style scoped>\n    .dataframe tbody tr th:only-of-type {\n        vertical-align: middle;\n    }\n\n    .dataframe tbody tr th {\n        vertical-align: top;\n    }\n\n    .dataframe thead th {\n        text-align: right;\n    }\n</style>\n<table border=\"1\" class=\"dataframe\">\n  <thead>\n    <tr style=\"text-align: right;\">\n      <th></th>\n      <th>Standard MLP (baseline)</th>\n      <th>Fair Transition Loss</th>\n      <th>Adversarial Debiasing</th>\n      <th>Prejudice Remover</th>\n      <th>Gerry Fair Classifier</th>\n    </tr>\n    <tr>\n      <th>methods</th>\n      <th></th>\n      <th></th>\n      <th></th>\n      <th></th>\n      <th></th>\n    </tr>\n  </thead>\n  <tbody>\n    <tr>\n      <th>Standard MLP (baseline)</th>\n      <td>1.000000</td>\n      <td>0.995841</td>\n      <td>0.997852</td>\n      <td>0.998365</td>\n      <td>0.996993</td>\n    </tr>\n    <tr>\n      <th>Fair Transition Loss</th>\n      <td>0.005317</td>\n      <td>1.000000</td>\n      <td>0.582610</td>\n      <td>0.000000</td>\n      <td>0.056215</td>\n    </tr>\n    <tr>\n      <th>Adversarial Debiasing</th>\n      <td>0.003936</td>\n      <td>1.000000</td>\n      <td>1.000000</td>\n      <td>0.000000</td>\n      <td>0.570301</td>\n    </tr>\n    <tr>\n      <th>Prejudice Remover</th>\n      <td>0.010060</td>\n      <td>1.000000</td>\n      <td>1.000000</td>\n      <td>1.000000</td>\n      <td>0.997713</td>\n    </tr>\n    <tr>\n      <th>Gerry Fair Classifier</th>\n      <td>0.004940</td>\n      <td>1.000000</td>\n      <td>1.000000</td>\n      <td>0.004811</td>\n      <td>1.000000</td>\n    </tr>\n  </tbody>\n</table>\n</div>"
     },
     "metadata": {},
     "output_type": "display_data"
    },
    {
     "name": "stdout",
     "output_type": "stream",
     "text": [
      "Compas Recidivism | max(Mathew Correlation - Equal Opportunity)\n"
     ]
    },
    {
     "data": {
      "text/plain": "                          fitness                 Mathew Correlation  \\\n                             mean       std count               mean   \nmethod                                                                 \nAdversarial Debiasing    0.258418  0.052592    15           0.328905   \nFair Transition Loss     0.213496  0.058243    15           0.263713   \nGerry Fair Classifier    0.166407  0.052726    15           0.264071   \nPrejudice Remover       -0.319029  0.031000    15          -0.289144   \nStandard MLP (baseline) -0.435498  0.034788    15          -0.292278   \n\n                                  Equal Opportunity            \n                              std              mean       std  \nmethod                                                         \nAdversarial Debiasing    0.025563          0.070487  0.050916  \nFair Transition Loss     0.060744          0.050218  0.029355  \nGerry Fair Classifier    0.053928          0.097664  0.038141  \nPrejudice Remover        0.027507          0.029885  0.021920  \nStandard MLP (baseline)  0.021478          0.143220  0.031957  ",
      "text/html": "<div>\n<style scoped>\n    .dataframe tbody tr th:only-of-type {\n        vertical-align: middle;\n    }\n\n    .dataframe tbody tr th {\n        vertical-align: top;\n    }\n\n    .dataframe thead tr th {\n        text-align: left;\n    }\n\n    .dataframe thead tr:last-of-type th {\n        text-align: right;\n    }\n</style>\n<table border=\"1\" class=\"dataframe\">\n  <thead>\n    <tr>\n      <th></th>\n      <th colspan=\"3\" halign=\"left\">fitness</th>\n      <th colspan=\"2\" halign=\"left\">Mathew Correlation</th>\n      <th colspan=\"2\" halign=\"left\">Equal Opportunity</th>\n    </tr>\n    <tr>\n      <th></th>\n      <th>mean</th>\n      <th>std</th>\n      <th>count</th>\n      <th>mean</th>\n      <th>std</th>\n      <th>mean</th>\n      <th>std</th>\n    </tr>\n    <tr>\n      <th>method</th>\n      <th></th>\n      <th></th>\n      <th></th>\n      <th></th>\n      <th></th>\n      <th></th>\n      <th></th>\n    </tr>\n  </thead>\n  <tbody>\n    <tr>\n      <th>Adversarial Debiasing</th>\n      <td>0.258418</td>\n      <td>0.052592</td>\n      <td>15</td>\n      <td>0.328905</td>\n      <td>0.025563</td>\n      <td>0.070487</td>\n      <td>0.050916</td>\n    </tr>\n    <tr>\n      <th>Fair Transition Loss</th>\n      <td>0.213496</td>\n      <td>0.058243</td>\n      <td>15</td>\n      <td>0.263713</td>\n      <td>0.060744</td>\n      <td>0.050218</td>\n      <td>0.029355</td>\n    </tr>\n    <tr>\n      <th>Gerry Fair Classifier</th>\n      <td>0.166407</td>\n      <td>0.052726</td>\n      <td>15</td>\n      <td>0.264071</td>\n      <td>0.053928</td>\n      <td>0.097664</td>\n      <td>0.038141</td>\n    </tr>\n    <tr>\n      <th>Prejudice Remover</th>\n      <td>-0.319029</td>\n      <td>0.031000</td>\n      <td>15</td>\n      <td>-0.289144</td>\n      <td>0.027507</td>\n      <td>0.029885</td>\n      <td>0.021920</td>\n    </tr>\n    <tr>\n      <th>Standard MLP (baseline)</th>\n      <td>-0.435498</td>\n      <td>0.034788</td>\n      <td>15</td>\n      <td>-0.292278</td>\n      <td>0.021478</td>\n      <td>0.143220</td>\n      <td>0.031957</td>\n    </tr>\n  </tbody>\n</table>\n</div>"
     },
     "metadata": {},
     "output_type": "display_data"
    },
    {
     "name": "stdout",
     "output_type": "stream",
     "text": [
      "Significance Testing\n"
     ]
    },
    {
     "data": {
      "text/plain": "                         Standard MLP (baseline)  Fair Transition Loss  \\\nmethods                                                                  \nStandard MLP (baseline)                 1.000000              0.996901   \nFair Transition Loss                    0.004837              1.000000   \nAdversarial Debiasing                   0.004914              0.157117   \nPrejudice Remover                       0.008905              1.000000   \nGerry Fair Classifier                   0.004776              1.000000   \n\n                         Adversarial Debiasing  Prejudice Remover  \\\nmethods                                                             \nStandard MLP (baseline)               0.996192           0.995628   \nFair Transition Loss                  1.000000           0.000000   \nAdversarial Debiasing                 1.000000           0.000000   \nPrejudice Remover                     1.000000           1.000000   \nGerry Fair Classifier                 1.000000           0.004340   \n\n                         Gerry Fair Classifier  \nmethods                                         \nStandard MLP (baseline)               0.996766  \nFair Transition Loss                  0.183791  \nAdversarial Debiasing                 0.002297  \nPrejudice Remover                     0.997417  \nGerry Fair Classifier                 1.000000  ",
      "text/html": "<div>\n<style scoped>\n    .dataframe tbody tr th:only-of-type {\n        vertical-align: middle;\n    }\n\n    .dataframe tbody tr th {\n        vertical-align: top;\n    }\n\n    .dataframe thead th {\n        text-align: right;\n    }\n</style>\n<table border=\"1\" class=\"dataframe\">\n  <thead>\n    <tr style=\"text-align: right;\">\n      <th></th>\n      <th>Standard MLP (baseline)</th>\n      <th>Fair Transition Loss</th>\n      <th>Adversarial Debiasing</th>\n      <th>Prejudice Remover</th>\n      <th>Gerry Fair Classifier</th>\n    </tr>\n    <tr>\n      <th>methods</th>\n      <th></th>\n      <th></th>\n      <th></th>\n      <th></th>\n      <th></th>\n    </tr>\n  </thead>\n  <tbody>\n    <tr>\n      <th>Standard MLP (baseline)</th>\n      <td>1.000000</td>\n      <td>0.996901</td>\n      <td>0.996192</td>\n      <td>0.995628</td>\n      <td>0.996766</td>\n    </tr>\n    <tr>\n      <th>Fair Transition Loss</th>\n      <td>0.004837</td>\n      <td>1.000000</td>\n      <td>1.000000</td>\n      <td>0.000000</td>\n      <td>0.183791</td>\n    </tr>\n    <tr>\n      <th>Adversarial Debiasing</th>\n      <td>0.004914</td>\n      <td>0.157117</td>\n      <td>1.000000</td>\n      <td>0.000000</td>\n      <td>0.002297</td>\n    </tr>\n    <tr>\n      <th>Prejudice Remover</th>\n      <td>0.008905</td>\n      <td>1.000000</td>\n      <td>1.000000</td>\n      <td>1.000000</td>\n      <td>0.997417</td>\n    </tr>\n    <tr>\n      <th>Gerry Fair Classifier</th>\n      <td>0.004776</td>\n      <td>1.000000</td>\n      <td>1.000000</td>\n      <td>0.004340</td>\n      <td>1.000000</td>\n    </tr>\n  </tbody>\n</table>\n</div>"
     },
     "metadata": {},
     "output_type": "display_data"
    },
    {
     "name": "stdout",
     "output_type": "stream",
     "text": [
      "Compas Recidivism | max(Accuracy - Statistical Parity)\n"
     ]
    },
    {
     "data": {
      "text/plain": "                          fitness                  Accuracy            \\\n                             mean       std count      mean       std   \nmethod                                                                  \nAdversarial Debiasing    0.537701  0.072416    15  0.670070  0.015980   \nFair Transition Loss     0.501417  0.151259    15  0.600000  0.047615   \nGerry Fair Classifier    0.482351  0.038079    15  0.595624  0.085296   \nPrejudice Remover        0.307630  0.028754    15  0.359265  0.013230   \nStandard MLP (baseline)  0.145627  0.032556    15  0.354025  0.017277   \n\n                        Statistical Parity            \n                                      mean       std  \nmethod                                                \nAdversarial Debiasing             0.132370  0.081590  \nFair Transition Loss              0.098583  0.143214  \nGerry Fair Classifier             0.113273  0.072172  \nPrejudice Remover                 0.051635  0.023966  \nStandard MLP (baseline)           0.208397  0.024309  ",
      "text/html": "<div>\n<style scoped>\n    .dataframe tbody tr th:only-of-type {\n        vertical-align: middle;\n    }\n\n    .dataframe tbody tr th {\n        vertical-align: top;\n    }\n\n    .dataframe thead tr th {\n        text-align: left;\n    }\n\n    .dataframe thead tr:last-of-type th {\n        text-align: right;\n    }\n</style>\n<table border=\"1\" class=\"dataframe\">\n  <thead>\n    <tr>\n      <th></th>\n      <th colspan=\"3\" halign=\"left\">fitness</th>\n      <th colspan=\"2\" halign=\"left\">Accuracy</th>\n      <th colspan=\"2\" halign=\"left\">Statistical Parity</th>\n    </tr>\n    <tr>\n      <th></th>\n      <th>mean</th>\n      <th>std</th>\n      <th>count</th>\n      <th>mean</th>\n      <th>std</th>\n      <th>mean</th>\n      <th>std</th>\n    </tr>\n    <tr>\n      <th>method</th>\n      <th></th>\n      <th></th>\n      <th></th>\n      <th></th>\n      <th></th>\n      <th></th>\n      <th></th>\n    </tr>\n  </thead>\n  <tbody>\n    <tr>\n      <th>Adversarial Debiasing</th>\n      <td>0.537701</td>\n      <td>0.072416</td>\n      <td>15</td>\n      <td>0.670070</td>\n      <td>0.015980</td>\n      <td>0.132370</td>\n      <td>0.081590</td>\n    </tr>\n    <tr>\n      <th>Fair Transition Loss</th>\n      <td>0.501417</td>\n      <td>0.151259</td>\n      <td>15</td>\n      <td>0.600000</td>\n      <td>0.047615</td>\n      <td>0.098583</td>\n      <td>0.143214</td>\n    </tr>\n    <tr>\n      <th>Gerry Fair Classifier</th>\n      <td>0.482351</td>\n      <td>0.038079</td>\n      <td>15</td>\n      <td>0.595624</td>\n      <td>0.085296</td>\n      <td>0.113273</td>\n      <td>0.072172</td>\n    </tr>\n    <tr>\n      <th>Prejudice Remover</th>\n      <td>0.307630</td>\n      <td>0.028754</td>\n      <td>15</td>\n      <td>0.359265</td>\n      <td>0.013230</td>\n      <td>0.051635</td>\n      <td>0.023966</td>\n    </tr>\n    <tr>\n      <th>Standard MLP (baseline)</th>\n      <td>0.145627</td>\n      <td>0.032556</td>\n      <td>15</td>\n      <td>0.354025</td>\n      <td>0.017277</td>\n      <td>0.208397</td>\n      <td>0.024309</td>\n    </tr>\n  </tbody>\n</table>\n</div>"
     },
     "metadata": {},
     "output_type": "display_data"
    },
    {
     "name": "stdout",
     "output_type": "stream",
     "text": [
      "Significance Testing\n"
     ]
    },
    {
     "data": {
      "text/plain": "                         Standard MLP (baseline)  Fair Transition Loss  \\\nmethods                                                                  \nStandard MLP (baseline)                 1.000000              1.000000   \nFair Transition Loss                    0.002008              1.000000   \nAdversarial Debiasing                   0.003972              0.499794   \nPrejudice Remover                       0.005943              1.000000   \nGerry Fair Classifier                   0.004969              0.799772   \n\n                         Adversarial Debiasing  Prejudice Remover  \\\nmethods                                                             \nStandard MLP (baseline)               0.997684           0.996784   \nFair Transition Loss                  1.000000           0.107223   \nAdversarial Debiasing                 1.000000           0.000000   \nPrejudice Remover                     1.000000           1.000000   \nGerry Fair Classifier                 1.000000           0.005285   \n\n                         Gerry Fair Classifier  \nmethods                                         \nStandard MLP (baseline)               0.996411  \nFair Transition Loss                  1.000000  \nAdversarial Debiasing                 0.091172  \nPrejudice Remover                     0.997301  \nGerry Fair Classifier                 1.000000  ",
      "text/html": "<div>\n<style scoped>\n    .dataframe tbody tr th:only-of-type {\n        vertical-align: middle;\n    }\n\n    .dataframe tbody tr th {\n        vertical-align: top;\n    }\n\n    .dataframe thead th {\n        text-align: right;\n    }\n</style>\n<table border=\"1\" class=\"dataframe\">\n  <thead>\n    <tr style=\"text-align: right;\">\n      <th></th>\n      <th>Standard MLP (baseline)</th>\n      <th>Fair Transition Loss</th>\n      <th>Adversarial Debiasing</th>\n      <th>Prejudice Remover</th>\n      <th>Gerry Fair Classifier</th>\n    </tr>\n    <tr>\n      <th>methods</th>\n      <th></th>\n      <th></th>\n      <th></th>\n      <th></th>\n      <th></th>\n    </tr>\n  </thead>\n  <tbody>\n    <tr>\n      <th>Standard MLP (baseline)</th>\n      <td>1.000000</td>\n      <td>1.000000</td>\n      <td>0.997684</td>\n      <td>0.996784</td>\n      <td>0.996411</td>\n    </tr>\n    <tr>\n      <th>Fair Transition Loss</th>\n      <td>0.002008</td>\n      <td>1.000000</td>\n      <td>1.000000</td>\n      <td>0.107223</td>\n      <td>1.000000</td>\n    </tr>\n    <tr>\n      <th>Adversarial Debiasing</th>\n      <td>0.003972</td>\n      <td>0.499794</td>\n      <td>1.000000</td>\n      <td>0.000000</td>\n      <td>0.091172</td>\n    </tr>\n    <tr>\n      <th>Prejudice Remover</th>\n      <td>0.005943</td>\n      <td>1.000000</td>\n      <td>1.000000</td>\n      <td>1.000000</td>\n      <td>0.997301</td>\n    </tr>\n    <tr>\n      <th>Gerry Fair Classifier</th>\n      <td>0.004969</td>\n      <td>0.799772</td>\n      <td>1.000000</td>\n      <td>0.005285</td>\n      <td>1.000000</td>\n    </tr>\n  </tbody>\n</table>\n</div>"
     },
     "metadata": {},
     "output_type": "display_data"
    },
    {
     "name": "stdout",
     "output_type": "stream",
     "text": [
      "Compas Recidivism | max(Accuracy - Equalized Odds)\n"
     ]
    },
    {
     "data": {
      "text/plain": "                          fitness                  Accuracy            \\\n                             mean       std count      mean       std   \nmethod                                                                  \nFair Transition Loss     0.571804  0.028527    15  0.630632  0.040140   \nAdversarial Debiasing    0.552610  0.094035    15  0.668504  0.013186   \nGerry Fair Classifier    0.518907  0.037400    15  0.624203  0.054904   \nPrejudice Remover        0.264117  0.027071    15  0.356888  0.013023   \nStandard MLP (baseline)  0.154593  0.043940    15  0.349919  0.015081   \n\n                        Equalized Odds            \n                                  mean       std  \nmethod                                            \nFair Transition Loss          0.058828  0.033938  \nAdversarial Debiasing         0.115893  0.090752  \nGerry Fair Classifier         0.105296  0.053737  \nPrejudice Remover             0.092771  0.020648  \nStandard MLP (baseline)       0.195326  0.044006  ",
      "text/html": "<div>\n<style scoped>\n    .dataframe tbody tr th:only-of-type {\n        vertical-align: middle;\n    }\n\n    .dataframe tbody tr th {\n        vertical-align: top;\n    }\n\n    .dataframe thead tr th {\n        text-align: left;\n    }\n\n    .dataframe thead tr:last-of-type th {\n        text-align: right;\n    }\n</style>\n<table border=\"1\" class=\"dataframe\">\n  <thead>\n    <tr>\n      <th></th>\n      <th colspan=\"3\" halign=\"left\">fitness</th>\n      <th colspan=\"2\" halign=\"left\">Accuracy</th>\n      <th colspan=\"2\" halign=\"left\">Equalized Odds</th>\n    </tr>\n    <tr>\n      <th></th>\n      <th>mean</th>\n      <th>std</th>\n      <th>count</th>\n      <th>mean</th>\n      <th>std</th>\n      <th>mean</th>\n      <th>std</th>\n    </tr>\n    <tr>\n      <th>method</th>\n      <th></th>\n      <th></th>\n      <th></th>\n      <th></th>\n      <th></th>\n      <th></th>\n      <th></th>\n    </tr>\n  </thead>\n  <tbody>\n    <tr>\n      <th>Fair Transition Loss</th>\n      <td>0.571804</td>\n      <td>0.028527</td>\n      <td>15</td>\n      <td>0.630632</td>\n      <td>0.040140</td>\n      <td>0.058828</td>\n      <td>0.033938</td>\n    </tr>\n    <tr>\n      <th>Adversarial Debiasing</th>\n      <td>0.552610</td>\n      <td>0.094035</td>\n      <td>15</td>\n      <td>0.668504</td>\n      <td>0.013186</td>\n      <td>0.115893</td>\n      <td>0.090752</td>\n    </tr>\n    <tr>\n      <th>Gerry Fair Classifier</th>\n      <td>0.518907</td>\n      <td>0.037400</td>\n      <td>15</td>\n      <td>0.624203</td>\n      <td>0.054904</td>\n      <td>0.105296</td>\n      <td>0.053737</td>\n    </tr>\n    <tr>\n      <th>Prejudice Remover</th>\n      <td>0.264117</td>\n      <td>0.027071</td>\n      <td>15</td>\n      <td>0.356888</td>\n      <td>0.013023</td>\n      <td>0.092771</td>\n      <td>0.020648</td>\n    </tr>\n    <tr>\n      <th>Standard MLP (baseline)</th>\n      <td>0.154593</td>\n      <td>0.043940</td>\n      <td>15</td>\n      <td>0.349919</td>\n      <td>0.015081</td>\n      <td>0.195326</td>\n      <td>0.044006</td>\n    </tr>\n  </tbody>\n</table>\n</div>"
     },
     "metadata": {},
     "output_type": "display_data"
    },
    {
     "name": "stdout",
     "output_type": "stream",
     "text": [
      "Significance Testing\n"
     ]
    },
    {
     "data": {
      "text/plain": "                         Standard MLP (baseline)  Fair Transition Loss  \\\nmethods                                                                  \nStandard MLP (baseline)                 1.000000              0.995439   \nFair Transition Loss                    0.006612              1.000000   \nAdversarial Debiasing                   0.003564              1.000000   \nPrejudice Remover                       0.013260              1.000000   \nGerry Fair Classifier                   0.006098              1.000000   \n\n                         Adversarial Debiasing  Prejudice Remover  \\\nmethods                                                             \nStandard MLP (baseline)               1.000000           0.994923   \nFair Transition Loss                  0.471443           0.000000   \nAdversarial Debiasing                 1.000000           0.000000   \nPrejudice Remover                     1.000000           1.000000   \nGerry Fair Classifier                 1.000000           0.004526   \n\n                         Gerry Fair Classifier  \nmethods                                         \nStandard MLP (baseline)               0.996265  \nFair Transition Loss                  0.001646  \nAdversarial Debiasing                 0.703765  \nPrejudice Remover                     0.997684  \nGerry Fair Classifier                 1.000000  ",
      "text/html": "<div>\n<style scoped>\n    .dataframe tbody tr th:only-of-type {\n        vertical-align: middle;\n    }\n\n    .dataframe tbody tr th {\n        vertical-align: top;\n    }\n\n    .dataframe thead th {\n        text-align: right;\n    }\n</style>\n<table border=\"1\" class=\"dataframe\">\n  <thead>\n    <tr style=\"text-align: right;\">\n      <th></th>\n      <th>Standard MLP (baseline)</th>\n      <th>Fair Transition Loss</th>\n      <th>Adversarial Debiasing</th>\n      <th>Prejudice Remover</th>\n      <th>Gerry Fair Classifier</th>\n    </tr>\n    <tr>\n      <th>methods</th>\n      <th></th>\n      <th></th>\n      <th></th>\n      <th></th>\n      <th></th>\n    </tr>\n  </thead>\n  <tbody>\n    <tr>\n      <th>Standard MLP (baseline)</th>\n      <td>1.000000</td>\n      <td>0.995439</td>\n      <td>1.000000</td>\n      <td>0.994923</td>\n      <td>0.996265</td>\n    </tr>\n    <tr>\n      <th>Fair Transition Loss</th>\n      <td>0.006612</td>\n      <td>1.000000</td>\n      <td>0.471443</td>\n      <td>0.000000</td>\n      <td>0.001646</td>\n    </tr>\n    <tr>\n      <th>Adversarial Debiasing</th>\n      <td>0.003564</td>\n      <td>1.000000</td>\n      <td>1.000000</td>\n      <td>0.000000</td>\n      <td>0.703765</td>\n    </tr>\n    <tr>\n      <th>Prejudice Remover</th>\n      <td>0.013260</td>\n      <td>1.000000</td>\n      <td>1.000000</td>\n      <td>1.000000</td>\n      <td>0.997684</td>\n    </tr>\n    <tr>\n      <th>Gerry Fair Classifier</th>\n      <td>0.006098</td>\n      <td>1.000000</td>\n      <td>1.000000</td>\n      <td>0.004526</td>\n      <td>1.000000</td>\n    </tr>\n  </tbody>\n</table>\n</div>"
     },
     "metadata": {},
     "output_type": "display_data"
    },
    {
     "name": "stdout",
     "output_type": "stream",
     "text": [
      "Compas Recidivism | max(Accuracy - Equal Opportunity)\n"
     ]
    },
    {
     "data": {
      "text/plain": "                          fitness                  Accuracy            \\\n                             mean       std count      mean       std   \nmethod                                                                  \nFair Transition Loss     0.594341  0.036989    15  0.647920  0.013005   \nAdversarial Debiasing    0.594049  0.065326    15  0.671907  0.017399   \nGerry Fair Classifier    0.551639  0.061398    15  0.616532  0.073965   \nPrejudice Remover        0.286772  0.032081    15  0.342247  0.011975   \nStandard MLP (baseline)  0.217957  0.051457    15  0.352998  0.013016   \n\n                        Equal Opportunity            \n                                     mean       std  \nmethod                                               \nFair Transition Loss             0.053579  0.032860  \nAdversarial Debiasing            0.077858  0.064096  \nGerry Fair Classifier            0.064892  0.037954  \nPrejudice Remover                0.055476  0.034565  \nStandard MLP (baseline)          0.135041  0.048740  ",
      "text/html": "<div>\n<style scoped>\n    .dataframe tbody tr th:only-of-type {\n        vertical-align: middle;\n    }\n\n    .dataframe tbody tr th {\n        vertical-align: top;\n    }\n\n    .dataframe thead tr th {\n        text-align: left;\n    }\n\n    .dataframe thead tr:last-of-type th {\n        text-align: right;\n    }\n</style>\n<table border=\"1\" class=\"dataframe\">\n  <thead>\n    <tr>\n      <th></th>\n      <th colspan=\"3\" halign=\"left\">fitness</th>\n      <th colspan=\"2\" halign=\"left\">Accuracy</th>\n      <th colspan=\"2\" halign=\"left\">Equal Opportunity</th>\n    </tr>\n    <tr>\n      <th></th>\n      <th>mean</th>\n      <th>std</th>\n      <th>count</th>\n      <th>mean</th>\n      <th>std</th>\n      <th>mean</th>\n      <th>std</th>\n    </tr>\n    <tr>\n      <th>method</th>\n      <th></th>\n      <th></th>\n      <th></th>\n      <th></th>\n      <th></th>\n      <th></th>\n      <th></th>\n    </tr>\n  </thead>\n  <tbody>\n    <tr>\n      <th>Fair Transition Loss</th>\n      <td>0.594341</td>\n      <td>0.036989</td>\n      <td>15</td>\n      <td>0.647920</td>\n      <td>0.013005</td>\n      <td>0.053579</td>\n      <td>0.032860</td>\n    </tr>\n    <tr>\n      <th>Adversarial Debiasing</th>\n      <td>0.594049</td>\n      <td>0.065326</td>\n      <td>15</td>\n      <td>0.671907</td>\n      <td>0.017399</td>\n      <td>0.077858</td>\n      <td>0.064096</td>\n    </tr>\n    <tr>\n      <th>Gerry Fair Classifier</th>\n      <td>0.551639</td>\n      <td>0.061398</td>\n      <td>15</td>\n      <td>0.616532</td>\n      <td>0.073965</td>\n      <td>0.064892</td>\n      <td>0.037954</td>\n    </tr>\n    <tr>\n      <th>Prejudice Remover</th>\n      <td>0.286772</td>\n      <td>0.032081</td>\n      <td>15</td>\n      <td>0.342247</td>\n      <td>0.011975</td>\n      <td>0.055476</td>\n      <td>0.034565</td>\n    </tr>\n    <tr>\n      <th>Standard MLP (baseline)</th>\n      <td>0.217957</td>\n      <td>0.051457</td>\n      <td>15</td>\n      <td>0.352998</td>\n      <td>0.013016</td>\n      <td>0.135041</td>\n      <td>0.048740</td>\n    </tr>\n  </tbody>\n</table>\n</div>"
     },
     "metadata": {},
     "output_type": "display_data"
    },
    {
     "name": "stdout",
     "output_type": "stream",
     "text": [
      "Significance Testing\n"
     ]
    },
    {
     "data": {
      "text/plain": "                         Standard MLP (baseline)  Fair Transition Loss  \\\nmethods                                                                  \nStandard MLP (baseline)                 1.000000              0.994911   \nFair Transition Loss                    0.009027              1.000000   \nAdversarial Debiasing                   0.006306              1.000000   \nPrejudice Remover                       0.037253              1.000000   \nGerry Fair Classifier                   0.007543              1.000000   \n\n                         Adversarial Debiasing  Prejudice Remover  \\\nmethods                                                             \nStandard MLP (baseline)               0.998008           0.999586   \nFair Transition Loss                  0.792935           0.000000   \nAdversarial Debiasing                 1.000000           0.000000   \nPrejudice Remover                     1.000000           1.000000   \nGerry Fair Classifier                 1.000000           0.004032   \n\n                         Gerry Fair Classifier  \nmethods                                         \nStandard MLP (baseline)               0.996648  \nFair Transition Loss                  0.107667  \nAdversarial Debiasing                 0.289234  \nPrejudice Remover                     0.998079  \nGerry Fair Classifier                 1.000000  ",
      "text/html": "<div>\n<style scoped>\n    .dataframe tbody tr th:only-of-type {\n        vertical-align: middle;\n    }\n\n    .dataframe tbody tr th {\n        vertical-align: top;\n    }\n\n    .dataframe thead th {\n        text-align: right;\n    }\n</style>\n<table border=\"1\" class=\"dataframe\">\n  <thead>\n    <tr style=\"text-align: right;\">\n      <th></th>\n      <th>Standard MLP (baseline)</th>\n      <th>Fair Transition Loss</th>\n      <th>Adversarial Debiasing</th>\n      <th>Prejudice Remover</th>\n      <th>Gerry Fair Classifier</th>\n    </tr>\n    <tr>\n      <th>methods</th>\n      <th></th>\n      <th></th>\n      <th></th>\n      <th></th>\n      <th></th>\n    </tr>\n  </thead>\n  <tbody>\n    <tr>\n      <th>Standard MLP (baseline)</th>\n      <td>1.000000</td>\n      <td>0.994911</td>\n      <td>0.998008</td>\n      <td>0.999586</td>\n      <td>0.996648</td>\n    </tr>\n    <tr>\n      <th>Fair Transition Loss</th>\n      <td>0.009027</td>\n      <td>1.000000</td>\n      <td>0.792935</td>\n      <td>0.000000</td>\n      <td>0.107667</td>\n    </tr>\n    <tr>\n      <th>Adversarial Debiasing</th>\n      <td>0.006306</td>\n      <td>1.000000</td>\n      <td>1.000000</td>\n      <td>0.000000</td>\n      <td>0.289234</td>\n    </tr>\n    <tr>\n      <th>Prejudice Remover</th>\n      <td>0.037253</td>\n      <td>1.000000</td>\n      <td>1.000000</td>\n      <td>1.000000</td>\n      <td>0.998079</td>\n    </tr>\n    <tr>\n      <th>Gerry Fair Classifier</th>\n      <td>0.007543</td>\n      <td>1.000000</td>\n      <td>1.000000</td>\n      <td>0.004032</td>\n      <td>1.000000</td>\n    </tr>\n  </tbody>\n</table>\n</div>"
     },
     "metadata": {},
     "output_type": "display_data"
    },
    {
     "name": "stdout",
     "output_type": "stream",
     "text": [
      "German Credit | max(Mathew Correlation - Statistical Parity)\n"
     ]
    },
    {
     "data": {
      "text/plain": "                          fitness                 Mathew Correlation  \\\n                             mean       std count               mean   \nmethod                                                                 \nAdversarial Debiasing    0.200070  0.172675    15           0.367673   \nFair Transition Loss    -0.034435  0.073668    15           0.000000   \nPrejudice Remover       -0.082559  0.050746    15           0.000000   \nStandard MLP (baseline) -0.090370  0.061469    15           0.000000   \n\n                                  Statistical Parity            \n                              std               mean       std  \nmethod                                                          \nAdversarial Debiasing    0.056485           0.167603  0.148864  \nFair Transition Loss     0.000000           0.034435  0.073668  \nPrejudice Remover        0.000000           0.082559  0.050746  \nStandard MLP (baseline)  0.000000           0.090370  0.061469  ",
      "text/html": "<div>\n<style scoped>\n    .dataframe tbody tr th:only-of-type {\n        vertical-align: middle;\n    }\n\n    .dataframe tbody tr th {\n        vertical-align: top;\n    }\n\n    .dataframe thead tr th {\n        text-align: left;\n    }\n\n    .dataframe thead tr:last-of-type th {\n        text-align: right;\n    }\n</style>\n<table border=\"1\" class=\"dataframe\">\n  <thead>\n    <tr>\n      <th></th>\n      <th colspan=\"3\" halign=\"left\">fitness</th>\n      <th colspan=\"2\" halign=\"left\">Mathew Correlation</th>\n      <th colspan=\"2\" halign=\"left\">Statistical Parity</th>\n    </tr>\n    <tr>\n      <th></th>\n      <th>mean</th>\n      <th>std</th>\n      <th>count</th>\n      <th>mean</th>\n      <th>std</th>\n      <th>mean</th>\n      <th>std</th>\n    </tr>\n    <tr>\n      <th>method</th>\n      <th></th>\n      <th></th>\n      <th></th>\n      <th></th>\n      <th></th>\n      <th></th>\n      <th></th>\n    </tr>\n  </thead>\n  <tbody>\n    <tr>\n      <th>Adversarial Debiasing</th>\n      <td>0.200070</td>\n      <td>0.172675</td>\n      <td>15</td>\n      <td>0.367673</td>\n      <td>0.056485</td>\n      <td>0.167603</td>\n      <td>0.148864</td>\n    </tr>\n    <tr>\n      <th>Fair Transition Loss</th>\n      <td>-0.034435</td>\n      <td>0.073668</td>\n      <td>15</td>\n      <td>0.000000</td>\n      <td>0.000000</td>\n      <td>0.034435</td>\n      <td>0.073668</td>\n    </tr>\n    <tr>\n      <th>Prejudice Remover</th>\n      <td>-0.082559</td>\n      <td>0.050746</td>\n      <td>15</td>\n      <td>0.000000</td>\n      <td>0.000000</td>\n      <td>0.082559</td>\n      <td>0.050746</td>\n    </tr>\n    <tr>\n      <th>Standard MLP (baseline)</th>\n      <td>-0.090370</td>\n      <td>0.061469</td>\n      <td>15</td>\n      <td>0.000000</td>\n      <td>0.000000</td>\n      <td>0.090370</td>\n      <td>0.061469</td>\n    </tr>\n  </tbody>\n</table>\n</div>"
     },
     "metadata": {},
     "output_type": "display_data"
    },
    {
     "name": "stdout",
     "output_type": "stream",
     "text": [
      "Significance Testing\n"
     ]
    },
    {
     "data": {
      "text/plain": "                         Standard MLP (baseline)  Fair Transition Loss  \\\nmethods                                                                  \nStandard MLP (baseline)                 1.000000              1.000000   \nFair Transition Loss                    0.362420              1.000000   \nAdversarial Debiasing                   0.018517              0.058075   \nPrejudice Remover                       0.686937              1.000000   \nGerry Fair Classifier                   1.000000              1.000000   \n\n                         Adversarial Debiasing  Prejudice Remover  \\\nmethods                                                             \nStandard MLP (baseline)                    1.0           1.000000   \nFair Transition Loss                       1.0           0.475996   \nAdversarial Debiasing                      1.0           0.024615   \nPrejudice Remover                          1.0           1.000000   \nGerry Fair Classifier                      1.0           1.000000   \n\n                         Gerry Fair Classifier  \nmethods                                         \nStandard MLP (baseline)                    0.0  \nFair Transition Loss                       0.0  \nAdversarial Debiasing                      0.0  \nPrejudice Remover                          0.0  \nGerry Fair Classifier                      1.0  ",
      "text/html": "<div>\n<style scoped>\n    .dataframe tbody tr th:only-of-type {\n        vertical-align: middle;\n    }\n\n    .dataframe tbody tr th {\n        vertical-align: top;\n    }\n\n    .dataframe thead th {\n        text-align: right;\n    }\n</style>\n<table border=\"1\" class=\"dataframe\">\n  <thead>\n    <tr style=\"text-align: right;\">\n      <th></th>\n      <th>Standard MLP (baseline)</th>\n      <th>Fair Transition Loss</th>\n      <th>Adversarial Debiasing</th>\n      <th>Prejudice Remover</th>\n      <th>Gerry Fair Classifier</th>\n    </tr>\n    <tr>\n      <th>methods</th>\n      <th></th>\n      <th></th>\n      <th></th>\n      <th></th>\n      <th></th>\n    </tr>\n  </thead>\n  <tbody>\n    <tr>\n      <th>Standard MLP (baseline)</th>\n      <td>1.000000</td>\n      <td>1.000000</td>\n      <td>1.0</td>\n      <td>1.000000</td>\n      <td>0.0</td>\n    </tr>\n    <tr>\n      <th>Fair Transition Loss</th>\n      <td>0.362420</td>\n      <td>1.000000</td>\n      <td>1.0</td>\n      <td>0.475996</td>\n      <td>0.0</td>\n    </tr>\n    <tr>\n      <th>Adversarial Debiasing</th>\n      <td>0.018517</td>\n      <td>0.058075</td>\n      <td>1.0</td>\n      <td>0.024615</td>\n      <td>0.0</td>\n    </tr>\n    <tr>\n      <th>Prejudice Remover</th>\n      <td>0.686937</td>\n      <td>1.000000</td>\n      <td>1.0</td>\n      <td>1.000000</td>\n      <td>0.0</td>\n    </tr>\n    <tr>\n      <th>Gerry Fair Classifier</th>\n      <td>1.000000</td>\n      <td>1.000000</td>\n      <td>1.0</td>\n      <td>1.000000</td>\n      <td>1.0</td>\n    </tr>\n  </tbody>\n</table>\n</div>"
     },
     "metadata": {},
     "output_type": "display_data"
    },
    {
     "name": "stdout",
     "output_type": "stream",
     "text": [
      "German Credit | max(Mathew Correlation - Equalized Odds)\n"
     ]
    },
    {
     "data": {
      "text/plain": "                          fitness                 Mathew Correlation  \\\n                             mean       std count               mean   \nmethod                                                                 \nAdversarial Debiasing    0.039770  0.414069    15           0.300535   \nPrejudice Remover       -0.087176  0.046848    15           0.000000   \nStandard MLP (baseline) -0.097294  0.051877    15           0.000000   \nFair Transition Loss    -0.148704  0.211169    15           0.000000   \n\n                                  Equalized Odds            \n                              std           mean       std  \nmethod                                                      \nAdversarial Debiasing    0.129892       0.260765  0.296572  \nPrejudice Remover        0.000000       0.087176  0.046848  \nStandard MLP (baseline)  0.000000       0.097294  0.051877  \nFair Transition Loss     0.000000       0.148704  0.211169  ",
      "text/html": "<div>\n<style scoped>\n    .dataframe tbody tr th:only-of-type {\n        vertical-align: middle;\n    }\n\n    .dataframe tbody tr th {\n        vertical-align: top;\n    }\n\n    .dataframe thead tr th {\n        text-align: left;\n    }\n\n    .dataframe thead tr:last-of-type th {\n        text-align: right;\n    }\n</style>\n<table border=\"1\" class=\"dataframe\">\n  <thead>\n    <tr>\n      <th></th>\n      <th colspan=\"3\" halign=\"left\">fitness</th>\n      <th colspan=\"2\" halign=\"left\">Mathew Correlation</th>\n      <th colspan=\"2\" halign=\"left\">Equalized Odds</th>\n    </tr>\n    <tr>\n      <th></th>\n      <th>mean</th>\n      <th>std</th>\n      <th>count</th>\n      <th>mean</th>\n      <th>std</th>\n      <th>mean</th>\n      <th>std</th>\n    </tr>\n    <tr>\n      <th>method</th>\n      <th></th>\n      <th></th>\n      <th></th>\n      <th></th>\n      <th></th>\n      <th></th>\n      <th></th>\n    </tr>\n  </thead>\n  <tbody>\n    <tr>\n      <th>Adversarial Debiasing</th>\n      <td>0.039770</td>\n      <td>0.414069</td>\n      <td>15</td>\n      <td>0.300535</td>\n      <td>0.129892</td>\n      <td>0.260765</td>\n      <td>0.296572</td>\n    </tr>\n    <tr>\n      <th>Prejudice Remover</th>\n      <td>-0.087176</td>\n      <td>0.046848</td>\n      <td>15</td>\n      <td>0.000000</td>\n      <td>0.000000</td>\n      <td>0.087176</td>\n      <td>0.046848</td>\n    </tr>\n    <tr>\n      <th>Standard MLP (baseline)</th>\n      <td>-0.097294</td>\n      <td>0.051877</td>\n      <td>15</td>\n      <td>0.000000</td>\n      <td>0.000000</td>\n      <td>0.097294</td>\n      <td>0.051877</td>\n    </tr>\n    <tr>\n      <th>Fair Transition Loss</th>\n      <td>-0.148704</td>\n      <td>0.211169</td>\n      <td>15</td>\n      <td>0.000000</td>\n      <td>0.000000</td>\n      <td>0.148704</td>\n      <td>0.211169</td>\n    </tr>\n  </tbody>\n</table>\n</div>"
     },
     "metadata": {},
     "output_type": "display_data"
    },
    {
     "name": "stdout",
     "output_type": "stream",
     "text": [
      "Significance Testing\n"
     ]
    },
    {
     "data": {
      "text/plain": "                         Standard MLP (baseline)  Fair Transition Loss  \\\nmethods                                                                  \nStandard MLP (baseline)                 1.000000              0.328722   \nFair Transition Loss                    1.000000              1.000000   \nAdversarial Debiasing                   0.755221              0.501261   \nPrejudice Remover                       0.611743              0.318726   \nGerry Fair Classifier                   1.000000              1.000000   \n\n                         Adversarial Debiasing  Prejudice Remover  \\\nmethods                                                             \nStandard MLP (baseline)               0.875142           1.000000   \nFair Transition Loss                  1.000000           1.000000   \nAdversarial Debiasing                 1.000000           0.769375   \nPrejudice Remover                     0.862732           1.000000   \nGerry Fair Classifier                 1.000000           1.000000   \n\n                         Gerry Fair Classifier  \nmethods                                         \nStandard MLP (baseline)                    0.0  \nFair Transition Loss                       0.0  \nAdversarial Debiasing                      0.0  \nPrejudice Remover                          0.0  \nGerry Fair Classifier                      1.0  ",
      "text/html": "<div>\n<style scoped>\n    .dataframe tbody tr th:only-of-type {\n        vertical-align: middle;\n    }\n\n    .dataframe tbody tr th {\n        vertical-align: top;\n    }\n\n    .dataframe thead th {\n        text-align: right;\n    }\n</style>\n<table border=\"1\" class=\"dataframe\">\n  <thead>\n    <tr style=\"text-align: right;\">\n      <th></th>\n      <th>Standard MLP (baseline)</th>\n      <th>Fair Transition Loss</th>\n      <th>Adversarial Debiasing</th>\n      <th>Prejudice Remover</th>\n      <th>Gerry Fair Classifier</th>\n    </tr>\n    <tr>\n      <th>methods</th>\n      <th></th>\n      <th></th>\n      <th></th>\n      <th></th>\n      <th></th>\n    </tr>\n  </thead>\n  <tbody>\n    <tr>\n      <th>Standard MLP (baseline)</th>\n      <td>1.000000</td>\n      <td>0.328722</td>\n      <td>0.875142</td>\n      <td>1.000000</td>\n      <td>0.0</td>\n    </tr>\n    <tr>\n      <th>Fair Transition Loss</th>\n      <td>1.000000</td>\n      <td>1.000000</td>\n      <td>1.000000</td>\n      <td>1.000000</td>\n      <td>0.0</td>\n    </tr>\n    <tr>\n      <th>Adversarial Debiasing</th>\n      <td>0.755221</td>\n      <td>0.501261</td>\n      <td>1.000000</td>\n      <td>0.769375</td>\n      <td>0.0</td>\n    </tr>\n    <tr>\n      <th>Prejudice Remover</th>\n      <td>0.611743</td>\n      <td>0.318726</td>\n      <td>0.862732</td>\n      <td>1.000000</td>\n      <td>0.0</td>\n    </tr>\n    <tr>\n      <th>Gerry Fair Classifier</th>\n      <td>1.000000</td>\n      <td>1.000000</td>\n      <td>1.000000</td>\n      <td>1.000000</td>\n      <td>1.0</td>\n    </tr>\n  </tbody>\n</table>\n</div>"
     },
     "metadata": {},
     "output_type": "display_data"
    },
    {
     "name": "stdout",
     "output_type": "stream",
     "text": [
      "German Credit | max(Mathew Correlation - Equal Opportunity)\n"
     ]
    },
    {
     "data": {
      "text/plain": "                          fitness                 Mathew Correlation  \\\n                             mean       std count               mean   \nmethod                                                                 \nAdversarial Debiasing    0.115876  0.403735    15           0.310899   \nPrejudice Remover       -0.072759  0.061678    15           0.000000   \nStandard MLP (baseline) -0.092163  0.059553    15           0.000000   \nFair Transition Loss    -0.113380  0.263931    15           0.000000   \n\n                                  Equal Opportunity            \n                              std              mean       std  \nmethod                                                         \nAdversarial Debiasing    0.135257          0.195024  0.281659  \nPrejudice Remover        0.000000          0.072759  0.061678  \nStandard MLP (baseline)  0.000000          0.092163  0.059553  \nFair Transition Loss     0.000000          0.113380  0.263931  ",
      "text/html": "<div>\n<style scoped>\n    .dataframe tbody tr th:only-of-type {\n        vertical-align: middle;\n    }\n\n    .dataframe tbody tr th {\n        vertical-align: top;\n    }\n\n    .dataframe thead tr th {\n        text-align: left;\n    }\n\n    .dataframe thead tr:last-of-type th {\n        text-align: right;\n    }\n</style>\n<table border=\"1\" class=\"dataframe\">\n  <thead>\n    <tr>\n      <th></th>\n      <th colspan=\"3\" halign=\"left\">fitness</th>\n      <th colspan=\"2\" halign=\"left\">Mathew Correlation</th>\n      <th colspan=\"2\" halign=\"left\">Equal Opportunity</th>\n    </tr>\n    <tr>\n      <th></th>\n      <th>mean</th>\n      <th>std</th>\n      <th>count</th>\n      <th>mean</th>\n      <th>std</th>\n      <th>mean</th>\n      <th>std</th>\n    </tr>\n    <tr>\n      <th>method</th>\n      <th></th>\n      <th></th>\n      <th></th>\n      <th></th>\n      <th></th>\n      <th></th>\n      <th></th>\n    </tr>\n  </thead>\n  <tbody>\n    <tr>\n      <th>Adversarial Debiasing</th>\n      <td>0.115876</td>\n      <td>0.403735</td>\n      <td>15</td>\n      <td>0.310899</td>\n      <td>0.135257</td>\n      <td>0.195024</td>\n      <td>0.281659</td>\n    </tr>\n    <tr>\n      <th>Prejudice Remover</th>\n      <td>-0.072759</td>\n      <td>0.061678</td>\n      <td>15</td>\n      <td>0.000000</td>\n      <td>0.000000</td>\n      <td>0.072759</td>\n      <td>0.061678</td>\n    </tr>\n    <tr>\n      <th>Standard MLP (baseline)</th>\n      <td>-0.092163</td>\n      <td>0.059553</td>\n      <td>15</td>\n      <td>0.000000</td>\n      <td>0.000000</td>\n      <td>0.092163</td>\n      <td>0.059553</td>\n    </tr>\n    <tr>\n      <th>Fair Transition Loss</th>\n      <td>-0.113380</td>\n      <td>0.263931</td>\n      <td>15</td>\n      <td>0.000000</td>\n      <td>0.000000</td>\n      <td>0.113380</td>\n      <td>0.263931</td>\n    </tr>\n  </tbody>\n</table>\n</div>"
     },
     "metadata": {},
     "output_type": "display_data"
    },
    {
     "name": "stdout",
     "output_type": "stream",
     "text": [
      "Significance Testing\n"
     ]
    },
    {
     "data": {
      "text/plain": "                         Standard MLP (baseline)  Fair Transition Loss  \\\nmethods                                                                  \nStandard MLP (baseline)                 1.000000              0.560728   \nFair Transition Loss                    1.000000              1.000000   \nAdversarial Debiasing                   0.678192              0.423453   \nPrejudice Remover                       0.540284              0.563664   \nGerry Fair Classifier                   1.000000              1.000000   \n\n                         Adversarial Debiasing  Prejudice Remover  \\\nmethods                                                             \nStandard MLP (baseline)                    1.0           1.000000   \nFair Transition Loss                       1.0           1.000000   \nAdversarial Debiasing                      1.0           0.696819   \nPrejudice Remover                          1.0           1.000000   \nGerry Fair Classifier                      1.0           1.000000   \n\n                         Gerry Fair Classifier  \nmethods                                         \nStandard MLP (baseline)               0.000000  \nFair Transition Loss                  0.000000  \nAdversarial Debiasing                 0.000533  \nPrejudice Remover                     0.000000  \nGerry Fair Classifier                 1.000000  ",
      "text/html": "<div>\n<style scoped>\n    .dataframe tbody tr th:only-of-type {\n        vertical-align: middle;\n    }\n\n    .dataframe tbody tr th {\n        vertical-align: top;\n    }\n\n    .dataframe thead th {\n        text-align: right;\n    }\n</style>\n<table border=\"1\" class=\"dataframe\">\n  <thead>\n    <tr style=\"text-align: right;\">\n      <th></th>\n      <th>Standard MLP (baseline)</th>\n      <th>Fair Transition Loss</th>\n      <th>Adversarial Debiasing</th>\n      <th>Prejudice Remover</th>\n      <th>Gerry Fair Classifier</th>\n    </tr>\n    <tr>\n      <th>methods</th>\n      <th></th>\n      <th></th>\n      <th></th>\n      <th></th>\n      <th></th>\n    </tr>\n  </thead>\n  <tbody>\n    <tr>\n      <th>Standard MLP (baseline)</th>\n      <td>1.000000</td>\n      <td>0.560728</td>\n      <td>1.0</td>\n      <td>1.000000</td>\n      <td>0.000000</td>\n    </tr>\n    <tr>\n      <th>Fair Transition Loss</th>\n      <td>1.000000</td>\n      <td>1.000000</td>\n      <td>1.0</td>\n      <td>1.000000</td>\n      <td>0.000000</td>\n    </tr>\n    <tr>\n      <th>Adversarial Debiasing</th>\n      <td>0.678192</td>\n      <td>0.423453</td>\n      <td>1.0</td>\n      <td>0.696819</td>\n      <td>0.000533</td>\n    </tr>\n    <tr>\n      <th>Prejudice Remover</th>\n      <td>0.540284</td>\n      <td>0.563664</td>\n      <td>1.0</td>\n      <td>1.000000</td>\n      <td>0.000000</td>\n    </tr>\n    <tr>\n      <th>Gerry Fair Classifier</th>\n      <td>1.000000</td>\n      <td>1.000000</td>\n      <td>1.0</td>\n      <td>1.000000</td>\n      <td>1.000000</td>\n    </tr>\n  </tbody>\n</table>\n</div>"
     },
     "metadata": {},
     "output_type": "display_data"
    },
    {
     "name": "stdout",
     "output_type": "stream",
     "text": [
      "German Credit | max(Accuracy - Statistical Parity)\n"
     ]
    },
    {
     "data": {
      "text/plain": "                          fitness                  Accuracy            \\\n                             mean       std count      mean       std   \nmethod                                                                  \nFair Transition Loss     0.577267  0.264434    15  0.673667  0.055789   \nStandard MLP (baseline)  0.511642  0.064916    15  0.621000  0.035567   \nPrejudice Remover        0.491066  0.059709    15  0.587000  0.031041   \nAdversarial Debiasing    0.430467  0.331712    15  0.713333  0.090291   \n\n                        Statistical Parity            \n                                      mean       std  \nmethod                                                \nFair Transition Loss              0.096400  0.217653  \nStandard MLP (baseline)           0.109358  0.049178  \nPrejudice Remover                 0.095934  0.049375  \nAdversarial Debiasing             0.282867  0.255316  ",
      "text/html": "<div>\n<style scoped>\n    .dataframe tbody tr th:only-of-type {\n        vertical-align: middle;\n    }\n\n    .dataframe tbody tr th {\n        vertical-align: top;\n    }\n\n    .dataframe thead tr th {\n        text-align: left;\n    }\n\n    .dataframe thead tr:last-of-type th {\n        text-align: right;\n    }\n</style>\n<table border=\"1\" class=\"dataframe\">\n  <thead>\n    <tr>\n      <th></th>\n      <th colspan=\"3\" halign=\"left\">fitness</th>\n      <th colspan=\"2\" halign=\"left\">Accuracy</th>\n      <th colspan=\"2\" halign=\"left\">Statistical Parity</th>\n    </tr>\n    <tr>\n      <th></th>\n      <th>mean</th>\n      <th>std</th>\n      <th>count</th>\n      <th>mean</th>\n      <th>std</th>\n      <th>mean</th>\n      <th>std</th>\n    </tr>\n    <tr>\n      <th>method</th>\n      <th></th>\n      <th></th>\n      <th></th>\n      <th></th>\n      <th></th>\n      <th></th>\n      <th></th>\n    </tr>\n  </thead>\n  <tbody>\n    <tr>\n      <th>Fair Transition Loss</th>\n      <td>0.577267</td>\n      <td>0.264434</td>\n      <td>15</td>\n      <td>0.673667</td>\n      <td>0.055789</td>\n      <td>0.096400</td>\n      <td>0.217653</td>\n    </tr>\n    <tr>\n      <th>Standard MLP (baseline)</th>\n      <td>0.511642</td>\n      <td>0.064916</td>\n      <td>15</td>\n      <td>0.621000</td>\n      <td>0.035567</td>\n      <td>0.109358</td>\n      <td>0.049178</td>\n    </tr>\n    <tr>\n      <th>Prejudice Remover</th>\n      <td>0.491066</td>\n      <td>0.059709</td>\n      <td>15</td>\n      <td>0.587000</td>\n      <td>0.031041</td>\n      <td>0.095934</td>\n      <td>0.049375</td>\n    </tr>\n    <tr>\n      <th>Adversarial Debiasing</th>\n      <td>0.430467</td>\n      <td>0.331712</td>\n      <td>15</td>\n      <td>0.713333</td>\n      <td>0.090291</td>\n      <td>0.282867</td>\n      <td>0.255316</td>\n    </tr>\n  </tbody>\n</table>\n</div>"
     },
     "metadata": {},
     "output_type": "display_data"
    },
    {
     "name": "stdout",
     "output_type": "stream",
     "text": [
      "Significance Testing\n"
     ]
    },
    {
     "data": {
      "text/plain": "                         Standard MLP (baseline)  Fair Transition Loss  \\\nmethods                                                                  \nStandard MLP (baseline)                      1.0              0.949985   \nFair Transition Loss                         1.0              1.000000   \nAdversarial Debiasing                        1.0              1.000000   \nPrejudice Remover                            1.0              1.000000   \nGerry Fair Classifier                        1.0              1.000000   \n\n                         Adversarial Debiasing  Prejudice Remover  \\\nmethods                                                             \nStandard MLP (baseline)               0.396354           0.531614   \nFair Transition Loss                  0.469207           1.000000   \nAdversarial Debiasing                 1.000000           1.000000   \nPrejudice Remover                     0.510048           1.000000   \nGerry Fair Classifier                 1.000000           1.000000   \n\n                         Gerry Fair Classifier  \nmethods                                         \nStandard MLP (baseline)                    0.0  \nFair Transition Loss                       0.0  \nAdversarial Debiasing                      0.0  \nPrejudice Remover                          0.0  \nGerry Fair Classifier                      1.0  ",
      "text/html": "<div>\n<style scoped>\n    .dataframe tbody tr th:only-of-type {\n        vertical-align: middle;\n    }\n\n    .dataframe tbody tr th {\n        vertical-align: top;\n    }\n\n    .dataframe thead th {\n        text-align: right;\n    }\n</style>\n<table border=\"1\" class=\"dataframe\">\n  <thead>\n    <tr style=\"text-align: right;\">\n      <th></th>\n      <th>Standard MLP (baseline)</th>\n      <th>Fair Transition Loss</th>\n      <th>Adversarial Debiasing</th>\n      <th>Prejudice Remover</th>\n      <th>Gerry Fair Classifier</th>\n    </tr>\n    <tr>\n      <th>methods</th>\n      <th></th>\n      <th></th>\n      <th></th>\n      <th></th>\n      <th></th>\n    </tr>\n  </thead>\n  <tbody>\n    <tr>\n      <th>Standard MLP (baseline)</th>\n      <td>1.0</td>\n      <td>0.949985</td>\n      <td>0.396354</td>\n      <td>0.531614</td>\n      <td>0.0</td>\n    </tr>\n    <tr>\n      <th>Fair Transition Loss</th>\n      <td>1.0</td>\n      <td>1.000000</td>\n      <td>0.469207</td>\n      <td>1.000000</td>\n      <td>0.0</td>\n    </tr>\n    <tr>\n      <th>Adversarial Debiasing</th>\n      <td>1.0</td>\n      <td>1.000000</td>\n      <td>1.000000</td>\n      <td>1.000000</td>\n      <td>0.0</td>\n    </tr>\n    <tr>\n      <th>Prejudice Remover</th>\n      <td>1.0</td>\n      <td>1.000000</td>\n      <td>0.510048</td>\n      <td>1.000000</td>\n      <td>0.0</td>\n    </tr>\n    <tr>\n      <th>Gerry Fair Classifier</th>\n      <td>1.0</td>\n      <td>1.000000</td>\n      <td>1.000000</td>\n      <td>1.000000</td>\n      <td>1.0</td>\n    </tr>\n  </tbody>\n</table>\n</div>"
     },
     "metadata": {},
     "output_type": "display_data"
    },
    {
     "name": "stdout",
     "output_type": "stream",
     "text": [
      "German Credit | max(Accuracy - Equalized Odds)\n"
     ]
    },
    {
     "data": {
      "text/plain": "                          fitness                  Accuracy            \\\n                             mean       std count      mean       std   \nmethod                                                                  \nFair Transition Loss     0.572396  0.313009    15  0.669333  0.091376   \nStandard MLP (baseline)  0.525039  0.063410    15  0.627000  0.032558   \nPrejudice Remover        0.483722  0.052698    15  0.591000  0.037042   \nAdversarial Debiasing    0.368302  0.383015    15  0.685333  0.098152   \n\n                        Equalized Odds            \n                                  mean       std  \nmethod                                            \nFair Transition Loss          0.096937  0.229662  \nStandard MLP (baseline)       0.101961  0.052645  \nPrejudice Remover             0.107278  0.059138  \nAdversarial Debiasing         0.317031  0.304063  ",
      "text/html": "<div>\n<style scoped>\n    .dataframe tbody tr th:only-of-type {\n        vertical-align: middle;\n    }\n\n    .dataframe tbody tr th {\n        vertical-align: top;\n    }\n\n    .dataframe thead tr th {\n        text-align: left;\n    }\n\n    .dataframe thead tr:last-of-type th {\n        text-align: right;\n    }\n</style>\n<table border=\"1\" class=\"dataframe\">\n  <thead>\n    <tr>\n      <th></th>\n      <th colspan=\"3\" halign=\"left\">fitness</th>\n      <th colspan=\"2\" halign=\"left\">Accuracy</th>\n      <th colspan=\"2\" halign=\"left\">Equalized Odds</th>\n    </tr>\n    <tr>\n      <th></th>\n      <th>mean</th>\n      <th>std</th>\n      <th>count</th>\n      <th>mean</th>\n      <th>std</th>\n      <th>mean</th>\n      <th>std</th>\n    </tr>\n    <tr>\n      <th>method</th>\n      <th></th>\n      <th></th>\n      <th></th>\n      <th></th>\n      <th></th>\n      <th></th>\n      <th></th>\n    </tr>\n  </thead>\n  <tbody>\n    <tr>\n      <th>Fair Transition Loss</th>\n      <td>0.572396</td>\n      <td>0.313009</td>\n      <td>15</td>\n      <td>0.669333</td>\n      <td>0.091376</td>\n      <td>0.096937</td>\n      <td>0.229662</td>\n    </tr>\n    <tr>\n      <th>Standard MLP (baseline)</th>\n      <td>0.525039</td>\n      <td>0.063410</td>\n      <td>15</td>\n      <td>0.627000</td>\n      <td>0.032558</td>\n      <td>0.101961</td>\n      <td>0.052645</td>\n    </tr>\n    <tr>\n      <th>Prejudice Remover</th>\n      <td>0.483722</td>\n      <td>0.052698</td>\n      <td>15</td>\n      <td>0.591000</td>\n      <td>0.037042</td>\n      <td>0.107278</td>\n      <td>0.059138</td>\n    </tr>\n    <tr>\n      <th>Adversarial Debiasing</th>\n      <td>0.368302</td>\n      <td>0.383015</td>\n      <td>15</td>\n      <td>0.685333</td>\n      <td>0.098152</td>\n      <td>0.317031</td>\n      <td>0.304063</td>\n    </tr>\n  </tbody>\n</table>\n</div>"
     },
     "metadata": {},
     "output_type": "display_data"
    },
    {
     "name": "stdout",
     "output_type": "stream",
     "text": [
      "Significance Testing\n"
     ]
    },
    {
     "data": {
      "text/plain": "                         Standard MLP (baseline)  Fair Transition Loss  \\\nmethods                                                                  \nStandard MLP (baseline)                      1.0              0.739006   \nFair Transition Loss                         1.0              1.000000   \nAdversarial Debiasing                        1.0              1.000000   \nPrejudice Remover                            1.0              0.855692   \nGerry Fair Classifier                        1.0              1.000000   \n\n                         Adversarial Debiasing  Prejudice Remover  \\\nmethods                                                             \nStandard MLP (baseline)               0.185844           0.265305   \nFair Transition Loss                  0.429356           0.969500   \nAdversarial Debiasing                 1.000000           1.000000   \nPrejudice Remover                     0.286850           1.000000   \nGerry Fair Classifier                 1.000000           1.000000   \n\n                         Gerry Fair Classifier  \nmethods                                         \nStandard MLP (baseline)                    0.0  \nFair Transition Loss                       0.0  \nAdversarial Debiasing                      0.0  \nPrejudice Remover                          0.0  \nGerry Fair Classifier                      1.0  ",
      "text/html": "<div>\n<style scoped>\n    .dataframe tbody tr th:only-of-type {\n        vertical-align: middle;\n    }\n\n    .dataframe tbody tr th {\n        vertical-align: top;\n    }\n\n    .dataframe thead th {\n        text-align: right;\n    }\n</style>\n<table border=\"1\" class=\"dataframe\">\n  <thead>\n    <tr style=\"text-align: right;\">\n      <th></th>\n      <th>Standard MLP (baseline)</th>\n      <th>Fair Transition Loss</th>\n      <th>Adversarial Debiasing</th>\n      <th>Prejudice Remover</th>\n      <th>Gerry Fair Classifier</th>\n    </tr>\n    <tr>\n      <th>methods</th>\n      <th></th>\n      <th></th>\n      <th></th>\n      <th></th>\n      <th></th>\n    </tr>\n  </thead>\n  <tbody>\n    <tr>\n      <th>Standard MLP (baseline)</th>\n      <td>1.0</td>\n      <td>0.739006</td>\n      <td>0.185844</td>\n      <td>0.265305</td>\n      <td>0.0</td>\n    </tr>\n    <tr>\n      <th>Fair Transition Loss</th>\n      <td>1.0</td>\n      <td>1.000000</td>\n      <td>0.429356</td>\n      <td>0.969500</td>\n      <td>0.0</td>\n    </tr>\n    <tr>\n      <th>Adversarial Debiasing</th>\n      <td>1.0</td>\n      <td>1.000000</td>\n      <td>1.000000</td>\n      <td>1.000000</td>\n      <td>0.0</td>\n    </tr>\n    <tr>\n      <th>Prejudice Remover</th>\n      <td>1.0</td>\n      <td>0.855692</td>\n      <td>0.286850</td>\n      <td>1.000000</td>\n      <td>0.0</td>\n    </tr>\n    <tr>\n      <th>Gerry Fair Classifier</th>\n      <td>1.0</td>\n      <td>1.000000</td>\n      <td>1.000000</td>\n      <td>1.000000</td>\n      <td>1.0</td>\n    </tr>\n  </tbody>\n</table>\n</div>"
     },
     "metadata": {},
     "output_type": "display_data"
    },
    {
     "name": "stdout",
     "output_type": "stream",
     "text": [
      "German Credit | max(Accuracy - Equal Opportunity)\n"
     ]
    },
    {
     "data": {
      "text/plain": "                          fitness                  Accuracy            \\\n                             mean       std count      mean       std   \nmethod                                                                  \nFair Transition Loss     0.679803  0.048559    15  0.692333  0.032616   \nStandard MLP (baseline)  0.549810  0.059112    15  0.614333  0.033481   \nAdversarial Debiasing    0.530106  0.328938    15  0.712667  0.099837   \nPrejudice Remover        0.504640  0.082283    15  0.590000  0.025284   \n\n                        Equal Opportunity            \n                                     mean       std  \nmethod                                               \nFair Transition Loss             0.012531  0.024006  \nStandard MLP (baseline)          0.064523  0.045405  \nAdversarial Debiasing            0.182560  0.235414  \nPrejudice Remover                0.085360  0.074077  ",
      "text/html": "<div>\n<style scoped>\n    .dataframe tbody tr th:only-of-type {\n        vertical-align: middle;\n    }\n\n    .dataframe tbody tr th {\n        vertical-align: top;\n    }\n\n    .dataframe thead tr th {\n        text-align: left;\n    }\n\n    .dataframe thead tr:last-of-type th {\n        text-align: right;\n    }\n</style>\n<table border=\"1\" class=\"dataframe\">\n  <thead>\n    <tr>\n      <th></th>\n      <th colspan=\"3\" halign=\"left\">fitness</th>\n      <th colspan=\"2\" halign=\"left\">Accuracy</th>\n      <th colspan=\"2\" halign=\"left\">Equal Opportunity</th>\n    </tr>\n    <tr>\n      <th></th>\n      <th>mean</th>\n      <th>std</th>\n      <th>count</th>\n      <th>mean</th>\n      <th>std</th>\n      <th>mean</th>\n      <th>std</th>\n    </tr>\n    <tr>\n      <th>method</th>\n      <th></th>\n      <th></th>\n      <th></th>\n      <th></th>\n      <th></th>\n      <th></th>\n      <th></th>\n    </tr>\n  </thead>\n  <tbody>\n    <tr>\n      <th>Fair Transition Loss</th>\n      <td>0.679803</td>\n      <td>0.048559</td>\n      <td>15</td>\n      <td>0.692333</td>\n      <td>0.032616</td>\n      <td>0.012531</td>\n      <td>0.024006</td>\n    </tr>\n    <tr>\n      <th>Standard MLP (baseline)</th>\n      <td>0.549810</td>\n      <td>0.059112</td>\n      <td>15</td>\n      <td>0.614333</td>\n      <td>0.033481</td>\n      <td>0.064523</td>\n      <td>0.045405</td>\n    </tr>\n    <tr>\n      <th>Adversarial Debiasing</th>\n      <td>0.530106</td>\n      <td>0.328938</td>\n      <td>15</td>\n      <td>0.712667</td>\n      <td>0.099837</td>\n      <td>0.182560</td>\n      <td>0.235414</td>\n    </tr>\n    <tr>\n      <th>Prejudice Remover</th>\n      <td>0.504640</td>\n      <td>0.082283</td>\n      <td>15</td>\n      <td>0.590000</td>\n      <td>0.025284</td>\n      <td>0.085360</td>\n      <td>0.074077</td>\n    </tr>\n  </tbody>\n</table>\n</div>"
     },
     "metadata": {},
     "output_type": "display_data"
    },
    {
     "name": "stdout",
     "output_type": "stream",
     "text": [
      "Significance Testing\n"
     ]
    },
    {
     "data": {
      "text/plain": "                         Standard MLP (baseline)  Fair Transition Loss  \\\nmethods                                                                  \nStandard MLP (baseline)                 1.000000              0.998447   \nFair Transition Loss                    0.014195              1.000000   \nAdversarial Debiasing                   1.000000              1.000000   \nPrejudice Remover                       1.000000              1.000000   \nGerry Fair Classifier                   1.000000              1.000000   \n\n                         Adversarial Debiasing  Prejudice Remover  \\\nmethods                                                             \nStandard MLP (baseline)               0.687304           0.298358   \nFair Transition Loss                  0.082456           0.000000   \nAdversarial Debiasing                 1.000000           1.000000   \nPrejudice Remover                     0.828166           1.000000   \nGerry Fair Classifier                 1.000000           1.000000   \n\n                         Gerry Fair Classifier  \nmethods                                         \nStandard MLP (baseline)                    0.0  \nFair Transition Loss                       0.0  \nAdversarial Debiasing                      0.0  \nPrejudice Remover                          0.0  \nGerry Fair Classifier                      1.0  ",
      "text/html": "<div>\n<style scoped>\n    .dataframe tbody tr th:only-of-type {\n        vertical-align: middle;\n    }\n\n    .dataframe tbody tr th {\n        vertical-align: top;\n    }\n\n    .dataframe thead th {\n        text-align: right;\n    }\n</style>\n<table border=\"1\" class=\"dataframe\">\n  <thead>\n    <tr style=\"text-align: right;\">\n      <th></th>\n      <th>Standard MLP (baseline)</th>\n      <th>Fair Transition Loss</th>\n      <th>Adversarial Debiasing</th>\n      <th>Prejudice Remover</th>\n      <th>Gerry Fair Classifier</th>\n    </tr>\n    <tr>\n      <th>methods</th>\n      <th></th>\n      <th></th>\n      <th></th>\n      <th></th>\n      <th></th>\n    </tr>\n  </thead>\n  <tbody>\n    <tr>\n      <th>Standard MLP (baseline)</th>\n      <td>1.000000</td>\n      <td>0.998447</td>\n      <td>0.687304</td>\n      <td>0.298358</td>\n      <td>0.0</td>\n    </tr>\n    <tr>\n      <th>Fair Transition Loss</th>\n      <td>0.014195</td>\n      <td>1.000000</td>\n      <td>0.082456</td>\n      <td>0.000000</td>\n      <td>0.0</td>\n    </tr>\n    <tr>\n      <th>Adversarial Debiasing</th>\n      <td>1.000000</td>\n      <td>1.000000</td>\n      <td>1.000000</td>\n      <td>1.000000</td>\n      <td>0.0</td>\n    </tr>\n    <tr>\n      <th>Prejudice Remover</th>\n      <td>1.000000</td>\n      <td>1.000000</td>\n      <td>0.828166</td>\n      <td>1.000000</td>\n      <td>0.0</td>\n    </tr>\n    <tr>\n      <th>Gerry Fair Classifier</th>\n      <td>1.000000</td>\n      <td>1.000000</td>\n      <td>1.000000</td>\n      <td>1.000000</td>\n      <td>1.0</td>\n    </tr>\n  </tbody>\n</table>\n</div>"
     },
     "metadata": {},
     "output_type": "display_data"
    }
   ],
   "source": [
    "for aso_result in sorted(multi_aso_data_list, key=lambda x: x['dataset']):\n",
    "    fitness_rule = aso_result['fitness_rule']\n",
    "    dataset = aso_result['dataset']\n",
    "    metrics = fitness_rules_target_metrics[fitness_rule]\n",
    "    subset_results = results.loc[ (results.fitness_rule == fitness_rule) \\\n",
    "                                      & (results.dataset == dataset) ]\n",
    "\n",
    "    grouped_results = subset_results\\\n",
    "        .groupby(['method'])\\\n",
    "        .agg({'fitness': ['mean', 'std','count'], metrics['performance']: ['mean', 'std'], metrics['fairness']: ['mean', 'std']})\\\n",
    "        .sort_values(by=('fitness','mean'), ascending=False)\n",
    "\n",
    "    aso_df = pd.DataFrame(aso_result['min_eps'], columns=methods)\n",
    "    aso_df['methods'] = methods\n",
    "    aso_df = aso_df.set_index('methods')\n",
    "\n",
    "    print('%s | max(%s - %s)' % (dataset, metrics['performance'], metrics['fairness']))\n",
    "    display(grouped_results)\n",
    "    print('Significance Testing')\n",
    "    display(aso_df)"
   ],
   "metadata": {
    "collapsed": false,
    "ExecuteTime": {
     "end_time": "2023-08-25T20:09:18.448247790Z",
     "start_time": "2023-08-25T20:09:17.353899252Z"
    }
   }
  },
  {
   "cell_type": "code",
   "execution_count": 28,
   "outputs": [
    {
     "name": "stdout",
     "output_type": "stream",
     "text": [
      "Significance Testing\n"
     ]
    },
    {
     "data": {
      "text/plain": "   Standard MLP (baseline)  Adversarial Debiasing  Prejudice Remover  \\\n1                 0.004620               0.152866           1.000000   \n1                 0.027618               0.254582           0.421574   \n1                 0.008614               0.003219           0.058228   \n1                 0.006226               0.252930           0.305378   \n1                 0.009395               0.225552           0.170713   \n1                 0.898703               0.959536           1.000000   \n1                 0.008002               0.000000           0.000000   \n1                 0.471688               0.189642           0.108138   \n1                 0.820683               0.180293           0.236480   \n1                 0.235047               1.000000           1.000000   \n1                 0.775530               0.386310           0.814048   \n1                 1.000000               0.369527           0.819028   \n1                 0.005095               0.211472           0.000000   \n1                 0.005317               0.582610           0.000000   \n1                 0.004837               1.000000           0.000000   \n1                 0.002008               1.000000           0.107223   \n1                 0.006612               0.471443           0.000000   \n1                 0.009027               0.792935           0.000000   \n1                 0.362420               1.000000           0.475996   \n1                 1.000000               1.000000           1.000000   \n1                 1.000000               1.000000           1.000000   \n1                 1.000000               0.469207           1.000000   \n1                 1.000000               0.429356           0.969500   \n1                 0.014195               0.082456           0.000000   \n\n   Gerry Fair Classifier            dataset     fitness_rule  \n1               0.000000       Adult Income       mcc_parity  \n1               0.000000       Adult Income         mcc_odds  \n1               0.000000       Adult Income  mcc_opportunity  \n1               0.000000       Adult Income       acc_parity  \n1               0.000000       Adult Income         acc_odds  \n1               0.204228       Adult Income  acc_opportunity  \n1               0.000000        Bank Market       mcc_parity  \n1               0.027290        Bank Market         mcc_odds  \n1               0.152576        Bank Market  mcc_opportunity  \n1               0.763300        Bank Market       acc_parity  \n1               1.000000        Bank Market         acc_odds  \n1               1.000000        Bank Market  acc_opportunity  \n1               0.001872  Compas Recidivism       mcc_parity  \n1               0.056215  Compas Recidivism         mcc_odds  \n1               0.183791  Compas Recidivism  mcc_opportunity  \n1               1.000000  Compas Recidivism       acc_parity  \n1               0.001646  Compas Recidivism         acc_odds  \n1               0.107667  Compas Recidivism  acc_opportunity  \n1               0.000000      German Credit       mcc_parity  \n1               0.000000      German Credit         mcc_odds  \n1               0.000000      German Credit  mcc_opportunity  \n1               0.000000      German Credit       acc_parity  \n1               0.000000      German Credit         acc_odds  \n1               0.000000      German Credit  acc_opportunity  ",
      "text/html": "<div>\n<style scoped>\n    .dataframe tbody tr th:only-of-type {\n        vertical-align: middle;\n    }\n\n    .dataframe tbody tr th {\n        vertical-align: top;\n    }\n\n    .dataframe thead th {\n        text-align: right;\n    }\n</style>\n<table border=\"1\" class=\"dataframe\">\n  <thead>\n    <tr style=\"text-align: right;\">\n      <th></th>\n      <th>Standard MLP (baseline)</th>\n      <th>Adversarial Debiasing</th>\n      <th>Prejudice Remover</th>\n      <th>Gerry Fair Classifier</th>\n      <th>dataset</th>\n      <th>fitness_rule</th>\n    </tr>\n  </thead>\n  <tbody>\n    <tr>\n      <th>1</th>\n      <td>0.004620</td>\n      <td>0.152866</td>\n      <td>1.000000</td>\n      <td>0.000000</td>\n      <td>Adult Income</td>\n      <td>mcc_parity</td>\n    </tr>\n    <tr>\n      <th>1</th>\n      <td>0.027618</td>\n      <td>0.254582</td>\n      <td>0.421574</td>\n      <td>0.000000</td>\n      <td>Adult Income</td>\n      <td>mcc_odds</td>\n    </tr>\n    <tr>\n      <th>1</th>\n      <td>0.008614</td>\n      <td>0.003219</td>\n      <td>0.058228</td>\n      <td>0.000000</td>\n      <td>Adult Income</td>\n      <td>mcc_opportunity</td>\n    </tr>\n    <tr>\n      <th>1</th>\n      <td>0.006226</td>\n      <td>0.252930</td>\n      <td>0.305378</td>\n      <td>0.000000</td>\n      <td>Adult Income</td>\n      <td>acc_parity</td>\n    </tr>\n    <tr>\n      <th>1</th>\n      <td>0.009395</td>\n      <td>0.225552</td>\n      <td>0.170713</td>\n      <td>0.000000</td>\n      <td>Adult Income</td>\n      <td>acc_odds</td>\n    </tr>\n    <tr>\n      <th>1</th>\n      <td>0.898703</td>\n      <td>0.959536</td>\n      <td>1.000000</td>\n      <td>0.204228</td>\n      <td>Adult Income</td>\n      <td>acc_opportunity</td>\n    </tr>\n    <tr>\n      <th>1</th>\n      <td>0.008002</td>\n      <td>0.000000</td>\n      <td>0.000000</td>\n      <td>0.000000</td>\n      <td>Bank Market</td>\n      <td>mcc_parity</td>\n    </tr>\n    <tr>\n      <th>1</th>\n      <td>0.471688</td>\n      <td>0.189642</td>\n      <td>0.108138</td>\n      <td>0.027290</td>\n      <td>Bank Market</td>\n      <td>mcc_odds</td>\n    </tr>\n    <tr>\n      <th>1</th>\n      <td>0.820683</td>\n      <td>0.180293</td>\n      <td>0.236480</td>\n      <td>0.152576</td>\n      <td>Bank Market</td>\n      <td>mcc_opportunity</td>\n    </tr>\n    <tr>\n      <th>1</th>\n      <td>0.235047</td>\n      <td>1.000000</td>\n      <td>1.000000</td>\n      <td>0.763300</td>\n      <td>Bank Market</td>\n      <td>acc_parity</td>\n    </tr>\n    <tr>\n      <th>1</th>\n      <td>0.775530</td>\n      <td>0.386310</td>\n      <td>0.814048</td>\n      <td>1.000000</td>\n      <td>Bank Market</td>\n      <td>acc_odds</td>\n    </tr>\n    <tr>\n      <th>1</th>\n      <td>1.000000</td>\n      <td>0.369527</td>\n      <td>0.819028</td>\n      <td>1.000000</td>\n      <td>Bank Market</td>\n      <td>acc_opportunity</td>\n    </tr>\n    <tr>\n      <th>1</th>\n      <td>0.005095</td>\n      <td>0.211472</td>\n      <td>0.000000</td>\n      <td>0.001872</td>\n      <td>Compas Recidivism</td>\n      <td>mcc_parity</td>\n    </tr>\n    <tr>\n      <th>1</th>\n      <td>0.005317</td>\n      <td>0.582610</td>\n      <td>0.000000</td>\n      <td>0.056215</td>\n      <td>Compas Recidivism</td>\n      <td>mcc_odds</td>\n    </tr>\n    <tr>\n      <th>1</th>\n      <td>0.004837</td>\n      <td>1.000000</td>\n      <td>0.000000</td>\n      <td>0.183791</td>\n      <td>Compas Recidivism</td>\n      <td>mcc_opportunity</td>\n    </tr>\n    <tr>\n      <th>1</th>\n      <td>0.002008</td>\n      <td>1.000000</td>\n      <td>0.107223</td>\n      <td>1.000000</td>\n      <td>Compas Recidivism</td>\n      <td>acc_parity</td>\n    </tr>\n    <tr>\n      <th>1</th>\n      <td>0.006612</td>\n      <td>0.471443</td>\n      <td>0.000000</td>\n      <td>0.001646</td>\n      <td>Compas Recidivism</td>\n      <td>acc_odds</td>\n    </tr>\n    <tr>\n      <th>1</th>\n      <td>0.009027</td>\n      <td>0.792935</td>\n      <td>0.000000</td>\n      <td>0.107667</td>\n      <td>Compas Recidivism</td>\n      <td>acc_opportunity</td>\n    </tr>\n    <tr>\n      <th>1</th>\n      <td>0.362420</td>\n      <td>1.000000</td>\n      <td>0.475996</td>\n      <td>0.000000</td>\n      <td>German Credit</td>\n      <td>mcc_parity</td>\n    </tr>\n    <tr>\n      <th>1</th>\n      <td>1.000000</td>\n      <td>1.000000</td>\n      <td>1.000000</td>\n      <td>0.000000</td>\n      <td>German Credit</td>\n      <td>mcc_odds</td>\n    </tr>\n    <tr>\n      <th>1</th>\n      <td>1.000000</td>\n      <td>1.000000</td>\n      <td>1.000000</td>\n      <td>0.000000</td>\n      <td>German Credit</td>\n      <td>mcc_opportunity</td>\n    </tr>\n    <tr>\n      <th>1</th>\n      <td>1.000000</td>\n      <td>0.469207</td>\n      <td>1.000000</td>\n      <td>0.000000</td>\n      <td>German Credit</td>\n      <td>acc_parity</td>\n    </tr>\n    <tr>\n      <th>1</th>\n      <td>1.000000</td>\n      <td>0.429356</td>\n      <td>0.969500</td>\n      <td>0.000000</td>\n      <td>German Credit</td>\n      <td>acc_odds</td>\n    </tr>\n    <tr>\n      <th>1</th>\n      <td>0.014195</td>\n      <td>0.082456</td>\n      <td>0.000000</td>\n      <td>0.000000</td>\n      <td>German Credit</td>\n      <td>acc_opportunity</td>\n    </tr>\n  </tbody>\n</table>\n</div>"
     },
     "metadata": {},
     "output_type": "display_data"
    }
   ],
   "source": [
    "aso_df_resume = []\n",
    "for aso_result in sorted(multi_aso_data_list, key=lambda x: x['dataset']):\n",
    "    fitness_rule = aso_result['fitness_rule']\n",
    "    dataset = aso_result['dataset']\n",
    "\n",
    "    aso_df = pd.DataFrame(aso_result['min_eps'], columns=methods)\n",
    "    aso_df['method'] = methods\n",
    "    aso_df['dataset'] = dataset\n",
    "    aso_df['fitness_rule'] = fitness_rule\n",
    "    aso_df = aso_df[aso_df['method'] == 'Fair Transition Loss' ]\n",
    "    aso_df = aso_df.drop(['Fair Transition Loss'], axis=1)\n",
    "    aso_df = aso_df.drop(['method'], axis=1)\n",
    "    aso_df_resume.append(aso_df)\n",
    "\n",
    "\n",
    "print('Significance Testing')\n",
    "significance = pd.concat(aso_df_resume)\n",
    "display(significance)"
   ],
   "metadata": {
    "collapsed": false,
    "ExecuteTime": {
     "end_time": "2023-08-25T20:19:37.644442212Z",
     "start_time": "2023-08-25T20:19:37.639169720Z"
    }
   }
  },
  {
   "cell_type": "code",
   "execution_count": 0,
   "outputs": [],
   "source": [
    "fig, axes = plt.subplots(nrows=3, ncols=2, figsize=(10, 16))\n",
    "fig.subplots_adjust(hspace=0.7)\n",
    "\n",
    "\n",
    "for fitness_rule, ax in zip(sorted(fitness_rules), axes.flatten()):\n",
    "    by_fitness_rule = significance[significance.fitness_rule == fitness_rule]\n",
    "\n",
    "    sns.heatmap(data=by_fitness_rule, x='method', y='dataset', ax=ax )\n",
    "\n",
    "    ax.set_title('Max(%s - %s)' % fitness_rules_target_metrics[fitness_rule])\n",
    "\n",
    "plt.tight_layout()\n",
    "plt.show()"
   ],
   "metadata": {
    "collapsed": false
   }
  },
  {
   "cell_type": "code",
   "execution_count": null,
   "outputs": [],
   "source": [],
   "metadata": {
    "collapsed": false
   }
  }
 ],
 "metadata": {
  "kernelspec": {
   "display_name": "Python 3 (ipykernel)",
   "language": "python",
   "name": "python3"
  },
  "language_info": {
   "codemirror_mode": {
    "name": "ipython",
    "version": 3
   },
   "file_extension": ".py",
   "mimetype": "text/x-python",
   "name": "python",
   "nbconvert_exporter": "python",
   "pygments_lexer": "ipython3",
   "version": "3.8.10"
  }
 },
 "nbformat": 4,
 "nbformat_minor": 1
}
