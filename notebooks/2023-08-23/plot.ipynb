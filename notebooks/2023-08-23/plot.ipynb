{
 "cells": [
  {
   "cell_type": "code",
   "execution_count": 1,
   "metadata": {
    "ExecuteTime": {
     "end_time": "2023-08-22T16:51:35.249702216Z",
     "start_time": "2023-08-22T16:51:34.688672707Z"
    }
   },
   "outputs": [],
   "source": [
    "import matplotlib.pyplot as plt\n",
    "import pandas\n",
    "import pandas as pd\n",
    "import seaborn as sns\n",
    "import json\n",
    "import os\n",
    "import deepsig\n",
    "from IPython.display import display"
   ]
  },
  {
   "cell_type": "code",
   "execution_count": 2,
   "metadata": {
    "ExecuteTime": {
     "end_time": "2023-08-22T16:53:34.439589086Z",
     "start_time": "2023-08-22T16:53:34.395865796Z"
    }
   },
   "outputs": [],
   "source": [
    "def convert_to_json_of_arrays(array_of_jsons):\n",
    "    json_of_arrays = {}\n",
    "\n",
    "    # Iterate through each JSON in the array\n",
    "    for json_obj in array_of_jsons:\n",
    "        for key, value in json_obj.items():\n",
    "            # Check if the key exists in the new JSON, if not, create an array\n",
    "            if key not in json_of_arrays:\n",
    "                json_of_arrays[key] = []\n",
    "\n",
    "            # Append the value to the corresponding array\n",
    "            json_of_arrays[key].append(value)\n",
    "\n",
    "    return json_of_arrays"
   ]
  },
  {
   "cell_type": "code",
   "execution_count": 3,
   "metadata": {
    "ExecuteTime": {
     "end_time": "2023-08-22T16:53:36.389042698Z",
     "start_time": "2023-08-22T16:53:36.185844394Z"
    }
   },
   "outputs": [],
   "source": [
    "def read_csv_files_from_folder(folder_path):\n",
    "    # Initialize an empty list to store DataFrames\n",
    "    dfs = []\n",
    "\n",
    "    # Get a list of files in the folder\n",
    "    file_list = os.listdir(folder_path)\n",
    "\n",
    "    # Iterate through the files in the folder\n",
    "    for file_name in file_list:\n",
    "        # Check if the file has a .csv extension\n",
    "        if file_name.endswith(\".csv\"):\n",
    "            file_path = os.path.join(folder_path, file_name)\n",
    "\n",
    "            # Read the CSV file into a DataFrame\n",
    "            df = pd.read_csv(file_path)\n",
    "\n",
    "            # Append the DataFrame to the list\n",
    "            dfs.append(df)\n",
    "\n",
    "    # Concatenate all DataFrames into a single DataFrame\n",
    "    combined_df = pd.concat(dfs, ignore_index=True)\n",
    "\n",
    "    return combined_df"
   ]
  },
  {
   "cell_type": "code",
   "execution_count": 4,
   "metadata": {
    "ExecuteTime": {
     "end_time": "2023-08-22T16:53:38.214600802Z",
     "start_time": "2023-08-22T16:53:38.163979805Z"
    }
   },
   "outputs": [],
   "source": [
    "def read_json_files_from_folder(folder_path):\n",
    "    json_list = []\n",
    "\n",
    "    # Get a list of files in the folder\n",
    "    file_list = os.listdir(folder_path)\n",
    "\n",
    "    # Iterate through the files in the folder\n",
    "    for file_name in file_list:\n",
    "        # Check if the file has a .json extension\n",
    "        if file_name.endswith(\".json\"):\n",
    "            file_path = os.path.join(folder_path, file_name)\n",
    "\n",
    "            # Read the contents of the JSON file\n",
    "            with open(file_path, \"r\") as file:\n",
    "                try:\n",
    "                    # Parse the JSON data and append it to the list\n",
    "                    json_data = json.load(file)\n",
    "                    json_list.append(json_data)\n",
    "                except json.JSONDecodeError:\n",
    "                    # Handle parsing errors, if any\n",
    "                    print(f\"Error parsing JSON from file: {file_name}\")\n",
    "\n",
    "    return json_list"
   ]
  },
  {
   "cell_type": "code",
   "execution_count": 5,
   "metadata": {
    "ExecuteTime": {
     "end_time": "2023-08-22T16:53:52.473486003Z",
     "start_time": "2023-08-22T16:53:52.423502172Z"
    }
   },
   "outputs": [],
   "source": [
    "cols = ['dataset', 'method', 'fitness_rule', 'fitness', 'ACC', 'MCC', 'f1_score', 'avg_odds_diff', 'stat_par_diff', 'eq_opp_diff']"
   ]
  },
  {
   "cell_type": "code",
   "execution_count": 13,
   "metadata": {
    "ExecuteTime": {
     "end_time": "2023-08-22T16:56:03.066477150Z",
     "start_time": "2023-08-22T16:56:01.873151590Z"
    }
   },
   "outputs": [],
   "source": [
    "results = read_csv_files_from_folder('../2023-07-26/results')\n",
    "results.replace({'ftl_mlp_initializer': 'Fair Transition Loss', 'adversarial_debiasing_initializer': 'Adversarial Debiasing', 'gerry_fair_classifier_initializer': 'Gerry Fair Classifier', 'prejudice_remover_initializer': 'Prejudice Remover', 'simple_mlp_initializer': 'Standard MLP (baseline)'}, inplace=True)\n",
    "results.replace({'adult_dataset_reader': 'Adult Income', 'compas_dataset_reader': 'Compas Recidivism', 'german_dataset_reader': 'German Credit', 'bank_dataset_reader': 'Bank Market'}, inplace=True)\n",
    "results.rename(columns={'avg_odds_diff': 'Equalized Odds', 'stat_par_diff': 'Statistical Parity', 'eq_opp_diff': 'Equal Opportunity', 'MCC': 'Mathew Correlation', 'ACC': 'Accuracy'}, inplace=True)"
   ]
  },
  {
   "cell_type": "code",
   "execution_count": 14,
   "metadata": {
    "ExecuteTime": {
     "end_time": "2023-08-22T16:56:04.109515560Z",
     "start_time": "2023-08-22T16:56:04.062364970Z"
    }
   },
   "outputs": [],
   "source": [
    "fitness_rules_target_metrics = {\n",
    "    'mcc_parity': {'performance': 'Mathew Correlation', 'fairness': 'Statistical Parity'},\n",
    "    'mcc_opportunity': {'performance': 'Mathew Correlation', 'fairness': 'Equal Opportunity'},\n",
    "    'mcc_odds': {'performance': 'Mathew Correlation', 'fairness': 'Equalized Odds'},\n",
    "    'acc_parity': {'performance': 'Accuracy', 'fairness': 'Statistical Parity'},\n",
    "    'acc_opportunity': {'performance': 'Accuracy', 'fairness': 'Equal Opportunity'},\n",
    "    'acc_odds': {'performance': 'Accuracy', 'fairness': 'Equalized Odds'}\n",
    "}"
   ]
  },
  {
   "cell_type": "code",
   "execution_count": 15,
   "metadata": {
    "ExecuteTime": {
     "end_time": "2023-08-22T16:56:12.182006653Z",
     "start_time": "2023-08-22T16:56:12.117821162Z"
    }
   },
   "outputs": [
    {
     "data": {
      "text/plain": "      Unnamed: 0  overall_acc   bal_acc  Equalized Odds  disp_imp  \\\n0              0     0.849641  0.762227        0.063849  0.314202   \n1              1     0.836926  0.735445        0.177128  0.915801   \n2              2     0.829851  0.697909        0.169023  0.935140   \n3              3     0.822664  0.721623        0.151431  0.928655   \n4              4     0.825318  0.687791        0.058623  0.311393   \n...          ...          ...       ...             ...       ...   \n1752          25     0.852515  0.773817        0.110652  0.255170   \n1753          26     0.847872  0.764601        0.038919  0.404617   \n1754          27     0.849420  0.765141        0.050598  0.451171   \n1755          28     0.846656  0.767130        0.037617  0.407864   \n1756          29     0.248314  0.494714        0.004503  1.003457   \n\n      Statistical Parity  Equal Opportunity  theil_ind  f1_score       TPR  \\\n0               0.171645           0.051457   0.124065  0.657431  0.591568   \n1               0.015586           0.309089   0.141128  0.618962  0.534106   \n2               0.009207           0.304896   0.162678  0.559405  0.436941   \n3               0.013649           0.254547   0.149844  0.594540  0.519205   \n4               0.117224           0.077212   0.169257  0.540965  0.414699   \n...                  ...                ...        ...       ...       ...   \n1752            0.203169           0.137689   0.118526  0.673839  0.618770   \n1753            0.148700           0.021135   0.124376  0.661417  0.599465   \n1754            0.133082           0.052726   0.123162  0.661699  0.599460   \n1755            0.151219           0.025163   0.126196  0.668261  0.604500   \n1756            0.003444           0.009005   0.037045  0.397839  0.989427   \n\n      ...       FOR  Accuracy  Mathew Correlation   fitness  \\\n0     ...  0.123747  0.849641            0.568409  0.396764   \n1     ...  0.140893  0.836926            0.529311  0.513724   \n2     ...  0.161659  0.829851            0.493621  0.484414   \n3     ...  0.148083  0.822664            0.492562  0.478913   \n4     ...  0.167431  0.825318            0.478785  0.361561   \n...   ...       ...       ...                 ...       ...   \n1752  ...  0.118212  0.852515            0.583378  0.714826   \n1753  ...  0.124325  0.847872            0.569713  0.826737   \n1754  ...  0.122911  0.849420            0.571280  0.796694   \n1755  ...  0.127387  0.846656            0.575383  0.821492   \n1756  ...  1.000000  0.248314           -0.089109  0.239309   \n\n                                               solution  \\\n0                      {'dropout': 0.12850874154175823}   \n1     {'dropout': 0.12801019666811597, 'privileged_d...   \n2         {'adversary_loss_weight': 0.2641581309416248}   \n3                           {'eta': 24.678161259347267}   \n4              {'C': 2.7809000823690613, 'gamma': 0.01}   \n...                                                 ...   \n1752                  {'dropout': 0.031170806947044327}   \n1753  {'dropout': 0.048006996511106084, 'privileged_...   \n1754    {'adversary_loss_weight': 0.018834197413746947}   \n1755                         {'eta': 0.504924131493664}   \n1756           {'C': 7.443689032443106, 'gamma': 0.001}   \n\n                                   tune_results_history     fitness_rule  \\\n0     [{'overall_acc': 0.8432835820895522, 'bal_acc'...       mcc_parity   \n1     [{'overall_acc': 0.48576561636263127, 'bal_acc...       mcc_parity   \n2     [{'overall_acc': 0.8322277501381979, 'bal_acc'...       mcc_parity   \n3     [{'overall_acc': 0.822139303482587, 'bal_acc':...       mcc_parity   \n4     [{'overall_acc': 0.8311221669430625, 'bal_acc'...       mcc_parity   \n...                                                 ...              ...   \n1752  [{'overall_acc': 0.8493642896627971, 'bal_acc'...  acc_opportunity   \n1753  [{'overall_acc': 0.4347705914870094, 'bal_acc'...  acc_opportunity   \n1754  [{'overall_acc': 0.845771144278607, 'bal_acc':...  acc_opportunity   \n1755  [{'overall_acc': 0.8266998341625207, 'bal_acc'...  acc_opportunity   \n1756  [{'overall_acc': 0.8322277501381979, 'bal_acc'...  acc_opportunity   \n\n                       method       dataset  \\\n0     Standard MLP (baseline)  Adult Income   \n1        Fair Transition Loss  Adult Income   \n2       Adversarial Debiasing  Adult Income   \n3           Prejudice Remover  Adult Income   \n4       Gerry Fair Classifier  Adult Income   \n...                       ...           ...   \n1752  Standard MLP (baseline)  Adult Income   \n1753     Fair Transition Loss  Adult Income   \n1754    Adversarial Debiasing  Adult Income   \n1755        Prejudice Remover  Adult Income   \n1756    Gerry Fair Classifier  Adult Income   \n\n                               best_solution_tf_history  \n0     {'loss': [0.40685467879263043, 0.3476325419417...  \n1     {'loss': [0.5514689696747151, 0.52750887365140...  \n2                                                   NaN  \n3                                                   NaN  \n4                                                   NaN  \n...                                                 ...  \n1752  {'loss': [0.3831082037026907, 0.33695239091176...  \n1753  {'loss': [0.5659523857778902, 0.54456837394613...  \n1754                                                NaN  \n1755                                                NaN  \n1756                                                NaN  \n\n[1757 rows x 30 columns]",
      "text/html": "<div>\n<style scoped>\n    .dataframe tbody tr th:only-of-type {\n        vertical-align: middle;\n    }\n\n    .dataframe tbody tr th {\n        vertical-align: top;\n    }\n\n    .dataframe thead th {\n        text-align: right;\n    }\n</style>\n<table border=\"1\" class=\"dataframe\">\n  <thead>\n    <tr style=\"text-align: right;\">\n      <th></th>\n      <th>Unnamed: 0</th>\n      <th>overall_acc</th>\n      <th>bal_acc</th>\n      <th>Equalized Odds</th>\n      <th>disp_imp</th>\n      <th>Statistical Parity</th>\n      <th>Equal Opportunity</th>\n      <th>theil_ind</th>\n      <th>f1_score</th>\n      <th>TPR</th>\n      <th>...</th>\n      <th>FOR</th>\n      <th>Accuracy</th>\n      <th>Mathew Correlation</th>\n      <th>fitness</th>\n      <th>solution</th>\n      <th>tune_results_history</th>\n      <th>fitness_rule</th>\n      <th>method</th>\n      <th>dataset</th>\n      <th>best_solution_tf_history</th>\n    </tr>\n  </thead>\n  <tbody>\n    <tr>\n      <th>0</th>\n      <td>0</td>\n      <td>0.849641</td>\n      <td>0.762227</td>\n      <td>0.063849</td>\n      <td>0.314202</td>\n      <td>0.171645</td>\n      <td>0.051457</td>\n      <td>0.124065</td>\n      <td>0.657431</td>\n      <td>0.591568</td>\n      <td>...</td>\n      <td>0.123747</td>\n      <td>0.849641</td>\n      <td>0.568409</td>\n      <td>0.396764</td>\n      <td>{'dropout': 0.12850874154175823}</td>\n      <td>[{'overall_acc': 0.8432835820895522, 'bal_acc'...</td>\n      <td>mcc_parity</td>\n      <td>Standard MLP (baseline)</td>\n      <td>Adult Income</td>\n      <td>{'loss': [0.40685467879263043, 0.3476325419417...</td>\n    </tr>\n    <tr>\n      <th>1</th>\n      <td>1</td>\n      <td>0.836926</td>\n      <td>0.735445</td>\n      <td>0.177128</td>\n      <td>0.915801</td>\n      <td>0.015586</td>\n      <td>0.309089</td>\n      <td>0.141128</td>\n      <td>0.618962</td>\n      <td>0.534106</td>\n      <td>...</td>\n      <td>0.140893</td>\n      <td>0.836926</td>\n      <td>0.529311</td>\n      <td>0.513724</td>\n      <td>{'dropout': 0.12801019666811597, 'privileged_d...</td>\n      <td>[{'overall_acc': 0.48576561636263127, 'bal_acc...</td>\n      <td>mcc_parity</td>\n      <td>Fair Transition Loss</td>\n      <td>Adult Income</td>\n      <td>{'loss': [0.5514689696747151, 0.52750887365140...</td>\n    </tr>\n    <tr>\n      <th>2</th>\n      <td>2</td>\n      <td>0.829851</td>\n      <td>0.697909</td>\n      <td>0.169023</td>\n      <td>0.935140</td>\n      <td>0.009207</td>\n      <td>0.304896</td>\n      <td>0.162678</td>\n      <td>0.559405</td>\n      <td>0.436941</td>\n      <td>...</td>\n      <td>0.161659</td>\n      <td>0.829851</td>\n      <td>0.493621</td>\n      <td>0.484414</td>\n      <td>{'adversary_loss_weight': 0.2641581309416248}</td>\n      <td>[{'overall_acc': 0.8322277501381979, 'bal_acc'...</td>\n      <td>mcc_parity</td>\n      <td>Adversarial Debiasing</td>\n      <td>Adult Income</td>\n      <td>NaN</td>\n    </tr>\n    <tr>\n      <th>3</th>\n      <td>3</td>\n      <td>0.822664</td>\n      <td>0.721623</td>\n      <td>0.151431</td>\n      <td>0.928655</td>\n      <td>0.013649</td>\n      <td>0.254547</td>\n      <td>0.149844</td>\n      <td>0.594540</td>\n      <td>0.519205</td>\n      <td>...</td>\n      <td>0.148083</td>\n      <td>0.822664</td>\n      <td>0.492562</td>\n      <td>0.478913</td>\n      <td>{'eta': 24.678161259347267}</td>\n      <td>[{'overall_acc': 0.822139303482587, 'bal_acc':...</td>\n      <td>mcc_parity</td>\n      <td>Prejudice Remover</td>\n      <td>Adult Income</td>\n      <td>NaN</td>\n    </tr>\n    <tr>\n      <th>4</th>\n      <td>4</td>\n      <td>0.825318</td>\n      <td>0.687791</td>\n      <td>0.058623</td>\n      <td>0.311393</td>\n      <td>0.117224</td>\n      <td>0.077212</td>\n      <td>0.169257</td>\n      <td>0.540965</td>\n      <td>0.414699</td>\n      <td>...</td>\n      <td>0.167431</td>\n      <td>0.825318</td>\n      <td>0.478785</td>\n      <td>0.361561</td>\n      <td>{'C': 2.7809000823690613, 'gamma': 0.01}</td>\n      <td>[{'overall_acc': 0.8311221669430625, 'bal_acc'...</td>\n      <td>mcc_parity</td>\n      <td>Gerry Fair Classifier</td>\n      <td>Adult Income</td>\n      <td>NaN</td>\n    </tr>\n    <tr>\n      <th>...</th>\n      <td>...</td>\n      <td>...</td>\n      <td>...</td>\n      <td>...</td>\n      <td>...</td>\n      <td>...</td>\n      <td>...</td>\n      <td>...</td>\n      <td>...</td>\n      <td>...</td>\n      <td>...</td>\n      <td>...</td>\n      <td>...</td>\n      <td>...</td>\n      <td>...</td>\n      <td>...</td>\n      <td>...</td>\n      <td>...</td>\n      <td>...</td>\n      <td>...</td>\n      <td>...</td>\n    </tr>\n    <tr>\n      <th>1752</th>\n      <td>25</td>\n      <td>0.852515</td>\n      <td>0.773817</td>\n      <td>0.110652</td>\n      <td>0.255170</td>\n      <td>0.203169</td>\n      <td>0.137689</td>\n      <td>0.118526</td>\n      <td>0.673839</td>\n      <td>0.618770</td>\n      <td>...</td>\n      <td>0.118212</td>\n      <td>0.852515</td>\n      <td>0.583378</td>\n      <td>0.714826</td>\n      <td>{'dropout': 0.031170806947044327}</td>\n      <td>[{'overall_acc': 0.8493642896627971, 'bal_acc'...</td>\n      <td>acc_opportunity</td>\n      <td>Standard MLP (baseline)</td>\n      <td>Adult Income</td>\n      <td>{'loss': [0.3831082037026907, 0.33695239091176...</td>\n    </tr>\n    <tr>\n      <th>1753</th>\n      <td>26</td>\n      <td>0.847872</td>\n      <td>0.764601</td>\n      <td>0.038919</td>\n      <td>0.404617</td>\n      <td>0.148700</td>\n      <td>0.021135</td>\n      <td>0.124376</td>\n      <td>0.661417</td>\n      <td>0.599465</td>\n      <td>...</td>\n      <td>0.124325</td>\n      <td>0.847872</td>\n      <td>0.569713</td>\n      <td>0.826737</td>\n      <td>{'dropout': 0.048006996511106084, 'privileged_...</td>\n      <td>[{'overall_acc': 0.4347705914870094, 'bal_acc'...</td>\n      <td>acc_opportunity</td>\n      <td>Fair Transition Loss</td>\n      <td>Adult Income</td>\n      <td>{'loss': [0.5659523857778902, 0.54456837394613...</td>\n    </tr>\n    <tr>\n      <th>1754</th>\n      <td>27</td>\n      <td>0.849420</td>\n      <td>0.765141</td>\n      <td>0.050598</td>\n      <td>0.451171</td>\n      <td>0.133082</td>\n      <td>0.052726</td>\n      <td>0.123162</td>\n      <td>0.661699</td>\n      <td>0.599460</td>\n      <td>...</td>\n      <td>0.122911</td>\n      <td>0.849420</td>\n      <td>0.571280</td>\n      <td>0.796694</td>\n      <td>{'adversary_loss_weight': 0.018834197413746947}</td>\n      <td>[{'overall_acc': 0.845771144278607, 'bal_acc':...</td>\n      <td>acc_opportunity</td>\n      <td>Adversarial Debiasing</td>\n      <td>Adult Income</td>\n      <td>NaN</td>\n    </tr>\n    <tr>\n      <th>1755</th>\n      <td>28</td>\n      <td>0.846656</td>\n      <td>0.767130</td>\n      <td>0.037617</td>\n      <td>0.407864</td>\n      <td>0.151219</td>\n      <td>0.025163</td>\n      <td>0.126196</td>\n      <td>0.668261</td>\n      <td>0.604500</td>\n      <td>...</td>\n      <td>0.127387</td>\n      <td>0.846656</td>\n      <td>0.575383</td>\n      <td>0.821492</td>\n      <td>{'eta': 0.504924131493664}</td>\n      <td>[{'overall_acc': 0.8266998341625207, 'bal_acc'...</td>\n      <td>acc_opportunity</td>\n      <td>Prejudice Remover</td>\n      <td>Adult Income</td>\n      <td>NaN</td>\n    </tr>\n    <tr>\n      <th>1756</th>\n      <td>29</td>\n      <td>0.248314</td>\n      <td>0.494714</td>\n      <td>0.004503</td>\n      <td>1.003457</td>\n      <td>0.003444</td>\n      <td>0.009005</td>\n      <td>0.037045</td>\n      <td>0.397839</td>\n      <td>0.989427</td>\n      <td>...</td>\n      <td>1.000000</td>\n      <td>0.248314</td>\n      <td>-0.089109</td>\n      <td>0.239309</td>\n      <td>{'C': 7.443689032443106, 'gamma': 0.001}</td>\n      <td>[{'overall_acc': 0.8322277501381979, 'bal_acc'...</td>\n      <td>acc_opportunity</td>\n      <td>Gerry Fair Classifier</td>\n      <td>Adult Income</td>\n      <td>NaN</td>\n    </tr>\n  </tbody>\n</table>\n<p>1757 rows × 30 columns</p>\n</div>"
     },
     "metadata": {},
     "output_type": "display_data"
    }
   ],
   "source": [
    "display(results)"
   ]
  },
  {
   "cell_type": "code",
   "execution_count": 16,
   "metadata": {
    "ExecuteTime": {
     "end_time": "2023-08-22T16:56:15.552401515Z",
     "start_time": "2023-08-22T16:56:15.536441096Z"
    }
   },
   "outputs": [
    {
     "data": {
      "text/plain": "['Adult Income', 'German Credit', 'Compas Recidivism', 'Bank Market']"
     },
     "execution_count": 16,
     "metadata": {},
     "output_type": "execute_result"
    }
   ],
   "source": [
    "datasets = results['dataset'].unique().tolist()\n",
    "datasets"
   ]
  },
  {
   "cell_type": "code",
   "execution_count": 17,
   "metadata": {
    "ExecuteTime": {
     "end_time": "2023-08-22T16:56:16.587782154Z",
     "start_time": "2023-08-22T16:56:16.504128230Z"
    }
   },
   "outputs": [
    {
     "data": {
      "text/plain": "['mcc_parity',\n 'mcc_odds',\n 'mcc_opportunity',\n 'acc_parity',\n 'acc_odds',\n 'acc_opportunity']"
     },
     "execution_count": 17,
     "metadata": {},
     "output_type": "execute_result"
    }
   ],
   "source": [
    "fitness_rules = results['fitness_rule'].unique().tolist()\n",
    "fitness_rules"
   ]
  },
  {
   "cell_type": "code",
   "execution_count": 18,
   "metadata": {
    "ExecuteTime": {
     "end_time": "2023-08-22T16:56:21.650573273Z",
     "start_time": "2023-08-22T16:56:21.554598844Z"
    }
   },
   "outputs": [
    {
     "data": {
      "text/plain": "['Standard MLP (baseline)',\n 'Fair Transition Loss',\n 'Adversarial Debiasing',\n 'Prejudice Remover',\n 'Gerry Fair Classifier']"
     },
     "execution_count": 18,
     "metadata": {},
     "output_type": "execute_result"
    }
   ],
   "source": [
    "methods = results['method'].unique().tolist()\n",
    "methods"
   ]
  },
  {
   "cell_type": "markdown",
   "metadata": {},
   "source": []
  },
  {
   "cell_type": "markdown",
   "metadata": {},
   "source": []
  },
  {
   "cell_type": "code",
   "execution_count": 19,
   "outputs": [
    {
     "name": "stderr",
     "output_type": "stream",
     "text": [
      "Model comparisons: 100%|█████████▉| 9990/10000 [02:32<00:00, 65.54it/s]\n",
      "Model comparisons: 100%|█████████▉| 9990/10000 [02:26<00:00, 68.39it/s]\n",
      "Model comparisons: 100%|█████████▉| 9990/10000 [02:27<00:00, 67.67it/s]\n",
      "Model comparisons: 100%|█████████▉| 9990/10000 [02:26<00:00, 68.21it/s]\n",
      "Model comparisons: 100%|█████████▉| 9990/10000 [02:25<00:00, 68.43it/s]\n",
      "Model comparisons: 100%|█████████▉| 9990/10000 [02:27<00:00, 67.65it/s]\n",
      "Model comparisons: 100%|█████████▉| 9990/10000 [02:15<00:00, 73.72it/s]\n",
      "Model comparisons: 100%|█████████▉| 9990/10000 [02:19<00:00, 71.83it/s]\n",
      "Model comparisons: 100%|█████████▉| 9990/10000 [02:16<00:00, 73.45it/s]\n",
      "Model comparisons: 100%|█████████▉| 9990/10000 [02:14<00:00, 74.20it/s]\n",
      "Model comparisons: 100%|█████████▉| 9990/10000 [02:13<00:00, 74.76it/s]\n",
      "Model comparisons: 100%|█████████▉| 9990/10000 [02:16<00:00, 73.19it/s]\n",
      "Model comparisons: 100%|█████████▉| 9990/10000 [02:17<00:00, 72.60it/s]\n",
      "Model comparisons: 100%|█████████▉| 9990/10000 [02:20<00:00, 71.26it/s]\n",
      "Model comparisons: 100%|█████████▉| 9990/10000 [02:17<00:00, 72.52it/s]\n",
      "Model comparisons: 100%|█████████▉| 9990/10000 [02:18<00:00, 72.19it/s]\n",
      "Model comparisons: 100%|█████████▉| 9990/10000 [02:18<00:00, 71.96it/s]\n",
      "Model comparisons: 100%|█████████▉| 9990/10000 [02:17<00:00, 72.61it/s]\n",
      "Model comparisons: 100%|█████████▉| 9990/10000 [02:23<00:00, 69.68it/s]\n",
      "Model comparisons: 100%|█████████▉| 9990/10000 [02:20<00:00, 70.95it/s]\n",
      "Model comparisons: 100%|█████████▉| 9990/10000 [02:18<00:00, 72.19it/s]\n",
      "Model comparisons: 100%|█████████▉| 9990/10000 [02:20<00:00, 71.27it/s]\n",
      "Model comparisons: 100%|█████████▉| 9990/10000 [02:19<00:00, 71.68it/s]\n",
      "Model comparisons: 100%|█████████▉| 9990/10000 [02:30<00:00, 66.45it/s]\n"
     ]
    }
   ],
   "source": [
    "multi_aso_data_list = []\n",
    "for d in datasets:\n",
    "    multi_aso_data = []\n",
    "    for f in fitness_rules:\n",
    "        methods_results = []\n",
    "        for m in methods:\n",
    "            r = results.loc[ (results['dataset'] == d) &\n",
    "                                 (results['fitness_rule'] == f) &\n",
    "                                 (results['method'] == m) ]\\\n",
    "                        .fitness.tolist()\n",
    "            if len(r) == 0:\n",
    "                r = [-1]\n",
    "            methods_results.append(r)\n",
    "        min_eps = deepsig.multi_aso(methods_results, confidence_level=0.95)\n",
    "        multi_aso_data_list.append({'fitness_rule': f, 'dataset': d, 'min_eps': min_eps})"
   ],
   "metadata": {
    "collapsed": false,
    "ExecuteTime": {
     "end_time": "2023-08-22T17:53:25.826720471Z",
     "start_time": "2023-08-22T16:57:01.204991346Z"
    }
   }
  },
  {
   "cell_type": "code",
   "execution_count": 20,
   "outputs": [
    {
     "ename": "TypeError",
     "evalue": "Object of type ndarray is not JSON serializable",
     "output_type": "error",
     "traceback": [
      "\u001B[0;31m---------------------------------------------------------------------------\u001B[0m",
      "\u001B[0;31mTypeError\u001B[0m                                 Traceback (most recent call last)",
      "Cell \u001B[0;32mIn[20], line 2\u001B[0m\n\u001B[1;32m      1\u001B[0m \u001B[38;5;28;01mwith\u001B[39;00m \u001B[38;5;28mopen\u001B[39m(\u001B[38;5;124m'\u001B[39m\u001B[38;5;124mmulti_aso_data_list.json\u001B[39m\u001B[38;5;124m'\u001B[39m, \u001B[38;5;124m'\u001B[39m\u001B[38;5;124mw\u001B[39m\u001B[38;5;124m'\u001B[39m) \u001B[38;5;28;01mas\u001B[39;00m file:\n\u001B[0;32m----> 2\u001B[0m     \u001B[43mjson\u001B[49m\u001B[38;5;241;43m.\u001B[39;49m\u001B[43mdump\u001B[49m\u001B[43m(\u001B[49m\u001B[43mmulti_aso_data_list\u001B[49m\u001B[43m,\u001B[49m\u001B[43m \u001B[49m\u001B[43mfile\u001B[49m\u001B[43m)\u001B[49m\n",
      "File \u001B[0;32m/usr/lib/python3.8/json/__init__.py:179\u001B[0m, in \u001B[0;36mdump\u001B[0;34m(obj, fp, skipkeys, ensure_ascii, check_circular, allow_nan, cls, indent, separators, default, sort_keys, **kw)\u001B[0m\n\u001B[1;32m    173\u001B[0m     iterable \u001B[38;5;241m=\u001B[39m \u001B[38;5;28mcls\u001B[39m(skipkeys\u001B[38;5;241m=\u001B[39mskipkeys, ensure_ascii\u001B[38;5;241m=\u001B[39mensure_ascii,\n\u001B[1;32m    174\u001B[0m         check_circular\u001B[38;5;241m=\u001B[39mcheck_circular, allow_nan\u001B[38;5;241m=\u001B[39mallow_nan, indent\u001B[38;5;241m=\u001B[39mindent,\n\u001B[1;32m    175\u001B[0m         separators\u001B[38;5;241m=\u001B[39mseparators,\n\u001B[1;32m    176\u001B[0m         default\u001B[38;5;241m=\u001B[39mdefault, sort_keys\u001B[38;5;241m=\u001B[39msort_keys, \u001B[38;5;241m*\u001B[39m\u001B[38;5;241m*\u001B[39mkw)\u001B[38;5;241m.\u001B[39miterencode(obj)\n\u001B[1;32m    177\u001B[0m \u001B[38;5;66;03m# could accelerate with writelines in some versions of Python, at\u001B[39;00m\n\u001B[1;32m    178\u001B[0m \u001B[38;5;66;03m# a debuggability cost\u001B[39;00m\n\u001B[0;32m--> 179\u001B[0m \u001B[38;5;28;01mfor\u001B[39;00m chunk \u001B[38;5;129;01min\u001B[39;00m iterable:\n\u001B[1;32m    180\u001B[0m     fp\u001B[38;5;241m.\u001B[39mwrite(chunk)\n",
      "File \u001B[0;32m/usr/lib/python3.8/json/encoder.py:429\u001B[0m, in \u001B[0;36m_make_iterencode.<locals>._iterencode\u001B[0;34m(o, _current_indent_level)\u001B[0m\n\u001B[1;32m    427\u001B[0m     \u001B[38;5;28;01myield\u001B[39;00m _floatstr(o)\n\u001B[1;32m    428\u001B[0m \u001B[38;5;28;01melif\u001B[39;00m \u001B[38;5;28misinstance\u001B[39m(o, (\u001B[38;5;28mlist\u001B[39m, \u001B[38;5;28mtuple\u001B[39m)):\n\u001B[0;32m--> 429\u001B[0m     \u001B[38;5;28;01myield from\u001B[39;00m _iterencode_list(o, _current_indent_level)\n\u001B[1;32m    430\u001B[0m \u001B[38;5;28;01melif\u001B[39;00m \u001B[38;5;28misinstance\u001B[39m(o, \u001B[38;5;28mdict\u001B[39m):\n\u001B[1;32m    431\u001B[0m     \u001B[38;5;28;01myield from\u001B[39;00m _iterencode_dict(o, _current_indent_level)\n",
      "File \u001B[0;32m/usr/lib/python3.8/json/encoder.py:325\u001B[0m, in \u001B[0;36m_make_iterencode.<locals>._iterencode_list\u001B[0;34m(lst, _current_indent_level)\u001B[0m\n\u001B[1;32m    323\u001B[0m         \u001B[38;5;28;01melse\u001B[39;00m:\n\u001B[1;32m    324\u001B[0m             chunks \u001B[38;5;241m=\u001B[39m _iterencode(value, _current_indent_level)\n\u001B[0;32m--> 325\u001B[0m         \u001B[38;5;28;01myield from\u001B[39;00m chunks\n\u001B[1;32m    326\u001B[0m \u001B[38;5;28;01mif\u001B[39;00m newline_indent \u001B[38;5;129;01mis\u001B[39;00m \u001B[38;5;129;01mnot\u001B[39;00m \u001B[38;5;28;01mNone\u001B[39;00m:\n\u001B[1;32m    327\u001B[0m     _current_indent_level \u001B[38;5;241m-\u001B[39m\u001B[38;5;241m=\u001B[39m \u001B[38;5;241m1\u001B[39m\n",
      "File \u001B[0;32m/usr/lib/python3.8/json/encoder.py:405\u001B[0m, in \u001B[0;36m_make_iterencode.<locals>._iterencode_dict\u001B[0;34m(dct, _current_indent_level)\u001B[0m\n\u001B[1;32m    403\u001B[0m         \u001B[38;5;28;01melse\u001B[39;00m:\n\u001B[1;32m    404\u001B[0m             chunks \u001B[38;5;241m=\u001B[39m _iterencode(value, _current_indent_level)\n\u001B[0;32m--> 405\u001B[0m         \u001B[38;5;28;01myield from\u001B[39;00m chunks\n\u001B[1;32m    406\u001B[0m \u001B[38;5;28;01mif\u001B[39;00m newline_indent \u001B[38;5;129;01mis\u001B[39;00m \u001B[38;5;129;01mnot\u001B[39;00m \u001B[38;5;28;01mNone\u001B[39;00m:\n\u001B[1;32m    407\u001B[0m     _current_indent_level \u001B[38;5;241m-\u001B[39m\u001B[38;5;241m=\u001B[39m \u001B[38;5;241m1\u001B[39m\n",
      "File \u001B[0;32m/usr/lib/python3.8/json/encoder.py:438\u001B[0m, in \u001B[0;36m_make_iterencode.<locals>._iterencode\u001B[0;34m(o, _current_indent_level)\u001B[0m\n\u001B[1;32m    436\u001B[0m         \u001B[38;5;28;01mraise\u001B[39;00m \u001B[38;5;167;01mValueError\u001B[39;00m(\u001B[38;5;124m\"\u001B[39m\u001B[38;5;124mCircular reference detected\u001B[39m\u001B[38;5;124m\"\u001B[39m)\n\u001B[1;32m    437\u001B[0m     markers[markerid] \u001B[38;5;241m=\u001B[39m o\n\u001B[0;32m--> 438\u001B[0m o \u001B[38;5;241m=\u001B[39m \u001B[43m_default\u001B[49m\u001B[43m(\u001B[49m\u001B[43mo\u001B[49m\u001B[43m)\u001B[49m\n\u001B[1;32m    439\u001B[0m \u001B[38;5;28;01myield from\u001B[39;00m _iterencode(o, _current_indent_level)\n\u001B[1;32m    440\u001B[0m \u001B[38;5;28;01mif\u001B[39;00m markers \u001B[38;5;129;01mis\u001B[39;00m \u001B[38;5;129;01mnot\u001B[39;00m \u001B[38;5;28;01mNone\u001B[39;00m:\n",
      "File \u001B[0;32m/usr/lib/python3.8/json/encoder.py:179\u001B[0m, in \u001B[0;36mJSONEncoder.default\u001B[0;34m(self, o)\u001B[0m\n\u001B[1;32m    160\u001B[0m \u001B[38;5;28;01mdef\u001B[39;00m \u001B[38;5;21mdefault\u001B[39m(\u001B[38;5;28mself\u001B[39m, o):\n\u001B[1;32m    161\u001B[0m \u001B[38;5;250m    \u001B[39m\u001B[38;5;124;03m\"\"\"Implement this method in a subclass such that it returns\u001B[39;00m\n\u001B[1;32m    162\u001B[0m \u001B[38;5;124;03m    a serializable object for ``o``, or calls the base implementation\u001B[39;00m\n\u001B[1;32m    163\u001B[0m \u001B[38;5;124;03m    (to raise a ``TypeError``).\u001B[39;00m\n\u001B[0;32m   (...)\u001B[0m\n\u001B[1;32m    177\u001B[0m \n\u001B[1;32m    178\u001B[0m \u001B[38;5;124;03m    \"\"\"\u001B[39;00m\n\u001B[0;32m--> 179\u001B[0m     \u001B[38;5;28;01mraise\u001B[39;00m \u001B[38;5;167;01mTypeError\u001B[39;00m(\u001B[38;5;124mf\u001B[39m\u001B[38;5;124m'\u001B[39m\u001B[38;5;124mObject of type \u001B[39m\u001B[38;5;132;01m{\u001B[39;00mo\u001B[38;5;241m.\u001B[39m\u001B[38;5;18m__class__\u001B[39m\u001B[38;5;241m.\u001B[39m\u001B[38;5;18m__name__\u001B[39m\u001B[38;5;132;01m}\u001B[39;00m\u001B[38;5;124m \u001B[39m\u001B[38;5;124m'\u001B[39m\n\u001B[1;32m    180\u001B[0m                     \u001B[38;5;124mf\u001B[39m\u001B[38;5;124m'\u001B[39m\u001B[38;5;124mis not JSON serializable\u001B[39m\u001B[38;5;124m'\u001B[39m)\n",
      "\u001B[0;31mTypeError\u001B[0m: Object of type ndarray is not JSON serializable"
     ]
    }
   ],
   "source": [
    "with open('multi_aso_data_list.json', 'w') as file:\n",
    "    json.dump(multi_aso_data_list, file)"
   ],
   "metadata": {
    "collapsed": false,
    "ExecuteTime": {
     "end_time": "2023-08-22T17:53:25.991263757Z",
     "start_time": "2023-08-22T17:53:25.810940778Z"
    }
   }
  },
  {
   "cell_type": "code",
   "execution_count": 0,
   "outputs": [],
   "source": [],
   "metadata": {
    "collapsed": false
   }
  },
  {
   "cell_type": "code",
   "execution_count": 38,
   "outputs": [
    {
     "name": "stdout",
     "output_type": "stream",
     "text": [
      "Adult Income | max(Mathew Correlation - Statistical Parity)\n"
     ]
    },
    {
     "data": {
      "text/plain": "                          fitness                 Mathew Correlation  \\\n                             mean       std count               mean   \nmethod                                                                 \nFair Transition Loss     0.492021  0.016387    16           0.512027   \nPrejudice Remover        0.490575  0.008865    16           0.500024   \nAdversarial Debiasing    0.477586  0.014882    16           0.501430   \nStandard MLP (baseline)  0.395355  0.012556    17           0.580617   \nGerry Fair Classifier    0.304991  0.128019    16           0.453065   \n\n                                  Statistical Parity            \n                              std               mean       std  \nmethod                                                          \nFair Transition Loss     0.010737           0.020006  0.010913  \nPrejudice Remover        0.008227           0.009449  0.009857  \nAdversarial Debiasing    0.020095           0.023844  0.022968  \nStandard MLP (baseline)  0.008613           0.185263  0.010419  \nGerry Fair Classifier    0.173689           0.148074  0.080770  ",
      "text/html": "<div>\n<style scoped>\n    .dataframe tbody tr th:only-of-type {\n        vertical-align: middle;\n    }\n\n    .dataframe tbody tr th {\n        vertical-align: top;\n    }\n\n    .dataframe thead tr th {\n        text-align: left;\n    }\n\n    .dataframe thead tr:last-of-type th {\n        text-align: right;\n    }\n</style>\n<table border=\"1\" class=\"dataframe\">\n  <thead>\n    <tr>\n      <th></th>\n      <th colspan=\"3\" halign=\"left\">fitness</th>\n      <th colspan=\"2\" halign=\"left\">Mathew Correlation</th>\n      <th colspan=\"2\" halign=\"left\">Statistical Parity</th>\n    </tr>\n    <tr>\n      <th></th>\n      <th>mean</th>\n      <th>std</th>\n      <th>count</th>\n      <th>mean</th>\n      <th>std</th>\n      <th>mean</th>\n      <th>std</th>\n    </tr>\n    <tr>\n      <th>method</th>\n      <th></th>\n      <th></th>\n      <th></th>\n      <th></th>\n      <th></th>\n      <th></th>\n      <th></th>\n    </tr>\n  </thead>\n  <tbody>\n    <tr>\n      <th>Fair Transition Loss</th>\n      <td>0.492021</td>\n      <td>0.016387</td>\n      <td>16</td>\n      <td>0.512027</td>\n      <td>0.010737</td>\n      <td>0.020006</td>\n      <td>0.010913</td>\n    </tr>\n    <tr>\n      <th>Prejudice Remover</th>\n      <td>0.490575</td>\n      <td>0.008865</td>\n      <td>16</td>\n      <td>0.500024</td>\n      <td>0.008227</td>\n      <td>0.009449</td>\n      <td>0.009857</td>\n    </tr>\n    <tr>\n      <th>Adversarial Debiasing</th>\n      <td>0.477586</td>\n      <td>0.014882</td>\n      <td>16</td>\n      <td>0.501430</td>\n      <td>0.020095</td>\n      <td>0.023844</td>\n      <td>0.022968</td>\n    </tr>\n    <tr>\n      <th>Standard MLP (baseline)</th>\n      <td>0.395355</td>\n      <td>0.012556</td>\n      <td>17</td>\n      <td>0.580617</td>\n      <td>0.008613</td>\n      <td>0.185263</td>\n      <td>0.010419</td>\n    </tr>\n    <tr>\n      <th>Gerry Fair Classifier</th>\n      <td>0.304991</td>\n      <td>0.128019</td>\n      <td>16</td>\n      <td>0.453065</td>\n      <td>0.173689</td>\n      <td>0.148074</td>\n      <td>0.080770</td>\n    </tr>\n  </tbody>\n</table>\n</div>"
     },
     "metadata": {},
     "output_type": "display_data"
    },
    {
     "name": "stdout",
     "output_type": "stream",
     "text": [
      "Significance Testing\n"
     ]
    },
    {
     "data": {
      "text/plain": "                         Standard MLP (baseline)  Fair Transition Loss  \\\nmethods                                                                  \nStandard MLP (baseline)                 1.000000              0.998874   \nFair Transition Loss                    0.004614              1.000000   \nAdversarial Debiasing                   0.004986              1.000000   \nPrejudice Remover                       0.005992              1.000000   \nGerry Fair Classifier                   1.000000              1.000000   \n\n                         Adversarial Debiasing  Prejudice Remover  \\\nmethods                                                             \nStandard MLP (baseline)               0.998021            0.99591   \nFair Transition Loss                  0.167829            1.00000   \nAdversarial Debiasing                 1.000000            1.00000   \nPrejudice Remover                     0.096655            1.00000   \nGerry Fair Classifier                 1.000000            1.00000   \n\n                         Gerry Fair Classifier  \nmethods                                         \nStandard MLP (baseline)                    0.0  \nFair Transition Loss                       0.0  \nAdversarial Debiasing                      0.0  \nPrejudice Remover                          0.0  \nGerry Fair Classifier                      1.0  ",
      "text/html": "<div>\n<style scoped>\n    .dataframe tbody tr th:only-of-type {\n        vertical-align: middle;\n    }\n\n    .dataframe tbody tr th {\n        vertical-align: top;\n    }\n\n    .dataframe thead th {\n        text-align: right;\n    }\n</style>\n<table border=\"1\" class=\"dataframe\">\n  <thead>\n    <tr style=\"text-align: right;\">\n      <th></th>\n      <th>Standard MLP (baseline)</th>\n      <th>Fair Transition Loss</th>\n      <th>Adversarial Debiasing</th>\n      <th>Prejudice Remover</th>\n      <th>Gerry Fair Classifier</th>\n    </tr>\n    <tr>\n      <th>methods</th>\n      <th></th>\n      <th></th>\n      <th></th>\n      <th></th>\n      <th></th>\n    </tr>\n  </thead>\n  <tbody>\n    <tr>\n      <th>Standard MLP (baseline)</th>\n      <td>1.000000</td>\n      <td>0.998874</td>\n      <td>0.998021</td>\n      <td>0.99591</td>\n      <td>0.0</td>\n    </tr>\n    <tr>\n      <th>Fair Transition Loss</th>\n      <td>0.004614</td>\n      <td>1.000000</td>\n      <td>0.167829</td>\n      <td>1.00000</td>\n      <td>0.0</td>\n    </tr>\n    <tr>\n      <th>Adversarial Debiasing</th>\n      <td>0.004986</td>\n      <td>1.000000</td>\n      <td>1.000000</td>\n      <td>1.00000</td>\n      <td>0.0</td>\n    </tr>\n    <tr>\n      <th>Prejudice Remover</th>\n      <td>0.005992</td>\n      <td>1.000000</td>\n      <td>0.096655</td>\n      <td>1.00000</td>\n      <td>0.0</td>\n    </tr>\n    <tr>\n      <th>Gerry Fair Classifier</th>\n      <td>1.000000</td>\n      <td>1.000000</td>\n      <td>1.000000</td>\n      <td>1.00000</td>\n      <td>1.0</td>\n    </tr>\n  </tbody>\n</table>\n</div>"
     },
     "metadata": {},
     "output_type": "display_data"
    },
    {
     "name": "stdout",
     "output_type": "stream",
     "text": [
      "Adult Income | max(Mathew Correlation - Equalized Odds)\n"
     ]
    },
    {
     "data": {
      "text/plain": "                          fitness                 Mathew Correlation  \\\n                             mean       std count               mean   \nmethod                                                                 \nFair Transition Loss     0.523425  0.020328    16           0.575880   \nPrejudice Remover        0.508792  0.049072    16           0.557913   \nAdversarial Debiasing    0.508718  0.030129    16           0.564504   \nStandard MLP (baseline)  0.489029  0.031826    16           0.575790   \nGerry Fair Classifier    0.403599  0.068466    16           0.503477   \n\n                                  Equalized Odds            \n                              std           mean       std  \nmethod                                                      \nFair Transition Loss     0.019230       0.052455  0.015316  \nPrejudice Remover        0.020503       0.049121  0.029543  \nAdversarial Debiasing    0.015855       0.055786  0.017017  \nStandard MLP (baseline)  0.010824       0.086761  0.025333  \nGerry Fair Classifier    0.039191       0.099878  0.034109  ",
      "text/html": "<div>\n<style scoped>\n    .dataframe tbody tr th:only-of-type {\n        vertical-align: middle;\n    }\n\n    .dataframe tbody tr th {\n        vertical-align: top;\n    }\n\n    .dataframe thead tr th {\n        text-align: left;\n    }\n\n    .dataframe thead tr:last-of-type th {\n        text-align: right;\n    }\n</style>\n<table border=\"1\" class=\"dataframe\">\n  <thead>\n    <tr>\n      <th></th>\n      <th colspan=\"3\" halign=\"left\">fitness</th>\n      <th colspan=\"2\" halign=\"left\">Mathew Correlation</th>\n      <th colspan=\"2\" halign=\"left\">Equalized Odds</th>\n    </tr>\n    <tr>\n      <th></th>\n      <th>mean</th>\n      <th>std</th>\n      <th>count</th>\n      <th>mean</th>\n      <th>std</th>\n      <th>mean</th>\n      <th>std</th>\n    </tr>\n    <tr>\n      <th>method</th>\n      <th></th>\n      <th></th>\n      <th></th>\n      <th></th>\n      <th></th>\n      <th></th>\n      <th></th>\n    </tr>\n  </thead>\n  <tbody>\n    <tr>\n      <th>Fair Transition Loss</th>\n      <td>0.523425</td>\n      <td>0.020328</td>\n      <td>16</td>\n      <td>0.575880</td>\n      <td>0.019230</td>\n      <td>0.052455</td>\n      <td>0.015316</td>\n    </tr>\n    <tr>\n      <th>Prejudice Remover</th>\n      <td>0.508792</td>\n      <td>0.049072</td>\n      <td>16</td>\n      <td>0.557913</td>\n      <td>0.020503</td>\n      <td>0.049121</td>\n      <td>0.029543</td>\n    </tr>\n    <tr>\n      <th>Adversarial Debiasing</th>\n      <td>0.508718</td>\n      <td>0.030129</td>\n      <td>16</td>\n      <td>0.564504</td>\n      <td>0.015855</td>\n      <td>0.055786</td>\n      <td>0.017017</td>\n    </tr>\n    <tr>\n      <th>Standard MLP (baseline)</th>\n      <td>0.489029</td>\n      <td>0.031826</td>\n      <td>16</td>\n      <td>0.575790</td>\n      <td>0.010824</td>\n      <td>0.086761</td>\n      <td>0.025333</td>\n    </tr>\n    <tr>\n      <th>Gerry Fair Classifier</th>\n      <td>0.403599</td>\n      <td>0.068466</td>\n      <td>16</td>\n      <td>0.503477</td>\n      <td>0.039191</td>\n      <td>0.099878</td>\n      <td>0.034109</td>\n    </tr>\n  </tbody>\n</table>\n</div>"
     },
     "metadata": {},
     "output_type": "display_data"
    },
    {
     "name": "stdout",
     "output_type": "stream",
     "text": [
      "Significance Testing\n"
     ]
    },
    {
     "data": {
      "text/plain": "                         Standard MLP (baseline)  Fair Transition Loss  \\\nmethods                                                                  \nStandard MLP (baseline)                 1.000000                   1.0   \nFair Transition Loss                    0.029540                   1.0   \nAdversarial Debiasing                   0.276633                   1.0   \nPrejudice Remover                       0.885675                   1.0   \nGerry Fair Classifier                   1.000000                   1.0   \n\n                         Adversarial Debiasing  Prejudice Remover  \\\nmethods                                                             \nStandard MLP (baseline)               1.000000           1.000000   \nFair Transition Loss                  0.262424           0.392740   \nAdversarial Debiasing                 1.000000           0.793763   \nPrejudice Remover                     1.000000           1.000000   \nGerry Fair Classifier                 1.000000           1.000000   \n\n                         Gerry Fair Classifier  \nmethods                                         \nStandard MLP (baseline)               0.000000  \nFair Transition Loss                  0.000000  \nAdversarial Debiasing                 0.000000  \nPrejudice Remover                     0.051612  \nGerry Fair Classifier                 1.000000  ",
      "text/html": "<div>\n<style scoped>\n    .dataframe tbody tr th:only-of-type {\n        vertical-align: middle;\n    }\n\n    .dataframe tbody tr th {\n        vertical-align: top;\n    }\n\n    .dataframe thead th {\n        text-align: right;\n    }\n</style>\n<table border=\"1\" class=\"dataframe\">\n  <thead>\n    <tr style=\"text-align: right;\">\n      <th></th>\n      <th>Standard MLP (baseline)</th>\n      <th>Fair Transition Loss</th>\n      <th>Adversarial Debiasing</th>\n      <th>Prejudice Remover</th>\n      <th>Gerry Fair Classifier</th>\n    </tr>\n    <tr>\n      <th>methods</th>\n      <th></th>\n      <th></th>\n      <th></th>\n      <th></th>\n      <th></th>\n    </tr>\n  </thead>\n  <tbody>\n    <tr>\n      <th>Standard MLP (baseline)</th>\n      <td>1.000000</td>\n      <td>1.0</td>\n      <td>1.000000</td>\n      <td>1.000000</td>\n      <td>0.000000</td>\n    </tr>\n    <tr>\n      <th>Fair Transition Loss</th>\n      <td>0.029540</td>\n      <td>1.0</td>\n      <td>0.262424</td>\n      <td>0.392740</td>\n      <td>0.000000</td>\n    </tr>\n    <tr>\n      <th>Adversarial Debiasing</th>\n      <td>0.276633</td>\n      <td>1.0</td>\n      <td>1.000000</td>\n      <td>0.793763</td>\n      <td>0.000000</td>\n    </tr>\n    <tr>\n      <th>Prejudice Remover</th>\n      <td>0.885675</td>\n      <td>1.0</td>\n      <td>1.000000</td>\n      <td>1.000000</td>\n      <td>0.051612</td>\n    </tr>\n    <tr>\n      <th>Gerry Fair Classifier</th>\n      <td>1.000000</td>\n      <td>1.0</td>\n      <td>1.000000</td>\n      <td>1.000000</td>\n      <td>1.000000</td>\n    </tr>\n  </tbody>\n</table>\n</div>"
     },
     "metadata": {},
     "output_type": "display_data"
    },
    {
     "name": "stdout",
     "output_type": "stream",
     "text": [
      "Adult Income | max(Mathew Correlation - Equal Opportunity)\n"
     ]
    },
    {
     "data": {
      "text/plain": "                          fitness                 Mathew Correlation  \\\n                             mean       std count               mean   \nmethod                                                                 \nFair Transition Loss     0.555629  0.028296    16           0.584309   \nPrejudice Remover        0.504880  0.090917    16           0.559953   \nAdversarial Debiasing    0.492795  0.052210    16           0.572624   \nStandard MLP (baseline)  0.488503  0.029460    16           0.579698   \nGerry Fair Classifier    0.383114  0.103134    16           0.481545   \n\n                                  Equal Opportunity            \n                              std              mean       std  \nmethod                                                         \nFair Transition Loss     0.011226          0.028680  0.027219  \nPrejudice Remover        0.019364          0.055074  0.075105  \nAdversarial Debiasing    0.010513          0.079829  0.045796  \nStandard MLP (baseline)  0.010412          0.091195  0.029729  \nGerry Fair Classifier    0.127041          0.098431  0.041765  ",
      "text/html": "<div>\n<style scoped>\n    .dataframe tbody tr th:only-of-type {\n        vertical-align: middle;\n    }\n\n    .dataframe tbody tr th {\n        vertical-align: top;\n    }\n\n    .dataframe thead tr th {\n        text-align: left;\n    }\n\n    .dataframe thead tr:last-of-type th {\n        text-align: right;\n    }\n</style>\n<table border=\"1\" class=\"dataframe\">\n  <thead>\n    <tr>\n      <th></th>\n      <th colspan=\"3\" halign=\"left\">fitness</th>\n      <th colspan=\"2\" halign=\"left\">Mathew Correlation</th>\n      <th colspan=\"2\" halign=\"left\">Equal Opportunity</th>\n    </tr>\n    <tr>\n      <th></th>\n      <th>mean</th>\n      <th>std</th>\n      <th>count</th>\n      <th>mean</th>\n      <th>std</th>\n      <th>mean</th>\n      <th>std</th>\n    </tr>\n    <tr>\n      <th>method</th>\n      <th></th>\n      <th></th>\n      <th></th>\n      <th></th>\n      <th></th>\n      <th></th>\n      <th></th>\n    </tr>\n  </thead>\n  <tbody>\n    <tr>\n      <th>Fair Transition Loss</th>\n      <td>0.555629</td>\n      <td>0.028296</td>\n      <td>16</td>\n      <td>0.584309</td>\n      <td>0.011226</td>\n      <td>0.028680</td>\n      <td>0.027219</td>\n    </tr>\n    <tr>\n      <th>Prejudice Remover</th>\n      <td>0.504880</td>\n      <td>0.090917</td>\n      <td>16</td>\n      <td>0.559953</td>\n      <td>0.019364</td>\n      <td>0.055074</td>\n      <td>0.075105</td>\n    </tr>\n    <tr>\n      <th>Adversarial Debiasing</th>\n      <td>0.492795</td>\n      <td>0.052210</td>\n      <td>16</td>\n      <td>0.572624</td>\n      <td>0.010513</td>\n      <td>0.079829</td>\n      <td>0.045796</td>\n    </tr>\n    <tr>\n      <th>Standard MLP (baseline)</th>\n      <td>0.488503</td>\n      <td>0.029460</td>\n      <td>16</td>\n      <td>0.579698</td>\n      <td>0.010412</td>\n      <td>0.091195</td>\n      <td>0.029729</td>\n    </tr>\n    <tr>\n      <th>Gerry Fair Classifier</th>\n      <td>0.383114</td>\n      <td>0.103134</td>\n      <td>16</td>\n      <td>0.481545</td>\n      <td>0.127041</td>\n      <td>0.098431</td>\n      <td>0.041765</td>\n    </tr>\n  </tbody>\n</table>\n</div>"
     },
     "metadata": {},
     "output_type": "display_data"
    },
    {
     "name": "stdout",
     "output_type": "stream",
     "text": [
      "Significance Testing\n"
     ]
    },
    {
     "data": {
      "text/plain": "                         Standard MLP (baseline)  Fair Transition Loss  \\\nmethods                                                                  \nStandard MLP (baseline)                 1.000000              0.997627   \nFair Transition Loss                    0.008588              1.000000   \nAdversarial Debiasing                   1.000000              1.000000   \nPrejudice Remover                       1.000000              1.000000   \nGerry Fair Classifier                   1.000000              1.000000   \n\n                         Adversarial Debiasing  Prejudice Remover  \\\nmethods                                                             \nStandard MLP (baseline)               0.971261           0.880055   \nFair Transition Loss                  0.004950           0.049294   \nAdversarial Debiasing                 1.000000           0.922239   \nPrejudice Remover                     1.000000           1.000000   \nGerry Fair Classifier                 1.000000           1.000000   \n\n                         Gerry Fair Classifier  \nmethods                                         \nStandard MLP (baseline)               0.000000  \nFair Transition Loss                  0.000000  \nAdversarial Debiasing                 0.000537  \nPrejudice Remover                     0.165058  \nGerry Fair Classifier                 1.000000  ",
      "text/html": "<div>\n<style scoped>\n    .dataframe tbody tr th:only-of-type {\n        vertical-align: middle;\n    }\n\n    .dataframe tbody tr th {\n        vertical-align: top;\n    }\n\n    .dataframe thead th {\n        text-align: right;\n    }\n</style>\n<table border=\"1\" class=\"dataframe\">\n  <thead>\n    <tr style=\"text-align: right;\">\n      <th></th>\n      <th>Standard MLP (baseline)</th>\n      <th>Fair Transition Loss</th>\n      <th>Adversarial Debiasing</th>\n      <th>Prejudice Remover</th>\n      <th>Gerry Fair Classifier</th>\n    </tr>\n    <tr>\n      <th>methods</th>\n      <th></th>\n      <th></th>\n      <th></th>\n      <th></th>\n      <th></th>\n    </tr>\n  </thead>\n  <tbody>\n    <tr>\n      <th>Standard MLP (baseline)</th>\n      <td>1.000000</td>\n      <td>0.997627</td>\n      <td>0.971261</td>\n      <td>0.880055</td>\n      <td>0.000000</td>\n    </tr>\n    <tr>\n      <th>Fair Transition Loss</th>\n      <td>0.008588</td>\n      <td>1.000000</td>\n      <td>0.004950</td>\n      <td>0.049294</td>\n      <td>0.000000</td>\n    </tr>\n    <tr>\n      <th>Adversarial Debiasing</th>\n      <td>1.000000</td>\n      <td>1.000000</td>\n      <td>1.000000</td>\n      <td>0.922239</td>\n      <td>0.000537</td>\n    </tr>\n    <tr>\n      <th>Prejudice Remover</th>\n      <td>1.000000</td>\n      <td>1.000000</td>\n      <td>1.000000</td>\n      <td>1.000000</td>\n      <td>0.165058</td>\n    </tr>\n    <tr>\n      <th>Gerry Fair Classifier</th>\n      <td>1.000000</td>\n      <td>1.000000</td>\n      <td>1.000000</td>\n      <td>1.000000</td>\n      <td>1.000000</td>\n    </tr>\n  </tbody>\n</table>\n</div>"
     },
     "metadata": {},
     "output_type": "display_data"
    },
    {
     "name": "stdout",
     "output_type": "stream",
     "text": [
      "Adult Income | max(Accuracy - Statistical Parity)\n"
     ]
    },
    {
     "data": {
      "text/plain": "                          fitness                  Accuracy            \\\n                             mean       std count      mean       std   \nmethod                                                                  \nFair Transition Loss     0.813556  0.010233    16  0.827785  0.007240   \nAdversarial Debiasing    0.807533  0.008959    16  0.829657  0.005835   \nPrejudice Remover        0.807014  0.014847    16  0.824848  0.004380   \nStandard MLP (baseline)  0.666467  0.012829    16  0.850663  0.004163   \nGerry Fair Classifier    0.526329  0.229352    16  0.600539  0.285115   \n\n                        Statistical Parity            \n                                      mean       std  \nmethod                                                \nFair Transition Loss              0.014229  0.009873  \nAdversarial Debiasing             0.022124  0.010258  \nPrejudice Remover                 0.017834  0.013943  \nStandard MLP (baseline)           0.184197  0.011589  \nGerry Fair Classifier             0.074210  0.079207  ",
      "text/html": "<div>\n<style scoped>\n    .dataframe tbody tr th:only-of-type {\n        vertical-align: middle;\n    }\n\n    .dataframe tbody tr th {\n        vertical-align: top;\n    }\n\n    .dataframe thead tr th {\n        text-align: left;\n    }\n\n    .dataframe thead tr:last-of-type th {\n        text-align: right;\n    }\n</style>\n<table border=\"1\" class=\"dataframe\">\n  <thead>\n    <tr>\n      <th></th>\n      <th colspan=\"3\" halign=\"left\">fitness</th>\n      <th colspan=\"2\" halign=\"left\">Accuracy</th>\n      <th colspan=\"2\" halign=\"left\">Statistical Parity</th>\n    </tr>\n    <tr>\n      <th></th>\n      <th>mean</th>\n      <th>std</th>\n      <th>count</th>\n      <th>mean</th>\n      <th>std</th>\n      <th>mean</th>\n      <th>std</th>\n    </tr>\n    <tr>\n      <th>method</th>\n      <th></th>\n      <th></th>\n      <th></th>\n      <th></th>\n      <th></th>\n      <th></th>\n      <th></th>\n    </tr>\n  </thead>\n  <tbody>\n    <tr>\n      <th>Fair Transition Loss</th>\n      <td>0.813556</td>\n      <td>0.010233</td>\n      <td>16</td>\n      <td>0.827785</td>\n      <td>0.007240</td>\n      <td>0.014229</td>\n      <td>0.009873</td>\n    </tr>\n    <tr>\n      <th>Adversarial Debiasing</th>\n      <td>0.807533</td>\n      <td>0.008959</td>\n      <td>16</td>\n      <td>0.829657</td>\n      <td>0.005835</td>\n      <td>0.022124</td>\n      <td>0.010258</td>\n    </tr>\n    <tr>\n      <th>Prejudice Remover</th>\n      <td>0.807014</td>\n      <td>0.014847</td>\n      <td>16</td>\n      <td>0.824848</td>\n      <td>0.004380</td>\n      <td>0.017834</td>\n      <td>0.013943</td>\n    </tr>\n    <tr>\n      <th>Standard MLP (baseline)</th>\n      <td>0.666467</td>\n      <td>0.012829</td>\n      <td>16</td>\n      <td>0.850663</td>\n      <td>0.004163</td>\n      <td>0.184197</td>\n      <td>0.011589</td>\n    </tr>\n    <tr>\n      <th>Gerry Fair Classifier</th>\n      <td>0.526329</td>\n      <td>0.229352</td>\n      <td>16</td>\n      <td>0.600539</td>\n      <td>0.285115</td>\n      <td>0.074210</td>\n      <td>0.079207</td>\n    </tr>\n  </tbody>\n</table>\n</div>"
     },
     "metadata": {},
     "output_type": "display_data"
    },
    {
     "name": "stdout",
     "output_type": "stream",
     "text": [
      "Significance Testing\n"
     ]
    },
    {
     "data": {
      "text/plain": "                         Standard MLP (baseline)  Fair Transition Loss  \\\nmethods                                                                  \nStandard MLP (baseline)                 1.000000              0.995038   \nFair Transition Loss                    0.006227              1.000000   \nAdversarial Debiasing                   0.006425              1.000000   \nPrejudice Remover                       0.005644              1.000000   \nGerry Fair Classifier                   1.000000              1.000000   \n\n                         Adversarial Debiasing  Prejudice Remover  \\\nmethods                                                             \nStandard MLP (baseline)               0.994906           0.996478   \nFair Transition Loss                  0.264879           0.304799   \nAdversarial Debiasing                 1.000000           0.621060   \nPrejudice Remover                     1.000000           1.000000   \nGerry Fair Classifier                 1.000000           1.000000   \n\n                         Gerry Fair Classifier  \nmethods                                         \nStandard MLP (baseline)               0.042002  \nFair Transition Loss                  0.000000  \nAdversarial Debiasing                 0.000000  \nPrejudice Remover                     0.000000  \nGerry Fair Classifier                 1.000000  ",
      "text/html": "<div>\n<style scoped>\n    .dataframe tbody tr th:only-of-type {\n        vertical-align: middle;\n    }\n\n    .dataframe tbody tr th {\n        vertical-align: top;\n    }\n\n    .dataframe thead th {\n        text-align: right;\n    }\n</style>\n<table border=\"1\" class=\"dataframe\">\n  <thead>\n    <tr style=\"text-align: right;\">\n      <th></th>\n      <th>Standard MLP (baseline)</th>\n      <th>Fair Transition Loss</th>\n      <th>Adversarial Debiasing</th>\n      <th>Prejudice Remover</th>\n      <th>Gerry Fair Classifier</th>\n    </tr>\n    <tr>\n      <th>methods</th>\n      <th></th>\n      <th></th>\n      <th></th>\n      <th></th>\n      <th></th>\n    </tr>\n  </thead>\n  <tbody>\n    <tr>\n      <th>Standard MLP (baseline)</th>\n      <td>1.000000</td>\n      <td>0.995038</td>\n      <td>0.994906</td>\n      <td>0.996478</td>\n      <td>0.042002</td>\n    </tr>\n    <tr>\n      <th>Fair Transition Loss</th>\n      <td>0.006227</td>\n      <td>1.000000</td>\n      <td>0.264879</td>\n      <td>0.304799</td>\n      <td>0.000000</td>\n    </tr>\n    <tr>\n      <th>Adversarial Debiasing</th>\n      <td>0.006425</td>\n      <td>1.000000</td>\n      <td>1.000000</td>\n      <td>0.621060</td>\n      <td>0.000000</td>\n    </tr>\n    <tr>\n      <th>Prejudice Remover</th>\n      <td>0.005644</td>\n      <td>1.000000</td>\n      <td>1.000000</td>\n      <td>1.000000</td>\n      <td>0.000000</td>\n    </tr>\n    <tr>\n      <th>Gerry Fair Classifier</th>\n      <td>1.000000</td>\n      <td>1.000000</td>\n      <td>1.000000</td>\n      <td>1.000000</td>\n      <td>1.000000</td>\n    </tr>\n  </tbody>\n</table>\n</div>"
     },
     "metadata": {},
     "output_type": "display_data"
    },
    {
     "name": "stdout",
     "output_type": "stream",
     "text": [
      "Adult Income | max(Accuracy - Equalized Odds)\n"
     ]
    },
    {
     "data": {
      "text/plain": "                          fitness                  Accuracy            \\\n                             mean       std count      mean       std   \nmethod                                                                  \nFair Transition Loss     0.807825  0.017309    15  0.842270  0.006409   \nAdversarial Debiasing    0.796482  0.013597    15  0.848764  0.003349   \nPrejudice Remover        0.793973  0.017261    15  0.844960  0.005480   \nStandard MLP (baseline)  0.765316  0.017537    16  0.849627  0.003754   \nGerry Fair Classifier    0.654975  0.197797    15  0.713787  0.212745   \n\n                        Equalized Odds            \n                                  mean       std  \nmethod                                            \nFair Transition Loss          0.034445  0.017407  \nAdversarial Debiasing         0.052282  0.013394  \nPrejudice Remover             0.050987  0.014133  \nStandard MLP (baseline)       0.084311  0.017112  \nGerry Fair Classifier         0.058811  0.041480  ",
      "text/html": "<div>\n<style scoped>\n    .dataframe tbody tr th:only-of-type {\n        vertical-align: middle;\n    }\n\n    .dataframe tbody tr th {\n        vertical-align: top;\n    }\n\n    .dataframe thead tr th {\n        text-align: left;\n    }\n\n    .dataframe thead tr:last-of-type th {\n        text-align: right;\n    }\n</style>\n<table border=\"1\" class=\"dataframe\">\n  <thead>\n    <tr>\n      <th></th>\n      <th colspan=\"3\" halign=\"left\">fitness</th>\n      <th colspan=\"2\" halign=\"left\">Accuracy</th>\n      <th colspan=\"2\" halign=\"left\">Equalized Odds</th>\n    </tr>\n    <tr>\n      <th></th>\n      <th>mean</th>\n      <th>std</th>\n      <th>count</th>\n      <th>mean</th>\n      <th>std</th>\n      <th>mean</th>\n      <th>std</th>\n    </tr>\n    <tr>\n      <th>method</th>\n      <th></th>\n      <th></th>\n      <th></th>\n      <th></th>\n      <th></th>\n      <th></th>\n      <th></th>\n    </tr>\n  </thead>\n  <tbody>\n    <tr>\n      <th>Fair Transition Loss</th>\n      <td>0.807825</td>\n      <td>0.017309</td>\n      <td>15</td>\n      <td>0.842270</td>\n      <td>0.006409</td>\n      <td>0.034445</td>\n      <td>0.017407</td>\n    </tr>\n    <tr>\n      <th>Adversarial Debiasing</th>\n      <td>0.796482</td>\n      <td>0.013597</td>\n      <td>15</td>\n      <td>0.848764</td>\n      <td>0.003349</td>\n      <td>0.052282</td>\n      <td>0.013394</td>\n    </tr>\n    <tr>\n      <th>Prejudice Remover</th>\n      <td>0.793973</td>\n      <td>0.017261</td>\n      <td>15</td>\n      <td>0.844960</td>\n      <td>0.005480</td>\n      <td>0.050987</td>\n      <td>0.014133</td>\n    </tr>\n    <tr>\n      <th>Standard MLP (baseline)</th>\n      <td>0.765316</td>\n      <td>0.017537</td>\n      <td>16</td>\n      <td>0.849627</td>\n      <td>0.003754</td>\n      <td>0.084311</td>\n      <td>0.017112</td>\n    </tr>\n    <tr>\n      <th>Gerry Fair Classifier</th>\n      <td>0.654975</td>\n      <td>0.197797</td>\n      <td>15</td>\n      <td>0.713787</td>\n      <td>0.212745</td>\n      <td>0.058811</td>\n      <td>0.041480</td>\n    </tr>\n  </tbody>\n</table>\n</div>"
     },
     "metadata": {},
     "output_type": "display_data"
    },
    {
     "name": "stdout",
     "output_type": "stream",
     "text": [
      "Significance Testing\n"
     ]
    },
    {
     "data": {
      "text/plain": "                         Standard MLP (baseline)  Fair Transition Loss  \\\nmethods                                                                  \nStandard MLP (baseline)                 1.000000              0.999554   \nFair Transition Loss                    0.009505              1.000000   \nAdversarial Debiasing                   0.016348              1.000000   \nPrejudice Remover                       0.012460              1.000000   \nGerry Fair Classifier                   1.000000              1.000000   \n\n                         Adversarial Debiasing  Prejudice Remover  \\\nmethods                                                             \nStandard MLP (baseline)               0.996878           1.000000   \nFair Transition Loss                  0.226925           0.158548   \nAdversarial Debiasing                 1.000000           0.670453   \nPrejudice Remover                     1.000000           1.000000   \nGerry Fair Classifier                 1.000000           1.000000   \n\n                         Gerry Fair Classifier  \nmethods                                         \nStandard MLP (baseline)               0.017527  \nFair Transition Loss                  0.000000  \nAdversarial Debiasing                 0.000000  \nPrejudice Remover                     0.000000  \nGerry Fair Classifier                 1.000000  ",
      "text/html": "<div>\n<style scoped>\n    .dataframe tbody tr th:only-of-type {\n        vertical-align: middle;\n    }\n\n    .dataframe tbody tr th {\n        vertical-align: top;\n    }\n\n    .dataframe thead th {\n        text-align: right;\n    }\n</style>\n<table border=\"1\" class=\"dataframe\">\n  <thead>\n    <tr style=\"text-align: right;\">\n      <th></th>\n      <th>Standard MLP (baseline)</th>\n      <th>Fair Transition Loss</th>\n      <th>Adversarial Debiasing</th>\n      <th>Prejudice Remover</th>\n      <th>Gerry Fair Classifier</th>\n    </tr>\n    <tr>\n      <th>methods</th>\n      <th></th>\n      <th></th>\n      <th></th>\n      <th></th>\n      <th></th>\n    </tr>\n  </thead>\n  <tbody>\n    <tr>\n      <th>Standard MLP (baseline)</th>\n      <td>1.000000</td>\n      <td>0.999554</td>\n      <td>0.996878</td>\n      <td>1.000000</td>\n      <td>0.017527</td>\n    </tr>\n    <tr>\n      <th>Fair Transition Loss</th>\n      <td>0.009505</td>\n      <td>1.000000</td>\n      <td>0.226925</td>\n      <td>0.158548</td>\n      <td>0.000000</td>\n    </tr>\n    <tr>\n      <th>Adversarial Debiasing</th>\n      <td>0.016348</td>\n      <td>1.000000</td>\n      <td>1.000000</td>\n      <td>0.670453</td>\n      <td>0.000000</td>\n    </tr>\n    <tr>\n      <th>Prejudice Remover</th>\n      <td>0.012460</td>\n      <td>1.000000</td>\n      <td>1.000000</td>\n      <td>1.000000</td>\n      <td>0.000000</td>\n    </tr>\n    <tr>\n      <th>Gerry Fair Classifier</th>\n      <td>1.000000</td>\n      <td>1.000000</td>\n      <td>1.000000</td>\n      <td>1.000000</td>\n      <td>1.000000</td>\n    </tr>\n  </tbody>\n</table>\n</div>"
     },
     "metadata": {},
     "output_type": "display_data"
    },
    {
     "name": "stdout",
     "output_type": "stream",
     "text": [
      "Adult Income | max(Accuracy - Equal Opportunity)\n"
     ]
    },
    {
     "data": {
      "text/plain": "                          fitness                  Accuracy            \\\n                             mean       std count      mean       std   \nmethod                                                                  \nPrejudice Remover        0.809534  0.022701    13  0.845788  0.003691   \nFair Transition Loss     0.787013  0.083934    15  0.825826  0.069484   \nAdversarial Debiasing    0.756054  0.028345    14  0.847730  0.002904   \nStandard MLP (baseline)  0.752260  0.041790    15  0.849309  0.003078   \nGerry Fair Classifier    0.655568  0.185910    13  0.720083  0.212767   \n\n                        Equal Opportunity            \n                                     mean       std  \nmethod                                               \nPrejudice Remover                0.036254  0.021244  \nFair Transition Loss             0.038813  0.037378  \nAdversarial Debiasing            0.091676  0.027315  \nStandard MLP (baseline)          0.097049  0.042438  \nGerry Fair Classifier            0.064516  0.051427  ",
      "text/html": "<div>\n<style scoped>\n    .dataframe tbody tr th:only-of-type {\n        vertical-align: middle;\n    }\n\n    .dataframe tbody tr th {\n        vertical-align: top;\n    }\n\n    .dataframe thead tr th {\n        text-align: left;\n    }\n\n    .dataframe thead tr:last-of-type th {\n        text-align: right;\n    }\n</style>\n<table border=\"1\" class=\"dataframe\">\n  <thead>\n    <tr>\n      <th></th>\n      <th colspan=\"3\" halign=\"left\">fitness</th>\n      <th colspan=\"2\" halign=\"left\">Accuracy</th>\n      <th colspan=\"2\" halign=\"left\">Equal Opportunity</th>\n    </tr>\n    <tr>\n      <th></th>\n      <th>mean</th>\n      <th>std</th>\n      <th>count</th>\n      <th>mean</th>\n      <th>std</th>\n      <th>mean</th>\n      <th>std</th>\n    </tr>\n    <tr>\n      <th>method</th>\n      <th></th>\n      <th></th>\n      <th></th>\n      <th></th>\n      <th></th>\n      <th></th>\n      <th></th>\n    </tr>\n  </thead>\n  <tbody>\n    <tr>\n      <th>Prejudice Remover</th>\n      <td>0.809534</td>\n      <td>0.022701</td>\n      <td>13</td>\n      <td>0.845788</td>\n      <td>0.003691</td>\n      <td>0.036254</td>\n      <td>0.021244</td>\n    </tr>\n    <tr>\n      <th>Fair Transition Loss</th>\n      <td>0.787013</td>\n      <td>0.083934</td>\n      <td>15</td>\n      <td>0.825826</td>\n      <td>0.069484</td>\n      <td>0.038813</td>\n      <td>0.037378</td>\n    </tr>\n    <tr>\n      <th>Adversarial Debiasing</th>\n      <td>0.756054</td>\n      <td>0.028345</td>\n      <td>14</td>\n      <td>0.847730</td>\n      <td>0.002904</td>\n      <td>0.091676</td>\n      <td>0.027315</td>\n    </tr>\n    <tr>\n      <th>Standard MLP (baseline)</th>\n      <td>0.752260</td>\n      <td>0.041790</td>\n      <td>15</td>\n      <td>0.849309</td>\n      <td>0.003078</td>\n      <td>0.097049</td>\n      <td>0.042438</td>\n    </tr>\n    <tr>\n      <th>Gerry Fair Classifier</th>\n      <td>0.655568</td>\n      <td>0.185910</td>\n      <td>13</td>\n      <td>0.720083</td>\n      <td>0.212767</td>\n      <td>0.064516</td>\n      <td>0.051427</td>\n    </tr>\n  </tbody>\n</table>\n</div>"
     },
     "metadata": {},
     "output_type": "display_data"
    },
    {
     "name": "stdout",
     "output_type": "stream",
     "text": [
      "Significance Testing\n"
     ]
    },
    {
     "data": {
      "text/plain": "                         Standard MLP (baseline)  Fair Transition Loss  \\\nmethods                                                                  \nStandard MLP (baseline)                 1.000000              1.000000   \nFair Transition Loss                    0.894143              1.000000   \nAdversarial Debiasing                   1.000000              1.000000   \nPrejudice Remover                       0.031786              0.487916   \nGerry Fair Classifier                   1.000000              1.000000   \n\n                         Adversarial Debiasing  Prejudice Remover  \\\nmethods                                                             \nStandard MLP (baseline)               0.878576           1.000000   \nFair Transition Loss                  0.969828           1.000000   \nAdversarial Debiasing                 1.000000           0.999879   \nPrejudice Remover                     0.009202           1.000000   \nGerry Fair Classifier                 1.000000           1.000000   \n\n                         Gerry Fair Classifier  \nmethods                                         \nStandard MLP (baseline)               0.065221  \nFair Transition Loss                  0.211548  \nAdversarial Debiasing                 0.019788  \nPrejudice Remover                     0.000000  \nGerry Fair Classifier                 1.000000  ",
      "text/html": "<div>\n<style scoped>\n    .dataframe tbody tr th:only-of-type {\n        vertical-align: middle;\n    }\n\n    .dataframe tbody tr th {\n        vertical-align: top;\n    }\n\n    .dataframe thead th {\n        text-align: right;\n    }\n</style>\n<table border=\"1\" class=\"dataframe\">\n  <thead>\n    <tr style=\"text-align: right;\">\n      <th></th>\n      <th>Standard MLP (baseline)</th>\n      <th>Fair Transition Loss</th>\n      <th>Adversarial Debiasing</th>\n      <th>Prejudice Remover</th>\n      <th>Gerry Fair Classifier</th>\n    </tr>\n    <tr>\n      <th>methods</th>\n      <th></th>\n      <th></th>\n      <th></th>\n      <th></th>\n      <th></th>\n    </tr>\n  </thead>\n  <tbody>\n    <tr>\n      <th>Standard MLP (baseline)</th>\n      <td>1.000000</td>\n      <td>1.000000</td>\n      <td>0.878576</td>\n      <td>1.000000</td>\n      <td>0.065221</td>\n    </tr>\n    <tr>\n      <th>Fair Transition Loss</th>\n      <td>0.894143</td>\n      <td>1.000000</td>\n      <td>0.969828</td>\n      <td>1.000000</td>\n      <td>0.211548</td>\n    </tr>\n    <tr>\n      <th>Adversarial Debiasing</th>\n      <td>1.000000</td>\n      <td>1.000000</td>\n      <td>1.000000</td>\n      <td>0.999879</td>\n      <td>0.019788</td>\n    </tr>\n    <tr>\n      <th>Prejudice Remover</th>\n      <td>0.031786</td>\n      <td>0.487916</td>\n      <td>0.009202</td>\n      <td>1.000000</td>\n      <td>0.000000</td>\n    </tr>\n    <tr>\n      <th>Gerry Fair Classifier</th>\n      <td>1.000000</td>\n      <td>1.000000</td>\n      <td>1.000000</td>\n      <td>1.000000</td>\n      <td>1.000000</td>\n    </tr>\n  </tbody>\n</table>\n</div>"
     },
     "metadata": {},
     "output_type": "display_data"
    },
    {
     "name": "stdout",
     "output_type": "stream",
     "text": [
      "Compas Recidivism | max(Mathew Correlation - Statistical Parity)\n"
     ]
    },
    {
     "data": {
      "text/plain": "                          fitness                 Mathew Correlation  \\\n                             mean       std count               mean   \nmethod                                                                 \nFair Transition Loss     0.219648  0.060505    15           0.276319   \nAdversarial Debiasing    0.156659  0.143556    15           0.322097   \nGerry Fair Classifier    0.114192  0.047612    15           0.245784   \nPrejudice Remover       -0.318189  0.052017    15          -0.275734   \nStandard MLP (baseline) -0.511081  0.048197    15          -0.299095   \n\n                                  Statistical Parity            \n                              std               mean       std  \nmethod                                                          \nFair Transition Loss     0.027969           0.056671  0.045211  \nAdversarial Debiasing    0.015693           0.165438  0.135798  \nGerry Fair Classifier    0.093050           0.131592  0.057941  \nPrejudice Remover        0.029641           0.042455  0.027919  \nStandard MLP (baseline)  0.029404           0.211986  0.039521  ",
      "text/html": "<div>\n<style scoped>\n    .dataframe tbody tr th:only-of-type {\n        vertical-align: middle;\n    }\n\n    .dataframe tbody tr th {\n        vertical-align: top;\n    }\n\n    .dataframe thead tr th {\n        text-align: left;\n    }\n\n    .dataframe thead tr:last-of-type th {\n        text-align: right;\n    }\n</style>\n<table border=\"1\" class=\"dataframe\">\n  <thead>\n    <tr>\n      <th></th>\n      <th colspan=\"3\" halign=\"left\">fitness</th>\n      <th colspan=\"2\" halign=\"left\">Mathew Correlation</th>\n      <th colspan=\"2\" halign=\"left\">Statistical Parity</th>\n    </tr>\n    <tr>\n      <th></th>\n      <th>mean</th>\n      <th>std</th>\n      <th>count</th>\n      <th>mean</th>\n      <th>std</th>\n      <th>mean</th>\n      <th>std</th>\n    </tr>\n    <tr>\n      <th>method</th>\n      <th></th>\n      <th></th>\n      <th></th>\n      <th></th>\n      <th></th>\n      <th></th>\n      <th></th>\n    </tr>\n  </thead>\n  <tbody>\n    <tr>\n      <th>Fair Transition Loss</th>\n      <td>0.219648</td>\n      <td>0.060505</td>\n      <td>15</td>\n      <td>0.276319</td>\n      <td>0.027969</td>\n      <td>0.056671</td>\n      <td>0.045211</td>\n    </tr>\n    <tr>\n      <th>Adversarial Debiasing</th>\n      <td>0.156659</td>\n      <td>0.143556</td>\n      <td>15</td>\n      <td>0.322097</td>\n      <td>0.015693</td>\n      <td>0.165438</td>\n      <td>0.135798</td>\n    </tr>\n    <tr>\n      <th>Gerry Fair Classifier</th>\n      <td>0.114192</td>\n      <td>0.047612</td>\n      <td>15</td>\n      <td>0.245784</td>\n      <td>0.093050</td>\n      <td>0.131592</td>\n      <td>0.057941</td>\n    </tr>\n    <tr>\n      <th>Prejudice Remover</th>\n      <td>-0.318189</td>\n      <td>0.052017</td>\n      <td>15</td>\n      <td>-0.275734</td>\n      <td>0.029641</td>\n      <td>0.042455</td>\n      <td>0.027919</td>\n    </tr>\n    <tr>\n      <th>Standard MLP (baseline)</th>\n      <td>-0.511081</td>\n      <td>0.048197</td>\n      <td>15</td>\n      <td>-0.299095</td>\n      <td>0.029404</td>\n      <td>0.211986</td>\n      <td>0.039521</td>\n    </tr>\n  </tbody>\n</table>\n</div>"
     },
     "metadata": {},
     "output_type": "display_data"
    },
    {
     "name": "stdout",
     "output_type": "stream",
     "text": [
      "Significance Testing\n"
     ]
    },
    {
     "data": {
      "text/plain": "                         Standard MLP (baseline)  Fair Transition Loss  \\\nmethods                                                                  \nStandard MLP (baseline)                 1.000000              0.996369   \nFair Transition Loss                    0.005119              1.000000   \nAdversarial Debiasing                   0.003307              1.000000   \nPrejudice Remover                       0.006195              1.000000   \nGerry Fair Classifier                   0.005331              1.000000   \n\n                         Adversarial Debiasing  Prejudice Remover  \\\nmethods                                                             \nStandard MLP (baseline)                1.00000           0.997048   \nFair Transition Loss                   0.23399           0.000000   \nAdversarial Debiasing                  1.00000           0.000000   \nPrejudice Remover                      1.00000           1.000000   \nGerry Fair Classifier                  1.00000           0.005684   \n\n                         Gerry Fair Classifier  \nmethods                                         \nStandard MLP (baseline)               0.996942  \nFair Transition Loss                  0.003431  \nAdversarial Debiasing                 0.783663  \nPrejudice Remover                     0.997686  \nGerry Fair Classifier                 1.000000  ",
      "text/html": "<div>\n<style scoped>\n    .dataframe tbody tr th:only-of-type {\n        vertical-align: middle;\n    }\n\n    .dataframe tbody tr th {\n        vertical-align: top;\n    }\n\n    .dataframe thead th {\n        text-align: right;\n    }\n</style>\n<table border=\"1\" class=\"dataframe\">\n  <thead>\n    <tr style=\"text-align: right;\">\n      <th></th>\n      <th>Standard MLP (baseline)</th>\n      <th>Fair Transition Loss</th>\n      <th>Adversarial Debiasing</th>\n      <th>Prejudice Remover</th>\n      <th>Gerry Fair Classifier</th>\n    </tr>\n    <tr>\n      <th>methods</th>\n      <th></th>\n      <th></th>\n      <th></th>\n      <th></th>\n      <th></th>\n    </tr>\n  </thead>\n  <tbody>\n    <tr>\n      <th>Standard MLP (baseline)</th>\n      <td>1.000000</td>\n      <td>0.996369</td>\n      <td>1.00000</td>\n      <td>0.997048</td>\n      <td>0.996942</td>\n    </tr>\n    <tr>\n      <th>Fair Transition Loss</th>\n      <td>0.005119</td>\n      <td>1.000000</td>\n      <td>0.23399</td>\n      <td>0.000000</td>\n      <td>0.003431</td>\n    </tr>\n    <tr>\n      <th>Adversarial Debiasing</th>\n      <td>0.003307</td>\n      <td>1.000000</td>\n      <td>1.00000</td>\n      <td>0.000000</td>\n      <td>0.783663</td>\n    </tr>\n    <tr>\n      <th>Prejudice Remover</th>\n      <td>0.006195</td>\n      <td>1.000000</td>\n      <td>1.00000</td>\n      <td>1.000000</td>\n      <td>0.997686</td>\n    </tr>\n    <tr>\n      <th>Gerry Fair Classifier</th>\n      <td>0.005331</td>\n      <td>1.000000</td>\n      <td>1.00000</td>\n      <td>0.005684</td>\n      <td>1.000000</td>\n    </tr>\n  </tbody>\n</table>\n</div>"
     },
     "metadata": {},
     "output_type": "display_data"
    },
    {
     "name": "stdout",
     "output_type": "stream",
     "text": [
      "Compas Recidivism | max(Mathew Correlation - Equalized Odds)\n"
     ]
    },
    {
     "data": {
      "text/plain": "                          fitness                 Mathew Correlation  \\\n                             mean       std count               mean   \nmethod                                                                 \nFair Transition Loss     0.208479  0.058105    15           0.282652   \nAdversarial Debiasing    0.191345  0.110034    15           0.324271   \nGerry Fair Classifier    0.150205  0.059268    15           0.269140   \nPrejudice Remover       -0.351727  0.032756    15          -0.278298   \nStandard MLP (baseline) -0.470693  0.048406    15          -0.294316   \n\n                                  Equalized Odds            \n                              std           mean       std  \nmethod                                                      \nFair Transition Loss     0.024903       0.074173  0.046962  \nAdversarial Debiasing    0.034796       0.132926  0.096137  \nGerry Fair Classifier    0.073869       0.118935  0.042625  \nPrejudice Remover        0.020505       0.073429  0.025640  \nStandard MLP (baseline)  0.016584       0.176377  0.042590  ",
      "text/html": "<div>\n<style scoped>\n    .dataframe tbody tr th:only-of-type {\n        vertical-align: middle;\n    }\n\n    .dataframe tbody tr th {\n        vertical-align: top;\n    }\n\n    .dataframe thead tr th {\n        text-align: left;\n    }\n\n    .dataframe thead tr:last-of-type th {\n        text-align: right;\n    }\n</style>\n<table border=\"1\" class=\"dataframe\">\n  <thead>\n    <tr>\n      <th></th>\n      <th colspan=\"3\" halign=\"left\">fitness</th>\n      <th colspan=\"2\" halign=\"left\">Mathew Correlation</th>\n      <th colspan=\"2\" halign=\"left\">Equalized Odds</th>\n    </tr>\n    <tr>\n      <th></th>\n      <th>mean</th>\n      <th>std</th>\n      <th>count</th>\n      <th>mean</th>\n      <th>std</th>\n      <th>mean</th>\n      <th>std</th>\n    </tr>\n    <tr>\n      <th>method</th>\n      <th></th>\n      <th></th>\n      <th></th>\n      <th></th>\n      <th></th>\n      <th></th>\n      <th></th>\n    </tr>\n  </thead>\n  <tbody>\n    <tr>\n      <th>Fair Transition Loss</th>\n      <td>0.208479</td>\n      <td>0.058105</td>\n      <td>15</td>\n      <td>0.282652</td>\n      <td>0.024903</td>\n      <td>0.074173</td>\n      <td>0.046962</td>\n    </tr>\n    <tr>\n      <th>Adversarial Debiasing</th>\n      <td>0.191345</td>\n      <td>0.110034</td>\n      <td>15</td>\n      <td>0.324271</td>\n      <td>0.034796</td>\n      <td>0.132926</td>\n      <td>0.096137</td>\n    </tr>\n    <tr>\n      <th>Gerry Fair Classifier</th>\n      <td>0.150205</td>\n      <td>0.059268</td>\n      <td>15</td>\n      <td>0.269140</td>\n      <td>0.073869</td>\n      <td>0.118935</td>\n      <td>0.042625</td>\n    </tr>\n    <tr>\n      <th>Prejudice Remover</th>\n      <td>-0.351727</td>\n      <td>0.032756</td>\n      <td>15</td>\n      <td>-0.278298</td>\n      <td>0.020505</td>\n      <td>0.073429</td>\n      <td>0.025640</td>\n    </tr>\n    <tr>\n      <th>Standard MLP (baseline)</th>\n      <td>-0.470693</td>\n      <td>0.048406</td>\n      <td>15</td>\n      <td>-0.294316</td>\n      <td>0.016584</td>\n      <td>0.176377</td>\n      <td>0.042590</td>\n    </tr>\n  </tbody>\n</table>\n</div>"
     },
     "metadata": {},
     "output_type": "display_data"
    },
    {
     "name": "stdout",
     "output_type": "stream",
     "text": [
      "Significance Testing\n"
     ]
    },
    {
     "data": {
      "text/plain": "                         Standard MLP (baseline)  Fair Transition Loss  \\\nmethods                                                                  \nStandard MLP (baseline)                 1.000000              0.995884   \nFair Transition Loss                    0.005360              1.000000   \nAdversarial Debiasing                   0.003988              1.000000   \nPrejudice Remover                       0.009865              1.000000   \nGerry Fair Classifier                   0.004930              1.000000   \n\n                         Adversarial Debiasing  Prejudice Remover  \\\nmethods                                                             \nStandard MLP (baseline)               0.997904           0.998170   \nFair Transition Loss                  0.593460           0.000000   \nAdversarial Debiasing                 1.000000           0.000000   \nPrejudice Remover                     1.000000           1.000000   \nGerry Fair Classifier                 1.000000           0.004759   \n\n                         Gerry Fair Classifier  \nmethods                                         \nStandard MLP (baseline)               0.996983  \nFair Transition Loss                  0.060824  \nAdversarial Debiasing                 0.567918  \nPrejudice Remover                     0.997660  \nGerry Fair Classifier                 1.000000  ",
      "text/html": "<div>\n<style scoped>\n    .dataframe tbody tr th:only-of-type {\n        vertical-align: middle;\n    }\n\n    .dataframe tbody tr th {\n        vertical-align: top;\n    }\n\n    .dataframe thead th {\n        text-align: right;\n    }\n</style>\n<table border=\"1\" class=\"dataframe\">\n  <thead>\n    <tr style=\"text-align: right;\">\n      <th></th>\n      <th>Standard MLP (baseline)</th>\n      <th>Fair Transition Loss</th>\n      <th>Adversarial Debiasing</th>\n      <th>Prejudice Remover</th>\n      <th>Gerry Fair Classifier</th>\n    </tr>\n    <tr>\n      <th>methods</th>\n      <th></th>\n      <th></th>\n      <th></th>\n      <th></th>\n      <th></th>\n    </tr>\n  </thead>\n  <tbody>\n    <tr>\n      <th>Standard MLP (baseline)</th>\n      <td>1.000000</td>\n      <td>0.995884</td>\n      <td>0.997904</td>\n      <td>0.998170</td>\n      <td>0.996983</td>\n    </tr>\n    <tr>\n      <th>Fair Transition Loss</th>\n      <td>0.005360</td>\n      <td>1.000000</td>\n      <td>0.593460</td>\n      <td>0.000000</td>\n      <td>0.060824</td>\n    </tr>\n    <tr>\n      <th>Adversarial Debiasing</th>\n      <td>0.003988</td>\n      <td>1.000000</td>\n      <td>1.000000</td>\n      <td>0.000000</td>\n      <td>0.567918</td>\n    </tr>\n    <tr>\n      <th>Prejudice Remover</th>\n      <td>0.009865</td>\n      <td>1.000000</td>\n      <td>1.000000</td>\n      <td>1.000000</td>\n      <td>0.997660</td>\n    </tr>\n    <tr>\n      <th>Gerry Fair Classifier</th>\n      <td>0.004930</td>\n      <td>1.000000</td>\n      <td>1.000000</td>\n      <td>0.004759</td>\n      <td>1.000000</td>\n    </tr>\n  </tbody>\n</table>\n</div>"
     },
     "metadata": {},
     "output_type": "display_data"
    },
    {
     "name": "stdout",
     "output_type": "stream",
     "text": [
      "Compas Recidivism | max(Mathew Correlation - Equal Opportunity)\n"
     ]
    },
    {
     "data": {
      "text/plain": "                          fitness                 Mathew Correlation  \\\n                             mean       std count               mean   \nmethod                                                                 \nAdversarial Debiasing    0.258418  0.052592    15           0.328905   \nFair Transition Loss     0.213496  0.058243    15           0.263713   \nGerry Fair Classifier    0.166407  0.052726    15           0.264071   \nPrejudice Remover       -0.319029  0.031000    15          -0.289144   \nStandard MLP (baseline) -0.435498  0.034788    15          -0.292278   \n\n                                  Equal Opportunity            \n                              std              mean       std  \nmethod                                                         \nAdversarial Debiasing    0.025563          0.070487  0.050916  \nFair Transition Loss     0.060744          0.050218  0.029355  \nGerry Fair Classifier    0.053928          0.097664  0.038141  \nPrejudice Remover        0.027507          0.029885  0.021920  \nStandard MLP (baseline)  0.021478          0.143220  0.031957  ",
      "text/html": "<div>\n<style scoped>\n    .dataframe tbody tr th:only-of-type {\n        vertical-align: middle;\n    }\n\n    .dataframe tbody tr th {\n        vertical-align: top;\n    }\n\n    .dataframe thead tr th {\n        text-align: left;\n    }\n\n    .dataframe thead tr:last-of-type th {\n        text-align: right;\n    }\n</style>\n<table border=\"1\" class=\"dataframe\">\n  <thead>\n    <tr>\n      <th></th>\n      <th colspan=\"3\" halign=\"left\">fitness</th>\n      <th colspan=\"2\" halign=\"left\">Mathew Correlation</th>\n      <th colspan=\"2\" halign=\"left\">Equal Opportunity</th>\n    </tr>\n    <tr>\n      <th></th>\n      <th>mean</th>\n      <th>std</th>\n      <th>count</th>\n      <th>mean</th>\n      <th>std</th>\n      <th>mean</th>\n      <th>std</th>\n    </tr>\n    <tr>\n      <th>method</th>\n      <th></th>\n      <th></th>\n      <th></th>\n      <th></th>\n      <th></th>\n      <th></th>\n      <th></th>\n    </tr>\n  </thead>\n  <tbody>\n    <tr>\n      <th>Adversarial Debiasing</th>\n      <td>0.258418</td>\n      <td>0.052592</td>\n      <td>15</td>\n      <td>0.328905</td>\n      <td>0.025563</td>\n      <td>0.070487</td>\n      <td>0.050916</td>\n    </tr>\n    <tr>\n      <th>Fair Transition Loss</th>\n      <td>0.213496</td>\n      <td>0.058243</td>\n      <td>15</td>\n      <td>0.263713</td>\n      <td>0.060744</td>\n      <td>0.050218</td>\n      <td>0.029355</td>\n    </tr>\n    <tr>\n      <th>Gerry Fair Classifier</th>\n      <td>0.166407</td>\n      <td>0.052726</td>\n      <td>15</td>\n      <td>0.264071</td>\n      <td>0.053928</td>\n      <td>0.097664</td>\n      <td>0.038141</td>\n    </tr>\n    <tr>\n      <th>Prejudice Remover</th>\n      <td>-0.319029</td>\n      <td>0.031000</td>\n      <td>15</td>\n      <td>-0.289144</td>\n      <td>0.027507</td>\n      <td>0.029885</td>\n      <td>0.021920</td>\n    </tr>\n    <tr>\n      <th>Standard MLP (baseline)</th>\n      <td>-0.435498</td>\n      <td>0.034788</td>\n      <td>15</td>\n      <td>-0.292278</td>\n      <td>0.021478</td>\n      <td>0.143220</td>\n      <td>0.031957</td>\n    </tr>\n  </tbody>\n</table>\n</div>"
     },
     "metadata": {},
     "output_type": "display_data"
    },
    {
     "name": "stdout",
     "output_type": "stream",
     "text": [
      "Significance Testing\n"
     ]
    },
    {
     "data": {
      "text/plain": "                         Standard MLP (baseline)  Fair Transition Loss  \\\nmethods                                                                  \nStandard MLP (baseline)                 1.000000              0.996932   \nFair Transition Loss                    0.004868              1.000000   \nAdversarial Debiasing                   0.004901              0.168938   \nPrejudice Remover                       0.008808              1.000000   \nGerry Fair Classifier                   0.004771              1.000000   \n\n                         Adversarial Debiasing  Prejudice Remover  \\\nmethods                                                             \nStandard MLP (baseline)                0.99618           0.995530   \nFair Transition Loss                   1.00000           0.000000   \nAdversarial Debiasing                  1.00000           0.000000   \nPrejudice Remover                      1.00000           1.000000   \nGerry Fair Classifier                  1.00000           0.004363   \n\n                         Gerry Fair Classifier  \nmethods                                         \nStandard MLP (baseline)               0.996761  \nFair Transition Loss                  0.177636  \nAdversarial Debiasing                 0.002865  \nPrejudice Remover                     0.997440  \nGerry Fair Classifier                 1.000000  ",
      "text/html": "<div>\n<style scoped>\n    .dataframe tbody tr th:only-of-type {\n        vertical-align: middle;\n    }\n\n    .dataframe tbody tr th {\n        vertical-align: top;\n    }\n\n    .dataframe thead th {\n        text-align: right;\n    }\n</style>\n<table border=\"1\" class=\"dataframe\">\n  <thead>\n    <tr style=\"text-align: right;\">\n      <th></th>\n      <th>Standard MLP (baseline)</th>\n      <th>Fair Transition Loss</th>\n      <th>Adversarial Debiasing</th>\n      <th>Prejudice Remover</th>\n      <th>Gerry Fair Classifier</th>\n    </tr>\n    <tr>\n      <th>methods</th>\n      <th></th>\n      <th></th>\n      <th></th>\n      <th></th>\n      <th></th>\n    </tr>\n  </thead>\n  <tbody>\n    <tr>\n      <th>Standard MLP (baseline)</th>\n      <td>1.000000</td>\n      <td>0.996932</td>\n      <td>0.99618</td>\n      <td>0.995530</td>\n      <td>0.996761</td>\n    </tr>\n    <tr>\n      <th>Fair Transition Loss</th>\n      <td>0.004868</td>\n      <td>1.000000</td>\n      <td>1.00000</td>\n      <td>0.000000</td>\n      <td>0.177636</td>\n    </tr>\n    <tr>\n      <th>Adversarial Debiasing</th>\n      <td>0.004901</td>\n      <td>0.168938</td>\n      <td>1.00000</td>\n      <td>0.000000</td>\n      <td>0.002865</td>\n    </tr>\n    <tr>\n      <th>Prejudice Remover</th>\n      <td>0.008808</td>\n      <td>1.000000</td>\n      <td>1.00000</td>\n      <td>1.000000</td>\n      <td>0.997440</td>\n    </tr>\n    <tr>\n      <th>Gerry Fair Classifier</th>\n      <td>0.004771</td>\n      <td>1.000000</td>\n      <td>1.00000</td>\n      <td>0.004363</td>\n      <td>1.000000</td>\n    </tr>\n  </tbody>\n</table>\n</div>"
     },
     "metadata": {},
     "output_type": "display_data"
    },
    {
     "name": "stdout",
     "output_type": "stream",
     "text": [
      "Compas Recidivism | max(Accuracy - Statistical Parity)\n"
     ]
    },
    {
     "data": {
      "text/plain": "                          fitness                  Accuracy            \\\n                             mean       std count      mean       std   \nmethod                                                                  \nAdversarial Debiasing    0.537701  0.072416    15  0.670070  0.015980   \nFair Transition Loss     0.501417  0.151259    15  0.600000  0.047615   \nGerry Fair Classifier    0.482351  0.038079    15  0.595624  0.085296   \nPrejudice Remover        0.307630  0.028754    15  0.359265  0.013230   \nStandard MLP (baseline)  0.145627  0.032556    15  0.354025  0.017277   \n\n                        Statistical Parity            \n                                      mean       std  \nmethod                                                \nAdversarial Debiasing             0.132370  0.081590  \nFair Transition Loss              0.098583  0.143214  \nGerry Fair Classifier             0.113273  0.072172  \nPrejudice Remover                 0.051635  0.023966  \nStandard MLP (baseline)           0.208397  0.024309  ",
      "text/html": "<div>\n<style scoped>\n    .dataframe tbody tr th:only-of-type {\n        vertical-align: middle;\n    }\n\n    .dataframe tbody tr th {\n        vertical-align: top;\n    }\n\n    .dataframe thead tr th {\n        text-align: left;\n    }\n\n    .dataframe thead tr:last-of-type th {\n        text-align: right;\n    }\n</style>\n<table border=\"1\" class=\"dataframe\">\n  <thead>\n    <tr>\n      <th></th>\n      <th colspan=\"3\" halign=\"left\">fitness</th>\n      <th colspan=\"2\" halign=\"left\">Accuracy</th>\n      <th colspan=\"2\" halign=\"left\">Statistical Parity</th>\n    </tr>\n    <tr>\n      <th></th>\n      <th>mean</th>\n      <th>std</th>\n      <th>count</th>\n      <th>mean</th>\n      <th>std</th>\n      <th>mean</th>\n      <th>std</th>\n    </tr>\n    <tr>\n      <th>method</th>\n      <th></th>\n      <th></th>\n      <th></th>\n      <th></th>\n      <th></th>\n      <th></th>\n      <th></th>\n    </tr>\n  </thead>\n  <tbody>\n    <tr>\n      <th>Adversarial Debiasing</th>\n      <td>0.537701</td>\n      <td>0.072416</td>\n      <td>15</td>\n      <td>0.670070</td>\n      <td>0.015980</td>\n      <td>0.132370</td>\n      <td>0.081590</td>\n    </tr>\n    <tr>\n      <th>Fair Transition Loss</th>\n      <td>0.501417</td>\n      <td>0.151259</td>\n      <td>15</td>\n      <td>0.600000</td>\n      <td>0.047615</td>\n      <td>0.098583</td>\n      <td>0.143214</td>\n    </tr>\n    <tr>\n      <th>Gerry Fair Classifier</th>\n      <td>0.482351</td>\n      <td>0.038079</td>\n      <td>15</td>\n      <td>0.595624</td>\n      <td>0.085296</td>\n      <td>0.113273</td>\n      <td>0.072172</td>\n    </tr>\n    <tr>\n      <th>Prejudice Remover</th>\n      <td>0.307630</td>\n      <td>0.028754</td>\n      <td>15</td>\n      <td>0.359265</td>\n      <td>0.013230</td>\n      <td>0.051635</td>\n      <td>0.023966</td>\n    </tr>\n    <tr>\n      <th>Standard MLP (baseline)</th>\n      <td>0.145627</td>\n      <td>0.032556</td>\n      <td>15</td>\n      <td>0.354025</td>\n      <td>0.017277</td>\n      <td>0.208397</td>\n      <td>0.024309</td>\n    </tr>\n  </tbody>\n</table>\n</div>"
     },
     "metadata": {},
     "output_type": "display_data"
    },
    {
     "name": "stdout",
     "output_type": "stream",
     "text": [
      "Significance Testing\n"
     ]
    },
    {
     "data": {
      "text/plain": "                         Standard MLP (baseline)  Fair Transition Loss  \\\nmethods                                                                  \nStandard MLP (baseline)                 1.000000              1.000000   \nFair Transition Loss                    0.001932              1.000000   \nAdversarial Debiasing                   0.003975              0.480547   \nPrejudice Remover                       0.005932              1.000000   \nGerry Fair Classifier                   0.004960              0.804585   \n\n                         Adversarial Debiasing  Prejudice Remover  \\\nmethods                                                             \nStandard MLP (baseline)               0.997686           0.996773   \nFair Transition Loss                  1.000000           0.104268   \nAdversarial Debiasing                 1.000000           0.000000   \nPrejudice Remover                     1.000000           1.000000   \nGerry Fair Classifier                 1.000000           0.005326   \n\n                         Gerry Fair Classifier  \nmethods                                         \nStandard MLP (baseline)               0.996402  \nFair Transition Loss                  1.000000  \nAdversarial Debiasing                 0.075882  \nPrejudice Remover                     0.997342  \nGerry Fair Classifier                 1.000000  ",
      "text/html": "<div>\n<style scoped>\n    .dataframe tbody tr th:only-of-type {\n        vertical-align: middle;\n    }\n\n    .dataframe tbody tr th {\n        vertical-align: top;\n    }\n\n    .dataframe thead th {\n        text-align: right;\n    }\n</style>\n<table border=\"1\" class=\"dataframe\">\n  <thead>\n    <tr style=\"text-align: right;\">\n      <th></th>\n      <th>Standard MLP (baseline)</th>\n      <th>Fair Transition Loss</th>\n      <th>Adversarial Debiasing</th>\n      <th>Prejudice Remover</th>\n      <th>Gerry Fair Classifier</th>\n    </tr>\n    <tr>\n      <th>methods</th>\n      <th></th>\n      <th></th>\n      <th></th>\n      <th></th>\n      <th></th>\n    </tr>\n  </thead>\n  <tbody>\n    <tr>\n      <th>Standard MLP (baseline)</th>\n      <td>1.000000</td>\n      <td>1.000000</td>\n      <td>0.997686</td>\n      <td>0.996773</td>\n      <td>0.996402</td>\n    </tr>\n    <tr>\n      <th>Fair Transition Loss</th>\n      <td>0.001932</td>\n      <td>1.000000</td>\n      <td>1.000000</td>\n      <td>0.104268</td>\n      <td>1.000000</td>\n    </tr>\n    <tr>\n      <th>Adversarial Debiasing</th>\n      <td>0.003975</td>\n      <td>0.480547</td>\n      <td>1.000000</td>\n      <td>0.000000</td>\n      <td>0.075882</td>\n    </tr>\n    <tr>\n      <th>Prejudice Remover</th>\n      <td>0.005932</td>\n      <td>1.000000</td>\n      <td>1.000000</td>\n      <td>1.000000</td>\n      <td>0.997342</td>\n    </tr>\n    <tr>\n      <th>Gerry Fair Classifier</th>\n      <td>0.004960</td>\n      <td>0.804585</td>\n      <td>1.000000</td>\n      <td>0.005326</td>\n      <td>1.000000</td>\n    </tr>\n  </tbody>\n</table>\n</div>"
     },
     "metadata": {},
     "output_type": "display_data"
    },
    {
     "name": "stdout",
     "output_type": "stream",
     "text": [
      "Compas Recidivism | max(Accuracy - Equalized Odds)\n"
     ]
    },
    {
     "data": {
      "text/plain": "                          fitness                  Accuracy            \\\n                             mean       std count      mean       std   \nmethod                                                                  \nFair Transition Loss     0.571804  0.028527    15  0.630632  0.040140   \nAdversarial Debiasing    0.552610  0.094035    15  0.668504  0.013186   \nGerry Fair Classifier    0.518907  0.037400    15  0.624203  0.054904   \nPrejudice Remover        0.264117  0.027071    15  0.356888  0.013023   \nStandard MLP (baseline)  0.154593  0.043940    15  0.349919  0.015081   \n\n                        Equalized Odds            \n                                  mean       std  \nmethod                                            \nFair Transition Loss          0.058828  0.033938  \nAdversarial Debiasing         0.115893  0.090752  \nGerry Fair Classifier         0.105296  0.053737  \nPrejudice Remover             0.092771  0.020648  \nStandard MLP (baseline)       0.195326  0.044006  ",
      "text/html": "<div>\n<style scoped>\n    .dataframe tbody tr th:only-of-type {\n        vertical-align: middle;\n    }\n\n    .dataframe tbody tr th {\n        vertical-align: top;\n    }\n\n    .dataframe thead tr th {\n        text-align: left;\n    }\n\n    .dataframe thead tr:last-of-type th {\n        text-align: right;\n    }\n</style>\n<table border=\"1\" class=\"dataframe\">\n  <thead>\n    <tr>\n      <th></th>\n      <th colspan=\"3\" halign=\"left\">fitness</th>\n      <th colspan=\"2\" halign=\"left\">Accuracy</th>\n      <th colspan=\"2\" halign=\"left\">Equalized Odds</th>\n    </tr>\n    <tr>\n      <th></th>\n      <th>mean</th>\n      <th>std</th>\n      <th>count</th>\n      <th>mean</th>\n      <th>std</th>\n      <th>mean</th>\n      <th>std</th>\n    </tr>\n    <tr>\n      <th>method</th>\n      <th></th>\n      <th></th>\n      <th></th>\n      <th></th>\n      <th></th>\n      <th></th>\n      <th></th>\n    </tr>\n  </thead>\n  <tbody>\n    <tr>\n      <th>Fair Transition Loss</th>\n      <td>0.571804</td>\n      <td>0.028527</td>\n      <td>15</td>\n      <td>0.630632</td>\n      <td>0.040140</td>\n      <td>0.058828</td>\n      <td>0.033938</td>\n    </tr>\n    <tr>\n      <th>Adversarial Debiasing</th>\n      <td>0.552610</td>\n      <td>0.094035</td>\n      <td>15</td>\n      <td>0.668504</td>\n      <td>0.013186</td>\n      <td>0.115893</td>\n      <td>0.090752</td>\n    </tr>\n    <tr>\n      <th>Gerry Fair Classifier</th>\n      <td>0.518907</td>\n      <td>0.037400</td>\n      <td>15</td>\n      <td>0.624203</td>\n      <td>0.054904</td>\n      <td>0.105296</td>\n      <td>0.053737</td>\n    </tr>\n    <tr>\n      <th>Prejudice Remover</th>\n      <td>0.264117</td>\n      <td>0.027071</td>\n      <td>15</td>\n      <td>0.356888</td>\n      <td>0.013023</td>\n      <td>0.092771</td>\n      <td>0.020648</td>\n    </tr>\n    <tr>\n      <th>Standard MLP (baseline)</th>\n      <td>0.154593</td>\n      <td>0.043940</td>\n      <td>15</td>\n      <td>0.349919</td>\n      <td>0.015081</td>\n      <td>0.195326</td>\n      <td>0.044006</td>\n    </tr>\n  </tbody>\n</table>\n</div>"
     },
     "metadata": {},
     "output_type": "display_data"
    },
    {
     "name": "stdout",
     "output_type": "stream",
     "text": [
      "Significance Testing\n"
     ]
    },
    {
     "data": {
      "text/plain": "                         Standard MLP (baseline)  Fair Transition Loss  \\\nmethods                                                                  \nStandard MLP (baseline)                 1.000000              0.995417   \nFair Transition Loss                    0.006589              1.000000   \nAdversarial Debiasing                   0.003478              1.000000   \nPrejudice Remover                       0.013514              1.000000   \nGerry Fair Classifier                   0.006143              1.000000   \n\n                         Adversarial Debiasing  Prejudice Remover  \\\nmethods                                                             \nStandard MLP (baseline)               1.000000           0.995177   \nFair Transition Loss                  0.454854           0.000000   \nAdversarial Debiasing                 1.000000           0.000000   \nPrejudice Remover                     1.000000           1.000000   \nGerry Fair Classifier                 1.000000           0.004559   \n\n                         Gerry Fair Classifier  \nmethods                                         \nStandard MLP (baseline)               0.996309  \nFair Transition Loss                  0.004898  \nAdversarial Debiasing                 0.713181  \nPrejudice Remover                     0.997717  \nGerry Fair Classifier                 1.000000  ",
      "text/html": "<div>\n<style scoped>\n    .dataframe tbody tr th:only-of-type {\n        vertical-align: middle;\n    }\n\n    .dataframe tbody tr th {\n        vertical-align: top;\n    }\n\n    .dataframe thead th {\n        text-align: right;\n    }\n</style>\n<table border=\"1\" class=\"dataframe\">\n  <thead>\n    <tr style=\"text-align: right;\">\n      <th></th>\n      <th>Standard MLP (baseline)</th>\n      <th>Fair Transition Loss</th>\n      <th>Adversarial Debiasing</th>\n      <th>Prejudice Remover</th>\n      <th>Gerry Fair Classifier</th>\n    </tr>\n    <tr>\n      <th>methods</th>\n      <th></th>\n      <th></th>\n      <th></th>\n      <th></th>\n      <th></th>\n    </tr>\n  </thead>\n  <tbody>\n    <tr>\n      <th>Standard MLP (baseline)</th>\n      <td>1.000000</td>\n      <td>0.995417</td>\n      <td>1.000000</td>\n      <td>0.995177</td>\n      <td>0.996309</td>\n    </tr>\n    <tr>\n      <th>Fair Transition Loss</th>\n      <td>0.006589</td>\n      <td>1.000000</td>\n      <td>0.454854</td>\n      <td>0.000000</td>\n      <td>0.004898</td>\n    </tr>\n    <tr>\n      <th>Adversarial Debiasing</th>\n      <td>0.003478</td>\n      <td>1.000000</td>\n      <td>1.000000</td>\n      <td>0.000000</td>\n      <td>0.713181</td>\n    </tr>\n    <tr>\n      <th>Prejudice Remover</th>\n      <td>0.013514</td>\n      <td>1.000000</td>\n      <td>1.000000</td>\n      <td>1.000000</td>\n      <td>0.997717</td>\n    </tr>\n    <tr>\n      <th>Gerry Fair Classifier</th>\n      <td>0.006143</td>\n      <td>1.000000</td>\n      <td>1.000000</td>\n      <td>0.004559</td>\n      <td>1.000000</td>\n    </tr>\n  </tbody>\n</table>\n</div>"
     },
     "metadata": {},
     "output_type": "display_data"
    },
    {
     "name": "stdout",
     "output_type": "stream",
     "text": [
      "Compas Recidivism | max(Accuracy - Equal Opportunity)\n"
     ]
    },
    {
     "data": {
      "text/plain": "                          fitness                  Accuracy            \\\n                             mean       std count      mean       std   \nmethod                                                                  \nFair Transition Loss     0.594341  0.036989    15  0.647920  0.013005   \nAdversarial Debiasing    0.594049  0.065326    15  0.671907  0.017399   \nGerry Fair Classifier    0.551639  0.061398    15  0.616532  0.073965   \nPrejudice Remover        0.286772  0.032081    15  0.342247  0.011975   \nStandard MLP (baseline)  0.217957  0.051457    15  0.352998  0.013016   \n\n                        Equal Opportunity            \n                                     mean       std  \nmethod                                               \nFair Transition Loss             0.053579  0.032860  \nAdversarial Debiasing            0.077858  0.064096  \nGerry Fair Classifier            0.064892  0.037954  \nPrejudice Remover                0.055476  0.034565  \nStandard MLP (baseline)          0.135041  0.048740  ",
      "text/html": "<div>\n<style scoped>\n    .dataframe tbody tr th:only-of-type {\n        vertical-align: middle;\n    }\n\n    .dataframe tbody tr th {\n        vertical-align: top;\n    }\n\n    .dataframe thead tr th {\n        text-align: left;\n    }\n\n    .dataframe thead tr:last-of-type th {\n        text-align: right;\n    }\n</style>\n<table border=\"1\" class=\"dataframe\">\n  <thead>\n    <tr>\n      <th></th>\n      <th colspan=\"3\" halign=\"left\">fitness</th>\n      <th colspan=\"2\" halign=\"left\">Accuracy</th>\n      <th colspan=\"2\" halign=\"left\">Equal Opportunity</th>\n    </tr>\n    <tr>\n      <th></th>\n      <th>mean</th>\n      <th>std</th>\n      <th>count</th>\n      <th>mean</th>\n      <th>std</th>\n      <th>mean</th>\n      <th>std</th>\n    </tr>\n    <tr>\n      <th>method</th>\n      <th></th>\n      <th></th>\n      <th></th>\n      <th></th>\n      <th></th>\n      <th></th>\n      <th></th>\n    </tr>\n  </thead>\n  <tbody>\n    <tr>\n      <th>Fair Transition Loss</th>\n      <td>0.594341</td>\n      <td>0.036989</td>\n      <td>15</td>\n      <td>0.647920</td>\n      <td>0.013005</td>\n      <td>0.053579</td>\n      <td>0.032860</td>\n    </tr>\n    <tr>\n      <th>Adversarial Debiasing</th>\n      <td>0.594049</td>\n      <td>0.065326</td>\n      <td>15</td>\n      <td>0.671907</td>\n      <td>0.017399</td>\n      <td>0.077858</td>\n      <td>0.064096</td>\n    </tr>\n    <tr>\n      <th>Gerry Fair Classifier</th>\n      <td>0.551639</td>\n      <td>0.061398</td>\n      <td>15</td>\n      <td>0.616532</td>\n      <td>0.073965</td>\n      <td>0.064892</td>\n      <td>0.037954</td>\n    </tr>\n    <tr>\n      <th>Prejudice Remover</th>\n      <td>0.286772</td>\n      <td>0.032081</td>\n      <td>15</td>\n      <td>0.342247</td>\n      <td>0.011975</td>\n      <td>0.055476</td>\n      <td>0.034565</td>\n    </tr>\n    <tr>\n      <th>Standard MLP (baseline)</th>\n      <td>0.217957</td>\n      <td>0.051457</td>\n      <td>15</td>\n      <td>0.352998</td>\n      <td>0.013016</td>\n      <td>0.135041</td>\n      <td>0.048740</td>\n    </tr>\n  </tbody>\n</table>\n</div>"
     },
     "metadata": {},
     "output_type": "display_data"
    },
    {
     "name": "stdout",
     "output_type": "stream",
     "text": [
      "Significance Testing\n"
     ]
    },
    {
     "data": {
      "text/plain": "                         Standard MLP (baseline)  Fair Transition Loss  \\\nmethods                                                                  \nStandard MLP (baseline)                 1.000000              0.994862   \nFair Transition Loss                    0.008978              1.000000   \nAdversarial Debiasing                   0.006371              1.000000   \nPrejudice Remover                       0.033771              1.000000   \nGerry Fair Classifier                   0.007497              1.000000   \n\n                         Adversarial Debiasing  Prejudice Remover  \\\nmethods                                                             \nStandard MLP (baseline)               0.998072           0.996103   \nFair Transition Loss                  0.802790           0.000000   \nAdversarial Debiasing                 1.000000           0.000000   \nPrejudice Remover                     1.000000           1.000000   \nGerry Fair Classifier                 1.000000           0.003956   \n\n                         Gerry Fair Classifier  \nmethods                                         \nStandard MLP (baseline)               0.996602  \nFair Transition Loss                  0.112140  \nAdversarial Debiasing                 0.270488  \nPrejudice Remover                     0.998004  \nGerry Fair Classifier                 1.000000  ",
      "text/html": "<div>\n<style scoped>\n    .dataframe tbody tr th:only-of-type {\n        vertical-align: middle;\n    }\n\n    .dataframe tbody tr th {\n        vertical-align: top;\n    }\n\n    .dataframe thead th {\n        text-align: right;\n    }\n</style>\n<table border=\"1\" class=\"dataframe\">\n  <thead>\n    <tr style=\"text-align: right;\">\n      <th></th>\n      <th>Standard MLP (baseline)</th>\n      <th>Fair Transition Loss</th>\n      <th>Adversarial Debiasing</th>\n      <th>Prejudice Remover</th>\n      <th>Gerry Fair Classifier</th>\n    </tr>\n    <tr>\n      <th>methods</th>\n      <th></th>\n      <th></th>\n      <th></th>\n      <th></th>\n      <th></th>\n    </tr>\n  </thead>\n  <tbody>\n    <tr>\n      <th>Standard MLP (baseline)</th>\n      <td>1.000000</td>\n      <td>0.994862</td>\n      <td>0.998072</td>\n      <td>0.996103</td>\n      <td>0.996602</td>\n    </tr>\n    <tr>\n      <th>Fair Transition Loss</th>\n      <td>0.008978</td>\n      <td>1.000000</td>\n      <td>0.802790</td>\n      <td>0.000000</td>\n      <td>0.112140</td>\n    </tr>\n    <tr>\n      <th>Adversarial Debiasing</th>\n      <td>0.006371</td>\n      <td>1.000000</td>\n      <td>1.000000</td>\n      <td>0.000000</td>\n      <td>0.270488</td>\n    </tr>\n    <tr>\n      <th>Prejudice Remover</th>\n      <td>0.033771</td>\n      <td>1.000000</td>\n      <td>1.000000</td>\n      <td>1.000000</td>\n      <td>0.998004</td>\n    </tr>\n    <tr>\n      <th>Gerry Fair Classifier</th>\n      <td>0.007497</td>\n      <td>1.000000</td>\n      <td>1.000000</td>\n      <td>0.003956</td>\n      <td>1.000000</td>\n    </tr>\n  </tbody>\n</table>\n</div>"
     },
     "metadata": {},
     "output_type": "display_data"
    },
    {
     "name": "stdout",
     "output_type": "stream",
     "text": [
      "German Credit | max(Mathew Correlation - Statistical Parity)\n"
     ]
    },
    {
     "data": {
      "text/plain": "                          fitness                 Mathew Correlation  \\\n                             mean       std count               mean   \nmethod                                                                 \nAdversarial Debiasing    0.200070  0.172675    15           0.367673   \nFair Transition Loss    -0.034435  0.073668    15           0.000000   \nPrejudice Remover       -0.082559  0.050746    15           0.000000   \nStandard MLP (baseline) -0.090370  0.061469    15           0.000000   \n\n                                  Statistical Parity            \n                              std               mean       std  \nmethod                                                          \nAdversarial Debiasing    0.056485           0.167603  0.148864  \nFair Transition Loss     0.000000           0.034435  0.073668  \nPrejudice Remover        0.000000           0.082559  0.050746  \nStandard MLP (baseline)  0.000000           0.090370  0.061469  ",
      "text/html": "<div>\n<style scoped>\n    .dataframe tbody tr th:only-of-type {\n        vertical-align: middle;\n    }\n\n    .dataframe tbody tr th {\n        vertical-align: top;\n    }\n\n    .dataframe thead tr th {\n        text-align: left;\n    }\n\n    .dataframe thead tr:last-of-type th {\n        text-align: right;\n    }\n</style>\n<table border=\"1\" class=\"dataframe\">\n  <thead>\n    <tr>\n      <th></th>\n      <th colspan=\"3\" halign=\"left\">fitness</th>\n      <th colspan=\"2\" halign=\"left\">Mathew Correlation</th>\n      <th colspan=\"2\" halign=\"left\">Statistical Parity</th>\n    </tr>\n    <tr>\n      <th></th>\n      <th>mean</th>\n      <th>std</th>\n      <th>count</th>\n      <th>mean</th>\n      <th>std</th>\n      <th>mean</th>\n      <th>std</th>\n    </tr>\n    <tr>\n      <th>method</th>\n      <th></th>\n      <th></th>\n      <th></th>\n      <th></th>\n      <th></th>\n      <th></th>\n      <th></th>\n    </tr>\n  </thead>\n  <tbody>\n    <tr>\n      <th>Adversarial Debiasing</th>\n      <td>0.200070</td>\n      <td>0.172675</td>\n      <td>15</td>\n      <td>0.367673</td>\n      <td>0.056485</td>\n      <td>0.167603</td>\n      <td>0.148864</td>\n    </tr>\n    <tr>\n      <th>Fair Transition Loss</th>\n      <td>-0.034435</td>\n      <td>0.073668</td>\n      <td>15</td>\n      <td>0.000000</td>\n      <td>0.000000</td>\n      <td>0.034435</td>\n      <td>0.073668</td>\n    </tr>\n    <tr>\n      <th>Prejudice Remover</th>\n      <td>-0.082559</td>\n      <td>0.050746</td>\n      <td>15</td>\n      <td>0.000000</td>\n      <td>0.000000</td>\n      <td>0.082559</td>\n      <td>0.050746</td>\n    </tr>\n    <tr>\n      <th>Standard MLP (baseline)</th>\n      <td>-0.090370</td>\n      <td>0.061469</td>\n      <td>15</td>\n      <td>0.000000</td>\n      <td>0.000000</td>\n      <td>0.090370</td>\n      <td>0.061469</td>\n    </tr>\n  </tbody>\n</table>\n</div>"
     },
     "metadata": {},
     "output_type": "display_data"
    },
    {
     "name": "stdout",
     "output_type": "stream",
     "text": [
      "Significance Testing\n"
     ]
    },
    {
     "data": {
      "text/plain": "                         Standard MLP (baseline)  Fair Transition Loss  \\\nmethods                                                                  \nStandard MLP (baseline)                 1.000000              1.000000   \nFair Transition Loss                    0.372928              1.000000   \nAdversarial Debiasing                   0.017143              0.062899   \nPrejudice Remover                       0.670968              1.000000   \nGerry Fair Classifier                   1.000000              1.000000   \n\n                         Adversarial Debiasing  Prejudice Remover  \\\nmethods                                                             \nStandard MLP (baseline)                    1.0           1.000000   \nFair Transition Loss                       1.0           0.487063   \nAdversarial Debiasing                      1.0           0.021379   \nPrejudice Remover                          1.0           1.000000   \nGerry Fair Classifier                      1.0           1.000000   \n\n                         Gerry Fair Classifier  \nmethods                                         \nStandard MLP (baseline)                    0.0  \nFair Transition Loss                       0.0  \nAdversarial Debiasing                      0.0  \nPrejudice Remover                          0.0  \nGerry Fair Classifier                      1.0  ",
      "text/html": "<div>\n<style scoped>\n    .dataframe tbody tr th:only-of-type {\n        vertical-align: middle;\n    }\n\n    .dataframe tbody tr th {\n        vertical-align: top;\n    }\n\n    .dataframe thead th {\n        text-align: right;\n    }\n</style>\n<table border=\"1\" class=\"dataframe\">\n  <thead>\n    <tr style=\"text-align: right;\">\n      <th></th>\n      <th>Standard MLP (baseline)</th>\n      <th>Fair Transition Loss</th>\n      <th>Adversarial Debiasing</th>\n      <th>Prejudice Remover</th>\n      <th>Gerry Fair Classifier</th>\n    </tr>\n    <tr>\n      <th>methods</th>\n      <th></th>\n      <th></th>\n      <th></th>\n      <th></th>\n      <th></th>\n    </tr>\n  </thead>\n  <tbody>\n    <tr>\n      <th>Standard MLP (baseline)</th>\n      <td>1.000000</td>\n      <td>1.000000</td>\n      <td>1.0</td>\n      <td>1.000000</td>\n      <td>0.0</td>\n    </tr>\n    <tr>\n      <th>Fair Transition Loss</th>\n      <td>0.372928</td>\n      <td>1.000000</td>\n      <td>1.0</td>\n      <td>0.487063</td>\n      <td>0.0</td>\n    </tr>\n    <tr>\n      <th>Adversarial Debiasing</th>\n      <td>0.017143</td>\n      <td>0.062899</td>\n      <td>1.0</td>\n      <td>0.021379</td>\n      <td>0.0</td>\n    </tr>\n    <tr>\n      <th>Prejudice Remover</th>\n      <td>0.670968</td>\n      <td>1.000000</td>\n      <td>1.0</td>\n      <td>1.000000</td>\n      <td>0.0</td>\n    </tr>\n    <tr>\n      <th>Gerry Fair Classifier</th>\n      <td>1.000000</td>\n      <td>1.000000</td>\n      <td>1.0</td>\n      <td>1.000000</td>\n      <td>1.0</td>\n    </tr>\n  </tbody>\n</table>\n</div>"
     },
     "metadata": {},
     "output_type": "display_data"
    },
    {
     "name": "stdout",
     "output_type": "stream",
     "text": [
      "German Credit | max(Mathew Correlation - Equalized Odds)\n"
     ]
    },
    {
     "data": {
      "text/plain": "                          fitness                 Mathew Correlation  \\\n                             mean       std count               mean   \nmethod                                                                 \nAdversarial Debiasing    0.039770  0.414069    15           0.300535   \nPrejudice Remover       -0.087176  0.046848    15           0.000000   \nStandard MLP (baseline) -0.097294  0.051877    15           0.000000   \nFair Transition Loss    -0.148704  0.211169    15           0.000000   \n\n                                  Equalized Odds            \n                              std           mean       std  \nmethod                                                      \nAdversarial Debiasing    0.129892       0.260765  0.296572  \nPrejudice Remover        0.000000       0.087176  0.046848  \nStandard MLP (baseline)  0.000000       0.097294  0.051877  \nFair Transition Loss     0.000000       0.148704  0.211169  ",
      "text/html": "<div>\n<style scoped>\n    .dataframe tbody tr th:only-of-type {\n        vertical-align: middle;\n    }\n\n    .dataframe tbody tr th {\n        vertical-align: top;\n    }\n\n    .dataframe thead tr th {\n        text-align: left;\n    }\n\n    .dataframe thead tr:last-of-type th {\n        text-align: right;\n    }\n</style>\n<table border=\"1\" class=\"dataframe\">\n  <thead>\n    <tr>\n      <th></th>\n      <th colspan=\"3\" halign=\"left\">fitness</th>\n      <th colspan=\"2\" halign=\"left\">Mathew Correlation</th>\n      <th colspan=\"2\" halign=\"left\">Equalized Odds</th>\n    </tr>\n    <tr>\n      <th></th>\n      <th>mean</th>\n      <th>std</th>\n      <th>count</th>\n      <th>mean</th>\n      <th>std</th>\n      <th>mean</th>\n      <th>std</th>\n    </tr>\n    <tr>\n      <th>method</th>\n      <th></th>\n      <th></th>\n      <th></th>\n      <th></th>\n      <th></th>\n      <th></th>\n      <th></th>\n    </tr>\n  </thead>\n  <tbody>\n    <tr>\n      <th>Adversarial Debiasing</th>\n      <td>0.039770</td>\n      <td>0.414069</td>\n      <td>15</td>\n      <td>0.300535</td>\n      <td>0.129892</td>\n      <td>0.260765</td>\n      <td>0.296572</td>\n    </tr>\n    <tr>\n      <th>Prejudice Remover</th>\n      <td>-0.087176</td>\n      <td>0.046848</td>\n      <td>15</td>\n      <td>0.000000</td>\n      <td>0.000000</td>\n      <td>0.087176</td>\n      <td>0.046848</td>\n    </tr>\n    <tr>\n      <th>Standard MLP (baseline)</th>\n      <td>-0.097294</td>\n      <td>0.051877</td>\n      <td>15</td>\n      <td>0.000000</td>\n      <td>0.000000</td>\n      <td>0.097294</td>\n      <td>0.051877</td>\n    </tr>\n    <tr>\n      <th>Fair Transition Loss</th>\n      <td>-0.148704</td>\n      <td>0.211169</td>\n      <td>15</td>\n      <td>0.000000</td>\n      <td>0.000000</td>\n      <td>0.148704</td>\n      <td>0.211169</td>\n    </tr>\n  </tbody>\n</table>\n</div>"
     },
     "metadata": {},
     "output_type": "display_data"
    },
    {
     "name": "stdout",
     "output_type": "stream",
     "text": [
      "Significance Testing\n"
     ]
    },
    {
     "data": {
      "text/plain": "                         Standard MLP (baseline)  Fair Transition Loss  \\\nmethods                                                                  \nStandard MLP (baseline)                 1.000000              0.348020   \nFair Transition Loss                    1.000000              1.000000   \nAdversarial Debiasing                   0.759771              0.508055   \nPrejudice Remover                       0.591918              0.334281   \nGerry Fair Classifier                   1.000000              1.000000   \n\n                         Adversarial Debiasing  Prejudice Remover  \\\nmethods                                                             \nStandard MLP (baseline)               0.879692           1.000000   \nFair Transition Loss                  1.000000           1.000000   \nAdversarial Debiasing                 1.000000           0.773389   \nPrejudice Remover                     0.866746           1.000000   \nGerry Fair Classifier                 1.000000           1.000000   \n\n                         Gerry Fair Classifier  \nmethods                                         \nStandard MLP (baseline)                    0.0  \nFair Transition Loss                       0.0  \nAdversarial Debiasing                      0.0  \nPrejudice Remover                          0.0  \nGerry Fair Classifier                      1.0  ",
      "text/html": "<div>\n<style scoped>\n    .dataframe tbody tr th:only-of-type {\n        vertical-align: middle;\n    }\n\n    .dataframe tbody tr th {\n        vertical-align: top;\n    }\n\n    .dataframe thead th {\n        text-align: right;\n    }\n</style>\n<table border=\"1\" class=\"dataframe\">\n  <thead>\n    <tr style=\"text-align: right;\">\n      <th></th>\n      <th>Standard MLP (baseline)</th>\n      <th>Fair Transition Loss</th>\n      <th>Adversarial Debiasing</th>\n      <th>Prejudice Remover</th>\n      <th>Gerry Fair Classifier</th>\n    </tr>\n    <tr>\n      <th>methods</th>\n      <th></th>\n      <th></th>\n      <th></th>\n      <th></th>\n      <th></th>\n    </tr>\n  </thead>\n  <tbody>\n    <tr>\n      <th>Standard MLP (baseline)</th>\n      <td>1.000000</td>\n      <td>0.348020</td>\n      <td>0.879692</td>\n      <td>1.000000</td>\n      <td>0.0</td>\n    </tr>\n    <tr>\n      <th>Fair Transition Loss</th>\n      <td>1.000000</td>\n      <td>1.000000</td>\n      <td>1.000000</td>\n      <td>1.000000</td>\n      <td>0.0</td>\n    </tr>\n    <tr>\n      <th>Adversarial Debiasing</th>\n      <td>0.759771</td>\n      <td>0.508055</td>\n      <td>1.000000</td>\n      <td>0.773389</td>\n      <td>0.0</td>\n    </tr>\n    <tr>\n      <th>Prejudice Remover</th>\n      <td>0.591918</td>\n      <td>0.334281</td>\n      <td>0.866746</td>\n      <td>1.000000</td>\n      <td>0.0</td>\n    </tr>\n    <tr>\n      <th>Gerry Fair Classifier</th>\n      <td>1.000000</td>\n      <td>1.000000</td>\n      <td>1.000000</td>\n      <td>1.000000</td>\n      <td>1.0</td>\n    </tr>\n  </tbody>\n</table>\n</div>"
     },
     "metadata": {},
     "output_type": "display_data"
    },
    {
     "name": "stdout",
     "output_type": "stream",
     "text": [
      "German Credit | max(Mathew Correlation - Equal Opportunity)\n"
     ]
    },
    {
     "data": {
      "text/plain": "                          fitness                 Mathew Correlation  \\\n                             mean       std count               mean   \nmethod                                                                 \nAdversarial Debiasing    0.115876  0.403735    15           0.310899   \nPrejudice Remover       -0.072759  0.061678    15           0.000000   \nStandard MLP (baseline) -0.092163  0.059553    15           0.000000   \nFair Transition Loss    -0.113380  0.263931    15           0.000000   \n\n                                  Equal Opportunity            \n                              std              mean       std  \nmethod                                                         \nAdversarial Debiasing    0.135257          0.195024  0.281659  \nPrejudice Remover        0.000000          0.072759  0.061678  \nStandard MLP (baseline)  0.000000          0.092163  0.059553  \nFair Transition Loss     0.000000          0.113380  0.263931  ",
      "text/html": "<div>\n<style scoped>\n    .dataframe tbody tr th:only-of-type {\n        vertical-align: middle;\n    }\n\n    .dataframe tbody tr th {\n        vertical-align: top;\n    }\n\n    .dataframe thead tr th {\n        text-align: left;\n    }\n\n    .dataframe thead tr:last-of-type th {\n        text-align: right;\n    }\n</style>\n<table border=\"1\" class=\"dataframe\">\n  <thead>\n    <tr>\n      <th></th>\n      <th colspan=\"3\" halign=\"left\">fitness</th>\n      <th colspan=\"2\" halign=\"left\">Mathew Correlation</th>\n      <th colspan=\"2\" halign=\"left\">Equal Opportunity</th>\n    </tr>\n    <tr>\n      <th></th>\n      <th>mean</th>\n      <th>std</th>\n      <th>count</th>\n      <th>mean</th>\n      <th>std</th>\n      <th>mean</th>\n      <th>std</th>\n    </tr>\n    <tr>\n      <th>method</th>\n      <th></th>\n      <th></th>\n      <th></th>\n      <th></th>\n      <th></th>\n      <th></th>\n      <th></th>\n    </tr>\n  </thead>\n  <tbody>\n    <tr>\n      <th>Adversarial Debiasing</th>\n      <td>0.115876</td>\n      <td>0.403735</td>\n      <td>15</td>\n      <td>0.310899</td>\n      <td>0.135257</td>\n      <td>0.195024</td>\n      <td>0.281659</td>\n    </tr>\n    <tr>\n      <th>Prejudice Remover</th>\n      <td>-0.072759</td>\n      <td>0.061678</td>\n      <td>15</td>\n      <td>0.000000</td>\n      <td>0.000000</td>\n      <td>0.072759</td>\n      <td>0.061678</td>\n    </tr>\n    <tr>\n      <th>Standard MLP (baseline)</th>\n      <td>-0.092163</td>\n      <td>0.059553</td>\n      <td>15</td>\n      <td>0.000000</td>\n      <td>0.000000</td>\n      <td>0.092163</td>\n      <td>0.059553</td>\n    </tr>\n    <tr>\n      <th>Fair Transition Loss</th>\n      <td>-0.113380</td>\n      <td>0.263931</td>\n      <td>15</td>\n      <td>0.000000</td>\n      <td>0.000000</td>\n      <td>0.113380</td>\n      <td>0.263931</td>\n    </tr>\n  </tbody>\n</table>\n</div>"
     },
     "metadata": {},
     "output_type": "display_data"
    },
    {
     "name": "stdout",
     "output_type": "stream",
     "text": [
      "Significance Testing\n"
     ]
    },
    {
     "data": {
      "text/plain": "                         Standard MLP (baseline)  Fair Transition Loss  \\\nmethods                                                                  \nStandard MLP (baseline)                 1.000000              0.600165   \nFair Transition Loss                    1.000000              1.000000   \nAdversarial Debiasing                   0.690325              0.420963   \nPrejudice Remover                       0.551850              0.569066   \nGerry Fair Classifier                   1.000000              1.000000   \n\n                         Adversarial Debiasing  Prejudice Remover  \\\nmethods                                                             \nStandard MLP (baseline)                    1.0           1.000000   \nFair Transition Loss                       1.0           1.000000   \nAdversarial Debiasing                      1.0           0.686186   \nPrejudice Remover                          1.0           1.000000   \nGerry Fair Classifier                      1.0           1.000000   \n\n                         Gerry Fair Classifier  \nmethods                                         \nStandard MLP (baseline)               0.000000  \nFair Transition Loss                  0.000000  \nAdversarial Debiasing                 0.000543  \nPrejudice Remover                     0.000000  \nGerry Fair Classifier                 1.000000  ",
      "text/html": "<div>\n<style scoped>\n    .dataframe tbody tr th:only-of-type {\n        vertical-align: middle;\n    }\n\n    .dataframe tbody tr th {\n        vertical-align: top;\n    }\n\n    .dataframe thead th {\n        text-align: right;\n    }\n</style>\n<table border=\"1\" class=\"dataframe\">\n  <thead>\n    <tr style=\"text-align: right;\">\n      <th></th>\n      <th>Standard MLP (baseline)</th>\n      <th>Fair Transition Loss</th>\n      <th>Adversarial Debiasing</th>\n      <th>Prejudice Remover</th>\n      <th>Gerry Fair Classifier</th>\n    </tr>\n    <tr>\n      <th>methods</th>\n      <th></th>\n      <th></th>\n      <th></th>\n      <th></th>\n      <th></th>\n    </tr>\n  </thead>\n  <tbody>\n    <tr>\n      <th>Standard MLP (baseline)</th>\n      <td>1.000000</td>\n      <td>0.600165</td>\n      <td>1.0</td>\n      <td>1.000000</td>\n      <td>0.000000</td>\n    </tr>\n    <tr>\n      <th>Fair Transition Loss</th>\n      <td>1.000000</td>\n      <td>1.000000</td>\n      <td>1.0</td>\n      <td>1.000000</td>\n      <td>0.000000</td>\n    </tr>\n    <tr>\n      <th>Adversarial Debiasing</th>\n      <td>0.690325</td>\n      <td>0.420963</td>\n      <td>1.0</td>\n      <td>0.686186</td>\n      <td>0.000543</td>\n    </tr>\n    <tr>\n      <th>Prejudice Remover</th>\n      <td>0.551850</td>\n      <td>0.569066</td>\n      <td>1.0</td>\n      <td>1.000000</td>\n      <td>0.000000</td>\n    </tr>\n    <tr>\n      <th>Gerry Fair Classifier</th>\n      <td>1.000000</td>\n      <td>1.000000</td>\n      <td>1.0</td>\n      <td>1.000000</td>\n      <td>1.000000</td>\n    </tr>\n  </tbody>\n</table>\n</div>"
     },
     "metadata": {},
     "output_type": "display_data"
    },
    {
     "name": "stdout",
     "output_type": "stream",
     "text": [
      "German Credit | max(Accuracy - Statistical Parity)\n"
     ]
    },
    {
     "data": {
      "text/plain": "                          fitness                  Accuracy            \\\n                             mean       std count      mean       std   \nmethod                                                                  \nFair Transition Loss     0.577267  0.264434    15  0.673667  0.055789   \nStandard MLP (baseline)  0.511642  0.064916    15  0.621000  0.035567   \nPrejudice Remover        0.491066  0.059709    15  0.587000  0.031041   \nAdversarial Debiasing    0.430467  0.331712    15  0.713333  0.090291   \n\n                        Statistical Parity            \n                                      mean       std  \nmethod                                                \nFair Transition Loss              0.096400  0.217653  \nStandard MLP (baseline)           0.109358  0.049178  \nPrejudice Remover                 0.095934  0.049375  \nAdversarial Debiasing             0.282867  0.255316  ",
      "text/html": "<div>\n<style scoped>\n    .dataframe tbody tr th:only-of-type {\n        vertical-align: middle;\n    }\n\n    .dataframe tbody tr th {\n        vertical-align: top;\n    }\n\n    .dataframe thead tr th {\n        text-align: left;\n    }\n\n    .dataframe thead tr:last-of-type th {\n        text-align: right;\n    }\n</style>\n<table border=\"1\" class=\"dataframe\">\n  <thead>\n    <tr>\n      <th></th>\n      <th colspan=\"3\" halign=\"left\">fitness</th>\n      <th colspan=\"2\" halign=\"left\">Accuracy</th>\n      <th colspan=\"2\" halign=\"left\">Statistical Parity</th>\n    </tr>\n    <tr>\n      <th></th>\n      <th>mean</th>\n      <th>std</th>\n      <th>count</th>\n      <th>mean</th>\n      <th>std</th>\n      <th>mean</th>\n      <th>std</th>\n    </tr>\n    <tr>\n      <th>method</th>\n      <th></th>\n      <th></th>\n      <th></th>\n      <th></th>\n      <th></th>\n      <th></th>\n      <th></th>\n    </tr>\n  </thead>\n  <tbody>\n    <tr>\n      <th>Fair Transition Loss</th>\n      <td>0.577267</td>\n      <td>0.264434</td>\n      <td>15</td>\n      <td>0.673667</td>\n      <td>0.055789</td>\n      <td>0.096400</td>\n      <td>0.217653</td>\n    </tr>\n    <tr>\n      <th>Standard MLP (baseline)</th>\n      <td>0.511642</td>\n      <td>0.064916</td>\n      <td>15</td>\n      <td>0.621000</td>\n      <td>0.035567</td>\n      <td>0.109358</td>\n      <td>0.049178</td>\n    </tr>\n    <tr>\n      <th>Prejudice Remover</th>\n      <td>0.491066</td>\n      <td>0.059709</td>\n      <td>15</td>\n      <td>0.587000</td>\n      <td>0.031041</td>\n      <td>0.095934</td>\n      <td>0.049375</td>\n    </tr>\n    <tr>\n      <th>Adversarial Debiasing</th>\n      <td>0.430467</td>\n      <td>0.331712</td>\n      <td>15</td>\n      <td>0.713333</td>\n      <td>0.090291</td>\n      <td>0.282867</td>\n      <td>0.255316</td>\n    </tr>\n  </tbody>\n</table>\n</div>"
     },
     "metadata": {},
     "output_type": "display_data"
    },
    {
     "name": "stdout",
     "output_type": "stream",
     "text": [
      "Significance Testing\n"
     ]
    },
    {
     "data": {
      "text/plain": "                         Standard MLP (baseline)  Fair Transition Loss  \\\nmethods                                                                  \nStandard MLP (baseline)                      1.0              0.933651   \nFair Transition Loss                         1.0              1.000000   \nAdversarial Debiasing                        1.0              1.000000   \nPrejudice Remover                            1.0              1.000000   \nGerry Fair Classifier                        1.0              1.000000   \n\n                         Adversarial Debiasing  Prejudice Remover  \\\nmethods                                                             \nStandard MLP (baseline)               0.409424           0.532953   \nFair Transition Loss                  0.482248           1.000000   \nAdversarial Debiasing                 1.000000           1.000000   \nPrejudice Remover                     0.503971           1.000000   \nGerry Fair Classifier                 1.000000           1.000000   \n\n                         Gerry Fair Classifier  \nmethods                                         \nStandard MLP (baseline)                    0.0  \nFair Transition Loss                       0.0  \nAdversarial Debiasing                      0.0  \nPrejudice Remover                          0.0  \nGerry Fair Classifier                      1.0  ",
      "text/html": "<div>\n<style scoped>\n    .dataframe tbody tr th:only-of-type {\n        vertical-align: middle;\n    }\n\n    .dataframe tbody tr th {\n        vertical-align: top;\n    }\n\n    .dataframe thead th {\n        text-align: right;\n    }\n</style>\n<table border=\"1\" class=\"dataframe\">\n  <thead>\n    <tr style=\"text-align: right;\">\n      <th></th>\n      <th>Standard MLP (baseline)</th>\n      <th>Fair Transition Loss</th>\n      <th>Adversarial Debiasing</th>\n      <th>Prejudice Remover</th>\n      <th>Gerry Fair Classifier</th>\n    </tr>\n    <tr>\n      <th>methods</th>\n      <th></th>\n      <th></th>\n      <th></th>\n      <th></th>\n      <th></th>\n    </tr>\n  </thead>\n  <tbody>\n    <tr>\n      <th>Standard MLP (baseline)</th>\n      <td>1.0</td>\n      <td>0.933651</td>\n      <td>0.409424</td>\n      <td>0.532953</td>\n      <td>0.0</td>\n    </tr>\n    <tr>\n      <th>Fair Transition Loss</th>\n      <td>1.0</td>\n      <td>1.000000</td>\n      <td>0.482248</td>\n      <td>1.000000</td>\n      <td>0.0</td>\n    </tr>\n    <tr>\n      <th>Adversarial Debiasing</th>\n      <td>1.0</td>\n      <td>1.000000</td>\n      <td>1.000000</td>\n      <td>1.000000</td>\n      <td>0.0</td>\n    </tr>\n    <tr>\n      <th>Prejudice Remover</th>\n      <td>1.0</td>\n      <td>1.000000</td>\n      <td>0.503971</td>\n      <td>1.000000</td>\n      <td>0.0</td>\n    </tr>\n    <tr>\n      <th>Gerry Fair Classifier</th>\n      <td>1.0</td>\n      <td>1.000000</td>\n      <td>1.000000</td>\n      <td>1.000000</td>\n      <td>1.0</td>\n    </tr>\n  </tbody>\n</table>\n</div>"
     },
     "metadata": {},
     "output_type": "display_data"
    },
    {
     "name": "stdout",
     "output_type": "stream",
     "text": [
      "German Credit | max(Accuracy - Equalized Odds)\n"
     ]
    },
    {
     "data": {
      "text/plain": "                          fitness                  Accuracy            \\\n                             mean       std count      mean       std   \nmethod                                                                  \nFair Transition Loss     0.572396  0.313009    15  0.669333  0.091376   \nStandard MLP (baseline)  0.525039  0.063410    15  0.627000  0.032558   \nPrejudice Remover        0.483722  0.052698    15  0.591000  0.037042   \nAdversarial Debiasing    0.368302  0.383015    15  0.685333  0.098152   \n\n                        Equalized Odds            \n                                  mean       std  \nmethod                                            \nFair Transition Loss          0.096937  0.229662  \nStandard MLP (baseline)       0.101961  0.052645  \nPrejudice Remover             0.107278  0.059138  \nAdversarial Debiasing         0.317031  0.304063  ",
      "text/html": "<div>\n<style scoped>\n    .dataframe tbody tr th:only-of-type {\n        vertical-align: middle;\n    }\n\n    .dataframe tbody tr th {\n        vertical-align: top;\n    }\n\n    .dataframe thead tr th {\n        text-align: left;\n    }\n\n    .dataframe thead tr:last-of-type th {\n        text-align: right;\n    }\n</style>\n<table border=\"1\" class=\"dataframe\">\n  <thead>\n    <tr>\n      <th></th>\n      <th colspan=\"3\" halign=\"left\">fitness</th>\n      <th colspan=\"2\" halign=\"left\">Accuracy</th>\n      <th colspan=\"2\" halign=\"left\">Equalized Odds</th>\n    </tr>\n    <tr>\n      <th></th>\n      <th>mean</th>\n      <th>std</th>\n      <th>count</th>\n      <th>mean</th>\n      <th>std</th>\n      <th>mean</th>\n      <th>std</th>\n    </tr>\n    <tr>\n      <th>method</th>\n      <th></th>\n      <th></th>\n      <th></th>\n      <th></th>\n      <th></th>\n      <th></th>\n      <th></th>\n    </tr>\n  </thead>\n  <tbody>\n    <tr>\n      <th>Fair Transition Loss</th>\n      <td>0.572396</td>\n      <td>0.313009</td>\n      <td>15</td>\n      <td>0.669333</td>\n      <td>0.091376</td>\n      <td>0.096937</td>\n      <td>0.229662</td>\n    </tr>\n    <tr>\n      <th>Standard MLP (baseline)</th>\n      <td>0.525039</td>\n      <td>0.063410</td>\n      <td>15</td>\n      <td>0.627000</td>\n      <td>0.032558</td>\n      <td>0.101961</td>\n      <td>0.052645</td>\n    </tr>\n    <tr>\n      <th>Prejudice Remover</th>\n      <td>0.483722</td>\n      <td>0.052698</td>\n      <td>15</td>\n      <td>0.591000</td>\n      <td>0.037042</td>\n      <td>0.107278</td>\n      <td>0.059138</td>\n    </tr>\n    <tr>\n      <th>Adversarial Debiasing</th>\n      <td>0.368302</td>\n      <td>0.383015</td>\n      <td>15</td>\n      <td>0.685333</td>\n      <td>0.098152</td>\n      <td>0.317031</td>\n      <td>0.304063</td>\n    </tr>\n  </tbody>\n</table>\n</div>"
     },
     "metadata": {},
     "output_type": "display_data"
    },
    {
     "name": "stdout",
     "output_type": "stream",
     "text": [
      "Significance Testing\n"
     ]
    },
    {
     "data": {
      "text/plain": "                         Standard MLP (baseline)  Fair Transition Loss  \\\nmethods                                                                  \nStandard MLP (baseline)                      1.0              0.725895   \nFair Transition Loss                         1.0              1.000000   \nAdversarial Debiasing                        1.0              1.000000   \nPrejudice Remover                            1.0              0.864261   \nGerry Fair Classifier                        1.0              1.000000   \n\n                         Adversarial Debiasing  Prejudice Remover  \\\nmethods                                                             \nStandard MLP (baseline)               0.202246           0.253088   \nFair Transition Loss                  0.417814           0.978069   \nAdversarial Debiasing                 1.000000           1.000000   \nPrejudice Remover                     0.325046           1.000000   \nGerry Fair Classifier                 1.000000           1.000000   \n\n                         Gerry Fair Classifier  \nmethods                                         \nStandard MLP (baseline)                    0.0  \nFair Transition Loss                       0.0  \nAdversarial Debiasing                      0.0  \nPrejudice Remover                          0.0  \nGerry Fair Classifier                      1.0  ",
      "text/html": "<div>\n<style scoped>\n    .dataframe tbody tr th:only-of-type {\n        vertical-align: middle;\n    }\n\n    .dataframe tbody tr th {\n        vertical-align: top;\n    }\n\n    .dataframe thead th {\n        text-align: right;\n    }\n</style>\n<table border=\"1\" class=\"dataframe\">\n  <thead>\n    <tr style=\"text-align: right;\">\n      <th></th>\n      <th>Standard MLP (baseline)</th>\n      <th>Fair Transition Loss</th>\n      <th>Adversarial Debiasing</th>\n      <th>Prejudice Remover</th>\n      <th>Gerry Fair Classifier</th>\n    </tr>\n    <tr>\n      <th>methods</th>\n      <th></th>\n      <th></th>\n      <th></th>\n      <th></th>\n      <th></th>\n    </tr>\n  </thead>\n  <tbody>\n    <tr>\n      <th>Standard MLP (baseline)</th>\n      <td>1.0</td>\n      <td>0.725895</td>\n      <td>0.202246</td>\n      <td>0.253088</td>\n      <td>0.0</td>\n    </tr>\n    <tr>\n      <th>Fair Transition Loss</th>\n      <td>1.0</td>\n      <td>1.000000</td>\n      <td>0.417814</td>\n      <td>0.978069</td>\n      <td>0.0</td>\n    </tr>\n    <tr>\n      <th>Adversarial Debiasing</th>\n      <td>1.0</td>\n      <td>1.000000</td>\n      <td>1.000000</td>\n      <td>1.000000</td>\n      <td>0.0</td>\n    </tr>\n    <tr>\n      <th>Prejudice Remover</th>\n      <td>1.0</td>\n      <td>0.864261</td>\n      <td>0.325046</td>\n      <td>1.000000</td>\n      <td>0.0</td>\n    </tr>\n    <tr>\n      <th>Gerry Fair Classifier</th>\n      <td>1.0</td>\n      <td>1.000000</td>\n      <td>1.000000</td>\n      <td>1.000000</td>\n      <td>1.0</td>\n    </tr>\n  </tbody>\n</table>\n</div>"
     },
     "metadata": {},
     "output_type": "display_data"
    },
    {
     "name": "stdout",
     "output_type": "stream",
     "text": [
      "German Credit | max(Accuracy - Equal Opportunity)\n"
     ]
    },
    {
     "data": {
      "text/plain": "                          fitness                  Accuracy            \\\n                             mean       std count      mean       std   \nmethod                                                                  \nFair Transition Loss     0.679803  0.048559    15  0.692333  0.032616   \nStandard MLP (baseline)  0.549810  0.059112    15  0.614333  0.033481   \nAdversarial Debiasing    0.530106  0.328938    15  0.712667  0.099837   \nPrejudice Remover        0.504640  0.082283    15  0.590000  0.025284   \n\n                        Equal Opportunity            \n                                     mean       std  \nmethod                                               \nFair Transition Loss             0.012531  0.024006  \nStandard MLP (baseline)          0.064523  0.045405  \nAdversarial Debiasing            0.182560  0.235414  \nPrejudice Remover                0.085360  0.074077  ",
      "text/html": "<div>\n<style scoped>\n    .dataframe tbody tr th:only-of-type {\n        vertical-align: middle;\n    }\n\n    .dataframe tbody tr th {\n        vertical-align: top;\n    }\n\n    .dataframe thead tr th {\n        text-align: left;\n    }\n\n    .dataframe thead tr:last-of-type th {\n        text-align: right;\n    }\n</style>\n<table border=\"1\" class=\"dataframe\">\n  <thead>\n    <tr>\n      <th></th>\n      <th colspan=\"3\" halign=\"left\">fitness</th>\n      <th colspan=\"2\" halign=\"left\">Accuracy</th>\n      <th colspan=\"2\" halign=\"left\">Equal Opportunity</th>\n    </tr>\n    <tr>\n      <th></th>\n      <th>mean</th>\n      <th>std</th>\n      <th>count</th>\n      <th>mean</th>\n      <th>std</th>\n      <th>mean</th>\n      <th>std</th>\n    </tr>\n    <tr>\n      <th>method</th>\n      <th></th>\n      <th></th>\n      <th></th>\n      <th></th>\n      <th></th>\n      <th></th>\n      <th></th>\n    </tr>\n  </thead>\n  <tbody>\n    <tr>\n      <th>Fair Transition Loss</th>\n      <td>0.679803</td>\n      <td>0.048559</td>\n      <td>15</td>\n      <td>0.692333</td>\n      <td>0.032616</td>\n      <td>0.012531</td>\n      <td>0.024006</td>\n    </tr>\n    <tr>\n      <th>Standard MLP (baseline)</th>\n      <td>0.549810</td>\n      <td>0.059112</td>\n      <td>15</td>\n      <td>0.614333</td>\n      <td>0.033481</td>\n      <td>0.064523</td>\n      <td>0.045405</td>\n    </tr>\n    <tr>\n      <th>Adversarial Debiasing</th>\n      <td>0.530106</td>\n      <td>0.328938</td>\n      <td>15</td>\n      <td>0.712667</td>\n      <td>0.099837</td>\n      <td>0.182560</td>\n      <td>0.235414</td>\n    </tr>\n    <tr>\n      <th>Prejudice Remover</th>\n      <td>0.504640</td>\n      <td>0.082283</td>\n      <td>15</td>\n      <td>0.590000</td>\n      <td>0.025284</td>\n      <td>0.085360</td>\n      <td>0.074077</td>\n    </tr>\n  </tbody>\n</table>\n</div>"
     },
     "metadata": {},
     "output_type": "display_data"
    },
    {
     "name": "stdout",
     "output_type": "stream",
     "text": [
      "Significance Testing\n"
     ]
    },
    {
     "data": {
      "text/plain": "                         Standard MLP (baseline)  Fair Transition Loss  \\\nmethods                                                                  \nStandard MLP (baseline)                 1.000000              0.998347   \nFair Transition Loss                    0.014096              1.000000   \nAdversarial Debiasing                   1.000000              1.000000   \nPrejudice Remover                       1.000000              1.000000   \nGerry Fair Classifier                   1.000000              1.000000   \n\n                         Adversarial Debiasing  Prejudice Remover  \\\nmethods                                                             \nStandard MLP (baseline)               0.663716           0.295882   \nFair Transition Loss                  0.056256           0.000000   \nAdversarial Debiasing                 1.000000           1.000000   \nPrejudice Remover                     0.837095           1.000000   \nGerry Fair Classifier                 1.000000           1.000000   \n\n                         Gerry Fair Classifier  \nmethods                                         \nStandard MLP (baseline)                    0.0  \nFair Transition Loss                       0.0  \nAdversarial Debiasing                      0.0  \nPrejudice Remover                          0.0  \nGerry Fair Classifier                      1.0  ",
      "text/html": "<div>\n<style scoped>\n    .dataframe tbody tr th:only-of-type {\n        vertical-align: middle;\n    }\n\n    .dataframe tbody tr th {\n        vertical-align: top;\n    }\n\n    .dataframe thead th {\n        text-align: right;\n    }\n</style>\n<table border=\"1\" class=\"dataframe\">\n  <thead>\n    <tr style=\"text-align: right;\">\n      <th></th>\n      <th>Standard MLP (baseline)</th>\n      <th>Fair Transition Loss</th>\n      <th>Adversarial Debiasing</th>\n      <th>Prejudice Remover</th>\n      <th>Gerry Fair Classifier</th>\n    </tr>\n    <tr>\n      <th>methods</th>\n      <th></th>\n      <th></th>\n      <th></th>\n      <th></th>\n      <th></th>\n    </tr>\n  </thead>\n  <tbody>\n    <tr>\n      <th>Standard MLP (baseline)</th>\n      <td>1.000000</td>\n      <td>0.998347</td>\n      <td>0.663716</td>\n      <td>0.295882</td>\n      <td>0.0</td>\n    </tr>\n    <tr>\n      <th>Fair Transition Loss</th>\n      <td>0.014096</td>\n      <td>1.000000</td>\n      <td>0.056256</td>\n      <td>0.000000</td>\n      <td>0.0</td>\n    </tr>\n    <tr>\n      <th>Adversarial Debiasing</th>\n      <td>1.000000</td>\n      <td>1.000000</td>\n      <td>1.000000</td>\n      <td>1.000000</td>\n      <td>0.0</td>\n    </tr>\n    <tr>\n      <th>Prejudice Remover</th>\n      <td>1.000000</td>\n      <td>1.000000</td>\n      <td>0.837095</td>\n      <td>1.000000</td>\n      <td>0.0</td>\n    </tr>\n    <tr>\n      <th>Gerry Fair Classifier</th>\n      <td>1.000000</td>\n      <td>1.000000</td>\n      <td>1.000000</td>\n      <td>1.000000</td>\n      <td>1.0</td>\n    </tr>\n  </tbody>\n</table>\n</div>"
     },
     "metadata": {},
     "output_type": "display_data"
    },
    {
     "name": "stdout",
     "output_type": "stream",
     "text": [
      "bank_dataset_reader | max(Mathew Correlation - Statistical Parity)\n"
     ]
    },
    {
     "data": {
      "text/plain": "                          fitness                 Mathew Correlation  \\\n                             mean       std count               mean   \nmethod                                                                 \nFair Transition Loss     0.538637  0.030203    16           0.578629   \nAdversarial Debiasing    0.459050  0.026773    16           0.505485   \nPrejudice Remover        0.453999  0.028865    16           0.486893   \nStandard MLP (baseline)  0.419313  0.035082    16           0.521521   \nGerry Fair Classifier    0.364122  0.023438    16           0.427766   \n\n                                  Statistical Parity            \n                              std               mean       std  \nmethod                                                          \nFair Transition Loss     0.010484           0.039992  0.032659  \nAdversarial Debiasing    0.020981           0.046435  0.023318  \nPrejudice Remover        0.019122           0.032895  0.017302  \nStandard MLP (baseline)  0.018585           0.102208  0.029541  \nGerry Fair Classifier    0.023644           0.063644  0.014344  ",
      "text/html": "<div>\n<style scoped>\n    .dataframe tbody tr th:only-of-type {\n        vertical-align: middle;\n    }\n\n    .dataframe tbody tr th {\n        vertical-align: top;\n    }\n\n    .dataframe thead tr th {\n        text-align: left;\n    }\n\n    .dataframe thead tr:last-of-type th {\n        text-align: right;\n    }\n</style>\n<table border=\"1\" class=\"dataframe\">\n  <thead>\n    <tr>\n      <th></th>\n      <th colspan=\"3\" halign=\"left\">fitness</th>\n      <th colspan=\"2\" halign=\"left\">Mathew Correlation</th>\n      <th colspan=\"2\" halign=\"left\">Statistical Parity</th>\n    </tr>\n    <tr>\n      <th></th>\n      <th>mean</th>\n      <th>std</th>\n      <th>count</th>\n      <th>mean</th>\n      <th>std</th>\n      <th>mean</th>\n      <th>std</th>\n    </tr>\n    <tr>\n      <th>method</th>\n      <th></th>\n      <th></th>\n      <th></th>\n      <th></th>\n      <th></th>\n      <th></th>\n      <th></th>\n    </tr>\n  </thead>\n  <tbody>\n    <tr>\n      <th>Fair Transition Loss</th>\n      <td>0.538637</td>\n      <td>0.030203</td>\n      <td>16</td>\n      <td>0.578629</td>\n      <td>0.010484</td>\n      <td>0.039992</td>\n      <td>0.032659</td>\n    </tr>\n    <tr>\n      <th>Adversarial Debiasing</th>\n      <td>0.459050</td>\n      <td>0.026773</td>\n      <td>16</td>\n      <td>0.505485</td>\n      <td>0.020981</td>\n      <td>0.046435</td>\n      <td>0.023318</td>\n    </tr>\n    <tr>\n      <th>Prejudice Remover</th>\n      <td>0.453999</td>\n      <td>0.028865</td>\n      <td>16</td>\n      <td>0.486893</td>\n      <td>0.019122</td>\n      <td>0.032895</td>\n      <td>0.017302</td>\n    </tr>\n    <tr>\n      <th>Standard MLP (baseline)</th>\n      <td>0.419313</td>\n      <td>0.035082</td>\n      <td>16</td>\n      <td>0.521521</td>\n      <td>0.018585</td>\n      <td>0.102208</td>\n      <td>0.029541</td>\n    </tr>\n    <tr>\n      <th>Gerry Fair Classifier</th>\n      <td>0.364122</td>\n      <td>0.023438</td>\n      <td>16</td>\n      <td>0.427766</td>\n      <td>0.023644</td>\n      <td>0.063644</td>\n      <td>0.014344</td>\n    </tr>\n  </tbody>\n</table>\n</div>"
     },
     "metadata": {},
     "output_type": "display_data"
    },
    {
     "name": "stdout",
     "output_type": "stream",
     "text": [
      "Significance Testing\n"
     ]
    },
    {
     "data": {
      "text/plain": "                         Standard MLP (baseline)  Fair Transition Loss  \\\nmethods                                                                  \nStandard MLP (baseline)                 1.000000              0.998066   \nFair Transition Loss                    0.007870              1.000000   \nAdversarial Debiasing                   0.040802              1.000000   \nPrejudice Remover                       0.073596              1.000000   \nGerry Fair Classifier                   1.000000              1.000000   \n\n                         Adversarial Debiasing  Prejudice Remover  \\\nmethods                                                             \nStandard MLP (baseline)                    1.0           1.000000   \nFair Transition Loss                       0.0           0.000000   \nAdversarial Debiasing                      1.0           0.852393   \nPrejudice Remover                          1.0           1.000000   \nGerry Fair Classifier                      1.0           1.000000   \n\n                         Gerry Fair Classifier  \nmethods                                         \nStandard MLP (baseline)               0.002044  \nFair Transition Loss                  0.000000  \nAdversarial Debiasing                 0.000000  \nPrejudice Remover                     0.000000  \nGerry Fair Classifier                 1.000000  ",
      "text/html": "<div>\n<style scoped>\n    .dataframe tbody tr th:only-of-type {\n        vertical-align: middle;\n    }\n\n    .dataframe tbody tr th {\n        vertical-align: top;\n    }\n\n    .dataframe thead th {\n        text-align: right;\n    }\n</style>\n<table border=\"1\" class=\"dataframe\">\n  <thead>\n    <tr style=\"text-align: right;\">\n      <th></th>\n      <th>Standard MLP (baseline)</th>\n      <th>Fair Transition Loss</th>\n      <th>Adversarial Debiasing</th>\n      <th>Prejudice Remover</th>\n      <th>Gerry Fair Classifier</th>\n    </tr>\n    <tr>\n      <th>methods</th>\n      <th></th>\n      <th></th>\n      <th></th>\n      <th></th>\n      <th></th>\n    </tr>\n  </thead>\n  <tbody>\n    <tr>\n      <th>Standard MLP (baseline)</th>\n      <td>1.000000</td>\n      <td>0.998066</td>\n      <td>1.0</td>\n      <td>1.000000</td>\n      <td>0.002044</td>\n    </tr>\n    <tr>\n      <th>Fair Transition Loss</th>\n      <td>0.007870</td>\n      <td>1.000000</td>\n      <td>0.0</td>\n      <td>0.000000</td>\n      <td>0.000000</td>\n    </tr>\n    <tr>\n      <th>Adversarial Debiasing</th>\n      <td>0.040802</td>\n      <td>1.000000</td>\n      <td>1.0</td>\n      <td>0.852393</td>\n      <td>0.000000</td>\n    </tr>\n    <tr>\n      <th>Prejudice Remover</th>\n      <td>0.073596</td>\n      <td>1.000000</td>\n      <td>1.0</td>\n      <td>1.000000</td>\n      <td>0.000000</td>\n    </tr>\n    <tr>\n      <th>Gerry Fair Classifier</th>\n      <td>1.000000</td>\n      <td>1.000000</td>\n      <td>1.0</td>\n      <td>1.000000</td>\n      <td>1.000000</td>\n    </tr>\n  </tbody>\n</table>\n</div>"
     },
     "metadata": {},
     "output_type": "display_data"
    },
    {
     "name": "stdout",
     "output_type": "stream",
     "text": [
      "bank_dataset_reader | max(Mathew Correlation - Equalized Odds)\n"
     ]
    },
    {
     "data": {
      "text/plain": "                          fitness                 Mathew Correlation  \\\n                             mean       std count               mean   \nmethod                                                                 \nFair Transition Loss     0.485232  0.057766    16           0.568878   \nStandard MLP (baseline)  0.439100  0.033272    16           0.513842   \nAdversarial Debiasing    0.425859  0.059593    16           0.511591   \nPrejudice Remover        0.412904  0.038026    16           0.484515   \nGerry Fair Classifier    0.379921  0.039809    16           0.430305   \n\n                                  Equalized Odds            \n                              std           mean       std  \nmethod                                                      \nFair Transition Loss     0.011656       0.083646  0.057749  \nStandard MLP (baseline)  0.019228       0.074742  0.026389  \nAdversarial Debiasing    0.019124       0.085732  0.052456  \nPrejudice Remover        0.019109       0.071611  0.041584  \nGerry Fair Classifier    0.017406       0.050384  0.032472  ",
      "text/html": "<div>\n<style scoped>\n    .dataframe tbody tr th:only-of-type {\n        vertical-align: middle;\n    }\n\n    .dataframe tbody tr th {\n        vertical-align: top;\n    }\n\n    .dataframe thead tr th {\n        text-align: left;\n    }\n\n    .dataframe thead tr:last-of-type th {\n        text-align: right;\n    }\n</style>\n<table border=\"1\" class=\"dataframe\">\n  <thead>\n    <tr>\n      <th></th>\n      <th colspan=\"3\" halign=\"left\">fitness</th>\n      <th colspan=\"2\" halign=\"left\">Mathew Correlation</th>\n      <th colspan=\"2\" halign=\"left\">Equalized Odds</th>\n    </tr>\n    <tr>\n      <th></th>\n      <th>mean</th>\n      <th>std</th>\n      <th>count</th>\n      <th>mean</th>\n      <th>std</th>\n      <th>mean</th>\n      <th>std</th>\n    </tr>\n    <tr>\n      <th>method</th>\n      <th></th>\n      <th></th>\n      <th></th>\n      <th></th>\n      <th></th>\n      <th></th>\n      <th></th>\n    </tr>\n  </thead>\n  <tbody>\n    <tr>\n      <th>Fair Transition Loss</th>\n      <td>0.485232</td>\n      <td>0.057766</td>\n      <td>16</td>\n      <td>0.568878</td>\n      <td>0.011656</td>\n      <td>0.083646</td>\n      <td>0.057749</td>\n    </tr>\n    <tr>\n      <th>Standard MLP (baseline)</th>\n      <td>0.439100</td>\n      <td>0.033272</td>\n      <td>16</td>\n      <td>0.513842</td>\n      <td>0.019228</td>\n      <td>0.074742</td>\n      <td>0.026389</td>\n    </tr>\n    <tr>\n      <th>Adversarial Debiasing</th>\n      <td>0.425859</td>\n      <td>0.059593</td>\n      <td>16</td>\n      <td>0.511591</td>\n      <td>0.019124</td>\n      <td>0.085732</td>\n      <td>0.052456</td>\n    </tr>\n    <tr>\n      <th>Prejudice Remover</th>\n      <td>0.412904</td>\n      <td>0.038026</td>\n      <td>16</td>\n      <td>0.484515</td>\n      <td>0.019109</td>\n      <td>0.071611</td>\n      <td>0.041584</td>\n    </tr>\n    <tr>\n      <th>Gerry Fair Classifier</th>\n      <td>0.379921</td>\n      <td>0.039809</td>\n      <td>16</td>\n      <td>0.430305</td>\n      <td>0.017406</td>\n      <td>0.050384</td>\n      <td>0.032472</td>\n    </tr>\n  </tbody>\n</table>\n</div>"
     },
     "metadata": {},
     "output_type": "display_data"
    },
    {
     "name": "stdout",
     "output_type": "stream",
     "text": [
      "Significance Testing\n"
     ]
    },
    {
     "data": {
      "text/plain": "                         Standard MLP (baseline)  Fair Transition Loss  \\\nmethods                                                                  \nStandard MLP (baseline)                 1.000000                   1.0   \nFair Transition Loss                    0.445858                   1.0   \nAdversarial Debiasing                   1.000000                   1.0   \nPrejudice Remover                       1.000000                   1.0   \nGerry Fair Classifier                   1.000000                   1.0   \n\n                         Adversarial Debiasing  Prejudice Remover  \\\nmethods                                                             \nStandard MLP (baseline)               0.466753           0.170665   \nFair Transition Loss                  0.180069           0.115858   \nAdversarial Debiasing                 1.000000           0.922134   \nPrejudice Remover                     1.000000           1.000000   \nGerry Fair Classifier                 1.000000           1.000000   \n\n                         Gerry Fair Classifier  \nmethods                                         \nStandard MLP (baseline)               0.000038  \nFair Transition Loss                  0.025152  \nAdversarial Debiasing                 0.170584  \nPrejudice Remover                     0.093119  \nGerry Fair Classifier                 1.000000  ",
      "text/html": "<div>\n<style scoped>\n    .dataframe tbody tr th:only-of-type {\n        vertical-align: middle;\n    }\n\n    .dataframe tbody tr th {\n        vertical-align: top;\n    }\n\n    .dataframe thead th {\n        text-align: right;\n    }\n</style>\n<table border=\"1\" class=\"dataframe\">\n  <thead>\n    <tr style=\"text-align: right;\">\n      <th></th>\n      <th>Standard MLP (baseline)</th>\n      <th>Fair Transition Loss</th>\n      <th>Adversarial Debiasing</th>\n      <th>Prejudice Remover</th>\n      <th>Gerry Fair Classifier</th>\n    </tr>\n    <tr>\n      <th>methods</th>\n      <th></th>\n      <th></th>\n      <th></th>\n      <th></th>\n      <th></th>\n    </tr>\n  </thead>\n  <tbody>\n    <tr>\n      <th>Standard MLP (baseline)</th>\n      <td>1.000000</td>\n      <td>1.0</td>\n      <td>0.466753</td>\n      <td>0.170665</td>\n      <td>0.000038</td>\n    </tr>\n    <tr>\n      <th>Fair Transition Loss</th>\n      <td>0.445858</td>\n      <td>1.0</td>\n      <td>0.180069</td>\n      <td>0.115858</td>\n      <td>0.025152</td>\n    </tr>\n    <tr>\n      <th>Adversarial Debiasing</th>\n      <td>1.000000</td>\n      <td>1.0</td>\n      <td>1.000000</td>\n      <td>0.922134</td>\n      <td>0.170584</td>\n    </tr>\n    <tr>\n      <th>Prejudice Remover</th>\n      <td>1.000000</td>\n      <td>1.0</td>\n      <td>1.000000</td>\n      <td>1.000000</td>\n      <td>0.093119</td>\n    </tr>\n    <tr>\n      <th>Gerry Fair Classifier</th>\n      <td>1.000000</td>\n      <td>1.0</td>\n      <td>1.000000</td>\n      <td>1.000000</td>\n      <td>1.000000</td>\n    </tr>\n  </tbody>\n</table>\n</div>"
     },
     "metadata": {},
     "output_type": "display_data"
    },
    {
     "name": "stdout",
     "output_type": "stream",
     "text": [
      "bank_dataset_reader | max(Mathew Correlation - Equal Opportunity)\n"
     ]
    },
    {
     "data": {
      "text/plain": "                          fitness                 Mathew Correlation  \\\n                             mean       std count               mean   \nmethod                                                                 \nFair Transition Loss     0.466943  0.106056    16           0.560218   \nStandard MLP (baseline)  0.432485  0.055535    16           0.519779   \nPrejudice Remover        0.391568  0.086487    16           0.489974   \nAdversarial Debiasing    0.372598  0.093544    16           0.508244   \nGerry Fair Classifier    0.360622  0.056931    16           0.432291   \n\n                                  Equal Opportunity            \n                              std              mean       std  \nmethod                                                         \nFair Transition Loss     0.028665          0.093275  0.095440  \nStandard MLP (baseline)  0.015186          0.087294  0.058595  \nPrejudice Remover        0.016599          0.098406  0.077769  \nAdversarial Debiasing    0.018888          0.135646  0.087756  \nGerry Fair Classifier    0.020158          0.071669  0.052382  ",
      "text/html": "<div>\n<style scoped>\n    .dataframe tbody tr th:only-of-type {\n        vertical-align: middle;\n    }\n\n    .dataframe tbody tr th {\n        vertical-align: top;\n    }\n\n    .dataframe thead tr th {\n        text-align: left;\n    }\n\n    .dataframe thead tr:last-of-type th {\n        text-align: right;\n    }\n</style>\n<table border=\"1\" class=\"dataframe\">\n  <thead>\n    <tr>\n      <th></th>\n      <th colspan=\"3\" halign=\"left\">fitness</th>\n      <th colspan=\"2\" halign=\"left\">Mathew Correlation</th>\n      <th colspan=\"2\" halign=\"left\">Equal Opportunity</th>\n    </tr>\n    <tr>\n      <th></th>\n      <th>mean</th>\n      <th>std</th>\n      <th>count</th>\n      <th>mean</th>\n      <th>std</th>\n      <th>mean</th>\n      <th>std</th>\n    </tr>\n    <tr>\n      <th>method</th>\n      <th></th>\n      <th></th>\n      <th></th>\n      <th></th>\n      <th></th>\n      <th></th>\n      <th></th>\n    </tr>\n  </thead>\n  <tbody>\n    <tr>\n      <th>Fair Transition Loss</th>\n      <td>0.466943</td>\n      <td>0.106056</td>\n      <td>16</td>\n      <td>0.560218</td>\n      <td>0.028665</td>\n      <td>0.093275</td>\n      <td>0.095440</td>\n    </tr>\n    <tr>\n      <th>Standard MLP (baseline)</th>\n      <td>0.432485</td>\n      <td>0.055535</td>\n      <td>16</td>\n      <td>0.519779</td>\n      <td>0.015186</td>\n      <td>0.087294</td>\n      <td>0.058595</td>\n    </tr>\n    <tr>\n      <th>Prejudice Remover</th>\n      <td>0.391568</td>\n      <td>0.086487</td>\n      <td>16</td>\n      <td>0.489974</td>\n      <td>0.016599</td>\n      <td>0.098406</td>\n      <td>0.077769</td>\n    </tr>\n    <tr>\n      <th>Adversarial Debiasing</th>\n      <td>0.372598</td>\n      <td>0.093544</td>\n      <td>16</td>\n      <td>0.508244</td>\n      <td>0.018888</td>\n      <td>0.135646</td>\n      <td>0.087756</td>\n    </tr>\n    <tr>\n      <th>Gerry Fair Classifier</th>\n      <td>0.360622</td>\n      <td>0.056931</td>\n      <td>16</td>\n      <td>0.432291</td>\n      <td>0.020158</td>\n      <td>0.071669</td>\n      <td>0.052382</td>\n    </tr>\n  </tbody>\n</table>\n</div>"
     },
     "metadata": {},
     "output_type": "display_data"
    },
    {
     "name": "stdout",
     "output_type": "stream",
     "text": [
      "Significance Testing\n"
     ]
    },
    {
     "data": {
      "text/plain": "                         Standard MLP (baseline)  Fair Transition Loss  \\\nmethods                                                                  \nStandard MLP (baseline)                 1.000000                   1.0   \nFair Transition Loss                    0.816726                   1.0   \nAdversarial Debiasing                   1.000000                   1.0   \nPrejudice Remover                       1.000000                   1.0   \nGerry Fair Classifier                   1.000000                   1.0   \n\n                         Adversarial Debiasing  Prejudice Remover  \\\nmethods                                                             \nStandard MLP (baseline)               0.135597           0.262399   \nFair Transition Loss                  0.171643           0.254237   \nAdversarial Debiasing                 1.000000           1.000000   \nPrejudice Remover                     0.653252           1.000000   \nGerry Fair Classifier                 1.000000           1.000000   \n\n                         Gerry Fair Classifier  \nmethods                                         \nStandard MLP (baseline)               0.037235  \nFair Transition Loss                  0.150899  \nAdversarial Debiasing                 0.849441  \nPrejudice Remover                     0.521176  \nGerry Fair Classifier                 1.000000  ",
      "text/html": "<div>\n<style scoped>\n    .dataframe tbody tr th:only-of-type {\n        vertical-align: middle;\n    }\n\n    .dataframe tbody tr th {\n        vertical-align: top;\n    }\n\n    .dataframe thead th {\n        text-align: right;\n    }\n</style>\n<table border=\"1\" class=\"dataframe\">\n  <thead>\n    <tr style=\"text-align: right;\">\n      <th></th>\n      <th>Standard MLP (baseline)</th>\n      <th>Fair Transition Loss</th>\n      <th>Adversarial Debiasing</th>\n      <th>Prejudice Remover</th>\n      <th>Gerry Fair Classifier</th>\n    </tr>\n    <tr>\n      <th>methods</th>\n      <th></th>\n      <th></th>\n      <th></th>\n      <th></th>\n      <th></th>\n    </tr>\n  </thead>\n  <tbody>\n    <tr>\n      <th>Standard MLP (baseline)</th>\n      <td>1.000000</td>\n      <td>1.0</td>\n      <td>0.135597</td>\n      <td>0.262399</td>\n      <td>0.037235</td>\n    </tr>\n    <tr>\n      <th>Fair Transition Loss</th>\n      <td>0.816726</td>\n      <td>1.0</td>\n      <td>0.171643</td>\n      <td>0.254237</td>\n      <td>0.150899</td>\n    </tr>\n    <tr>\n      <th>Adversarial Debiasing</th>\n      <td>1.000000</td>\n      <td>1.0</td>\n      <td>1.000000</td>\n      <td>1.000000</td>\n      <td>0.849441</td>\n    </tr>\n    <tr>\n      <th>Prejudice Remover</th>\n      <td>1.000000</td>\n      <td>1.0</td>\n      <td>0.653252</td>\n      <td>1.000000</td>\n      <td>0.521176</td>\n    </tr>\n    <tr>\n      <th>Gerry Fair Classifier</th>\n      <td>1.000000</td>\n      <td>1.0</td>\n      <td>1.000000</td>\n      <td>1.000000</td>\n      <td>1.000000</td>\n    </tr>\n  </tbody>\n</table>\n</div>"
     },
     "metadata": {},
     "output_type": "display_data"
    },
    {
     "name": "stdout",
     "output_type": "stream",
     "text": [
      "bank_dataset_reader | max(Accuracy - Statistical Parity)\n"
     ]
    },
    {
     "data": {
      "text/plain": "                          fitness                  Accuracy            \\\n                             mean       std count      mean       std   \nmethod                                                                  \nAdversarial Debiasing    0.869188  0.026198    16  0.900674  0.004901   \nPrejudice Remover        0.860453  0.024102    16  0.898204  0.003222   \nFair Transition Loss     0.853960  0.051311    16  0.888939  0.012644   \nGerry Fair Classifier    0.827902  0.024396    16  0.895253  0.003863   \nStandard MLP (baseline)  0.798856  0.035529    16  0.901689  0.004638   \n\n                        Statistical Parity            \n                                      mean       std  \nmethod                                                \nAdversarial Debiasing             0.031487  0.024422  \nPrejudice Remover                 0.037751  0.023137  \nFair Transition Loss              0.034979  0.051374  \nGerry Fair Classifier             0.067350  0.022572  \nStandard MLP (baseline)           0.102833  0.033983  ",
      "text/html": "<div>\n<style scoped>\n    .dataframe tbody tr th:only-of-type {\n        vertical-align: middle;\n    }\n\n    .dataframe tbody tr th {\n        vertical-align: top;\n    }\n\n    .dataframe thead tr th {\n        text-align: left;\n    }\n\n    .dataframe thead tr:last-of-type th {\n        text-align: right;\n    }\n</style>\n<table border=\"1\" class=\"dataframe\">\n  <thead>\n    <tr>\n      <th></th>\n      <th colspan=\"3\" halign=\"left\">fitness</th>\n      <th colspan=\"2\" halign=\"left\">Accuracy</th>\n      <th colspan=\"2\" halign=\"left\">Statistical Parity</th>\n    </tr>\n    <tr>\n      <th></th>\n      <th>mean</th>\n      <th>std</th>\n      <th>count</th>\n      <th>mean</th>\n      <th>std</th>\n      <th>mean</th>\n      <th>std</th>\n    </tr>\n    <tr>\n      <th>method</th>\n      <th></th>\n      <th></th>\n      <th></th>\n      <th></th>\n      <th></th>\n      <th></th>\n      <th></th>\n    </tr>\n  </thead>\n  <tbody>\n    <tr>\n      <th>Adversarial Debiasing</th>\n      <td>0.869188</td>\n      <td>0.026198</td>\n      <td>16</td>\n      <td>0.900674</td>\n      <td>0.004901</td>\n      <td>0.031487</td>\n      <td>0.024422</td>\n    </tr>\n    <tr>\n      <th>Prejudice Remover</th>\n      <td>0.860453</td>\n      <td>0.024102</td>\n      <td>16</td>\n      <td>0.898204</td>\n      <td>0.003222</td>\n      <td>0.037751</td>\n      <td>0.023137</td>\n    </tr>\n    <tr>\n      <th>Fair Transition Loss</th>\n      <td>0.853960</td>\n      <td>0.051311</td>\n      <td>16</td>\n      <td>0.888939</td>\n      <td>0.012644</td>\n      <td>0.034979</td>\n      <td>0.051374</td>\n    </tr>\n    <tr>\n      <th>Gerry Fair Classifier</th>\n      <td>0.827902</td>\n      <td>0.024396</td>\n      <td>16</td>\n      <td>0.895253</td>\n      <td>0.003863</td>\n      <td>0.067350</td>\n      <td>0.022572</td>\n    </tr>\n    <tr>\n      <th>Standard MLP (baseline)</th>\n      <td>0.798856</td>\n      <td>0.035529</td>\n      <td>16</td>\n      <td>0.901689</td>\n      <td>0.004638</td>\n      <td>0.102833</td>\n      <td>0.033983</td>\n    </tr>\n  </tbody>\n</table>\n</div>"
     },
     "metadata": {},
     "output_type": "display_data"
    },
    {
     "name": "stdout",
     "output_type": "stream",
     "text": [
      "Significance Testing\n"
     ]
    },
    {
     "data": {
      "text/plain": "                         Standard MLP (baseline)  Fair Transition Loss  \\\nmethods                                                                  \nStandard MLP (baseline)                 1.000000              1.000000   \nFair Transition Loss                    0.251989              1.000000   \nAdversarial Debiasing                   0.008379              0.563845   \nPrejudice Remover                       0.014408              0.743342   \nGerry Fair Classifier                   0.175057              1.000000   \n\n                         Adversarial Debiasing  Prejudice Remover  \\\nmethods                                                             \nStandard MLP (baseline)                    1.0           0.997757   \nFair Transition Loss                       1.0           1.000000   \nAdversarial Debiasing                      1.0           0.619288   \nPrejudice Remover                          1.0           1.000000   \nGerry Fair Classifier                      1.0           1.000000   \n\n                         Gerry Fair Classifier  \nmethods                                         \nStandard MLP (baseline)               1.000000  \nFair Transition Loss                  0.776411  \nAdversarial Debiasing                 0.025136  \nPrejudice Remover                     0.013064  \nGerry Fair Classifier                 1.000000  ",
      "text/html": "<div>\n<style scoped>\n    .dataframe tbody tr th:only-of-type {\n        vertical-align: middle;\n    }\n\n    .dataframe tbody tr th {\n        vertical-align: top;\n    }\n\n    .dataframe thead th {\n        text-align: right;\n    }\n</style>\n<table border=\"1\" class=\"dataframe\">\n  <thead>\n    <tr style=\"text-align: right;\">\n      <th></th>\n      <th>Standard MLP (baseline)</th>\n      <th>Fair Transition Loss</th>\n      <th>Adversarial Debiasing</th>\n      <th>Prejudice Remover</th>\n      <th>Gerry Fair Classifier</th>\n    </tr>\n    <tr>\n      <th>methods</th>\n      <th></th>\n      <th></th>\n      <th></th>\n      <th></th>\n      <th></th>\n    </tr>\n  </thead>\n  <tbody>\n    <tr>\n      <th>Standard MLP (baseline)</th>\n      <td>1.000000</td>\n      <td>1.000000</td>\n      <td>1.0</td>\n      <td>0.997757</td>\n      <td>1.000000</td>\n    </tr>\n    <tr>\n      <th>Fair Transition Loss</th>\n      <td>0.251989</td>\n      <td>1.000000</td>\n      <td>1.0</td>\n      <td>1.000000</td>\n      <td>0.776411</td>\n    </tr>\n    <tr>\n      <th>Adversarial Debiasing</th>\n      <td>0.008379</td>\n      <td>0.563845</td>\n      <td>1.0</td>\n      <td>0.619288</td>\n      <td>0.025136</td>\n    </tr>\n    <tr>\n      <th>Prejudice Remover</th>\n      <td>0.014408</td>\n      <td>0.743342</td>\n      <td>1.0</td>\n      <td>1.000000</td>\n      <td>0.013064</td>\n    </tr>\n    <tr>\n      <th>Gerry Fair Classifier</th>\n      <td>0.175057</td>\n      <td>1.000000</td>\n      <td>1.0</td>\n      <td>1.000000</td>\n      <td>1.000000</td>\n    </tr>\n  </tbody>\n</table>\n</div>"
     },
     "metadata": {},
     "output_type": "display_data"
    },
    {
     "name": "stdout",
     "output_type": "stream",
     "text": [
      "bank_dataset_reader | max(Accuracy - Equalized Odds)\n"
     ]
    },
    {
     "data": {
      "text/plain": "                          fitness                  Accuracy            \\\n                             mean       std count      mean       std   \nmethod                                                                  \nGerry Fair Classifier    0.847492  0.033414    16  0.895622  0.003053   \nFair Transition Loss     0.832850  0.046099    16  0.891881  0.012613   \nPrejudice Remover        0.826580  0.036570    16  0.897579  0.003235   \nStandard MLP (baseline)  0.825660  0.041732    16  0.900951  0.004575   \nAdversarial Debiasing    0.807064  0.068668    16  0.902038  0.003512   \n\n                        Equalized Odds            \n                                  mean       std  \nmethod                                            \nGerry Fair Classifier         0.048129  0.035106  \nFair Transition Loss          0.059030  0.050259  \nPrejudice Remover             0.070999  0.036964  \nStandard MLP (baseline)       0.075291  0.041982  \nAdversarial Debiasing         0.094973  0.068159  ",
      "text/html": "<div>\n<style scoped>\n    .dataframe tbody tr th:only-of-type {\n        vertical-align: middle;\n    }\n\n    .dataframe tbody tr th {\n        vertical-align: top;\n    }\n\n    .dataframe thead tr th {\n        text-align: left;\n    }\n\n    .dataframe thead tr:last-of-type th {\n        text-align: right;\n    }\n</style>\n<table border=\"1\" class=\"dataframe\">\n  <thead>\n    <tr>\n      <th></th>\n      <th colspan=\"3\" halign=\"left\">fitness</th>\n      <th colspan=\"2\" halign=\"left\">Accuracy</th>\n      <th colspan=\"2\" halign=\"left\">Equalized Odds</th>\n    </tr>\n    <tr>\n      <th></th>\n      <th>mean</th>\n      <th>std</th>\n      <th>count</th>\n      <th>mean</th>\n      <th>std</th>\n      <th>mean</th>\n      <th>std</th>\n    </tr>\n    <tr>\n      <th>method</th>\n      <th></th>\n      <th></th>\n      <th></th>\n      <th></th>\n      <th></th>\n      <th></th>\n      <th></th>\n    </tr>\n  </thead>\n  <tbody>\n    <tr>\n      <th>Gerry Fair Classifier</th>\n      <td>0.847492</td>\n      <td>0.033414</td>\n      <td>16</td>\n      <td>0.895622</td>\n      <td>0.003053</td>\n      <td>0.048129</td>\n      <td>0.035106</td>\n    </tr>\n    <tr>\n      <th>Fair Transition Loss</th>\n      <td>0.832850</td>\n      <td>0.046099</td>\n      <td>16</td>\n      <td>0.891881</td>\n      <td>0.012613</td>\n      <td>0.059030</td>\n      <td>0.050259</td>\n    </tr>\n    <tr>\n      <th>Prejudice Remover</th>\n      <td>0.826580</td>\n      <td>0.036570</td>\n      <td>16</td>\n      <td>0.897579</td>\n      <td>0.003235</td>\n      <td>0.070999</td>\n      <td>0.036964</td>\n    </tr>\n    <tr>\n      <th>Standard MLP (baseline)</th>\n      <td>0.825660</td>\n      <td>0.041732</td>\n      <td>16</td>\n      <td>0.900951</td>\n      <td>0.004575</td>\n      <td>0.075291</td>\n      <td>0.041982</td>\n    </tr>\n    <tr>\n      <th>Adversarial Debiasing</th>\n      <td>0.807064</td>\n      <td>0.068668</td>\n      <td>16</td>\n      <td>0.902038</td>\n      <td>0.003512</td>\n      <td>0.094973</td>\n      <td>0.068159</td>\n    </tr>\n  </tbody>\n</table>\n</div>"
     },
     "metadata": {},
     "output_type": "display_data"
    },
    {
     "name": "stdout",
     "output_type": "stream",
     "text": [
      "Significance Testing\n"
     ]
    },
    {
     "data": {
      "text/plain": "                         Standard MLP (baseline)  Fair Transition Loss  \\\nmethods                                                                  \nStandard MLP (baseline)                 1.000000              1.000000   \nFair Transition Loss                    0.778905              1.000000   \nAdversarial Debiasing                   1.000000              1.000000   \nPrejudice Remover                       0.895691              1.000000   \nGerry Fair Classifier                   0.366014              0.496009   \n\n                         Adversarial Debiasing  Prejudice Remover  \\\nmethods                                                             \nStandard MLP (baseline)               0.457104           1.000000   \nFair Transition Loss                  0.401853           0.819217   \nAdversarial Debiasing                 1.000000           1.000000   \nPrejudice Remover                     0.424796           1.000000   \nGerry Fair Classifier                 0.131741           0.343580   \n\n                         Gerry Fair Classifier  \nmethods                                         \nStandard MLP (baseline)                    1.0  \nFair Transition Loss                       1.0  \nAdversarial Debiasing                      1.0  \nPrejudice Remover                          1.0  \nGerry Fair Classifier                      1.0  ",
      "text/html": "<div>\n<style scoped>\n    .dataframe tbody tr th:only-of-type {\n        vertical-align: middle;\n    }\n\n    .dataframe tbody tr th {\n        vertical-align: top;\n    }\n\n    .dataframe thead th {\n        text-align: right;\n    }\n</style>\n<table border=\"1\" class=\"dataframe\">\n  <thead>\n    <tr style=\"text-align: right;\">\n      <th></th>\n      <th>Standard MLP (baseline)</th>\n      <th>Fair Transition Loss</th>\n      <th>Adversarial Debiasing</th>\n      <th>Prejudice Remover</th>\n      <th>Gerry Fair Classifier</th>\n    </tr>\n    <tr>\n      <th>methods</th>\n      <th></th>\n      <th></th>\n      <th></th>\n      <th></th>\n      <th></th>\n    </tr>\n  </thead>\n  <tbody>\n    <tr>\n      <th>Standard MLP (baseline)</th>\n      <td>1.000000</td>\n      <td>1.000000</td>\n      <td>0.457104</td>\n      <td>1.000000</td>\n      <td>1.0</td>\n    </tr>\n    <tr>\n      <th>Fair Transition Loss</th>\n      <td>0.778905</td>\n      <td>1.000000</td>\n      <td>0.401853</td>\n      <td>0.819217</td>\n      <td>1.0</td>\n    </tr>\n    <tr>\n      <th>Adversarial Debiasing</th>\n      <td>1.000000</td>\n      <td>1.000000</td>\n      <td>1.000000</td>\n      <td>1.000000</td>\n      <td>1.0</td>\n    </tr>\n    <tr>\n      <th>Prejudice Remover</th>\n      <td>0.895691</td>\n      <td>1.000000</td>\n      <td>0.424796</td>\n      <td>1.000000</td>\n      <td>1.0</td>\n    </tr>\n    <tr>\n      <th>Gerry Fair Classifier</th>\n      <td>0.366014</td>\n      <td>0.496009</td>\n      <td>0.131741</td>\n      <td>0.343580</td>\n      <td>1.0</td>\n    </tr>\n  </tbody>\n</table>\n</div>"
     },
     "metadata": {},
     "output_type": "display_data"
    },
    {
     "name": "stdout",
     "output_type": "stream",
     "text": [
      "bank_dataset_reader | max(Accuracy - Equal Opportunity)\n"
     ]
    },
    {
     "data": {
      "text/plain": "                          fitness                  Accuracy            \\\n                             mean       std count      mean       std   \nmethod                                                                  \nGerry Fair Classifier    0.801388  0.055304    16  0.895601  0.003050   \nStandard MLP (baseline)  0.799991  0.060918    16  0.902222  0.004254   \nFair Transition Loss     0.799420  0.097449    16  0.891471  0.010348   \nPrejudice Remover        0.780926  0.071711    16  0.899414  0.003267   \nAdversarial Debiasing    0.749968  0.085135    16  0.900203  0.002987   \n\n                        Equal Opportunity            \n                                     mean       std  \nmethod                                               \nGerry Fair Classifier            0.094213  0.056372  \nStandard MLP (baseline)          0.102231  0.062028  \nFair Transition Loss             0.092051  0.098067  \nPrejudice Remover                0.118488  0.072614  \nAdversarial Debiasing            0.150235  0.085263  ",
      "text/html": "<div>\n<style scoped>\n    .dataframe tbody tr th:only-of-type {\n        vertical-align: middle;\n    }\n\n    .dataframe tbody tr th {\n        vertical-align: top;\n    }\n\n    .dataframe thead tr th {\n        text-align: left;\n    }\n\n    .dataframe thead tr:last-of-type th {\n        text-align: right;\n    }\n</style>\n<table border=\"1\" class=\"dataframe\">\n  <thead>\n    <tr>\n      <th></th>\n      <th colspan=\"3\" halign=\"left\">fitness</th>\n      <th colspan=\"2\" halign=\"left\">Accuracy</th>\n      <th colspan=\"2\" halign=\"left\">Equal Opportunity</th>\n    </tr>\n    <tr>\n      <th></th>\n      <th>mean</th>\n      <th>std</th>\n      <th>count</th>\n      <th>mean</th>\n      <th>std</th>\n      <th>mean</th>\n      <th>std</th>\n    </tr>\n    <tr>\n      <th>method</th>\n      <th></th>\n      <th></th>\n      <th></th>\n      <th></th>\n      <th></th>\n      <th></th>\n      <th></th>\n    </tr>\n  </thead>\n  <tbody>\n    <tr>\n      <th>Gerry Fair Classifier</th>\n      <td>0.801388</td>\n      <td>0.055304</td>\n      <td>16</td>\n      <td>0.895601</td>\n      <td>0.003050</td>\n      <td>0.094213</td>\n      <td>0.056372</td>\n    </tr>\n    <tr>\n      <th>Standard MLP (baseline)</th>\n      <td>0.799991</td>\n      <td>0.060918</td>\n      <td>16</td>\n      <td>0.902222</td>\n      <td>0.004254</td>\n      <td>0.102231</td>\n      <td>0.062028</td>\n    </tr>\n    <tr>\n      <th>Fair Transition Loss</th>\n      <td>0.799420</td>\n      <td>0.097449</td>\n      <td>16</td>\n      <td>0.891471</td>\n      <td>0.010348</td>\n      <td>0.092051</td>\n      <td>0.098067</td>\n    </tr>\n    <tr>\n      <th>Prejudice Remover</th>\n      <td>0.780926</td>\n      <td>0.071711</td>\n      <td>16</td>\n      <td>0.899414</td>\n      <td>0.003267</td>\n      <td>0.118488</td>\n      <td>0.072614</td>\n    </tr>\n    <tr>\n      <th>Adversarial Debiasing</th>\n      <td>0.749968</td>\n      <td>0.085135</td>\n      <td>16</td>\n      <td>0.900203</td>\n      <td>0.002987</td>\n      <td>0.150235</td>\n      <td>0.085263</td>\n    </tr>\n  </tbody>\n</table>\n</div>"
     },
     "metadata": {},
     "output_type": "display_data"
    },
    {
     "name": "stdout",
     "output_type": "stream",
     "text": [
      "Significance Testing\n"
     ]
    },
    {
     "data": {
      "text/plain": "                         Standard MLP (baseline)  Fair Transition Loss  \\\nmethods                                                                  \nStandard MLP (baseline)                      1.0              0.769404   \nFair Transition Loss                         1.0              1.000000   \nAdversarial Debiasing                        1.0              1.000000   \nPrejudice Remover                            1.0              1.000000   \nGerry Fair Classifier                        1.0              0.713303   \n\n                         Adversarial Debiasing  Prejudice Remover  \\\nmethods                                                             \nStandard MLP (baseline)               0.201550           0.548590   \nFair Transition Loss                  0.388756           0.827446   \nAdversarial Debiasing                 1.000000           1.000000   \nPrejudice Remover                     0.505855           1.000000   \nGerry Fair Classifier                 0.187163           0.518570   \n\n                         Gerry Fair Classifier  \nmethods                                         \nStandard MLP (baseline)                    1.0  \nFair Transition Loss                       1.0  \nAdversarial Debiasing                      1.0  \nPrejudice Remover                          1.0  \nGerry Fair Classifier                      1.0  ",
      "text/html": "<div>\n<style scoped>\n    .dataframe tbody tr th:only-of-type {\n        vertical-align: middle;\n    }\n\n    .dataframe tbody tr th {\n        vertical-align: top;\n    }\n\n    .dataframe thead th {\n        text-align: right;\n    }\n</style>\n<table border=\"1\" class=\"dataframe\">\n  <thead>\n    <tr style=\"text-align: right;\">\n      <th></th>\n      <th>Standard MLP (baseline)</th>\n      <th>Fair Transition Loss</th>\n      <th>Adversarial Debiasing</th>\n      <th>Prejudice Remover</th>\n      <th>Gerry Fair Classifier</th>\n    </tr>\n    <tr>\n      <th>methods</th>\n      <th></th>\n      <th></th>\n      <th></th>\n      <th></th>\n      <th></th>\n    </tr>\n  </thead>\n  <tbody>\n    <tr>\n      <th>Standard MLP (baseline)</th>\n      <td>1.0</td>\n      <td>0.769404</td>\n      <td>0.201550</td>\n      <td>0.548590</td>\n      <td>1.0</td>\n    </tr>\n    <tr>\n      <th>Fair Transition Loss</th>\n      <td>1.0</td>\n      <td>1.000000</td>\n      <td>0.388756</td>\n      <td>0.827446</td>\n      <td>1.0</td>\n    </tr>\n    <tr>\n      <th>Adversarial Debiasing</th>\n      <td>1.0</td>\n      <td>1.000000</td>\n      <td>1.000000</td>\n      <td>1.000000</td>\n      <td>1.0</td>\n    </tr>\n    <tr>\n      <th>Prejudice Remover</th>\n      <td>1.0</td>\n      <td>1.000000</td>\n      <td>0.505855</td>\n      <td>1.000000</td>\n      <td>1.0</td>\n    </tr>\n    <tr>\n      <th>Gerry Fair Classifier</th>\n      <td>1.0</td>\n      <td>0.713303</td>\n      <td>0.187163</td>\n      <td>0.518570</td>\n      <td>1.0</td>\n    </tr>\n  </tbody>\n</table>\n</div>"
     },
     "metadata": {},
     "output_type": "display_data"
    }
   ],
   "source": [
    "for aso_result in sorted(multi_aso_data_list, key=lambda x: x['dataset']):\n",
    "    fitness_rule = aso_result['fitness_rule']\n",
    "    dataset = aso_result['dataset']\n",
    "    metrics = fitness_rules_target_metrics[fitness_rule]\n",
    "    subset_results = results.loc[ (results.fitness_rule == fitness_rule) \\\n",
    "                                      & (results.dataset == dataset) ]\n",
    "\n",
    "    grouped_results = subset_results\\\n",
    "        .groupby(['method'])\\\n",
    "        .agg({'fitness': ['mean', 'std','count'], metrics['performance']: ['mean', 'std'], metrics['fairness']: ['mean', 'std']})\\\n",
    "        .sort_values(by=('fitness','mean'), ascending=False)\n",
    "\n",
    "    aso_df = pd.DataFrame(aso_result['min_eps'], columns=methods)\n",
    "    aso_df['methods'] = methods\n",
    "    aso_df = aso_df.set_index('methods')\n",
    "\n",
    "    print('%s | max(%s - %s)' % (dataset, metrics['performance'], metrics['fairness']))\n",
    "    display(grouped_results)\n",
    "    print('Significance Testing')\n",
    "    display(aso_df)"
   ],
   "metadata": {
    "collapsed": false,
    "ExecuteTime": {
     "start_time": "2023-08-08T18:46:11.769891193Z"
    }
   }
  },
  {
   "cell_type": "code",
   "execution_count": 38,
   "outputs": [],
   "source": [],
   "metadata": {
    "collapsed": false,
    "ExecuteTime": {
     "end_time": "2023-08-08T18:46:13.152532922Z",
     "start_time": "2023-08-08T18:46:12.084153407Z"
    }
   }
  }
 ],
 "metadata": {
  "kernelspec": {
   "display_name": "Python 3 (ipykernel)",
   "language": "python",
   "name": "python3"
  },
  "language_info": {
   "codemirror_mode": {
    "name": "ipython",
    "version": 3
   },
   "file_extension": ".py",
   "mimetype": "text/x-python",
   "name": "python",
   "nbconvert_exporter": "python",
   "pygments_lexer": "ipython3",
   "version": "3.8.10"
  }
 },
 "nbformat": 4,
 "nbformat_minor": 1
}
