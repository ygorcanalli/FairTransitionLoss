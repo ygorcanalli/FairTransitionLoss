{
 "cells": [
  {
   "cell_type": "code",
   "execution_count": 27,
   "metadata": {
    "ExecuteTime": {
     "end_time": "2023-10-04T03:18:03.708201799Z",
     "start_time": "2023-10-04T03:18:02.246622996Z"
    }
   },
   "outputs": [],
   "source": [
    "import pandas as pd\n",
    "import json\n",
    "import os\n",
    "import deepsig\n",
    "from IPython.display import display"
   ]
  },
  {
   "cell_type": "code",
   "execution_count": 28,
   "metadata": {
    "ExecuteTime": {
     "end_time": "2023-10-04T03:18:03.712354207Z",
     "start_time": "2023-10-04T03:18:03.710295544Z"
    }
   },
   "outputs": [],
   "source": [
    "def read_csv_files_from_folder(folder_path):\n",
    "    # Initialize an empty list to store DataFrames\n",
    "    dfs = []\n",
    "\n",
    "    # Get a list of files in the folder\n",
    "    file_list = os.listdir(folder_path)\n",
    "\n",
    "    # Iterate through the files in the folder\n",
    "    for file_name in file_list:\n",
    "        # Check if the file has a .csv extension\n",
    "        if file_name.endswith(\".csv\"):\n",
    "            file_path = os.path.join(folder_path, file_name)\n",
    "\n",
    "            # Read the CSV file into a DataFrame\n",
    "            df = pd.read_csv(file_path)\n",
    "\n",
    "            # Append the DataFrame to the list\n",
    "            dfs.append(df)\n",
    "\n",
    "    # Concatenate all DataFrames into a single DataFrame\n",
    "    combined_df = pd.concat(dfs, ignore_index=True)\n",
    "\n",
    "    return combined_df"
   ]
  },
  {
   "cell_type": "code",
   "execution_count": 29,
   "metadata": {
    "ExecuteTime": {
     "end_time": "2023-10-04T03:18:04.115913924Z",
     "start_time": "2023-10-04T03:18:04.108533890Z"
    }
   },
   "outputs": [],
   "source": [
    "cols = ['dataset', 'method', 'fitness_rule', 'fitness', 'ACC', 'MCC', 'f1_score', 'avg_odds_diff', 'stat_par_diff', 'eq_opp_diff']"
   ]
  },
  {
   "cell_type": "code",
   "execution_count": 30,
   "metadata": {
    "ExecuteTime": {
     "end_time": "2023-10-04T03:18:04.988376668Z",
     "start_time": "2023-10-04T03:18:04.963591240Z"
    }
   },
   "outputs": [],
   "source": [
    "results = read_csv_files_from_folder('results/')\n",
    "results.replace({'ftl_mlp_initializer': 'Fair Transition Loss', 'adversarial_debiasing_initializer': 'Adversarial Debiasing', 'gerry_fair_classifier_initializer': 'Gerry Fair Classifier', 'prejudice_remover_initializer': 'Prejudice Remover', 'simple_mlp_initializer': 'Standard MLP (baseline)'}, inplace=True)\n",
    "results.replace({'adult_dataset_reader': 'Adult Income', 'compas_dataset_reader': 'Compas Recidivism', 'german_dataset_reader': 'German Credit', 'bank_dataset_reader': 'Bank Marketing'}, inplace=True)\n",
    "results.rename(columns={'avg_odds_diff': 'Equalized Odds', 'stat_par_diff': 'Statistical Parity', 'eq_opp_diff': 'Equal Opportunity', 'MCC': 'Mathew Correlation', 'ACC': 'Accuracy'}, inplace=True)"
   ]
  },
  {
   "cell_type": "code",
   "execution_count": 31,
   "metadata": {
    "ExecuteTime": {
     "end_time": "2023-10-04T03:18:06.283414416Z",
     "start_time": "2023-10-04T03:18:06.267416670Z"
    }
   },
   "outputs": [],
   "source": [
    "fitness_rules_target_metrics = {\n",
    "    'mcc_parity': {'performance': 'Mathew Correlation', 'fairness': 'Statistical Parity'},\n",
    "    'mcc_opportunity': {'performance': 'Mathew Correlation', 'fairness': 'Equal Opportunity'},\n",
    "    'mcc_odds': {'performance': 'Mathew Correlation', 'fairness': 'Equalized Odds'},\n",
    "    'acc_parity': {'performance': 'Accuracy', 'fairness': 'Statistical Parity'},\n",
    "    'acc_opportunity': {'performance': 'Accuracy', 'fairness': 'Equal Opportunity'},\n",
    "    'acc_odds': {'performance': 'Accuracy', 'fairness': 'Equalized Odds'}\n",
    "}\n",
    "\n",
    "fitness_rules_target_metrics = {\n",
    "    'mcc_parity': ('Mathew Correlation', 'Statistical Parity'),\n",
    "    'mcc_opportunity': ('Mathew Correlation', 'Equal Opportunity'),\n",
    "    'mcc_odds': ('Mathew Correlation', 'Equalized Odds'),\n",
    "    'acc_parity': ('Accuracy', 'Statistical Parity'),\n",
    "    'acc_opportunity': ('Accuracy', 'Equal Opportunity'),\n",
    "    'acc_odds': ('Accuracy', 'Equalized Odds')\n",
    "}\n",
    "fitness_rules_abvr = {\n",
    "    'mcc_parity': 'Max(MCC - Stat. Parity)',\n",
    "    'mcc_opportunity': 'Max(MCC - Eq. Odds)',\n",
    "    'mcc_odds': 'Max(MCC - Eq. Opp.)',\n",
    "    'acc_parity': 'Max(Acc - Stat. Parity)',\n",
    "    'acc_opportunity': 'Max(Acc - Eq. Odds)',\n",
    "    'acc_odds': 'Max(Acc - Eq. Opp.)'\n",
    "}\n",
    "\n",
    "results['Performance'] = 0\n",
    "results['Fairness'] = 0\n",
    "results['Fitness Rule'] = ''\n",
    "for fitness_rule, (performance_metric, fairness_metric) in fitness_rules_target_metrics.items():\n",
    "    results.loc[results.fitness_rule == fitness_rule,'Performance'] = results.loc[results.fitness_rule == fitness_rule,performance_metric]\n",
    "    results.loc[results.fitness_rule == fitness_rule,'Fairness'] = results.loc[results.fitness_rule == fitness_rule,fairness_metric]\n",
    "    results.loc[results.fitness_rule == fitness_rule,'Fitness Rule Abvr'] = fitness_rules_abvr[fitness_rule]\n",
    "    results.loc[results.fitness_rule == fitness_rule,'Fitness Rule'] = 'Max(%s - %s)' % fitness_rules_target_metrics[fitness_rule]"
   ]
  },
  {
   "cell_type": "code",
   "execution_count": 32,
   "metadata": {
    "ExecuteTime": {
     "end_time": "2023-10-04T03:18:07.651762891Z",
     "start_time": "2023-10-04T03:18:07.615292906Z"
    }
   },
   "outputs": [
    {
     "data": {
      "text/plain": "      Unnamed: 0         dataset                   method     fitness_rule  \\\n0              1   German Credit     Fair Transition Loss       mcc_parity   \n1              5   German Credit     Fair Transition Loss         mcc_odds   \n2              9   German Credit     Fair Transition Loss  mcc_opportunity   \n3             13   German Credit     Fair Transition Loss       acc_parity   \n4             17   German Credit     Fair Transition Loss         acc_odds   \n...          ...             ...                      ...              ...   \n1840        1733  Bank Marketing  Standard MLP (baseline)         mcc_odds   \n1841        1738  Bank Marketing  Standard MLP (baseline)  mcc_opportunity   \n1842        1743  Bank Marketing  Standard MLP (baseline)       acc_parity   \n1843        1748  Bank Marketing  Standard MLP (baseline)         acc_odds   \n1844        1753  Bank Marketing  Standard MLP (baseline)  acc_opportunity   \n\n       fitness  Accuracy  Mathew Correlation  Equalized Odds  \\\n0    -0.059217  0.645000            0.000000        0.073451   \n1    -0.232520  0.700000            0.000000        0.232520   \n2     0.000000  0.000000            0.000000        0.000000   \n3     0.700000  0.700000            0.000000        0.000000   \n4     0.649008  0.710000            0.000000        0.060992   \n...        ...       ...                 ...             ...   \n1840  0.479237  0.898491            0.518615        0.039378   \n1841  0.411159  0.905707            0.526744        0.082825   \n1842  0.828723  0.892588            0.488114        0.036710   \n1843  0.859941  0.902919            0.523506        0.042978   \n1844  0.775843  0.896359            0.526321        0.072641   \n\n      Statistical Parity  Equal Opportunity  Performance  Fairness  \\\n0               0.059217           0.045977     0.000000  0.059217   \n1               0.167535           0.010739     0.000000  0.232520   \n2               0.000000           0.000000     0.000000  0.000000   \n3               0.000000           0.000000     0.700000  0.000000   \n4               0.012155           0.029126     0.710000  0.060992   \n...                  ...                ...          ...       ...   \n1840            0.080687           0.026026     0.518615  0.039378   \n1841            0.056617           0.115585     0.526744  0.115585   \n1842            0.063865           0.031354     0.892588  0.063865   \n1843            0.089112           0.036849     0.902919  0.042978   \n1844            0.133189           0.120516     0.896359  0.120516   \n\n                                      Fitness Rule        Fitness Rule Abvr  \n0     Max(Mathew Correlation - Statistical Parity)  Max(MCC - Stat. Parity)  \n1         Max(Mathew Correlation - Equalized Odds)      Max(MCC - Eq. Opp.)  \n2      Max(Mathew Correlation - Equal Opportunity)      Max(MCC - Eq. Odds)  \n3               Max(Accuracy - Statistical Parity)  Max(Acc - Stat. Parity)  \n4                   Max(Accuracy - Equalized Odds)      Max(Acc - Eq. Opp.)  \n...                                            ...                      ...  \n1840      Max(Mathew Correlation - Equalized Odds)      Max(MCC - Eq. Opp.)  \n1841   Max(Mathew Correlation - Equal Opportunity)      Max(MCC - Eq. Odds)  \n1842            Max(Accuracy - Statistical Parity)  Max(Acc - Stat. Parity)  \n1843                Max(Accuracy - Equalized Odds)      Max(Acc - Eq. Opp.)  \n1844             Max(Accuracy - Equal Opportunity)      Max(Acc - Eq. Odds)  \n\n[1845 rows x 14 columns]",
      "text/html": "<div>\n<style scoped>\n    .dataframe tbody tr th:only-of-type {\n        vertical-align: middle;\n    }\n\n    .dataframe tbody tr th {\n        vertical-align: top;\n    }\n\n    .dataframe thead th {\n        text-align: right;\n    }\n</style>\n<table border=\"1\" class=\"dataframe\">\n  <thead>\n    <tr style=\"text-align: right;\">\n      <th></th>\n      <th>Unnamed: 0</th>\n      <th>dataset</th>\n      <th>method</th>\n      <th>fitness_rule</th>\n      <th>fitness</th>\n      <th>Accuracy</th>\n      <th>Mathew Correlation</th>\n      <th>Equalized Odds</th>\n      <th>Statistical Parity</th>\n      <th>Equal Opportunity</th>\n      <th>Performance</th>\n      <th>Fairness</th>\n      <th>Fitness Rule</th>\n      <th>Fitness Rule Abvr</th>\n    </tr>\n  </thead>\n  <tbody>\n    <tr>\n      <th>0</th>\n      <td>1</td>\n      <td>German Credit</td>\n      <td>Fair Transition Loss</td>\n      <td>mcc_parity</td>\n      <td>-0.059217</td>\n      <td>0.645000</td>\n      <td>0.000000</td>\n      <td>0.073451</td>\n      <td>0.059217</td>\n      <td>0.045977</td>\n      <td>0.000000</td>\n      <td>0.059217</td>\n      <td>Max(Mathew Correlation - Statistical Parity)</td>\n      <td>Max(MCC - Stat. Parity)</td>\n    </tr>\n    <tr>\n      <th>1</th>\n      <td>5</td>\n      <td>German Credit</td>\n      <td>Fair Transition Loss</td>\n      <td>mcc_odds</td>\n      <td>-0.232520</td>\n      <td>0.700000</td>\n      <td>0.000000</td>\n      <td>0.232520</td>\n      <td>0.167535</td>\n      <td>0.010739</td>\n      <td>0.000000</td>\n      <td>0.232520</td>\n      <td>Max(Mathew Correlation - Equalized Odds)</td>\n      <td>Max(MCC - Eq. Opp.)</td>\n    </tr>\n    <tr>\n      <th>2</th>\n      <td>9</td>\n      <td>German Credit</td>\n      <td>Fair Transition Loss</td>\n      <td>mcc_opportunity</td>\n      <td>0.000000</td>\n      <td>0.000000</td>\n      <td>0.000000</td>\n      <td>0.000000</td>\n      <td>0.000000</td>\n      <td>0.000000</td>\n      <td>0.000000</td>\n      <td>0.000000</td>\n      <td>Max(Mathew Correlation - Equal Opportunity)</td>\n      <td>Max(MCC - Eq. Odds)</td>\n    </tr>\n    <tr>\n      <th>3</th>\n      <td>13</td>\n      <td>German Credit</td>\n      <td>Fair Transition Loss</td>\n      <td>acc_parity</td>\n      <td>0.700000</td>\n      <td>0.700000</td>\n      <td>0.000000</td>\n      <td>0.000000</td>\n      <td>0.000000</td>\n      <td>0.000000</td>\n      <td>0.700000</td>\n      <td>0.000000</td>\n      <td>Max(Accuracy - Statistical Parity)</td>\n      <td>Max(Acc - Stat. Parity)</td>\n    </tr>\n    <tr>\n      <th>4</th>\n      <td>17</td>\n      <td>German Credit</td>\n      <td>Fair Transition Loss</td>\n      <td>acc_odds</td>\n      <td>0.649008</td>\n      <td>0.710000</td>\n      <td>0.000000</td>\n      <td>0.060992</td>\n      <td>0.012155</td>\n      <td>0.029126</td>\n      <td>0.710000</td>\n      <td>0.060992</td>\n      <td>Max(Accuracy - Equalized Odds)</td>\n      <td>Max(Acc - Eq. Opp.)</td>\n    </tr>\n    <tr>\n      <th>...</th>\n      <td>...</td>\n      <td>...</td>\n      <td>...</td>\n      <td>...</td>\n      <td>...</td>\n      <td>...</td>\n      <td>...</td>\n      <td>...</td>\n      <td>...</td>\n      <td>...</td>\n      <td>...</td>\n      <td>...</td>\n      <td>...</td>\n      <td>...</td>\n    </tr>\n    <tr>\n      <th>1840</th>\n      <td>1733</td>\n      <td>Bank Marketing</td>\n      <td>Standard MLP (baseline)</td>\n      <td>mcc_odds</td>\n      <td>0.479237</td>\n      <td>0.898491</td>\n      <td>0.518615</td>\n      <td>0.039378</td>\n      <td>0.080687</td>\n      <td>0.026026</td>\n      <td>0.518615</td>\n      <td>0.039378</td>\n      <td>Max(Mathew Correlation - Equalized Odds)</td>\n      <td>Max(MCC - Eq. Opp.)</td>\n    </tr>\n    <tr>\n      <th>1841</th>\n      <td>1738</td>\n      <td>Bank Marketing</td>\n      <td>Standard MLP (baseline)</td>\n      <td>mcc_opportunity</td>\n      <td>0.411159</td>\n      <td>0.905707</td>\n      <td>0.526744</td>\n      <td>0.082825</td>\n      <td>0.056617</td>\n      <td>0.115585</td>\n      <td>0.526744</td>\n      <td>0.115585</td>\n      <td>Max(Mathew Correlation - Equal Opportunity)</td>\n      <td>Max(MCC - Eq. Odds)</td>\n    </tr>\n    <tr>\n      <th>1842</th>\n      <td>1743</td>\n      <td>Bank Marketing</td>\n      <td>Standard MLP (baseline)</td>\n      <td>acc_parity</td>\n      <td>0.828723</td>\n      <td>0.892588</td>\n      <td>0.488114</td>\n      <td>0.036710</td>\n      <td>0.063865</td>\n      <td>0.031354</td>\n      <td>0.892588</td>\n      <td>0.063865</td>\n      <td>Max(Accuracy - Statistical Parity)</td>\n      <td>Max(Acc - Stat. Parity)</td>\n    </tr>\n    <tr>\n      <th>1843</th>\n      <td>1748</td>\n      <td>Bank Marketing</td>\n      <td>Standard MLP (baseline)</td>\n      <td>acc_odds</td>\n      <td>0.859941</td>\n      <td>0.902919</td>\n      <td>0.523506</td>\n      <td>0.042978</td>\n      <td>0.089112</td>\n      <td>0.036849</td>\n      <td>0.902919</td>\n      <td>0.042978</td>\n      <td>Max(Accuracy - Equalized Odds)</td>\n      <td>Max(Acc - Eq. Opp.)</td>\n    </tr>\n    <tr>\n      <th>1844</th>\n      <td>1753</td>\n      <td>Bank Marketing</td>\n      <td>Standard MLP (baseline)</td>\n      <td>acc_opportunity</td>\n      <td>0.775843</td>\n      <td>0.896359</td>\n      <td>0.526321</td>\n      <td>0.072641</td>\n      <td>0.133189</td>\n      <td>0.120516</td>\n      <td>0.896359</td>\n      <td>0.120516</td>\n      <td>Max(Accuracy - Equal Opportunity)</td>\n      <td>Max(Acc - Eq. Odds)</td>\n    </tr>\n  </tbody>\n</table>\n<p>1845 rows × 14 columns</p>\n</div>"
     },
     "metadata": {},
     "output_type": "display_data"
    }
   ],
   "source": [
    "display(results)"
   ]
  },
  {
   "cell_type": "code",
   "execution_count": 33,
   "metadata": {
    "ExecuteTime": {
     "end_time": "2023-10-04T03:18:46.487320428Z",
     "start_time": "2023-10-04T03:18:46.420210710Z"
    }
   },
   "outputs": [
    {
     "data": {
      "text/plain": "['Adult Income', 'Bank Marketing', 'Compas Recidivism', 'German Credit']"
     },
     "execution_count": 33,
     "metadata": {},
     "output_type": "execute_result"
    }
   ],
   "source": [
    "datasets = ['Adult Income', 'Bank Marketing', 'Compas Recidivism','German Credit']\n",
    "datasets"
   ]
  },
  {
   "cell_type": "code",
   "execution_count": 34,
   "metadata": {
    "ExecuteTime": {
     "end_time": "2023-10-04T03:18:47.630680964Z",
     "start_time": "2023-10-04T03:18:47.624326630Z"
    }
   },
   "outputs": [
    {
     "data": {
      "text/plain": "['mcc_parity',\n 'mcc_opportunity',\n 'mcc_odds',\n 'acc_parity',\n 'acc_opportunity',\n 'acc_odds']"
     },
     "execution_count": 34,
     "metadata": {},
     "output_type": "execute_result"
    }
   ],
   "source": [
    "fitness_rules = ['mcc_parity', 'mcc_opportunity', 'mcc_odds', 'acc_parity', 'acc_opportunity', 'acc_odds']\n",
    "fitness_rules"
   ]
  },
  {
   "cell_type": "code",
   "execution_count": 64,
   "metadata": {
    "ExecuteTime": {
     "end_time": "2023-10-04T03:18:48.269611Z",
     "start_time": "2023-10-04T03:18:48.263451209Z"
    }
   },
   "outputs": [
    {
     "data": {
      "text/plain": "['Standard MLP (baseline)',\n 'Fair Transition Loss',\n 'Adversarial Debiasing',\n 'Prejudice Remover',\n 'Gerry Fair Classifier']"
     },
     "execution_count": 64,
     "metadata": {},
     "output_type": "execute_result"
    }
   ],
   "source": [
    "methods = ['Standard MLP (baseline)',\n",
    " 'Fair Transition Loss',\n",
    " 'Adversarial Debiasing',\n",
    " 'Prejudice Remover',\n",
    " 'Gerry Fair Classifier']\n",
    "methods"
   ]
  },
  {
   "cell_type": "code",
   "execution_count": 65,
   "outputs": [],
   "source": [
    "if os.path.exists('multi_aso_data_list.json'):\n",
    "    with open('multi_aso_data_list.json') as file:\n",
    "        multi_aso_data_list = json.load(file)\n",
    "else:    \n",
    "    multi_aso_data_list = []\n",
    "    for d in datasets:\n",
    "        multi_aso_data = []\n",
    "        for f in fitness_rules:\n",
    "            methods_results = []\n",
    "            for m in methods:\n",
    "                r = results.loc[ (results['dataset'] == d) &\n",
    "                                     (results['fitness_rule'] == f) &\n",
    "                                     (results['method'] == m) ]\\\n",
    "                            .fitness.tolist()\n",
    "                if len(r) == 0:\n",
    "                    r = [-1]\n",
    "                methods_results.append(r)\n",
    "            min_eps = deepsig.multi_aso(methods_results, confidence_level=0.95)\n",
    "            multi_aso_data_list.append({'fitness_rule': f, 'dataset': d, 'min_eps': min_eps.tolist()})\n",
    "    with open('multi_aso_data_list.json', 'w') as file:\n",
    "        json.dump(multi_aso_data_list, file)"
   ],
   "metadata": {
    "collapsed": false,
    "ExecuteTime": {
     "end_time": "2023-10-04T03:39:06.757898954Z",
     "start_time": "2023-10-04T03:18:53.130093027Z"
    }
   }
  },
  {
   "cell_type": "code",
   "execution_count": 83,
   "outputs": [
    {
     "name": "stdout",
     "output_type": "stream",
     "text": [
      "Significance Testing\n"
     ]
    },
    {
     "data": {
      "text/plain": "                                   Standard MLP (baseline)  \\\nfitness_rule    dataset                                      \nacc_odds        Adult Income                      0.008806   \n                Bank Marketing                    0.768386   \n                Compas Recidivism                 0.006591   \n                German Credit                     1.000000   \nacc_opportunity Adult Income                      0.889891   \n                Bank Marketing                    1.000000   \n                Compas Recidivism                 0.009003   \n                German Credit                     0.013958   \nacc_parity      Adult Income                      0.006234   \n                Bank Marketing                    0.253591   \n                Compas Recidivism                 0.002049   \n                German Credit                     1.000000   \nmcc_odds        Adult Income                      0.025439   \n                Bank Marketing                    0.458281   \n                Compas Recidivism                 0.005348   \n                German Credit                     1.000000   \nmcc_opportunity Adult Income                      0.008600   \n                Bank Marketing                    0.806930   \n                Compas Recidivism                 0.004847   \n                German Credit                     1.000000   \nmcc_parity      Adult Income                      0.004635   \n                Bank Marketing                    0.007924   \n                Compas Recidivism                 0.005117   \n                German Credit                     0.366452   \n\n                                   Adversarial Debiasing  Prejudice Remover  \\\nfitness_rule    dataset                                                       \nacc_odds        Adult Income                    0.224148           0.189303   \n                Bank Marketing                  0.406367           0.808664   \n                Compas Recidivism               0.462377           0.000000   \n                German Credit                   0.426571           0.957387   \nacc_opportunity Adult Income                    0.965546           1.000000   \n                Bank Marketing                  0.389006           0.810667   \n                Compas Recidivism               0.788252           0.000000   \n                German Credit                   0.063457           0.000000   \nacc_parity      Adult Income                    0.239690           0.303426   \n                Bank Marketing                  1.000000           1.000000   \n                Compas Recidivism               1.000000           0.100424   \n                German Credit                   0.472299           1.000000   \nmcc_odds        Adult Income                    0.260956           0.444356   \n                Bank Marketing                  0.189010           0.116477   \n                Compas Recidivism               0.572783           0.000000   \n                German Credit                   1.000000           1.000000   \nmcc_opportunity Adult Income                    0.001726           0.051493   \n                Bank Marketing                  0.177162           0.250333   \n                Compas Recidivism               1.000000           0.000000   \n                German Credit                   1.000000           1.000000   \nmcc_parity      Adult Income                    0.160518           1.000000   \n                Bank Marketing                  0.000000           0.000000   \n                Compas Recidivism               0.260848           0.000000   \n                German Credit                   1.000000           0.500420   \n\n                                   Gerry Fair Classifier  \nfitness_rule    dataset                                   \nacc_odds        Adult Income                    0.000000  \n                Bank Marketing                  1.000000  \n                Compas Recidivism               0.005790  \n                German Credit                   0.556245  \nacc_opportunity Adult Income                    0.224633  \n                Bank Marketing                  1.000000  \n                Compas Recidivism               0.092425  \n                German Credit                   0.000000  \nacc_parity      Adult Income                    0.000000  \n                Bank Marketing                  0.762062  \n                Compas Recidivism               1.000000  \n                German Credit                   0.582784  \nmcc_odds        Adult Income                    0.000000  \n                Bank Marketing                  0.011592  \n                Compas Recidivism               0.103220  \n                German Credit                   1.000000  \nmcc_opportunity Adult Income                    0.000000  \n                Bank Marketing                  0.082600  \n                Compas Recidivism               0.661475  \n                German Credit                   1.000000  \nmcc_parity      Adult Income                    0.000000  \n                Bank Marketing                  0.000000  \n                Compas Recidivism               0.015220  \n                German Credit                   1.000000  ",
      "text/html": "<div>\n<style scoped>\n    .dataframe tbody tr th:only-of-type {\n        vertical-align: middle;\n    }\n\n    .dataframe tbody tr th {\n        vertical-align: top;\n    }\n\n    .dataframe thead th {\n        text-align: right;\n    }\n</style>\n<table border=\"1\" class=\"dataframe\">\n  <thead>\n    <tr style=\"text-align: right;\">\n      <th></th>\n      <th></th>\n      <th>Standard MLP (baseline)</th>\n      <th>Adversarial Debiasing</th>\n      <th>Prejudice Remover</th>\n      <th>Gerry Fair Classifier</th>\n    </tr>\n    <tr>\n      <th>fitness_rule</th>\n      <th>dataset</th>\n      <th></th>\n      <th></th>\n      <th></th>\n      <th></th>\n    </tr>\n  </thead>\n  <tbody>\n    <tr>\n      <th rowspan=\"4\" valign=\"top\">acc_odds</th>\n      <th>Adult Income</th>\n      <td>0.008806</td>\n      <td>0.224148</td>\n      <td>0.189303</td>\n      <td>0.000000</td>\n    </tr>\n    <tr>\n      <th>Bank Marketing</th>\n      <td>0.768386</td>\n      <td>0.406367</td>\n      <td>0.808664</td>\n      <td>1.000000</td>\n    </tr>\n    <tr>\n      <th>Compas Recidivism</th>\n      <td>0.006591</td>\n      <td>0.462377</td>\n      <td>0.000000</td>\n      <td>0.005790</td>\n    </tr>\n    <tr>\n      <th>German Credit</th>\n      <td>1.000000</td>\n      <td>0.426571</td>\n      <td>0.957387</td>\n      <td>0.556245</td>\n    </tr>\n    <tr>\n      <th rowspan=\"4\" valign=\"top\">acc_opportunity</th>\n      <th>Adult Income</th>\n      <td>0.889891</td>\n      <td>0.965546</td>\n      <td>1.000000</td>\n      <td>0.224633</td>\n    </tr>\n    <tr>\n      <th>Bank Marketing</th>\n      <td>1.000000</td>\n      <td>0.389006</td>\n      <td>0.810667</td>\n      <td>1.000000</td>\n    </tr>\n    <tr>\n      <th>Compas Recidivism</th>\n      <td>0.009003</td>\n      <td>0.788252</td>\n      <td>0.000000</td>\n      <td>0.092425</td>\n    </tr>\n    <tr>\n      <th>German Credit</th>\n      <td>0.013958</td>\n      <td>0.063457</td>\n      <td>0.000000</td>\n      <td>0.000000</td>\n    </tr>\n    <tr>\n      <th rowspan=\"4\" valign=\"top\">acc_parity</th>\n      <th>Adult Income</th>\n      <td>0.006234</td>\n      <td>0.239690</td>\n      <td>0.303426</td>\n      <td>0.000000</td>\n    </tr>\n    <tr>\n      <th>Bank Marketing</th>\n      <td>0.253591</td>\n      <td>1.000000</td>\n      <td>1.000000</td>\n      <td>0.762062</td>\n    </tr>\n    <tr>\n      <th>Compas Recidivism</th>\n      <td>0.002049</td>\n      <td>1.000000</td>\n      <td>0.100424</td>\n      <td>1.000000</td>\n    </tr>\n    <tr>\n      <th>German Credit</th>\n      <td>1.000000</td>\n      <td>0.472299</td>\n      <td>1.000000</td>\n      <td>0.582784</td>\n    </tr>\n    <tr>\n      <th rowspan=\"4\" valign=\"top\">mcc_odds</th>\n      <th>Adult Income</th>\n      <td>0.025439</td>\n      <td>0.260956</td>\n      <td>0.444356</td>\n      <td>0.000000</td>\n    </tr>\n    <tr>\n      <th>Bank Marketing</th>\n      <td>0.458281</td>\n      <td>0.189010</td>\n      <td>0.116477</td>\n      <td>0.011592</td>\n    </tr>\n    <tr>\n      <th>Compas Recidivism</th>\n      <td>0.005348</td>\n      <td>0.572783</td>\n      <td>0.000000</td>\n      <td>0.103220</td>\n    </tr>\n    <tr>\n      <th>German Credit</th>\n      <td>1.000000</td>\n      <td>1.000000</td>\n      <td>1.000000</td>\n      <td>1.000000</td>\n    </tr>\n    <tr>\n      <th rowspan=\"4\" valign=\"top\">mcc_opportunity</th>\n      <th>Adult Income</th>\n      <td>0.008600</td>\n      <td>0.001726</td>\n      <td>0.051493</td>\n      <td>0.000000</td>\n    </tr>\n    <tr>\n      <th>Bank Marketing</th>\n      <td>0.806930</td>\n      <td>0.177162</td>\n      <td>0.250333</td>\n      <td>0.082600</td>\n    </tr>\n    <tr>\n      <th>Compas Recidivism</th>\n      <td>0.004847</td>\n      <td>1.000000</td>\n      <td>0.000000</td>\n      <td>0.661475</td>\n    </tr>\n    <tr>\n      <th>German Credit</th>\n      <td>1.000000</td>\n      <td>1.000000</td>\n      <td>1.000000</td>\n      <td>1.000000</td>\n    </tr>\n    <tr>\n      <th rowspan=\"4\" valign=\"top\">mcc_parity</th>\n      <th>Adult Income</th>\n      <td>0.004635</td>\n      <td>0.160518</td>\n      <td>1.000000</td>\n      <td>0.000000</td>\n    </tr>\n    <tr>\n      <th>Bank Marketing</th>\n      <td>0.007924</td>\n      <td>0.000000</td>\n      <td>0.000000</td>\n      <td>0.000000</td>\n    </tr>\n    <tr>\n      <th>Compas Recidivism</th>\n      <td>0.005117</td>\n      <td>0.260848</td>\n      <td>0.000000</td>\n      <td>0.015220</td>\n    </tr>\n    <tr>\n      <th>German Credit</th>\n      <td>0.366452</td>\n      <td>1.000000</td>\n      <td>0.500420</td>\n      <td>1.000000</td>\n    </tr>\n  </tbody>\n</table>\n</div>"
     },
     "metadata": {},
     "output_type": "display_data"
    }
   ],
   "source": [
    "aso_df_resume = []\n",
    "reverse_aso_df_resume = []\n",
    "for aso_result in sorted(multi_aso_data_list, key=lambda x: x['dataset']):\n",
    "    fitness_rule = aso_result['fitness_rule']\n",
    "    dataset = aso_result['dataset']\n",
    "\n",
    "    aso_df = pd.DataFrame(aso_result['min_eps'], columns=methods)\n",
    "    aso_df['method'] = methods\n",
    "    aso_df['dataset'] = dataset\n",
    "    aso_df['fitness_rule'] = fitness_rule\n",
    "    aso_df = aso_df[aso_df['method'] == 'Fair Transition Loss' ]\n",
    "    aso_df = aso_df.drop(['Fair Transition Loss'], axis=1)\n",
    "    aso_df = aso_df.drop(['method'], axis=1)\n",
    "    aso_df_resume.append(aso_df)\n",
    "\n",
    "    reverse_aso_df = pd.DataFrame(aso_result['min_eps'], columns=methods).transpose()\n",
    "    mapping = dict()\n",
    "    for i, m in enumerate(methods):\n",
    "        mapping[reverse_aso_df.columns[i]] = m + ' (reverse)'\n",
    "    reverse_aso_df = reverse_aso_df.rename(columns=mapping)\n",
    "    reverse_aso_df['method'] = methods\n",
    "    reverse_aso_df['dataset'] = dataset\n",
    "    reverse_aso_df['fitness_rule'] = fitness_rule\n",
    "    reverse_aso_df = reverse_aso_df[reverse_aso_df['method'] == 'Fair Transition Loss' ]\n",
    "    reverse_aso_df = reverse_aso_df.drop(['Fair Transition Loss (reverse)'], axis=1)\n",
    "    reverse_aso_df = reverse_aso_df.drop(['method'], axis=1)\n",
    "    reverse_aso_df_resume.append(reverse_aso_df)\n",
    "\n",
    "print('Significance Testing')\n",
    "significance = pd.concat(aso_df_resume)\n",
    "significance = significance.set_index(['fitness_rule', 'dataset'])\n",
    "significance = significance.sort_values(by=['fitness_rule', 'dataset'])\n",
    "display(significance)\n",
    "formatted_significance = significance.applymap(lambda x: '\\\\textbf{' + f'{x:.2f}' + '}' if x < 0.5 else f'{x:.2f}' )\n",
    "formatted_significance.to_latex('tables/significance_resume.tex')\n",
    "\n",
    "reverse_significance = pd.concat(reverse_aso_df_resume)\n",
    "reverse_significance = reverse_significance.set_index(['fitness_rule', 'dataset'])\n",
    "reverse_significance = reverse_significance.sort_values(by=['fitness_rule', 'dataset'])\n",
    "reverse_formatted_significance = reverse_significance.applymap(lambda x: '\\\\textit{' + f'{x:.2f}' + '}' if x < 0.5 else f'{x:.2f}' )\n",
    "reverse_formatted_significance.to_latex('tables/reverse_significance_resume.tex')"
   ],
   "metadata": {
    "collapsed": false,
    "ExecuteTime": {
     "end_time": "2023-10-04T03:39:06.932832635Z",
     "start_time": "2023-10-04T03:39:06.746387649Z"
    }
   }
  },
  {
   "cell_type": "code",
   "execution_count": 84,
   "outputs": [
    {
     "data": {
      "text/plain": "                                  Standard MLP (baseline)  \\\nfitness_rule    dataset                                     \nacc_odds        Adult Income         \\textbf{0.01} (1.00)   \n                Bank Marketing                0.77 (1.00)   \n                Compas Recidivism    \\textbf{0.01} (1.00)   \n                German Credit                 1.00 (0.73)   \nacc_opportunity Adult Income                  0.89 (1.00)   \n                Bank Marketing                1.00 (0.76)   \n                Compas Recidivism    \\textbf{0.01} (0.99)   \n                German Credit        \\textbf{0.01} (1.00)   \nacc_parity      Adult Income         \\textbf{0.01} (1.00)   \n                Bank Marketing       \\textbf{0.25} (1.00)   \n                Compas Recidivism    \\textbf{0.00} (1.00)   \n                German Credit                 1.00 (0.95)   \nmcc_odds        Adult Income         \\textbf{0.03} (1.00)   \n                Bank Marketing       \\textbf{0.46} (1.00)   \n                Compas Recidivism    \\textbf{0.01} (1.00)   \n                German Credit        1.00 (\\textit{0.35})   \nmcc_opportunity Adult Income         \\textbf{0.01} (1.00)   \n                Bank Marketing                0.81 (1.00)   \n                Compas Recidivism    \\textbf{0.00} (1.00)   \n                German Credit                 1.00 (0.58)   \nmcc_parity      Adult Income         \\textbf{0.00} (1.00)   \n                Bank Marketing       \\textbf{0.01} (1.00)   \n                Compas Recidivism    \\textbf{0.01} (1.00)   \n                German Credit        \\textbf{0.37} (1.00)   \n\n                                  Adversarial Debiasing     Prejudice Remover  \\\nfitness_rule    dataset                                                         \nacc_odds        Adult Income       \\textbf{0.22} (1.00)  \\textbf{0.19} (1.00)   \n                Bank Marketing     \\textbf{0.41} (1.00)           0.81 (1.00)   \n                Compas Recidivism  \\textbf{0.46} (1.00)  \\textbf{0.00} (1.00)   \n                German Credit      \\textbf{0.43} (1.00)           0.96 (0.84)   \nacc_opportunity Adult Income                0.97 (1.00)  1.00 (\\textit{0.47})   \n                Bank Marketing     \\textbf{0.39} (1.00)           0.81 (1.00)   \n                Compas Recidivism           0.79 (1.00)  \\textbf{0.00} (1.00)   \n                German Credit      \\textbf{0.06} (1.00)  \\textbf{0.00} (1.00)   \nacc_parity      Adult Income       \\textbf{0.24} (1.00)  \\textbf{0.30} (1.00)   \n                Bank Marketing              1.00 (0.55)           1.00 (0.73)   \n                Compas Recidivism  1.00 (\\textit{0.50})  \\textbf{0.10} (1.00)   \n                German Credit      \\textbf{0.47} (1.00)           1.00 (1.00)   \nmcc_odds        Adult Income       \\textbf{0.26} (1.00)  \\textbf{0.44} (1.00)   \n                Bank Marketing     \\textbf{0.19} (1.00)  \\textbf{0.12} (1.00)   \n                Compas Recidivism           0.57 (1.00)  \\textbf{0.00} (1.00)   \n                German Credit               1.00 (0.51)  1.00 (\\textit{0.31})   \nmcc_opportunity Adult Income       \\textbf{0.00} (1.00)  \\textbf{0.05} (1.00)   \n                Bank Marketing     \\textbf{0.18} (1.00)  \\textbf{0.25} (1.00)   \n                Compas Recidivism  1.00 (\\textit{0.16})  \\textbf{0.00} (1.00)   \n                German Credit      1.00 (\\textit{0.43})           1.00 (0.56)   \nmcc_parity      Adult Income       \\textbf{0.16} (1.00)           1.00 (1.00)   \n                Bank Marketing     \\textbf{0.00} (1.00)  \\textbf{0.00} (1.00)   \n                Compas Recidivism  \\textbf{0.26} (1.00)  \\textbf{0.00} (1.00)   \n                German Credit      1.00 (\\textit{0.06})           0.50 (1.00)   \n\n                                  Gerry Fair Classifier  \nfitness_rule    dataset                                  \nacc_odds        Adult Income       \\textbf{0.00} (1.00)  \n                Bank Marketing              1.00 (0.80)  \n                Compas Recidivism  \\textbf{0.01} (1.00)  \n                German Credit               0.56 (1.00)  \nacc_opportunity Adult Income       \\textbf{0.22} (1.00)  \n                Bank Marketing     1.00 (\\textit{0.39})  \n                Compas Recidivism  \\textbf{0.09} (1.00)  \n                German Credit      \\textbf{0.00} (1.00)  \nacc_parity      Adult Income       \\textbf{0.00} (1.00)  \n                Bank Marketing              0.76 (1.00)  \n                Compas Recidivism           1.00 (0.72)  \n                German Credit               0.58 (1.00)  \nmcc_odds        Adult Income       \\textbf{0.00} (1.00)  \n                Bank Marketing     \\textbf{0.01} (1.00)  \n                Compas Recidivism  \\textbf{0.10} (1.00)  \n                German Credit      1.00 (\\textit{0.07})  \nmcc_opportunity Adult Income       \\textbf{0.00} (1.00)  \n                Bank Marketing     \\textbf{0.08} (1.00)  \n                Compas Recidivism           0.66 (1.00)  \n                German Credit      1.00 (\\textit{0.21})  \nmcc_parity      Adult Income       \\textbf{0.00} (1.00)  \n                Bank Marketing     \\textbf{0.00} (1.00)  \n                Compas Recidivism  \\textbf{0.02} (1.00)  \n                German Credit               1.00 (0.83)  ",
      "text/html": "<div>\n<style scoped>\n    .dataframe tbody tr th:only-of-type {\n        vertical-align: middle;\n    }\n\n    .dataframe tbody tr th {\n        vertical-align: top;\n    }\n\n    .dataframe thead th {\n        text-align: right;\n    }\n</style>\n<table border=\"1\" class=\"dataframe\">\n  <thead>\n    <tr style=\"text-align: right;\">\n      <th></th>\n      <th></th>\n      <th>Standard MLP (baseline)</th>\n      <th>Adversarial Debiasing</th>\n      <th>Prejudice Remover</th>\n      <th>Gerry Fair Classifier</th>\n    </tr>\n    <tr>\n      <th>fitness_rule</th>\n      <th>dataset</th>\n      <th></th>\n      <th></th>\n      <th></th>\n      <th></th>\n    </tr>\n  </thead>\n  <tbody>\n    <tr>\n      <th rowspan=\"4\" valign=\"top\">acc_odds</th>\n      <th>Adult Income</th>\n      <td>\\textbf{0.01} (1.00)</td>\n      <td>\\textbf{0.22} (1.00)</td>\n      <td>\\textbf{0.19} (1.00)</td>\n      <td>\\textbf{0.00} (1.00)</td>\n    </tr>\n    <tr>\n      <th>Bank Marketing</th>\n      <td>0.77 (1.00)</td>\n      <td>\\textbf{0.41} (1.00)</td>\n      <td>0.81 (1.00)</td>\n      <td>1.00 (0.80)</td>\n    </tr>\n    <tr>\n      <th>Compas Recidivism</th>\n      <td>\\textbf{0.01} (1.00)</td>\n      <td>\\textbf{0.46} (1.00)</td>\n      <td>\\textbf{0.00} (1.00)</td>\n      <td>\\textbf{0.01} (1.00)</td>\n    </tr>\n    <tr>\n      <th>German Credit</th>\n      <td>1.00 (0.73)</td>\n      <td>\\textbf{0.43} (1.00)</td>\n      <td>0.96 (0.84)</td>\n      <td>0.56 (1.00)</td>\n    </tr>\n    <tr>\n      <th rowspan=\"4\" valign=\"top\">acc_opportunity</th>\n      <th>Adult Income</th>\n      <td>0.89 (1.00)</td>\n      <td>0.97 (1.00)</td>\n      <td>1.00 (\\textit{0.47})</td>\n      <td>\\textbf{0.22} (1.00)</td>\n    </tr>\n    <tr>\n      <th>Bank Marketing</th>\n      <td>1.00 (0.76)</td>\n      <td>\\textbf{0.39} (1.00)</td>\n      <td>0.81 (1.00)</td>\n      <td>1.00 (\\textit{0.39})</td>\n    </tr>\n    <tr>\n      <th>Compas Recidivism</th>\n      <td>\\textbf{0.01} (0.99)</td>\n      <td>0.79 (1.00)</td>\n      <td>\\textbf{0.00} (1.00)</td>\n      <td>\\textbf{0.09} (1.00)</td>\n    </tr>\n    <tr>\n      <th>German Credit</th>\n      <td>\\textbf{0.01} (1.00)</td>\n      <td>\\textbf{0.06} (1.00)</td>\n      <td>\\textbf{0.00} (1.00)</td>\n      <td>\\textbf{0.00} (1.00)</td>\n    </tr>\n    <tr>\n      <th rowspan=\"4\" valign=\"top\">acc_parity</th>\n      <th>Adult Income</th>\n      <td>\\textbf{0.01} (1.00)</td>\n      <td>\\textbf{0.24} (1.00)</td>\n      <td>\\textbf{0.30} (1.00)</td>\n      <td>\\textbf{0.00} (1.00)</td>\n    </tr>\n    <tr>\n      <th>Bank Marketing</th>\n      <td>\\textbf{0.25} (1.00)</td>\n      <td>1.00 (0.55)</td>\n      <td>1.00 (0.73)</td>\n      <td>0.76 (1.00)</td>\n    </tr>\n    <tr>\n      <th>Compas Recidivism</th>\n      <td>\\textbf{0.00} (1.00)</td>\n      <td>1.00 (\\textit{0.50})</td>\n      <td>\\textbf{0.10} (1.00)</td>\n      <td>1.00 (0.72)</td>\n    </tr>\n    <tr>\n      <th>German Credit</th>\n      <td>1.00 (0.95)</td>\n      <td>\\textbf{0.47} (1.00)</td>\n      <td>1.00 (1.00)</td>\n      <td>0.58 (1.00)</td>\n    </tr>\n    <tr>\n      <th rowspan=\"4\" valign=\"top\">mcc_odds</th>\n      <th>Adult Income</th>\n      <td>\\textbf{0.03} (1.00)</td>\n      <td>\\textbf{0.26} (1.00)</td>\n      <td>\\textbf{0.44} (1.00)</td>\n      <td>\\textbf{0.00} (1.00)</td>\n    </tr>\n    <tr>\n      <th>Bank Marketing</th>\n      <td>\\textbf{0.46} (1.00)</td>\n      <td>\\textbf{0.19} (1.00)</td>\n      <td>\\textbf{0.12} (1.00)</td>\n      <td>\\textbf{0.01} (1.00)</td>\n    </tr>\n    <tr>\n      <th>Compas Recidivism</th>\n      <td>\\textbf{0.01} (1.00)</td>\n      <td>0.57 (1.00)</td>\n      <td>\\textbf{0.00} (1.00)</td>\n      <td>\\textbf{0.10} (1.00)</td>\n    </tr>\n    <tr>\n      <th>German Credit</th>\n      <td>1.00 (\\textit{0.35})</td>\n      <td>1.00 (0.51)</td>\n      <td>1.00 (\\textit{0.31})</td>\n      <td>1.00 (\\textit{0.07})</td>\n    </tr>\n    <tr>\n      <th rowspan=\"4\" valign=\"top\">mcc_opportunity</th>\n      <th>Adult Income</th>\n      <td>\\textbf{0.01} (1.00)</td>\n      <td>\\textbf{0.00} (1.00)</td>\n      <td>\\textbf{0.05} (1.00)</td>\n      <td>\\textbf{0.00} (1.00)</td>\n    </tr>\n    <tr>\n      <th>Bank Marketing</th>\n      <td>0.81 (1.00)</td>\n      <td>\\textbf{0.18} (1.00)</td>\n      <td>\\textbf{0.25} (1.00)</td>\n      <td>\\textbf{0.08} (1.00)</td>\n    </tr>\n    <tr>\n      <th>Compas Recidivism</th>\n      <td>\\textbf{0.00} (1.00)</td>\n      <td>1.00 (\\textit{0.16})</td>\n      <td>\\textbf{0.00} (1.00)</td>\n      <td>0.66 (1.00)</td>\n    </tr>\n    <tr>\n      <th>German Credit</th>\n      <td>1.00 (0.58)</td>\n      <td>1.00 (\\textit{0.43})</td>\n      <td>1.00 (0.56)</td>\n      <td>1.00 (\\textit{0.21})</td>\n    </tr>\n    <tr>\n      <th rowspan=\"4\" valign=\"top\">mcc_parity</th>\n      <th>Adult Income</th>\n      <td>\\textbf{0.00} (1.00)</td>\n      <td>\\textbf{0.16} (1.00)</td>\n      <td>1.00 (1.00)</td>\n      <td>\\textbf{0.00} (1.00)</td>\n    </tr>\n    <tr>\n      <th>Bank Marketing</th>\n      <td>\\textbf{0.01} (1.00)</td>\n      <td>\\textbf{0.00} (1.00)</td>\n      <td>\\textbf{0.00} (1.00)</td>\n      <td>\\textbf{0.00} (1.00)</td>\n    </tr>\n    <tr>\n      <th>Compas Recidivism</th>\n      <td>\\textbf{0.01} (1.00)</td>\n      <td>\\textbf{0.26} (1.00)</td>\n      <td>\\textbf{0.00} (1.00)</td>\n      <td>\\textbf{0.02} (1.00)</td>\n    </tr>\n    <tr>\n      <th>German Credit</th>\n      <td>\\textbf{0.37} (1.00)</td>\n      <td>1.00 (\\textit{0.06})</td>\n      <td>0.50 (1.00)</td>\n      <td>1.00 (0.83)</td>\n    </tr>\n  </tbody>\n</table>\n</div>"
     },
     "execution_count": 84,
     "metadata": {},
     "output_type": "execute_result"
    }
   ],
   "source": [
    "for col, rev_col in zip(formatted_significance.columns, reverse_formatted_significance.columns):\n",
    "    formatted_significance[col] = formatted_significance[col] + (' (' + reverse_formatted_significance[rev_col] + ')')\n",
    "formatted_significance.to_latex('tables/combined_significance_resume.tex')\n",
    "formatted_significance"
   ],
   "metadata": {
    "collapsed": false
   }
  },
  {
   "cell_type": "code",
   "execution_count": 85,
   "outputs": [
    {
     "data": {
      "text/plain": "                                                                fitness  \\\n                                                                   mean   \nFitness Rule Abvr       dataset       method                              \nMax(MCC - Stat. Parity) German Credit Adversarial Debiasing    0.200070   \n                                      Gerry Fair Classifier   -0.031208   \n                                      Fair Transition Loss    -0.034435   \n                                      Prejudice Remover       -0.082559   \n                                      Standard MLP (baseline) -0.090370   \n...                                                                 ...   \nMax(Acc - Eq. Odds)     Adult Income  Prejudice Remover        0.809534   \n                                      Fair Transition Loss     0.787013   \n                                      Adversarial Debiasing    0.756054   \n                                      Standard MLP (baseline)  0.752260   \n                                      Gerry Fair Classifier    0.704668   \n\n                                                                         \\\n                                                                    std   \nFitness Rule Abvr       dataset       method                              \nMax(MCC - Stat. Parity) German Credit Adversarial Debiasing    0.172675   \n                                      Gerry Fair Classifier    0.052788   \n                                      Fair Transition Loss     0.073668   \n                                      Prejudice Remover        0.050746   \n                                      Standard MLP (baseline)  0.061469   \n...                                                                 ...   \nMax(Acc - Eq. Odds)     Adult Income  Prejudice Remover        0.022701   \n                                      Fair Transition Loss     0.083934   \n                                      Adversarial Debiasing    0.028345   \n                                      Standard MLP (baseline)  0.041790   \n                                      Gerry Fair Classifier    0.074245   \n\n                                                              Performance  \\\n                                                                     mean   \nFitness Rule Abvr       dataset       method                                \nMax(MCC - Stat. Parity) German Credit Adversarial Debiasing      0.367673   \n                                      Gerry Fair Classifier      0.000000   \n                                      Fair Transition Loss       0.000000   \n                                      Prejudice Remover          0.000000   \n                                      Standard MLP (baseline)    0.000000   \n...                                                                   ...   \nMax(Acc - Eq. Odds)     Adult Income  Prejudice Remover          0.845788   \n                                      Fair Transition Loss       0.825826   \n                                      Adversarial Debiasing      0.847730   \n                                      Standard MLP (baseline)    0.849309   \n                                      Gerry Fair Classifier      0.750809   \n\n                                                                         \\\n                                                                    std   \nFitness Rule Abvr       dataset       method                              \nMax(MCC - Stat. Parity) German Credit Adversarial Debiasing    0.056485   \n                                      Gerry Fair Classifier    0.000000   \n                                      Fair Transition Loss     0.000000   \n                                      Prejudice Remover        0.000000   \n                                      Standard MLP (baseline)  0.000000   \n...                                                                 ...   \nMax(Acc - Eq. Odds)     Adult Income  Prejudice Remover        0.003691   \n                                      Fair Transition Loss     0.069484   \n                                      Adversarial Debiasing    0.002904   \n                                      Standard MLP (baseline)  0.003078   \n                                      Gerry Fair Classifier    0.085845   \n\n                                                               Fairness  \\\n                                                                   mean   \nFitness Rule Abvr       dataset       method                              \nMax(MCC - Stat. Parity) German Credit Adversarial Debiasing    0.167603   \n                                      Gerry Fair Classifier    0.031208   \n                                      Fair Transition Loss     0.034435   \n                                      Prejudice Remover        0.082559   \n                                      Standard MLP (baseline)  0.090370   \n...                                                                 ...   \nMax(Acc - Eq. Odds)     Adult Income  Prejudice Remover        0.036254   \n                                      Fair Transition Loss     0.038813   \n                                      Adversarial Debiasing    0.091676   \n                                      Standard MLP (baseline)  0.097049   \n                                      Gerry Fair Classifier    0.046141   \n\n                                                                         \\\n                                                                    std   \nFitness Rule Abvr       dataset       method                              \nMax(MCC - Stat. Parity) German Credit Adversarial Debiasing    0.148864   \n                                      Gerry Fair Classifier    0.052788   \n                                      Fair Transition Loss     0.073668   \n                                      Prejudice Remover        0.050746   \n                                      Standard MLP (baseline)  0.061469   \n...                                                                 ...   \nMax(Acc - Eq. Odds)     Adult Income  Prejudice Remover        0.021244   \n                                      Fair Transition Loss     0.037378   \n                                      Adversarial Debiasing    0.027315   \n                                      Standard MLP (baseline)  0.042438   \n                                      Gerry Fair Classifier    0.054413   \n\n                                                                formatted_fitness  \\\n                                                                                    \nFitness Rule Abvr       dataset       method                                        \nMax(MCC - Stat. Parity) German Credit Adversarial Debiasing     $0.200 (\\pm0.17)$   \n                                      Gerry Fair Classifier    $-0.031 (\\pm0.05)$   \n                                      Fair Transition Loss     $-0.034 (\\pm0.07)$   \n                                      Prejudice Remover        $-0.083 (\\pm0.05)$   \n                                      Standard MLP (baseline)  $-0.090 (\\pm0.06)$   \n...                                                                           ...   \nMax(Acc - Eq. Odds)     Adult Income  Prejudice Remover         $0.810 (\\pm0.02)$   \n                                      Fair Transition Loss      $0.787 (\\pm0.08)$   \n                                      Adversarial Debiasing     $0.756 (\\pm0.03)$   \n                                      Standard MLP (baseline)   $0.752 (\\pm0.04)$   \n                                      Gerry Fair Classifier     $0.705 (\\pm0.07)$   \n\n                                                              formatted_performance  \\\n                                                                                      \nFitness Rule Abvr       dataset       method                                          \nMax(MCC - Stat. Parity) German Credit Adversarial Debiasing       $0.368 (\\pm0.06)$   \n                                      Gerry Fair Classifier       $0.000 (\\pm0.00)$   \n                                      Fair Transition Loss        $0.000 (\\pm0.00)$   \n                                      Prejudice Remover           $0.000 (\\pm0.00)$   \n                                      Standard MLP (baseline)     $0.000 (\\pm0.00)$   \n...                                                                             ...   \nMax(Acc - Eq. Odds)     Adult Income  Prejudice Remover           $0.846 (\\pm0.00)$   \n                                      Fair Transition Loss        $0.826 (\\pm0.07)$   \n                                      Adversarial Debiasing       $0.848 (\\pm0.00)$   \n                                      Standard MLP (baseline)     $0.849 (\\pm0.00)$   \n                                      Gerry Fair Classifier       $0.751 (\\pm0.09)$   \n\n                                                              formatted_fairness  \n                                                                                  \nFitness Rule Abvr       dataset       method                                      \nMax(MCC - Stat. Parity) German Credit Adversarial Debiasing    $0.168 (\\pm0.15)$  \n                                      Gerry Fair Classifier    $0.031 (\\pm0.05)$  \n                                      Fair Transition Loss     $0.034 (\\pm0.07)$  \n                                      Prejudice Remover        $0.083 (\\pm0.05)$  \n                                      Standard MLP (baseline)  $0.090 (\\pm0.06)$  \n...                                                                          ...  \nMax(Acc - Eq. Odds)     Adult Income  Prejudice Remover        $0.036 (\\pm0.02)$  \n                                      Fair Transition Loss     $0.039 (\\pm0.04)$  \n                                      Adversarial Debiasing    $0.092 (\\pm0.03)$  \n                                      Standard MLP (baseline)  $0.097 (\\pm0.04)$  \n                                      Gerry Fair Classifier    $0.046 (\\pm0.05)$  \n\n[120 rows x 9 columns]",
      "text/html": "<div>\n<style scoped>\n    .dataframe tbody tr th:only-of-type {\n        vertical-align: middle;\n    }\n\n    .dataframe tbody tr th {\n        vertical-align: top;\n    }\n\n    .dataframe thead tr th {\n        text-align: left;\n    }\n\n    .dataframe thead tr:last-of-type th {\n        text-align: right;\n    }\n</style>\n<table border=\"1\" class=\"dataframe\">\n  <thead>\n    <tr>\n      <th></th>\n      <th></th>\n      <th></th>\n      <th colspan=\"2\" halign=\"left\">fitness</th>\n      <th colspan=\"2\" halign=\"left\">Performance</th>\n      <th colspan=\"2\" halign=\"left\">Fairness</th>\n      <th>formatted_fitness</th>\n      <th>formatted_performance</th>\n      <th>formatted_fairness</th>\n    </tr>\n    <tr>\n      <th></th>\n      <th></th>\n      <th></th>\n      <th>mean</th>\n      <th>std</th>\n      <th>mean</th>\n      <th>std</th>\n      <th>mean</th>\n      <th>std</th>\n      <th></th>\n      <th></th>\n      <th></th>\n    </tr>\n    <tr>\n      <th>Fitness Rule Abvr</th>\n      <th>dataset</th>\n      <th>method</th>\n      <th></th>\n      <th></th>\n      <th></th>\n      <th></th>\n      <th></th>\n      <th></th>\n      <th></th>\n      <th></th>\n      <th></th>\n    </tr>\n  </thead>\n  <tbody>\n    <tr>\n      <th rowspan=\"5\" valign=\"top\">Max(MCC - Stat. Parity)</th>\n      <th rowspan=\"5\" valign=\"top\">German Credit</th>\n      <th>Adversarial Debiasing</th>\n      <td>0.200070</td>\n      <td>0.172675</td>\n      <td>0.367673</td>\n      <td>0.056485</td>\n      <td>0.167603</td>\n      <td>0.148864</td>\n      <td>$0.200 (\\pm0.17)$</td>\n      <td>$0.368 (\\pm0.06)$</td>\n      <td>$0.168 (\\pm0.15)$</td>\n    </tr>\n    <tr>\n      <th>Gerry Fair Classifier</th>\n      <td>-0.031208</td>\n      <td>0.052788</td>\n      <td>0.000000</td>\n      <td>0.000000</td>\n      <td>0.031208</td>\n      <td>0.052788</td>\n      <td>$-0.031 (\\pm0.05)$</td>\n      <td>$0.000 (\\pm0.00)$</td>\n      <td>$0.031 (\\pm0.05)$</td>\n    </tr>\n    <tr>\n      <th>Fair Transition Loss</th>\n      <td>-0.034435</td>\n      <td>0.073668</td>\n      <td>0.000000</td>\n      <td>0.000000</td>\n      <td>0.034435</td>\n      <td>0.073668</td>\n      <td>$-0.034 (\\pm0.07)$</td>\n      <td>$0.000 (\\pm0.00)$</td>\n      <td>$0.034 (\\pm0.07)$</td>\n    </tr>\n    <tr>\n      <th>Prejudice Remover</th>\n      <td>-0.082559</td>\n      <td>0.050746</td>\n      <td>0.000000</td>\n      <td>0.000000</td>\n      <td>0.082559</td>\n      <td>0.050746</td>\n      <td>$-0.083 (\\pm0.05)$</td>\n      <td>$0.000 (\\pm0.00)$</td>\n      <td>$0.083 (\\pm0.05)$</td>\n    </tr>\n    <tr>\n      <th>Standard MLP (baseline)</th>\n      <td>-0.090370</td>\n      <td>0.061469</td>\n      <td>0.000000</td>\n      <td>0.000000</td>\n      <td>0.090370</td>\n      <td>0.061469</td>\n      <td>$-0.090 (\\pm0.06)$</td>\n      <td>$0.000 (\\pm0.00)$</td>\n      <td>$0.090 (\\pm0.06)$</td>\n    </tr>\n    <tr>\n      <th>...</th>\n      <th>...</th>\n      <th>...</th>\n      <td>...</td>\n      <td>...</td>\n      <td>...</td>\n      <td>...</td>\n      <td>...</td>\n      <td>...</td>\n      <td>...</td>\n      <td>...</td>\n      <td>...</td>\n    </tr>\n    <tr>\n      <th rowspan=\"5\" valign=\"top\">Max(Acc - Eq. Odds)</th>\n      <th rowspan=\"5\" valign=\"top\">Adult Income</th>\n      <th>Prejudice Remover</th>\n      <td>0.809534</td>\n      <td>0.022701</td>\n      <td>0.845788</td>\n      <td>0.003691</td>\n      <td>0.036254</td>\n      <td>0.021244</td>\n      <td>$0.810 (\\pm0.02)$</td>\n      <td>$0.846 (\\pm0.00)$</td>\n      <td>$0.036 (\\pm0.02)$</td>\n    </tr>\n    <tr>\n      <th>Fair Transition Loss</th>\n      <td>0.787013</td>\n      <td>0.083934</td>\n      <td>0.825826</td>\n      <td>0.069484</td>\n      <td>0.038813</td>\n      <td>0.037378</td>\n      <td>$0.787 (\\pm0.08)$</td>\n      <td>$0.826 (\\pm0.07)$</td>\n      <td>$0.039 (\\pm0.04)$</td>\n    </tr>\n    <tr>\n      <th>Adversarial Debiasing</th>\n      <td>0.756054</td>\n      <td>0.028345</td>\n      <td>0.847730</td>\n      <td>0.002904</td>\n      <td>0.091676</td>\n      <td>0.027315</td>\n      <td>$0.756 (\\pm0.03)$</td>\n      <td>$0.848 (\\pm0.00)$</td>\n      <td>$0.092 (\\pm0.03)$</td>\n    </tr>\n    <tr>\n      <th>Standard MLP (baseline)</th>\n      <td>0.752260</td>\n      <td>0.041790</td>\n      <td>0.849309</td>\n      <td>0.003078</td>\n      <td>0.097049</td>\n      <td>0.042438</td>\n      <td>$0.752 (\\pm0.04)$</td>\n      <td>$0.849 (\\pm0.00)$</td>\n      <td>$0.097 (\\pm0.04)$</td>\n    </tr>\n    <tr>\n      <th>Gerry Fair Classifier</th>\n      <td>0.704668</td>\n      <td>0.074245</td>\n      <td>0.750809</td>\n      <td>0.085845</td>\n      <td>0.046141</td>\n      <td>0.054413</td>\n      <td>$0.705 (\\pm0.07)$</td>\n      <td>$0.751 (\\pm0.09)$</td>\n      <td>$0.046 (\\pm0.05)$</td>\n    </tr>\n  </tbody>\n</table>\n<p>120 rows × 9 columns</p>\n</div>"
     },
     "execution_count": 85,
     "metadata": {},
     "output_type": "execute_result"
    }
   ],
   "source": [
    "grouped_results = results\\\n",
    "    .groupby(['Fitness Rule Abvr', 'dataset', 'method'])\\\n",
    "    .agg({'fitness': ['mean', 'std'], 'Performance': ['mean', 'std'], 'Fairness': ['mean', 'std']})\\\n",
    "    .sort_values(by=['Fitness Rule Abvr', 'dataset', ('fitness','mean')], ascending=False)\n",
    "grouped_results['formatted_fitness'] = grouped_results.apply(lambda row: f\"${row[('fitness', 'mean')]:.3f} (\\pm{row[('fitness', 'std')]:.2f})$\", axis=1)\n",
    "grouped_results['formatted_performance'] = grouped_results.apply(lambda row: f\"${row[('Performance', 'mean')]:.3f} (\\pm{row[('Performance', 'std')]:.2f})$\", axis=1)\n",
    "grouped_results['formatted_fairness'] = grouped_results.apply(lambda row: f\"${row[('Fairness', 'mean')]:.3f} (\\pm{row[('Fairness', 'std')]:.2f})$\", axis=1)\n",
    "grouped_results"
   ],
   "metadata": {
    "collapsed": false,
    "ExecuteTime": {
     "end_time": "2023-10-04T03:39:06.942673698Z",
     "start_time": "2023-10-04T03:39:06.772763449Z"
    }
   }
  },
  {
   "cell_type": "code",
   "execution_count": 86,
   "outputs": [],
   "source": [
    "selected_columns = ['formatted_fitness', 'formatted_performance', 'formatted_fairness']\n",
    "grouped_results[selected_columns].to_latex('tables/grouped_results.tex')"
   ],
   "metadata": {
    "collapsed": false,
    "ExecuteTime": {
     "end_time": "2023-10-04T03:39:06.942816051Z",
     "start_time": "2023-10-04T03:39:06.820709478Z"
    }
   }
  },
  {
   "cell_type": "code",
   "execution_count": 39,
   "outputs": [],
   "source": [],
   "metadata": {
    "collapsed": false
   }
  }
 ],
 "metadata": {
  "kernelspec": {
   "display_name": "Python 3 (ipykernel)",
   "language": "python",
   "name": "python3"
  },
  "language_info": {
   "codemirror_mode": {
    "name": "ipython",
    "version": 3
   },
   "file_extension": ".py",
   "mimetype": "text/x-python",
   "name": "python",
   "nbconvert_exporter": "python",
   "pygments_lexer": "ipython3",
   "version": "3.8.10"
  }
 },
 "nbformat": 4,
 "nbformat_minor": 1
}
