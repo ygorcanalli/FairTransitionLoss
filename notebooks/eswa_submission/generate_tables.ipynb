{
 "cells": [
  {
   "cell_type": "code",
   "execution_count": 1,
   "metadata": {
    "ExecuteTime": {
     "end_time": "2023-10-03T14:18:44.411229413Z",
     "start_time": "2023-10-03T14:18:41.837420655Z"
    }
   },
   "outputs": [
    {
     "name": "stderr",
     "output_type": "stream",
     "text": [
      "2023-10-03 11:18:42.046834: I tensorflow/tsl/cuda/cudart_stub.cc:28] Could not find cuda drivers on your machine, GPU will not be used.\n",
      "2023-10-03 11:18:42.109836: I tensorflow/tsl/cuda/cudart_stub.cc:28] Could not find cuda drivers on your machine, GPU will not be used.\n",
      "2023-10-03 11:18:42.111622: I tensorflow/core/platform/cpu_feature_guard.cc:182] This TensorFlow binary is optimized to use available CPU instructions in performance-critical operations.\n",
      "To enable the following instructions: AVX2 FMA, in other operations, rebuild TensorFlow with the appropriate compiler flags.\n",
      "2023-10-03 11:18:43.593015: W tensorflow/compiler/tf2tensorrt/utils/py_utils.cc:38] TF-TRT Warning: Could not find TensorRT\n"
     ]
    }
   ],
   "source": [
    "import pandas as pd\n",
    "import json\n",
    "import os\n",
    "import deepsig\n",
    "from IPython.display import display"
   ]
  },
  {
   "cell_type": "code",
   "execution_count": 2,
   "metadata": {
    "ExecuteTime": {
     "end_time": "2023-10-03T14:18:44.419590999Z",
     "start_time": "2023-10-03T14:18:44.414528903Z"
    }
   },
   "outputs": [],
   "source": [
    "def read_csv_files_from_folder(folder_path):\n",
    "    # Initialize an empty list to store DataFrames\n",
    "    dfs = []\n",
    "\n",
    "    # Get a list of files in the folder\n",
    "    file_list = os.listdir(folder_path)\n",
    "\n",
    "    # Iterate through the files in the folder\n",
    "    for file_name in file_list:\n",
    "        # Check if the file has a .csv extension\n",
    "        if file_name.endswith(\".csv\"):\n",
    "            file_path = os.path.join(folder_path, file_name)\n",
    "\n",
    "            # Read the CSV file into a DataFrame\n",
    "            df = pd.read_csv(file_path)\n",
    "\n",
    "            # Append the DataFrame to the list\n",
    "            dfs.append(df)\n",
    "\n",
    "    # Concatenate all DataFrames into a single DataFrame\n",
    "    combined_df = pd.concat(dfs, ignore_index=True)\n",
    "\n",
    "    return combined_df"
   ]
  },
  {
   "cell_type": "code",
   "execution_count": 3,
   "metadata": {
    "ExecuteTime": {
     "end_time": "2023-10-03T14:18:44.426152153Z",
     "start_time": "2023-10-03T14:18:44.425858224Z"
    }
   },
   "outputs": [],
   "source": [
    "cols = ['dataset', 'method', 'fitness_rule', 'fitness', 'ACC', 'MCC', 'f1_score', 'avg_odds_diff', 'stat_par_diff', 'eq_opp_diff']"
   ]
  },
  {
   "cell_type": "code",
   "execution_count": 13,
   "metadata": {
    "ExecuteTime": {
     "end_time": "2023-10-03T14:19:28.458722330Z",
     "start_time": "2023-10-03T14:19:28.438381532Z"
    }
   },
   "outputs": [],
   "source": [
    "results = read_csv_files_from_folder('results/')\n",
    "results.replace({'ftl_mlp_initializer': 'Fair Transition Loss', 'adversarial_debiasing_initializer': 'Adversarial Debiasing', 'gerry_fair_classifier_initializer': 'Gerry Fair Classifier', 'prejudice_remover_initializer': 'Prejudice Remover', 'simple_mlp_initializer': 'Standard MLP (baseline)'}, inplace=True)\n",
    "results.replace({'adult_dataset_reader': 'Adult Income', 'compas_dataset_reader': 'Compas Recidivism', 'german_dataset_reader': 'German Credit', 'bank_dataset_reader': 'Bank Marketing'}, inplace=True)\n",
    "results.rename(columns={'avg_odds_diff': 'Equalized Odds', 'stat_par_diff': 'Statistical Parity', 'eq_opp_diff': 'Equal Opportunity', 'MCC': 'Mathew Correlation', 'ACC': 'Accuracy'}, inplace=True)"
   ]
  },
  {
   "cell_type": "code",
   "execution_count": 14,
   "metadata": {
    "ExecuteTime": {
     "end_time": "2023-10-03T14:19:29.259084936Z",
     "start_time": "2023-10-03T14:19:29.093806764Z"
    }
   },
   "outputs": [],
   "source": [
    "fitness_rules_target_metrics = {\n",
    "    'mcc_parity': {'performance': 'Mathew Correlation', 'fairness': 'Statistical Parity'},\n",
    "    'mcc_opportunity': {'performance': 'Mathew Correlation', 'fairness': 'Equal Opportunity'},\n",
    "    'mcc_odds': {'performance': 'Mathew Correlation', 'fairness': 'Equalized Odds'},\n",
    "    'acc_parity': {'performance': 'Accuracy', 'fairness': 'Statistical Parity'},\n",
    "    'acc_opportunity': {'performance': 'Accuracy', 'fairness': 'Equal Opportunity'},\n",
    "    'acc_odds': {'performance': 'Accuracy', 'fairness': 'Equalized Odds'}\n",
    "}\n",
    "\n",
    "fitness_rules_target_metrics = {\n",
    "    'mcc_parity': ('Mathew Correlation', 'Statistical Parity'),\n",
    "    'mcc_opportunity': ('Mathew Correlation', 'Equal Opportunity'),\n",
    "    'mcc_odds': ('Mathew Correlation', 'Equalized Odds'),\n",
    "    'acc_parity': ('Accuracy', 'Statistical Parity'),\n",
    "    'acc_opportunity': ('Accuracy', 'Equal Opportunity'),\n",
    "    'acc_odds': ('Accuracy', 'Equalized Odds')\n",
    "}\n",
    "fitness_rules_abvr = {\n",
    "    'mcc_parity': 'Max(MCC - Stat. Parity)',\n",
    "    'mcc_opportunity': 'Max(MCC - Eq. Odds)',\n",
    "    'mcc_odds': 'Max(MCC - Eq. Opp.)',\n",
    "    'acc_parity': 'Max(Acc - Stat. Parity)',\n",
    "    'acc_opportunity': 'Max(Acc - Eq. Odds)',\n",
    "    'acc_odds': 'Max(Acc - Eq. Opp.)'\n",
    "}\n",
    "\n",
    "results['Performance'] = 0\n",
    "results['Fairness'] = 0\n",
    "results['Fitness Rule'] = ''\n",
    "for fitness_rule, (performance_metric, fairness_metric) in fitness_rules_target_metrics.items():\n",
    "    results.loc[results.fitness_rule == fitness_rule,'Performance'] = results.loc[results.fitness_rule == fitness_rule,performance_metric]\n",
    "    results.loc[results.fitness_rule == fitness_rule,'Fairness'] = results.loc[results.fitness_rule == fitness_rule,fairness_metric]\n",
    "    results.loc[results.fitness_rule == fitness_rule,'Fitness Rule Abvr'] = fitness_rules_abvr[fitness_rule]\n",
    "    results.loc[results.fitness_rule == fitness_rule,'Fitness Rule'] = 'Max(%s - %s)' % fitness_rules_target_metrics[fitness_rule]"
   ]
  },
  {
   "cell_type": "code",
   "execution_count": 15,
   "metadata": {
    "ExecuteTime": {
     "end_time": "2023-10-03T14:19:31.030641133Z",
     "start_time": "2023-10-03T14:19:30.964317256Z"
    }
   },
   "outputs": [
    {
     "data": {
      "text/plain": "      Unnamed: 0         dataset                method     fitness_rule  \\\n0              3   German Credit     Prejudice Remover       mcc_parity   \n1              7   German Credit     Prejudice Remover         mcc_odds   \n2             11   German Credit     Prejudice Remover  mcc_opportunity   \n3             15   German Credit     Prejudice Remover       acc_parity   \n4             19   German Credit     Prejudice Remover         acc_odds   \n...          ...             ...                   ...              ...   \n1570        1734  Bank Marketing  Fair Transition Loss         mcc_odds   \n1571        1739  Bank Marketing  Fair Transition Loss  mcc_opportunity   \n1572        1744  Bank Marketing  Fair Transition Loss       acc_parity   \n1573        1749  Bank Marketing  Fair Transition Loss         acc_odds   \n1574        1754  Bank Marketing  Fair Transition Loss  acc_opportunity   \n\n       fitness  Accuracy  Mathew Correlation  Equalized Odds  \\\n0    -0.077859  0.545000            0.000000        0.070884   \n1    -0.129086  0.620000            0.000000        0.129086   \n2    -0.053052  0.575000            0.000000        0.115271   \n3     0.392316  0.555000            0.000000        0.159695   \n4     0.469445  0.555000            0.000000        0.085555   \n...        ...       ...                 ...             ...   \n1570  0.512368  0.892752            0.567577        0.055209   \n1571  0.439395  0.787963            0.501721        0.423663   \n1572  0.885779  0.893244            0.378632        0.047285   \n1573  0.823758  0.895048            0.393785        0.071289   \n1574  0.799482  0.898655            0.473519        0.053642   \n\n      Statistical Parity  Equal Opportunity  Performance  Fairness  \\\n0               0.077859           0.056402     0.000000  0.077859   \n1               0.161000           0.084427     0.000000  0.129086   \n2               0.135058           0.053052     0.000000  0.053052   \n3               0.162684           0.195652     0.555000  0.162684   \n4               0.021354           0.117521     0.555000  0.085555   \n...                  ...                ...          ...       ...   \n1570            0.064039           0.096869     0.567577  0.055209   \n1571            0.696893           0.062327     0.501721  0.062327   \n1572            0.007465           0.079024     0.893244  0.007465   \n1573            0.012262           0.137643     0.895048  0.071289   \n1574            0.034509           0.099174     0.898655  0.099174   \n\n                                      Fitness Rule        Fitness Rule Abvr  \n0     Max(Mathew Correlation - Statistical Parity)  Max(MCC - Stat. Parity)  \n1         Max(Mathew Correlation - Equalized Odds)      Max(MCC - Eq. Opp.)  \n2      Max(Mathew Correlation - Equal Opportunity)      Max(MCC - Eq. Odds)  \n3               Max(Accuracy - Statistical Parity)  Max(Acc - Stat. Parity)  \n4                   Max(Accuracy - Equalized Odds)      Max(Acc - Eq. Opp.)  \n...                                            ...                      ...  \n1570      Max(Mathew Correlation - Equalized Odds)      Max(MCC - Eq. Opp.)  \n1571   Max(Mathew Correlation - Equal Opportunity)      Max(MCC - Eq. Odds)  \n1572            Max(Accuracy - Statistical Parity)  Max(Acc - Stat. Parity)  \n1573                Max(Accuracy - Equalized Odds)      Max(Acc - Eq. Opp.)  \n1574             Max(Accuracy - Equal Opportunity)      Max(Acc - Eq. Odds)  \n\n[1575 rows x 14 columns]",
      "text/html": "<div>\n<style scoped>\n    .dataframe tbody tr th:only-of-type {\n        vertical-align: middle;\n    }\n\n    .dataframe tbody tr th {\n        vertical-align: top;\n    }\n\n    .dataframe thead th {\n        text-align: right;\n    }\n</style>\n<table border=\"1\" class=\"dataframe\">\n  <thead>\n    <tr style=\"text-align: right;\">\n      <th></th>\n      <th>Unnamed: 0</th>\n      <th>dataset</th>\n      <th>method</th>\n      <th>fitness_rule</th>\n      <th>fitness</th>\n      <th>Accuracy</th>\n      <th>Mathew Correlation</th>\n      <th>Equalized Odds</th>\n      <th>Statistical Parity</th>\n      <th>Equal Opportunity</th>\n      <th>Performance</th>\n      <th>Fairness</th>\n      <th>Fitness Rule</th>\n      <th>Fitness Rule Abvr</th>\n    </tr>\n  </thead>\n  <tbody>\n    <tr>\n      <th>0</th>\n      <td>3</td>\n      <td>German Credit</td>\n      <td>Prejudice Remover</td>\n      <td>mcc_parity</td>\n      <td>-0.077859</td>\n      <td>0.545000</td>\n      <td>0.000000</td>\n      <td>0.070884</td>\n      <td>0.077859</td>\n      <td>0.056402</td>\n      <td>0.000000</td>\n      <td>0.077859</td>\n      <td>Max(Mathew Correlation - Statistical Parity)</td>\n      <td>Max(MCC - Stat. Parity)</td>\n    </tr>\n    <tr>\n      <th>1</th>\n      <td>7</td>\n      <td>German Credit</td>\n      <td>Prejudice Remover</td>\n      <td>mcc_odds</td>\n      <td>-0.129086</td>\n      <td>0.620000</td>\n      <td>0.000000</td>\n      <td>0.129086</td>\n      <td>0.161000</td>\n      <td>0.084427</td>\n      <td>0.000000</td>\n      <td>0.129086</td>\n      <td>Max(Mathew Correlation - Equalized Odds)</td>\n      <td>Max(MCC - Eq. Opp.)</td>\n    </tr>\n    <tr>\n      <th>2</th>\n      <td>11</td>\n      <td>German Credit</td>\n      <td>Prejudice Remover</td>\n      <td>mcc_opportunity</td>\n      <td>-0.053052</td>\n      <td>0.575000</td>\n      <td>0.000000</td>\n      <td>0.115271</td>\n      <td>0.135058</td>\n      <td>0.053052</td>\n      <td>0.000000</td>\n      <td>0.053052</td>\n      <td>Max(Mathew Correlation - Equal Opportunity)</td>\n      <td>Max(MCC - Eq. Odds)</td>\n    </tr>\n    <tr>\n      <th>3</th>\n      <td>15</td>\n      <td>German Credit</td>\n      <td>Prejudice Remover</td>\n      <td>acc_parity</td>\n      <td>0.392316</td>\n      <td>0.555000</td>\n      <td>0.000000</td>\n      <td>0.159695</td>\n      <td>0.162684</td>\n      <td>0.195652</td>\n      <td>0.555000</td>\n      <td>0.162684</td>\n      <td>Max(Accuracy - Statistical Parity)</td>\n      <td>Max(Acc - Stat. Parity)</td>\n    </tr>\n    <tr>\n      <th>4</th>\n      <td>19</td>\n      <td>German Credit</td>\n      <td>Prejudice Remover</td>\n      <td>acc_odds</td>\n      <td>0.469445</td>\n      <td>0.555000</td>\n      <td>0.000000</td>\n      <td>0.085555</td>\n      <td>0.021354</td>\n      <td>0.117521</td>\n      <td>0.555000</td>\n      <td>0.085555</td>\n      <td>Max(Accuracy - Equalized Odds)</td>\n      <td>Max(Acc - Eq. Opp.)</td>\n    </tr>\n    <tr>\n      <th>...</th>\n      <td>...</td>\n      <td>...</td>\n      <td>...</td>\n      <td>...</td>\n      <td>...</td>\n      <td>...</td>\n      <td>...</td>\n      <td>...</td>\n      <td>...</td>\n      <td>...</td>\n      <td>...</td>\n      <td>...</td>\n      <td>...</td>\n      <td>...</td>\n    </tr>\n    <tr>\n      <th>1570</th>\n      <td>1734</td>\n      <td>Bank Marketing</td>\n      <td>Fair Transition Loss</td>\n      <td>mcc_odds</td>\n      <td>0.512368</td>\n      <td>0.892752</td>\n      <td>0.567577</td>\n      <td>0.055209</td>\n      <td>0.064039</td>\n      <td>0.096869</td>\n      <td>0.567577</td>\n      <td>0.055209</td>\n      <td>Max(Mathew Correlation - Equalized Odds)</td>\n      <td>Max(MCC - Eq. Opp.)</td>\n    </tr>\n    <tr>\n      <th>1571</th>\n      <td>1739</td>\n      <td>Bank Marketing</td>\n      <td>Fair Transition Loss</td>\n      <td>mcc_opportunity</td>\n      <td>0.439395</td>\n      <td>0.787963</td>\n      <td>0.501721</td>\n      <td>0.423663</td>\n      <td>0.696893</td>\n      <td>0.062327</td>\n      <td>0.501721</td>\n      <td>0.062327</td>\n      <td>Max(Mathew Correlation - Equal Opportunity)</td>\n      <td>Max(MCC - Eq. Odds)</td>\n    </tr>\n    <tr>\n      <th>1572</th>\n      <td>1744</td>\n      <td>Bank Marketing</td>\n      <td>Fair Transition Loss</td>\n      <td>acc_parity</td>\n      <td>0.885779</td>\n      <td>0.893244</td>\n      <td>0.378632</td>\n      <td>0.047285</td>\n      <td>0.007465</td>\n      <td>0.079024</td>\n      <td>0.893244</td>\n      <td>0.007465</td>\n      <td>Max(Accuracy - Statistical Parity)</td>\n      <td>Max(Acc - Stat. Parity)</td>\n    </tr>\n    <tr>\n      <th>1573</th>\n      <td>1749</td>\n      <td>Bank Marketing</td>\n      <td>Fair Transition Loss</td>\n      <td>acc_odds</td>\n      <td>0.823758</td>\n      <td>0.895048</td>\n      <td>0.393785</td>\n      <td>0.071289</td>\n      <td>0.012262</td>\n      <td>0.137643</td>\n      <td>0.895048</td>\n      <td>0.071289</td>\n      <td>Max(Accuracy - Equalized Odds)</td>\n      <td>Max(Acc - Eq. Opp.)</td>\n    </tr>\n    <tr>\n      <th>1574</th>\n      <td>1754</td>\n      <td>Bank Marketing</td>\n      <td>Fair Transition Loss</td>\n      <td>acc_opportunity</td>\n      <td>0.799482</td>\n      <td>0.898655</td>\n      <td>0.473519</td>\n      <td>0.053642</td>\n      <td>0.034509</td>\n      <td>0.099174</td>\n      <td>0.898655</td>\n      <td>0.099174</td>\n      <td>Max(Accuracy - Equal Opportunity)</td>\n      <td>Max(Acc - Eq. Odds)</td>\n    </tr>\n  </tbody>\n</table>\n<p>1575 rows × 14 columns</p>\n</div>"
     },
     "metadata": {},
     "output_type": "display_data"
    }
   ],
   "source": [
    "display(results)"
   ]
  },
  {
   "cell_type": "code",
   "execution_count": 19,
   "metadata": {
    "ExecuteTime": {
     "end_time": "2023-10-03T14:20:45.909525882Z",
     "start_time": "2023-10-03T14:20:45.905571558Z"
    }
   },
   "outputs": [],
   "source": [
    "datasets = results['dataset'].unique().tolist().sort()\n",
    "datasets"
   ]
  },
  {
   "cell_type": "code",
   "execution_count": 17,
   "metadata": {
    "ExecuteTime": {
     "end_time": "2023-10-03T14:19:48.554205290Z",
     "start_time": "2023-10-03T14:19:48.530902108Z"
    }
   },
   "outputs": [
    {
     "data": {
      "text/plain": "['mcc_parity',\n 'mcc_opportunity',\n 'mcc_odds',\n 'acc_parity',\n 'acc_opportunity',\n 'acc_odds']"
     },
     "execution_count": 17,
     "metadata": {},
     "output_type": "execute_result"
    }
   ],
   "source": [
    "fitness_rules = ['mcc_parity', 'mcc_opportunity', 'mcc_odds', 'acc_parity', 'acc_opportunity', 'acc_odds']\n",
    "fitness_rules"
   ]
  },
  {
   "cell_type": "code",
   "execution_count": 18,
   "metadata": {
    "ExecuteTime": {
     "end_time": "2023-10-03T14:19:49.976016225Z",
     "start_time": "2023-10-03T14:19:49.970485307Z"
    }
   },
   "outputs": [
    {
     "data": {
      "text/plain": "['Standard MLP (baseline)',\n 'Fair Transition Loss',\n 'Adversarial Debiasing',\n 'Prejudice Remover',\n 'Gerry Fair Classifier']"
     },
     "execution_count": 18,
     "metadata": {},
     "output_type": "execute_result"
    }
   ],
   "source": [
    "methods = ['Standard MLP (baseline)',\n",
    " 'Fair Transition Loss',\n",
    " 'Adversarial Debiasing',\n",
    " 'Prejudice Remover',\n",
    " 'Gerry Fair Classifier']\n",
    "methods"
   ]
  },
  {
   "cell_type": "code",
   "execution_count": 12,
   "outputs": [],
   "source": [
    "if os.path.exists('multi_aso_data_list.json'):\n",
    "    with open('multi_aso_data_list.json') as file:\n",
    "        multi_aso_data_list = json.load(file)\n",
    "else:    \n",
    "    multi_aso_data_list = []\n",
    "    for d in datasets:\n",
    "        multi_aso_data = []\n",
    "        for f in fitness_rules:\n",
    "            methods_results = []\n",
    "            for m in methods:\n",
    "                r = results.loc[ (results['dataset'] == d) &\n",
    "                                     (results['fitness_rule'] == f) &\n",
    "                                     (results['method'] == m) ]\\\n",
    "                            .fitness.tolist()\n",
    "                if len(r) == 0:\n",
    "                    r = [-1]\n",
    "                methods_results.append(r)\n",
    "            min_eps = deepsig.multi_aso(methods_results, confidence_level=0.95)\n",
    "            multi_aso_data_list.append({'fitness_rule': f, 'dataset': d, 'min_eps': min_eps.tolist()})\n",
    "    with open('multi_aso_data_list.json', 'w') as file:\n",
    "        json.dump(multi_aso_data_list, file)"
   ],
   "metadata": {
    "collapsed": false,
    "ExecuteTime": {
     "end_time": "2023-09-20T01:00:10.879056206Z",
     "start_time": "2023-09-20T01:00:10.829309213Z"
    }
   }
  },
  {
   "cell_type": "code",
   "execution_count": 13,
   "outputs": [
    {
     "data": {
      "text/plain": "[{'fitness_rule': 'mcc_parity',\n  'dataset': 'Adult Income',\n  'min_eps': [[1.0,\n    0.9988805908520648,\n    0.9979750223790821,\n    0.995877444722284,\n    0.0],\n   [0.004620261792774651, 1.0, 0.1528664058142362, 1.0, 0.0],\n   [0.004940540275507269, 1.0, 1.0, 1.0, 0.0],\n   [0.00595911008417298, 1.0, 0.1050132284790311, 1.0, 0.0],\n   [1.0, 1.0, 1.0, 1.0, 1.0]]},\n {'fitness_rule': 'mcc_odds',\n  'dataset': 'Adult Income',\n  'min_eps': [[1.0, 1.0, 1.0, 1.0, 0.0],\n   [0.027617628263128934, 1.0, 0.25458170757222737, 0.42157426878629345, 0.0],\n   [0.251460472570234, 1.0, 1.0, 0.7790530472236021, 0.0],\n   [0.8744194609335025, 1.0, 1.0, 1.0, 0.04857425621287411],\n   [1.0, 1.0, 1.0, 1.0, 1.0]]},\n {'fitness_rule': 'mcc_opportunity',\n  'dataset': 'Adult Income',\n  'min_eps': [[1.0,\n    0.9976536340274126,\n    0.9789694086170047,\n    0.8910534937566084,\n    0.0],\n   [0.008614325158317561,\n    1.0,\n    0.0032188112253179217,\n    0.058227525767044014,\n    0.0],\n   [1.0, 1.0, 1.0, 0.9400209938187005, 0.0002617078041570944],\n   [1.0, 1.0, 1.0, 1.0, 0.15451518591497215],\n   [1.0, 1.0, 1.0, 1.0, 1.0]]},\n {'fitness_rule': 'acc_parity',\n  'dataset': 'Adult Income',\n  'min_eps': [[1.0,\n    0.9950360484753606,\n    0.9949105109493437,\n    0.9964406398468255,\n    0.0394551615196866],\n   [0.006225729078117825, 1.0, 0.2529296056466894, 0.3053776342075385, 0.0],\n   [0.006429303361474617, 1.0, 1.0, 0.6316912103027725, 0.0],\n   [0.0056063674759192425, 1.0, 1.0, 1.0, 0.0],\n   [1.0, 1.0, 1.0, 1.0, 1.0]]},\n {'fitness_rule': 'acc_odds',\n  'dataset': 'Adult Income',\n  'min_eps': [[1.0,\n    0.9994436780779213,\n    0.9975293445388792,\n    1.0,\n    0.030096420312781796],\n   [0.009394746778854133, 1.0, 0.22555155968671803, 0.17071299144585012, 0.0],\n   [0.016999173062888145, 1.0, 1.0, 0.673624879461726, 0.0],\n   [0.011947247780703656, 1.0, 1.0, 1.0, 0.0],\n   [1.0, 1.0, 1.0, 1.0, 1.0]]},\n {'fitness_rule': 'acc_opportunity',\n  'dataset': 'Adult Income',\n  'min_eps': [[1.0, 1.0, 0.8752920125200908, 1.0, 0.06269912351790513],\n   [0.898703479153361, 1.0, 0.9595358291412686, 1.0, 0.20422819195323694],\n   [1.0, 1.0, 1.0, 1.0, 0.04251303828101332],\n   [0.032922380844822914, 0.48077934404958633, 0.009660939890395489, 1.0, 0.0],\n   [1.0, 1.0, 1.0, 1.0, 1.0]]},\n {'fitness_rule': 'mcc_parity',\n  'dataset': 'German Credit',\n  'min_eps': [[1.0, 1.0, 1.0, 1.0, 0.0],\n   [0.3624195996532688, 1.0, 1.0, 0.47599565501123986, 0.0],\n   [0.018516986100523995, 0.05807457632704096, 1.0, 0.02461515200505715, 0.0],\n   [0.686937395613882, 1.0, 1.0, 1.0, 0.0],\n   [1.0, 1.0, 1.0, 1.0, 1.0]]},\n {'fitness_rule': 'mcc_odds',\n  'dataset': 'German Credit',\n  'min_eps': [[1.0, 0.32872180337272944, 0.8751415145521141, 1.0, 0.0],\n   [1.0, 1.0, 1.0, 1.0, 0.0],\n   [0.7552209184611754, 0.5012608600838759, 1.0, 0.7693750102314423, 0.0],\n   [0.611742683463305, 0.3187262622728647, 0.8627319051823037, 1.0, 0.0],\n   [1.0, 1.0, 1.0, 1.0, 1.0]]},\n {'fitness_rule': 'mcc_opportunity',\n  'dataset': 'German Credit',\n  'min_eps': [[1.0, 0.5607280652891645, 1.0, 1.0, 0.0],\n   [1.0, 1.0, 1.0, 1.0, 0.0],\n   [0.6781915133747459,\n    0.42345322578115097,\n    1.0,\n    0.696818672791103,\n    0.0005326791571545874],\n   [0.5402843649271543, 0.5636642290788085, 1.0, 1.0, 0.0],\n   [1.0, 1.0, 1.0, 1.0, 1.0]]},\n {'fitness_rule': 'acc_parity',\n  'dataset': 'German Credit',\n  'min_eps': [[1.0,\n    0.9499848057596021,\n    0.396354190425606,\n    0.5316144403531916,\n    0.0],\n   [1.0, 1.0, 0.46920661795010343, 1.0, 0.0],\n   [1.0, 1.0, 1.0, 1.0, 0.0],\n   [1.0, 1.0, 0.5100479210492452, 1.0, 0.0],\n   [1.0, 1.0, 1.0, 1.0, 1.0]]},\n {'fitness_rule': 'acc_odds',\n  'dataset': 'German Credit',\n  'min_eps': [[1.0,\n    0.7390061230233556,\n    0.1858439661176031,\n    0.26530520738633256,\n    0.0],\n   [1.0, 1.0, 0.42935624695217994, 0.9694999250800437, 0.0],\n   [1.0, 1.0, 1.0, 1.0, 0.0],\n   [1.0, 0.8556924156514959, 0.2868502390535438, 1.0, 0.0],\n   [1.0, 1.0, 1.0, 1.0, 1.0]]},\n {'fitness_rule': 'acc_opportunity',\n  'dataset': 'German Credit',\n  'min_eps': [[1.0,\n    0.9984467969197504,\n    0.6873040580608222,\n    0.2983582846086183,\n    0.0],\n   [0.014195469250577408, 1.0, 0.08245584468880583, 0.0, 0.0],\n   [1.0, 1.0, 1.0, 1.0, 0.0],\n   [1.0, 1.0, 0.8281658006293872, 1.0, 0.0],\n   [1.0, 1.0, 1.0, 1.0, 1.0]]},\n {'fitness_rule': 'mcc_parity',\n  'dataset': 'Compas Recidivism',\n  'min_eps': [[1.0,\n    0.996345451821701,\n    1.0,\n    0.9971538834417574,\n    0.9969679397506217],\n   [0.005095454797238863, 1.0, 0.2114724659813415, 0.0, 0.001871605722274972],\n   [0.00319330600561554, 1.0, 1.0, 0.0, 0.7855461432682043],\n   [0.006301016583276977, 1.0, 1.0, 1.0, 0.9976384448957424],\n   [0.0053563120862509285, 1.0, 1.0, 0.005636269097527458, 1.0]]},\n {'fitness_rule': 'mcc_odds',\n  'dataset': 'Compas Recidivism',\n  'min_eps': [[1.0,\n    0.9958410232165026,\n    0.9978517259800597,\n    0.9983653202147851,\n    0.9969927039688842],\n   [0.0053171943439897125, 1.0, 0.5826099141370038, 0.0, 0.056215379221281246],\n   [0.003936094537720433, 1.0, 1.0, 0.0, 0.5703008276608574],\n   [0.01006033843002712, 1.0, 1.0, 1.0, 0.9977129025696337],\n   [0.004939854847852999, 1.0, 1.0, 0.004811035845649398, 1.0]]},\n {'fitness_rule': 'mcc_opportunity',\n  'dataset': 'Compas Recidivism',\n  'min_eps': [[1.0,\n    0.9969006610086028,\n    0.9961922506227103,\n    0.9956275208956598,\n    0.9967664964196008],\n   [0.004836575731732025, 1.0, 1.0, 0.0, 0.18379137799590023],\n   [0.00491363745863182, 0.15711692734962218, 1.0, 0.0, 0.0022971877991543764],\n   [0.008905420726050581, 1.0, 1.0, 1.0, 0.9974174317629128],\n   [0.004775866588516959, 1.0, 1.0, 0.004340316711278074, 1.0]]},\n {'fitness_rule': 'acc_parity',\n  'dataset': 'Compas Recidivism',\n  'min_eps': [[1.0,\n    1.0,\n    0.9976837349194161,\n    0.996783801822952,\n    0.9964110141491773],\n   [0.002008014561581577, 1.0, 1.0, 0.10722310263471485, 1.0],\n   [0.003972319647900641, 0.499793623701224, 1.0, 0.0, 0.09117224073350287],\n   [0.005942755673351301, 1.0, 1.0, 1.0, 0.997301180747543],\n   [0.0049691462258987336,\n    0.7997723950365627,\n    1.0,\n    0.0052847893972988716,\n    1.0]]},\n {'fitness_rule': 'acc_odds',\n  'dataset': 'Compas Recidivism',\n  'min_eps': [[1.0,\n    0.9954394018013354,\n    1.0,\n    0.9949231732052054,\n    0.9962645323589645],\n   [0.006611629514857826,\n    1.0,\n    0.47144279173592085,\n    0.0,\n    0.0016459742158632668],\n   [0.0035643952536280423, 1.0, 1.0, 0.0, 0.7037652985236738],\n   [0.013259837911963578, 1.0, 1.0, 1.0, 0.9976838284180044],\n   [0.006098084893997277, 1.0, 1.0, 0.004525596070414767, 1.0]]},\n {'fitness_rule': 'acc_opportunity',\n  'dataset': 'Compas Recidivism',\n  'min_eps': [[1.0,\n    0.9949114196436929,\n    0.9980076737021623,\n    0.9995857285820564,\n    0.9966478281353292],\n   [0.009026907940373637, 1.0, 0.792934731873191, 0.0, 0.10766720269600878],\n   [0.006306431437160257, 1.0, 1.0, 0.0, 0.2892344029132326],\n   [0.03725341315012319, 1.0, 1.0, 1.0, 0.998079152761984],\n   [0.007542528883846126, 1.0, 1.0, 0.004031847137897644, 1.0]]},\n {'fitness_rule': 'mcc_parity',\n  'dataset': 'Bank Market',\n  'min_eps': [[1.0, 0.9981980028139403, 1.0, 1.0, 0.0009460339408744347],\n   [0.008001555686330606, 1.0, 0.0, 0.0, 0.0],\n   [0.042411717122785506, 1.0, 1.0, 0.8573663667569091, 0.0],\n   [0.10434464009728979, 1.0, 1.0, 1.0, 0.0],\n   [1.0, 1.0, 1.0, 1.0, 1.0]]},\n {'fitness_rule': 'mcc_odds',\n  'dataset': 'Bank Market',\n  'min_eps': [[1.0,\n    1.0,\n    0.45896730468153546,\n    0.18640262567280202,\n    1.7301083336423904e-06],\n   [0.4716880506504565,\n    1.0,\n    0.18964153849558837,\n    0.10813830897646884,\n    0.027290292135252057],\n   [1.0, 1.0, 1.0, 0.9096132549111414, 0.16746431508423842],\n   [1.0, 1.0, 1.0, 1.0, 0.10449607893973765],\n   [1.0, 1.0, 1.0, 1.0, 1.0]]},\n {'fitness_rule': 'mcc_opportunity',\n  'dataset': 'Bank Market',\n  'min_eps': [[1.0,\n    1.0,\n    0.11511613463016282,\n    0.2510154961534753,\n    0.03352890707543308],\n   [0.8206826164276726,\n    1.0,\n    0.18029336324935888,\n    0.23648030970563658,\n    0.15257636074003936],\n   [1.0, 1.0, 1.0, 1.0, 0.8620717465553391],\n   [1.0, 1.0, 0.6541856713543407, 1.0, 0.5267167773393983],\n   [1.0, 1.0, 1.0, 1.0, 1.0]]},\n {'fitness_rule': 'acc_parity',\n  'dataset': 'Bank Market',\n  'min_eps': [[1.0, 1.0, 1.0, 0.9970852444877828, 1.0],\n   [0.23504728944115005, 1.0, 1.0, 1.0, 0.7632998261151391],\n   [0.008439706323999579,\n    0.5520590706491247,\n    1.0,\n    0.6116250480852774,\n    0.018229540404833367],\n   [0.01373628720784489, 0.7458555300132127, 1.0, 1.0, 0.004088500125489158],\n   [0.20079551484267796, 1.0, 1.0, 1.0, 1.0]]},\n {'fitness_rule': 'acc_odds',\n  'dataset': 'Bank Market',\n  'min_eps': [[1.0, 1.0, 0.4548185398897963, 1.0, 1.0],\n   [0.7755299330569755, 1.0, 0.3863101312659838, 0.8140481241509756, 1.0],\n   [1.0, 1.0, 1.0, 1.0, 1.0],\n   [0.8879876649228032, 1.0, 0.4081388497136002, 1.0, 1.0],\n   [0.3642333270500555,\n    0.47927956964779683,\n    0.1726798301108078,\n    0.3368045133996774,\n    1.0]]},\n {'fitness_rule': 'acc_opportunity',\n  'dataset': 'Bank Market',\n  'min_eps': [[1.0,\n    0.7837539376458472,\n    0.20943597176783837,\n    0.5393966819144387,\n    1.0],\n   [1.0, 1.0, 0.3695274258074673, 0.8190277860838835, 1.0],\n   [1.0, 1.0, 1.0, 1.0, 1.0],\n   [1.0, 1.0, 0.4903422386952121, 1.0, 1.0],\n   [1.0, 0.7361511831535712, 0.17176844765824179, 0.5263146667461224, 1.0]]}]"
     },
     "execution_count": 13,
     "metadata": {},
     "output_type": "execute_result"
    }
   ],
   "source": [
    "multi_aso_data_list"
   ],
   "metadata": {
    "collapsed": false,
    "ExecuteTime": {
     "end_time": "2023-09-20T01:00:10.879380111Z",
     "start_time": "2023-09-20T01:00:10.829384951Z"
    }
   }
  },
  {
   "cell_type": "code",
   "execution_count": 18,
   "outputs": [
    {
     "name": "stdout",
     "output_type": "stream",
     "text": [
      "Significance Testing\n"
     ]
    },
    {
     "data": {
      "text/plain": "                                   Standard MLP (baseline)  \\\nfitness_rule    dataset                                      \nacc_odds        Adult Income                      0.009395   \n                Bank Market                       0.775530   \n                Compas Recidivism                 0.006612   \n                German Credit                     1.000000   \nacc_opportunity Adult Income                      0.898703   \n                Bank Market                       1.000000   \n                Compas Recidivism                 0.009027   \n                German Credit                     0.014195   \nacc_parity      Adult Income                      0.006226   \n                Bank Market                       0.235047   \n                Compas Recidivism                 0.002008   \n                German Credit                     1.000000   \nmcc_odds        Adult Income                      0.027618   \n                Bank Market                       0.471688   \n                Compas Recidivism                 0.005317   \n                German Credit                     1.000000   \nmcc_opportunity Adult Income                      0.008614   \n                Bank Market                       0.820683   \n                Compas Recidivism                 0.004837   \n                German Credit                     1.000000   \nmcc_parity      Adult Income                      0.004620   \n                Bank Market                       0.008002   \n                Compas Recidivism                 0.005095   \n                German Credit                     0.362420   \n\n                                   Adversarial Debiasing  Prejudice Remover  \\\nfitness_rule    dataset                                                       \nacc_odds        Adult Income                    0.225552           0.170713   \n                Bank Market                     0.386310           0.814048   \n                Compas Recidivism               0.471443           0.000000   \n                German Credit                   0.429356           0.969500   \nacc_opportunity Adult Income                    0.959536           1.000000   \n                Bank Market                     0.369527           0.819028   \n                Compas Recidivism               0.792935           0.000000   \n                German Credit                   0.082456           0.000000   \nacc_parity      Adult Income                    0.252930           0.305378   \n                Bank Market                     1.000000           1.000000   \n                Compas Recidivism               1.000000           0.107223   \n                German Credit                   0.469207           1.000000   \nmcc_odds        Adult Income                    0.254582           0.421574   \n                Bank Market                     0.189642           0.108138   \n                Compas Recidivism               0.582610           0.000000   \n                German Credit                   1.000000           1.000000   \nmcc_opportunity Adult Income                    0.003219           0.058228   \n                Bank Market                     0.180293           0.236480   \n                Compas Recidivism               1.000000           0.000000   \n                German Credit                   1.000000           1.000000   \nmcc_parity      Adult Income                    0.152866           1.000000   \n                Bank Market                     0.000000           0.000000   \n                Compas Recidivism               0.211472           0.000000   \n                German Credit                   1.000000           0.475996   \n\n                                   Gerry Fair Classifier  \nfitness_rule    dataset                                   \nacc_odds        Adult Income                    0.000000  \n                Bank Market                     1.000000  \n                Compas Recidivism               0.001646  \n                German Credit                   0.000000  \nacc_opportunity Adult Income                    0.204228  \n                Bank Market                     1.000000  \n                Compas Recidivism               0.107667  \n                German Credit                   0.000000  \nacc_parity      Adult Income                    0.000000  \n                Bank Market                     0.763300  \n                Compas Recidivism               1.000000  \n                German Credit                   0.000000  \nmcc_odds        Adult Income                    0.000000  \n                Bank Market                     0.027290  \n                Compas Recidivism               0.056215  \n                German Credit                   0.000000  \nmcc_opportunity Adult Income                    0.000000  \n                Bank Market                     0.152576  \n                Compas Recidivism               0.183791  \n                German Credit                   0.000000  \nmcc_parity      Adult Income                    0.000000  \n                Bank Market                     0.000000  \n                Compas Recidivism               0.001872  \n                German Credit                   0.000000  ",
      "text/html": "<div>\n<style scoped>\n    .dataframe tbody tr th:only-of-type {\n        vertical-align: middle;\n    }\n\n    .dataframe tbody tr th {\n        vertical-align: top;\n    }\n\n    .dataframe thead th {\n        text-align: right;\n    }\n</style>\n<table border=\"1\" class=\"dataframe\">\n  <thead>\n    <tr style=\"text-align: right;\">\n      <th></th>\n      <th></th>\n      <th>Standard MLP (baseline)</th>\n      <th>Adversarial Debiasing</th>\n      <th>Prejudice Remover</th>\n      <th>Gerry Fair Classifier</th>\n    </tr>\n    <tr>\n      <th>fitness_rule</th>\n      <th>dataset</th>\n      <th></th>\n      <th></th>\n      <th></th>\n      <th></th>\n    </tr>\n  </thead>\n  <tbody>\n    <tr>\n      <th rowspan=\"4\" valign=\"top\">acc_odds</th>\n      <th>Adult Income</th>\n      <td>0.009395</td>\n      <td>0.225552</td>\n      <td>0.170713</td>\n      <td>0.000000</td>\n    </tr>\n    <tr>\n      <th>Bank Market</th>\n      <td>0.775530</td>\n      <td>0.386310</td>\n      <td>0.814048</td>\n      <td>1.000000</td>\n    </tr>\n    <tr>\n      <th>Compas Recidivism</th>\n      <td>0.006612</td>\n      <td>0.471443</td>\n      <td>0.000000</td>\n      <td>0.001646</td>\n    </tr>\n    <tr>\n      <th>German Credit</th>\n      <td>1.000000</td>\n      <td>0.429356</td>\n      <td>0.969500</td>\n      <td>0.000000</td>\n    </tr>\n    <tr>\n      <th rowspan=\"4\" valign=\"top\">acc_opportunity</th>\n      <th>Adult Income</th>\n      <td>0.898703</td>\n      <td>0.959536</td>\n      <td>1.000000</td>\n      <td>0.204228</td>\n    </tr>\n    <tr>\n      <th>Bank Market</th>\n      <td>1.000000</td>\n      <td>0.369527</td>\n      <td>0.819028</td>\n      <td>1.000000</td>\n    </tr>\n    <tr>\n      <th>Compas Recidivism</th>\n      <td>0.009027</td>\n      <td>0.792935</td>\n      <td>0.000000</td>\n      <td>0.107667</td>\n    </tr>\n    <tr>\n      <th>German Credit</th>\n      <td>0.014195</td>\n      <td>0.082456</td>\n      <td>0.000000</td>\n      <td>0.000000</td>\n    </tr>\n    <tr>\n      <th rowspan=\"4\" valign=\"top\">acc_parity</th>\n      <th>Adult Income</th>\n      <td>0.006226</td>\n      <td>0.252930</td>\n      <td>0.305378</td>\n      <td>0.000000</td>\n    </tr>\n    <tr>\n      <th>Bank Market</th>\n      <td>0.235047</td>\n      <td>1.000000</td>\n      <td>1.000000</td>\n      <td>0.763300</td>\n    </tr>\n    <tr>\n      <th>Compas Recidivism</th>\n      <td>0.002008</td>\n      <td>1.000000</td>\n      <td>0.107223</td>\n      <td>1.000000</td>\n    </tr>\n    <tr>\n      <th>German Credit</th>\n      <td>1.000000</td>\n      <td>0.469207</td>\n      <td>1.000000</td>\n      <td>0.000000</td>\n    </tr>\n    <tr>\n      <th rowspan=\"4\" valign=\"top\">mcc_odds</th>\n      <th>Adult Income</th>\n      <td>0.027618</td>\n      <td>0.254582</td>\n      <td>0.421574</td>\n      <td>0.000000</td>\n    </tr>\n    <tr>\n      <th>Bank Market</th>\n      <td>0.471688</td>\n      <td>0.189642</td>\n      <td>0.108138</td>\n      <td>0.027290</td>\n    </tr>\n    <tr>\n      <th>Compas Recidivism</th>\n      <td>0.005317</td>\n      <td>0.582610</td>\n      <td>0.000000</td>\n      <td>0.056215</td>\n    </tr>\n    <tr>\n      <th>German Credit</th>\n      <td>1.000000</td>\n      <td>1.000000</td>\n      <td>1.000000</td>\n      <td>0.000000</td>\n    </tr>\n    <tr>\n      <th rowspan=\"4\" valign=\"top\">mcc_opportunity</th>\n      <th>Adult Income</th>\n      <td>0.008614</td>\n      <td>0.003219</td>\n      <td>0.058228</td>\n      <td>0.000000</td>\n    </tr>\n    <tr>\n      <th>Bank Market</th>\n      <td>0.820683</td>\n      <td>0.180293</td>\n      <td>0.236480</td>\n      <td>0.152576</td>\n    </tr>\n    <tr>\n      <th>Compas Recidivism</th>\n      <td>0.004837</td>\n      <td>1.000000</td>\n      <td>0.000000</td>\n      <td>0.183791</td>\n    </tr>\n    <tr>\n      <th>German Credit</th>\n      <td>1.000000</td>\n      <td>1.000000</td>\n      <td>1.000000</td>\n      <td>0.000000</td>\n    </tr>\n    <tr>\n      <th rowspan=\"4\" valign=\"top\">mcc_parity</th>\n      <th>Adult Income</th>\n      <td>0.004620</td>\n      <td>0.152866</td>\n      <td>1.000000</td>\n      <td>0.000000</td>\n    </tr>\n    <tr>\n      <th>Bank Market</th>\n      <td>0.008002</td>\n      <td>0.000000</td>\n      <td>0.000000</td>\n      <td>0.000000</td>\n    </tr>\n    <tr>\n      <th>Compas Recidivism</th>\n      <td>0.005095</td>\n      <td>0.211472</td>\n      <td>0.000000</td>\n      <td>0.001872</td>\n    </tr>\n    <tr>\n      <th>German Credit</th>\n      <td>0.362420</td>\n      <td>1.000000</td>\n      <td>0.475996</td>\n      <td>0.000000</td>\n    </tr>\n  </tbody>\n</table>\n</div>"
     },
     "metadata": {},
     "output_type": "display_data"
    }
   ],
   "source": [
    "aso_df_resume = []\n",
    "for aso_result in sorted(multi_aso_data_list, key=lambda x: x['dataset']):\n",
    "    fitness_rule = aso_result['fitness_rule']\n",
    "    dataset = aso_result['dataset']\n",
    "\n",
    "    aso_df = pd.DataFrame(aso_result['min_eps'], columns=methods)\n",
    "    aso_df['method'] = methods\n",
    "    aso_df['dataset'] = dataset\n",
    "    aso_df['fitness_rule'] = fitness_rule\n",
    "    aso_df = aso_df[aso_df['method'] == 'Fair Transition Loss' ]\n",
    "    aso_df = aso_df.drop(['Fair Transition Loss'], axis=1)\n",
    "    aso_df = aso_df.drop(['method'], axis=1)\n",
    "    aso_df_resume.append(aso_df)\n",
    "\n",
    "\n",
    "print('Significance Testing')\n",
    "significance = pd.concat(aso_df_resume)\n",
    "significance = significance.set_index(['fitness_rule', 'dataset'])\n",
    "significance = significance.sort_values(by=['fitness_rule', 'dataset'])\n",
    "display(significance)\n",
    "significance.to_latex('significance_resume.tex')"
   ],
   "metadata": {
    "collapsed": false,
    "ExecuteTime": {
     "end_time": "2023-09-20T01:05:24.409771604Z",
     "start_time": "2023-09-20T01:05:23.680495340Z"
    }
   }
  },
  {
   "cell_type": "code",
   "execution_count": 19,
   "outputs": [
    {
     "data": {
      "text/plain": "                                                                    fitness  \\\n                                                                       mean   \nFitness Rule Abvr       dataset           method                              \nMax(MCC - Stat. Parity) German Credit     Adversarial Debiasing    0.200070   \n                                          Fair Transition Loss    -0.034435   \n                                          Prejudice Remover       -0.082559   \n                                          Standard MLP (baseline) -0.090370   \n                        Compas Recidivism Fair Transition Loss     0.219648   \n...                                                                     ...   \nMax(Acc - Eq. Odds)     Adult Income      Prejudice Remover        0.809534   \n                                          Fair Transition Loss     0.787013   \n                                          Adversarial Debiasing    0.756054   \n                                          Standard MLP (baseline)  0.752260   \n                                          Gerry Fair Classifier    0.655568   \n\n                                                                             \\\n                                                                        std   \nFitness Rule Abvr       dataset           method                              \nMax(MCC - Stat. Parity) German Credit     Adversarial Debiasing    0.172675   \n                                          Fair Transition Loss     0.073668   \n                                          Prejudice Remover        0.050746   \n                                          Standard MLP (baseline)  0.061469   \n                        Compas Recidivism Fair Transition Loss     0.060505   \n...                                                                     ...   \nMax(Acc - Eq. Odds)     Adult Income      Prejudice Remover        0.022701   \n                                          Fair Transition Loss     0.083934   \n                                          Adversarial Debiasing    0.028345   \n                                          Standard MLP (baseline)  0.041790   \n                                          Gerry Fair Classifier    0.185910   \n\n                                                                  Performance  \\\n                                                                         mean   \nFitness Rule Abvr       dataset           method                                \nMax(MCC - Stat. Parity) German Credit     Adversarial Debiasing      0.367673   \n                                          Fair Transition Loss       0.000000   \n                                          Prejudice Remover          0.000000   \n                                          Standard MLP (baseline)    0.000000   \n                        Compas Recidivism Fair Transition Loss       0.276319   \n...                                                                       ...   \nMax(Acc - Eq. Odds)     Adult Income      Prejudice Remover          0.845788   \n                                          Fair Transition Loss       0.825826   \n                                          Adversarial Debiasing      0.847730   \n                                          Standard MLP (baseline)    0.849309   \n                                          Gerry Fair Classifier      0.720083   \n\n                                                                             \\\n                                                                        std   \nFitness Rule Abvr       dataset           method                              \nMax(MCC - Stat. Parity) German Credit     Adversarial Debiasing    0.056485   \n                                          Fair Transition Loss     0.000000   \n                                          Prejudice Remover        0.000000   \n                                          Standard MLP (baseline)  0.000000   \n                        Compas Recidivism Fair Transition Loss     0.027969   \n...                                                                     ...   \nMax(Acc - Eq. Odds)     Adult Income      Prejudice Remover        0.003691   \n                                          Fair Transition Loss     0.069484   \n                                          Adversarial Debiasing    0.002904   \n                                          Standard MLP (baseline)  0.003078   \n                                          Gerry Fair Classifier    0.212767   \n\n                                                                   Fairness  \\\n                                                                       mean   \nFitness Rule Abvr       dataset           method                              \nMax(MCC - Stat. Parity) German Credit     Adversarial Debiasing    0.167603   \n                                          Fair Transition Loss     0.034435   \n                                          Prejudice Remover        0.082559   \n                                          Standard MLP (baseline)  0.090370   \n                        Compas Recidivism Fair Transition Loss     0.056671   \n...                                                                     ...   \nMax(Acc - Eq. Odds)     Adult Income      Prejudice Remover        0.036254   \n                                          Fair Transition Loss     0.038813   \n                                          Adversarial Debiasing    0.091676   \n                                          Standard MLP (baseline)  0.097049   \n                                          Gerry Fair Classifier    0.064516   \n\n                                                                             \\\n                                                                        std   \nFitness Rule Abvr       dataset           method                              \nMax(MCC - Stat. Parity) German Credit     Adversarial Debiasing    0.148864   \n                                          Fair Transition Loss     0.073668   \n                                          Prejudice Remover        0.050746   \n                                          Standard MLP (baseline)  0.061469   \n                        Compas Recidivism Fair Transition Loss     0.045211   \n...                                                                     ...   \nMax(Acc - Eq. Odds)     Adult Income      Prejudice Remover        0.021244   \n                                          Fair Transition Loss     0.037378   \n                                          Adversarial Debiasing    0.027315   \n                                          Standard MLP (baseline)  0.042438   \n                                          Gerry Fair Classifier    0.051427   \n\n                                                                     formatted_fitness  \\\n                                                                                         \nFitness Rule Abvr       dataset           method                                         \nMax(MCC - Stat. Parity) German Credit     Adversarial Debiasing      $0.200 (\\pm0.20)$   \n                                          Fair Transition Loss     $-0.034 (\\pm-0.03)$   \n                                          Prejudice Remover        $-0.083 (\\pm-0.08)$   \n                                          Standard MLP (baseline)  $-0.090 (\\pm-0.09)$   \n                        Compas Recidivism Fair Transition Loss       $0.220 (\\pm0.22)$   \n...                                                                                ...   \nMax(Acc - Eq. Odds)     Adult Income      Prejudice Remover          $0.810 (\\pm0.81)$   \n                                          Fair Transition Loss       $0.787 (\\pm0.79)$   \n                                          Adversarial Debiasing      $0.756 (\\pm0.76)$   \n                                          Standard MLP (baseline)    $0.752 (\\pm0.75)$   \n                                          Gerry Fair Classifier      $0.656 (\\pm0.66)$   \n\n                                                                  formatted_performance  \\\n                                                                                          \nFitness Rule Abvr       dataset           method                                          \nMax(MCC - Stat. Parity) German Credit     Adversarial Debiasing       $0.368 (\\pm0.37)$   \n                                          Fair Transition Loss        $0.000 (\\pm0.00)$   \n                                          Prejudice Remover           $0.000 (\\pm0.00)$   \n                                          Standard MLP (baseline)     $0.000 (\\pm0.00)$   \n                        Compas Recidivism Fair Transition Loss        $0.276 (\\pm0.28)$   \n...                                                                                 ...   \nMax(Acc - Eq. Odds)     Adult Income      Prejudice Remover           $0.846 (\\pm0.85)$   \n                                          Fair Transition Loss        $0.826 (\\pm0.83)$   \n                                          Adversarial Debiasing       $0.848 (\\pm0.85)$   \n                                          Standard MLP (baseline)     $0.849 (\\pm0.85)$   \n                                          Gerry Fair Classifier       $0.720 (\\pm0.72)$   \n\n                                                                  formatted_fairness  \n                                                                                      \nFitness Rule Abvr       dataset           method                                      \nMax(MCC - Stat. Parity) German Credit     Adversarial Debiasing    $0.168 (\\pm0.17)$  \n                                          Fair Transition Loss     $0.034 (\\pm0.03)$  \n                                          Prejudice Remover        $0.083 (\\pm0.08)$  \n                                          Standard MLP (baseline)  $0.090 (\\pm0.09)$  \n                        Compas Recidivism Fair Transition Loss     $0.057 (\\pm0.06)$  \n...                                                                              ...  \nMax(Acc - Eq. Odds)     Adult Income      Prejudice Remover        $0.036 (\\pm0.04)$  \n                                          Fair Transition Loss     $0.039 (\\pm0.04)$  \n                                          Adversarial Debiasing    $0.092 (\\pm0.09)$  \n                                          Standard MLP (baseline)  $0.097 (\\pm0.10)$  \n                                          Gerry Fair Classifier    $0.065 (\\pm0.06)$  \n\n[114 rows x 9 columns]",
      "text/html": "<div>\n<style scoped>\n    .dataframe tbody tr th:only-of-type {\n        vertical-align: middle;\n    }\n\n    .dataframe tbody tr th {\n        vertical-align: top;\n    }\n\n    .dataframe thead tr th {\n        text-align: left;\n    }\n\n    .dataframe thead tr:last-of-type th {\n        text-align: right;\n    }\n</style>\n<table border=\"1\" class=\"dataframe\">\n  <thead>\n    <tr>\n      <th></th>\n      <th></th>\n      <th></th>\n      <th colspan=\"2\" halign=\"left\">fitness</th>\n      <th colspan=\"2\" halign=\"left\">Performance</th>\n      <th colspan=\"2\" halign=\"left\">Fairness</th>\n      <th>formatted_fitness</th>\n      <th>formatted_performance</th>\n      <th>formatted_fairness</th>\n    </tr>\n    <tr>\n      <th></th>\n      <th></th>\n      <th></th>\n      <th>mean</th>\n      <th>std</th>\n      <th>mean</th>\n      <th>std</th>\n      <th>mean</th>\n      <th>std</th>\n      <th></th>\n      <th></th>\n      <th></th>\n    </tr>\n    <tr>\n      <th>Fitness Rule Abvr</th>\n      <th>dataset</th>\n      <th>method</th>\n      <th></th>\n      <th></th>\n      <th></th>\n      <th></th>\n      <th></th>\n      <th></th>\n      <th></th>\n      <th></th>\n      <th></th>\n    </tr>\n  </thead>\n  <tbody>\n    <tr>\n      <th rowspan=\"5\" valign=\"top\">Max(MCC - Stat. Parity)</th>\n      <th rowspan=\"4\" valign=\"top\">German Credit</th>\n      <th>Adversarial Debiasing</th>\n      <td>0.200070</td>\n      <td>0.172675</td>\n      <td>0.367673</td>\n      <td>0.056485</td>\n      <td>0.167603</td>\n      <td>0.148864</td>\n      <td>$0.200 (\\pm0.20)$</td>\n      <td>$0.368 (\\pm0.37)$</td>\n      <td>$0.168 (\\pm0.17)$</td>\n    </tr>\n    <tr>\n      <th>Fair Transition Loss</th>\n      <td>-0.034435</td>\n      <td>0.073668</td>\n      <td>0.000000</td>\n      <td>0.000000</td>\n      <td>0.034435</td>\n      <td>0.073668</td>\n      <td>$-0.034 (\\pm-0.03)$</td>\n      <td>$0.000 (\\pm0.00)$</td>\n      <td>$0.034 (\\pm0.03)$</td>\n    </tr>\n    <tr>\n      <th>Prejudice Remover</th>\n      <td>-0.082559</td>\n      <td>0.050746</td>\n      <td>0.000000</td>\n      <td>0.000000</td>\n      <td>0.082559</td>\n      <td>0.050746</td>\n      <td>$-0.083 (\\pm-0.08)$</td>\n      <td>$0.000 (\\pm0.00)$</td>\n      <td>$0.083 (\\pm0.08)$</td>\n    </tr>\n    <tr>\n      <th>Standard MLP (baseline)</th>\n      <td>-0.090370</td>\n      <td>0.061469</td>\n      <td>0.000000</td>\n      <td>0.000000</td>\n      <td>0.090370</td>\n      <td>0.061469</td>\n      <td>$-0.090 (\\pm-0.09)$</td>\n      <td>$0.000 (\\pm0.00)$</td>\n      <td>$0.090 (\\pm0.09)$</td>\n    </tr>\n    <tr>\n      <th>Compas Recidivism</th>\n      <th>Fair Transition Loss</th>\n      <td>0.219648</td>\n      <td>0.060505</td>\n      <td>0.276319</td>\n      <td>0.027969</td>\n      <td>0.056671</td>\n      <td>0.045211</td>\n      <td>$0.220 (\\pm0.22)$</td>\n      <td>$0.276 (\\pm0.28)$</td>\n      <td>$0.057 (\\pm0.06)$</td>\n    </tr>\n    <tr>\n      <th>...</th>\n      <th>...</th>\n      <th>...</th>\n      <td>...</td>\n      <td>...</td>\n      <td>...</td>\n      <td>...</td>\n      <td>...</td>\n      <td>...</td>\n      <td>...</td>\n      <td>...</td>\n      <td>...</td>\n    </tr>\n    <tr>\n      <th rowspan=\"5\" valign=\"top\">Max(Acc - Eq. Odds)</th>\n      <th rowspan=\"5\" valign=\"top\">Adult Income</th>\n      <th>Prejudice Remover</th>\n      <td>0.809534</td>\n      <td>0.022701</td>\n      <td>0.845788</td>\n      <td>0.003691</td>\n      <td>0.036254</td>\n      <td>0.021244</td>\n      <td>$0.810 (\\pm0.81)$</td>\n      <td>$0.846 (\\pm0.85)$</td>\n      <td>$0.036 (\\pm0.04)$</td>\n    </tr>\n    <tr>\n      <th>Fair Transition Loss</th>\n      <td>0.787013</td>\n      <td>0.083934</td>\n      <td>0.825826</td>\n      <td>0.069484</td>\n      <td>0.038813</td>\n      <td>0.037378</td>\n      <td>$0.787 (\\pm0.79)$</td>\n      <td>$0.826 (\\pm0.83)$</td>\n      <td>$0.039 (\\pm0.04)$</td>\n    </tr>\n    <tr>\n      <th>Adversarial Debiasing</th>\n      <td>0.756054</td>\n      <td>0.028345</td>\n      <td>0.847730</td>\n      <td>0.002904</td>\n      <td>0.091676</td>\n      <td>0.027315</td>\n      <td>$0.756 (\\pm0.76)$</td>\n      <td>$0.848 (\\pm0.85)$</td>\n      <td>$0.092 (\\pm0.09)$</td>\n    </tr>\n    <tr>\n      <th>Standard MLP (baseline)</th>\n      <td>0.752260</td>\n      <td>0.041790</td>\n      <td>0.849309</td>\n      <td>0.003078</td>\n      <td>0.097049</td>\n      <td>0.042438</td>\n      <td>$0.752 (\\pm0.75)$</td>\n      <td>$0.849 (\\pm0.85)$</td>\n      <td>$0.097 (\\pm0.10)$</td>\n    </tr>\n    <tr>\n      <th>Gerry Fair Classifier</th>\n      <td>0.655568</td>\n      <td>0.185910</td>\n      <td>0.720083</td>\n      <td>0.212767</td>\n      <td>0.064516</td>\n      <td>0.051427</td>\n      <td>$0.656 (\\pm0.66)$</td>\n      <td>$0.720 (\\pm0.72)$</td>\n      <td>$0.065 (\\pm0.06)$</td>\n    </tr>\n  </tbody>\n</table>\n<p>114 rows × 9 columns</p>\n</div>"
     },
     "execution_count": 19,
     "metadata": {},
     "output_type": "execute_result"
    }
   ],
   "source": [
    "grouped_results = results\\\n",
    "    .groupby(['Fitness Rule Abvr', 'dataset', 'method'])\\\n",
    "    .agg({'fitness': ['mean', 'std'], 'Performance': ['mean', 'std'], 'Fairness': ['mean', 'std']})\\\n",
    "    .sort_values(by=['Fitness Rule Abvr', 'dataset', ('fitness','mean')], ascending=False)\n",
    "grouped_results['formatted_fitness'] = grouped_results.apply(lambda row: f\"${row[('fitness', 'mean')]:.3f} (\\pm{row[('fitness', 'mean')]:.2f})$\", axis=1)\n",
    "grouped_results['formatted_performance'] = grouped_results.apply(lambda row: f\"${row[('Performance', 'mean')]:.3f} (\\pm{row[('Performance', 'mean')]:.2f})$\", axis=1)\n",
    "grouped_results['formatted_fairness'] = grouped_results.apply(lambda row: f\"${row[('Fairness', 'mean')]:.3f} (\\pm{row[('Fairness', 'mean')]:.2f})$\", axis=1)\n",
    "grouped_results"
   ],
   "metadata": {
    "collapsed": false,
    "ExecuteTime": {
     "end_time": "2023-09-20T01:05:24.650414491Z",
     "start_time": "2023-09-20T01:05:24.587473843Z"
    }
   }
  },
  {
   "cell_type": "code",
   "execution_count": 20,
   "outputs": [],
   "source": [
    "selected_columns = ['formatted_fitness', 'formatted_performance', 'formatted_fairness']\n",
    "grouped_results[selected_columns].to_latex('grouped_results.tex')"
   ],
   "metadata": {
    "collapsed": false,
    "ExecuteTime": {
     "end_time": "2023-09-20T01:05:25.539809640Z",
     "start_time": "2023-09-20T01:05:25.528769480Z"
    }
   }
  },
  {
   "cell_type": "code",
   "execution_count": null,
   "outputs": [],
   "source": [],
   "metadata": {
    "collapsed": false
   }
  }
 ],
 "metadata": {
  "kernelspec": {
   "display_name": "Python 3 (ipykernel)",
   "language": "python",
   "name": "python3"
  },
  "language_info": {
   "codemirror_mode": {
    "name": "ipython",
    "version": 3
   },
   "file_extension": ".py",
   "mimetype": "text/x-python",
   "name": "python",
   "nbconvert_exporter": "python",
   "pygments_lexer": "ipython3",
   "version": "3.8.10"
  }
 },
 "nbformat": 4,
 "nbformat_minor": 1
}
