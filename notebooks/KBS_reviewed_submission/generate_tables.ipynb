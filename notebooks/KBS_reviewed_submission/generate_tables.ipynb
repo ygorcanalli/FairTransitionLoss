{
 "cells": [
  {
   "cell_type": "code",
   "execution_count": 1,
   "metadata": {
    "ExecuteTime": {
     "end_time": "2024-01-02T16:57:31.111448055Z",
     "start_time": "2024-01-02T16:57:28.465480977Z"
    }
   },
   "outputs": [
    {
     "name": "stderr",
     "output_type": "stream",
     "text": [
      "2024-01-02 13:57:30.088514: E external/local_xla/xla/stream_executor/cuda/cuda_dnn.cc:9261] Unable to register cuDNN factory: Attempting to register factory for plugin cuDNN when one has already been registered\n",
      "2024-01-02 13:57:30.088543: E external/local_xla/xla/stream_executor/cuda/cuda_fft.cc:607] Unable to register cuFFT factory: Attempting to register factory for plugin cuFFT when one has already been registered\n",
      "2024-01-02 13:57:30.089246: E external/local_xla/xla/stream_executor/cuda/cuda_blas.cc:1515] Unable to register cuBLAS factory: Attempting to register factory for plugin cuBLAS when one has already been registered\n",
      "2024-01-02 13:57:30.093391: I tensorflow/core/platform/cpu_feature_guard.cc:182] This TensorFlow binary is optimized to use available CPU instructions in performance-critical operations.\n",
      "To enable the following instructions: AVX2 FMA, in other operations, rebuild TensorFlow with the appropriate compiler flags.\n",
      "2024-01-02 13:57:30.750967: W tensorflow/compiler/tf2tensorrt/utils/py_utils.cc:38] TF-TRT Warning: Could not find TensorRT\n"
     ]
    }
   ],
   "source": [
    "import pandas as pd\n",
    "import json\n",
    "import os\n",
    "import deepsig\n",
    "from IPython.display import display"
   ]
  },
  {
   "cell_type": "code",
   "execution_count": 2,
   "metadata": {
    "ExecuteTime": {
     "end_time": "2024-01-02T16:57:31.122918099Z",
     "start_time": "2024-01-02T16:57:31.113682894Z"
    }
   },
   "outputs": [],
   "source": [
    "def read_csv_files_from_folder(folder_path):\n",
    "    # Initialize an empty list to store DataFrames\n",
    "    dfs = []\n",
    "\n",
    "    # Get a list of files in the folder\n",
    "    file_list = os.listdir(folder_path)\n",
    "\n",
    "    # Iterate through the files in the folder\n",
    "    for file_name in file_list:\n",
    "        # Check if the file has a .csv extension\n",
    "        if file_name.endswith(\".csv\"):\n",
    "            file_path = os.path.join(folder_path, file_name)\n",
    "\n",
    "            # Read the CSV file into a DataFrame\n",
    "            df = pd.read_csv(file_path)\n",
    "\n",
    "            # Append the DataFrame to the list\n",
    "            dfs.append(df)\n",
    "\n",
    "    # Concatenate all DataFrames into a single DataFrame\n",
    "    combined_df = pd.concat(dfs, ignore_index=True)\n",
    "\n",
    "    return combined_df"
   ]
  },
  {
   "cell_type": "code",
   "execution_count": 3,
   "metadata": {
    "ExecuteTime": {
     "end_time": "2024-01-02T16:57:31.123281616Z",
     "start_time": "2024-01-02T16:57:31.116376321Z"
    }
   },
   "outputs": [],
   "source": [
    "cols = ['dataset', 'method', 'fitness_rule', 'fitness', 'ACC', 'MCC', 'f1_score', 'avg_odds_diff', 'stat_par_diff', 'eq_opp_diff']"
   ]
  },
  {
   "cell_type": "code",
   "execution_count": 4,
   "metadata": {
    "ExecuteTime": {
     "end_time": "2024-01-02T16:57:31.156029715Z",
     "start_time": "2024-01-02T16:57:31.122269725Z"
    }
   },
   "outputs": [],
   "source": [
    "results = read_csv_files_from_folder('results/')\n",
    "results.replace({'ftl_mlp_initializer': 'Fair Transition Loss', 'adversarial_debiasing_initializer': 'Adversarial Debiasing', 'gerry_fair_classifier_initializer': 'Gerry Fair Classifier', 'prejudice_remover_initializer': 'Prejudice Remover', 'simple_mlp_initializer': 'Standard MLP (baseline)', 'adaptative_priority_reweighting_classifier_initializer': 'Adaptative Priority Reweighting'}, inplace=True)\n",
    "results.replace({'adult_dataset_reader': 'Adult Income', 'compas_dataset_reader': 'Compas Recidivism', 'german_dataset_reader': 'German Credit', 'bank_dataset_reader': 'Bank Marketing'}, inplace=True)\n",
    "results.rename(columns={'avg_odds_diff': 'Equalized Odds', 'stat_par_diff': 'Statistical Parity', 'eq_opp_diff': 'Equal Opportunity', 'MCC': 'Mathew Correlation', 'ACC': 'Accuracy'}, inplace=True)"
   ]
  },
  {
   "cell_type": "code",
   "execution_count": 5,
   "metadata": {
    "ExecuteTime": {
     "end_time": "2024-01-02T16:57:31.157226208Z",
     "start_time": "2024-01-02T16:57:31.155939725Z"
    }
   },
   "outputs": [
    {
     "name": "stderr",
     "output_type": "stream",
     "text": [
      "/tmp/ipykernel_356879/3340472993.py:31: FutureWarning: Setting an item of incompatible dtype is deprecated and will raise in a future error of pandas. Value '[ 0.31593009  0.31000841  0.33131997  0.32331717  0.32900626  0.31235223\n",
      "  0.28531143  0.31725419  0.31646536  0.34244247  0.3265771   0.30718997\n",
      "  0.34741723  0.32744447  0.33941611  0.48462391  0.51246768  0.51909213\n",
      "  0.49597118  0.51770609  0.479619    0.48794997  0.52038962  0.48669612\n",
      "  0.50684677  0.52402237  0.54340012  0.46845419  0.49362086  0.49952734\n",
      "  0.48248795  0.42436149  0.45085125  0.3812566   0.38153244  0.40890686\n",
      "  0.4388842   0.34968623  0.39085102  0.3838675   0.3004171   0.40080999\n",
      "  0.33641738  0.31660706  0.27532054  0.27532054  0.48505661  0.51688789\n",
      "  0.48729668  0.50971284  0.46909481  0.48556223  0.53240448  0.46959752\n",
      "  0.52591821  0.50330756  0.50417042  0.51763861  0.53081121  0.52271068\n",
      "  0.5265485   0.50103902  0.27542244  0.2385041   0.29544285  0.28585208\n",
      "  0.28117914  0.30924409  0.25298732  0.2781368   0.33103372  0.28270112\n",
      "  0.29738166  0.26934203  0.27775699  0.21991698  0.24988271  0.52481258\n",
      "  0.50230355  0.50721808  0.5201773   0.52005941  0.49156251  0.5140408\n",
      "  0.50186989  0.50053633  0.5121739   0.52588368  0.50232378  0.5166784\n",
      "  0.52931053  0.5066135   0.51685982  0.5639215   0.57938301  0.58523398\n",
      "  0.57770287  0.56718633  0.59282241  0.58269165  0.58113392  0.56878397\n",
      "  0.57198947  0.58983866  0.59108831  0.58800798  0.57634979  0.55683005\n",
      "  0.58509875  0.41082198  0.30138419  0.33577726  0.39828557  0.40080375\n",
      "  0.32179795  0.49902729  0.3750407   0.31460551  0.419834    0.30666667\n",
      "  0.35529419  0.2736592   0.22497546  0.37869084  0.53666198  0.4288994\n",
      "  0.29128968  0.49635457  0.41387888  0.24542281  0.51222866  0.45804703\n",
      "  0.31092432  0.53473385  0.38955635  0.31500348  0.52513144  0.42830101\n",
      "  0.35709091  0.53183496  0.45897789  0.31602578  0.51009844  0.43137262\n",
      "  0.17307119  0.48381372  0.40796107  0.35295743  0.47879528  0.44267416\n",
      "  0.28531355  0.49764784  0.4212213   0.30284168  0.56306975  0.42539315\n",
      "  0.16370586  0.50957215  0.42899066  0.29514951  0.51596901  0.44772518\n",
      "  0.30207969  0.51389633  0.44279431  0.3327299   0.46819119  0.40037037\n",
      "  0.29299205  0.28979689  0.37276643  0.34237087  0.37345128  0.29635068\n",
      "  0.31397261  0.17050142  0.36793093  0.          0.28748345  0.15343254\n",
      "  0.41805036  0.3637297   0.28480476  0.33678582 -0.24633833 -0.27749708\n",
      " -0.28123916 -0.2602125  -0.27828802 -0.23586869 -0.30126313 -0.34772384\n",
      " -0.25012261 -0.26120367 -0.24706934 -0.29452314 -0.29119053 -0.30799011\n",
      " -0.25547698  0.50399069  0.50344278  0.51318462  0.48738489  0.4874489\n",
      "  0.49173964  0.49048238  0.50399017  0.51280078  0.49962342  0.5074893\n",
      "  0.50264886  0.4995177   0.49256182  0.49808192  0.50599351  0.46644272\n",
      "  0.47540481  0.45745154  0.49284243  0.50277783  0.46851464  0.46757183\n",
      "  0.49362695  0.5064067   0.49897839  0.48289461  0.47635642  0.48779151\n",
      "  0.53489747  0.49438465  0.48394905  0.35276684  0.23116196  0.33747153\n",
      "  0.36035843  0.34578806  0.26049942  0.29635068  0.33747154  0.31587604\n",
      "  0.36279106  0.38452344  0.28721082  0.27193075  0.42903896  0.3590362\n",
      " -0.26533661 -0.28590375 -0.32254445 -0.31759422 -0.3220357  -0.26872254\n",
      " -0.28341714 -0.30458855 -0.26160595 -0.27477261 -0.29130687 -0.28843771\n",
      " -0.3340233  -0.29789375 -0.36824272  0.5804115   0.57641035  0.58519446\n",
      "  0.56733028  0.57314544  0.57399219  0.58552753  0.58424652  0.57300983\n",
      "  0.58669581  0.58302244  0.60077417  0.57452993  0.58196607  0.56840925\n",
      "  0.58383219  0.59199882  0.54031367  0.51697939  0.5292938   0.51214667\n",
      "  0.52581267  0.50389074  0.49039961  0.53298045  0.49424137  0.53129949\n",
      "  0.55917756  0.51496948  0.54243796  0.52658249  0.52376504  0.50004836\n",
      "  0.28080855  0.42791743  0.18397178  0.33349832  0.44050666  0.26835238\n",
      "  0.22644221  0.41351517  0.36237154  0.37172212  0.33117067  0.32999118\n",
      "  0.33092229  0.33794408  0.30514018  0.49255774  0.50778861  0.51261777\n",
      "  0.50678823  0.50817612  0.5020347   0.49301295  0.51720445  0.51852522\n",
      "  0.52145169  0.51596673  0.51346999  0.52671106  0.50214026  0.50858064\n",
      "  0.47112459  0.4656368   0.46740864  0.46284612  0.47393742  0.47968969\n",
      "  0.49755254  0.48230318  0.49095602  0.46405302  0.34519814  0.27823778\n",
      "  0.32962888  0.29366842  0.40050094  0.27456744  0.32378989  0.29231173\n",
      "  0.39462664  0.33729196  0.30324149  0.48812372  0.29976673  0.4298867\n",
      "  0.25687375  0.25946325  0.47067765  0.52495866  0.49070029  0.49617108]' has dtype incompatible with int64, please explicitly cast to a compatible dtype first.\n",
      "  results.loc[results.fitness_rule == fitness_rule,'Performance'] = results.loc[results.fitness_rule == fitness_rule,performance_metric]\n",
      "/tmp/ipykernel_356879/3340472993.py:32: FutureWarning: Setting an item of incompatible dtype is deprecated and will raise in a future error of pandas. Value '[1.13825347e-01 1.73521103e-01 2.60110933e-01 4.91759921e-02\n",
      " 2.37567298e-01 1.17197161e-01 5.12375721e-01 1.39148810e-01\n",
      " 3.75624376e-01 6.97443252e-02 5.44978085e-02 8.04073975e-03\n",
      " 1.08162966e-01 6.66766074e-02 1.95899180e-01 1.16960174e-03\n",
      " 4.08467905e-02 1.09815558e-02 2.15991749e-02 5.01220144e-02\n",
      " 1.55300679e-02 3.18183083e-03 7.51760944e-02 8.19620098e-03\n",
      " 2.92852939e-02 3.47902982e-02 6.29592605e-02 7.60478297e-03\n",
      " 9.20674085e-03 1.11832208e-03 9.73651646e-03 1.04278075e-01\n",
      " 3.73333333e-02 1.68249809e-01 1.57687406e-01 1.02569857e-01\n",
      " 1.72616857e-01 6.05698529e-01 2.47318747e-01 6.16299500e-02\n",
      " 1.65811966e-01 3.84615385e-02 1.19124895e-01 1.39083684e-01\n",
      " 3.30484330e-02 3.61126697e-01 2.86223893e-02 5.98053276e-02\n",
      " 5.70553380e-02 1.07235044e-03 4.34992017e-02 1.48929435e-02\n",
      " 8.32864487e-02 5.07759033e-02 5.37501004e-02 5.43889066e-02\n",
      " 7.09355402e-02 3.25746879e-02 4.49015150e-02 2.10104768e-02\n",
      " 8.54312177e-02 4.09591572e-02 4.45833923e-02 5.74593656e-02\n",
      " 4.27343986e-02 6.61076680e-03 4.43509282e-02 1.13463918e-02\n",
      " 4.73153332e-02 1.06098835e-01 9.11497405e-03 4.03667214e-02\n",
      " 5.46140539e-02 4.62079024e-02 1.89642662e-01 6.96939063e-02\n",
      " 7.99311095e-02 2.03387094e-02 2.89703545e-02 2.11034541e-02\n",
      " 1.70915483e-02 1.49127450e-02 4.16376302e-02 3.84695240e-03\n",
      " 1.08943922e-02 1.99530739e-02 7.53657377e-03 4.04988637e-02\n",
      " 2.33517034e-02 2.88450218e-02 1.55862579e-02 6.88319886e-03\n",
      " 1.86437260e-02 2.86412760e-02 6.36384947e-02 4.64199105e-02\n",
      " 1.82733632e-02 1.83140783e-02 1.00460258e-01 4.47673764e-02\n",
      " 5.59864968e-02 3.25517376e-02 3.58312651e-02 1.22306952e-01\n",
      " 6.78026955e-03 3.44865957e-03 2.05317627e-02 2.21746339e-02\n",
      " 1.97484249e-02 1.53645833e-01 5.71095571e-02 7.83272486e-02\n",
      " 9.80902778e-02 7.09082079e-02 5.77589526e-02 1.21212121e-01\n",
      " 1.25060709e-01 1.29670330e-01 1.17938436e-04 6.51041667e-02\n",
      " 1.89959294e-02 1.14797452e-01 1.13221967e-01 3.66122118e-02\n",
      " 1.61378915e-01 8.60692778e-02 1.60190092e-01 1.42586444e-01\n",
      " 5.19156870e-02 7.63903762e-02 1.51357095e-01 4.68353458e-02\n",
      " 1.75829926e-01 1.71816652e-01 6.09864432e-02 1.25677307e-01\n",
      " 1.82466487e-01 6.25298777e-02 1.37133814e-01 1.61006835e-01\n",
      " 7.78772545e-02 2.60624631e-01 1.38639491e-01 1.09863969e-01\n",
      " 6.17386466e-02 1.26009126e-01 6.53283681e-02 2.10579088e-01\n",
      " 1.56903938e-01 2.72890253e-02 1.66942015e-01 1.40600712e-01\n",
      " 2.94667278e-02 1.61740633e-01 2.51351182e-01 7.68802354e-02\n",
      " 4.35765038e-02 1.34516717e-01 6.20726172e-02 1.86388651e-01\n",
      " 1.52299899e-01 9.64242987e-02 1.39596384e-01 1.27942672e-01\n",
      " 6.88517107e-02 2.03147256e-01 1.17616281e-01 1.28756428e-01\n",
      " 1.15220288e-01 1.41235813e-01 1.57264957e-01 1.46918907e-01\n",
      " 5.68022440e-02 7.85179733e-03 4.27631579e-02 2.79202279e-02\n",
      " 6.90476190e-02 0.00000000e+00 3.18433778e-03 4.68806347e-02\n",
      " 1.53492647e-01 1.38801993e-01 2.60560600e-02 4.49542347e-02\n",
      " 3.12899951e-02 9.78243483e-03 1.91231004e-02 2.08367380e-02\n",
      " 4.32690025e-02 1.15616860e-02 5.66984800e-02 6.10483871e-02\n",
      " 3.87121480e-02 1.15156833e-02 3.58626196e-02 7.81682086e-02\n",
      " 9.05951549e-02 9.29360495e-02 3.54262406e-02 1.79274224e-02\n",
      " 7.81947306e-03 4.10145089e-02 1.73406298e-03 2.12581146e-03\n",
      " 2.45434676e-03 4.50267516e-03 8.18480082e-04 1.38748220e-02\n",
      " 1.18897162e-02 5.35421097e-03 7.01296535e-03 6.90166337e-03\n",
      " 1.36485302e-02 1.16089903e-02 2.50091198e-03 1.35488310e-02\n",
      " 5.93593713e-03 2.96378299e-02 4.92080429e-02 4.52065529e-02\n",
      " 4.37678549e-02 4.19640146e-02 4.18132177e-02 1.54490864e-03\n",
      " 2.96889871e-02 4.98234107e-02 4.31338423e-02 3.65580192e-02\n",
      " 4.36457437e-03 5.43582598e-02 3.57586787e-02 3.98860399e-02\n",
      " 1.32519222e-01 1.28571429e-01 2.75959440e-02 2.94506551e-02\n",
      " 6.24123422e-02 1.69438669e-01 5.69255306e-02 9.43012212e-02\n",
      " 1.02686787e-01 1.75610331e-01 2.15954416e-01 1.43668173e-02\n",
      " 4.79195886e-02 1.28725843e-01 1.52136252e-01 2.32013215e-01\n",
      " 2.59476607e-01 1.95178702e-01 2.04823827e-01 1.84281034e-01\n",
      " 2.05260428e-01 2.43810975e-01 2.10792701e-01 2.60132367e-01\n",
      " 1.93459287e-01 1.74103191e-01 2.03488528e-01 2.96065040e-01\n",
      " 1.64770205e-01 1.73123297e-01 1.97218941e-01 1.95309282e-01\n",
      " 1.80004150e-01 1.87135652e-01 1.83871196e-01 1.78246465e-01\n",
      " 1.89728422e-01 1.74134580e-01 1.71448015e-01 1.86026133e-01\n",
      " 1.79793870e-01 1.86553246e-01 2.05293361e-01 1.71645232e-01\n",
      " 2.02760435e-01 1.87175879e-01 5.48948527e-02 1.09463383e-01\n",
      " 6.13298147e-02 8.24815683e-02 9.84679656e-02 8.19055570e-02\n",
      " 8.90711760e-02 1.40666611e-01 1.16458303e-01 1.22206290e-01\n",
      " 1.20120331e-01 1.23062813e-01 1.35773376e-01 6.27841866e-02\n",
      " 8.59028512e-02 1.50741490e-01 2.17468806e-01 9.75935829e-02\n",
      " 3.31930809e-02 6.20356174e-02 1.52380952e-01 7.04365079e-02\n",
      " 1.89733152e-01 1.47794860e-01 1.75498575e-01 1.56858120e-02\n",
      " 7.53696358e-02 2.08751032e-01 1.68650794e-02 9.17678812e-02\n",
      " 4.34294692e-02 1.34183925e-02 4.52582229e-03 1.28036040e-02\n",
      " 5.56228859e-03 5.41544225e-03 1.53238126e-02 1.21135441e-02\n",
      " 6.27656777e-03 3.96566463e-02 2.37919041e-03 1.22080722e-02\n",
      " 5.01353029e-03 1.16804594e-02 2.25117591e-03 9.21555190e-03\n",
      " 1.77265009e-02 3.06101905e-03 8.63422371e-03 4.28034997e-02\n",
      " 2.45663523e-02 6.08668451e-03 8.45545400e-02 2.65295941e-03\n",
      " 1.25267507e-02 5.69640024e-02 2.62544473e-02 7.16911765e-02\n",
      " 1.89484127e-01 3.76984127e-02 4.09606105e-02 1.49801587e-01\n",
      " 1.69964485e-01 4.51145395e-02 6.90476190e-02 8.06216610e-02\n",
      " 1.67708456e-01 6.26143817e-03 1.86590437e-01 6.32925598e-02\n",
      " 1.03085554e-01 1.69985430e-01 7.95009235e-02 8.51541756e-02\n",
      " 7.65719766e-02 1.05943837e-01]' has dtype incompatible with int64, please explicitly cast to a compatible dtype first.\n",
      "  results.loc[results.fitness_rule == fitness_rule,'Fairness'] = results.loc[results.fitness_rule == fitness_rule,fairness_metric]\n"
     ]
    }
   ],
   "source": [
    "fitness_rules_target_metrics = {\n",
    "    'mcc_parity': {'performance': 'Mathew Correlation', 'fairness': 'Statistical Parity'},\n",
    "    'mcc_opportunity': {'performance': 'Mathew Correlation', 'fairness': 'Equal Opportunity'},\n",
    "    'mcc_odds': {'performance': 'Mathew Correlation', 'fairness': 'Equalized Odds'},\n",
    "    'acc_parity': {'performance': 'Accuracy', 'fairness': 'Statistical Parity'},\n",
    "    'acc_opportunity': {'performance': 'Accuracy', 'fairness': 'Equal Opportunity'},\n",
    "    'acc_odds': {'performance': 'Accuracy', 'fairness': 'Equalized Odds'}\n",
    "}\n",
    "\n",
    "fitness_rules_target_metrics = {\n",
    "    'mcc_parity': ('Mathew Correlation', 'Statistical Parity'),\n",
    "    'mcc_opportunity': ('Mathew Correlation', 'Equal Opportunity'),\n",
    "    'mcc_odds': ('Mathew Correlation', 'Equalized Odds'),\n",
    "    'acc_parity': ('Accuracy', 'Statistical Parity'),\n",
    "    'acc_opportunity': ('Accuracy', 'Equal Opportunity'),\n",
    "    'acc_odds': ('Accuracy', 'Equalized Odds')\n",
    "}\n",
    "fitness_rules_abvr = {\n",
    "    'mcc_parity': 'Max(MCC - Stat. Parity)',\n",
    "    'mcc_opportunity': 'Max(MCC - Eq. Odds)',\n",
    "    'mcc_odds': 'Max(MCC - Eq. Opp.)',\n",
    "    'acc_parity': 'Max(Acc - Stat. Parity)',\n",
    "    'acc_opportunity': 'Max(Acc - Eq. Odds)',\n",
    "    'acc_odds': 'Max(Acc - Eq. Opp.)'\n",
    "}\n",
    "\n",
    "results['Performance'] = 0\n",
    "results['Fairness'] = 0\n",
    "results['Fitness Rule'] = ''\n",
    "for fitness_rule, (performance_metric, fairness_metric) in fitness_rules_target_metrics.items():\n",
    "    results.loc[results.fitness_rule == fitness_rule,'Performance'] = results.loc[results.fitness_rule == fitness_rule,performance_metric]\n",
    "    results.loc[results.fitness_rule == fitness_rule,'Fairness'] = results.loc[results.fitness_rule == fitness_rule,fairness_metric]\n",
    "    results.loc[results.fitness_rule == fitness_rule,'Fitness Rule Abvr'] = fitness_rules_abvr[fitness_rule]\n",
    "    results.loc[results.fitness_rule == fitness_rule,'Fitness Rule'] = 'Max(%s - %s)' % fitness_rules_target_metrics[fitness_rule]"
   ]
  },
  {
   "cell_type": "code",
   "execution_count": 6,
   "metadata": {
    "ExecuteTime": {
     "end_time": "2024-01-02T16:57:31.169228859Z",
     "start_time": "2024-01-02T16:57:31.159960555Z"
    }
   },
   "outputs": [
    {
     "data": {
      "text/plain": "      Unnamed: 0            dataset                           method  \\\n0              2  Compas Recidivism            Adversarial Debiasing   \n1              7  Compas Recidivism            Adversarial Debiasing   \n2             12  Compas Recidivism            Adversarial Debiasing   \n3             17  Compas Recidivism            Adversarial Debiasing   \n4             22  Compas Recidivism            Adversarial Debiasing   \n...          ...                ...                              ...   \n2104         265     Bank Marketing  Adaptative Priority Reweighting   \n2105         266     Bank Marketing  Adaptative Priority Reweighting   \n2106         267     Bank Marketing  Adaptative Priority Reweighting   \n2107         268     Bank Marketing  Adaptative Priority Reweighting   \n2108         269     Bank Marketing  Adaptative Priority Reweighting   \n\n         fitness_rule   fitness  Accuracy  Mathew Correlation  Equalized Odds  \\\n0          mcc_parity  0.202105  0.663695            0.315930        0.095539   \n1            mcc_odds  0.220379  0.633712            0.259502        0.039123   \n2     mcc_opportunity  0.285652  0.660454            0.303159        0.010621   \n3          acc_parity  0.586824  0.666937            0.328174        0.049345   \n4            acc_odds  0.611710  0.676661            0.344075        0.064952   \n...               ...       ...       ...                 ...             ...   \n2104         mcc_odds  0.425545  0.898983            0.467394        0.041848   \n2105  mcc_opportunity  0.458816  0.898819            0.485940        0.015736   \n2106       acc_parity  0.895573  0.898163            0.439099        0.093523   \n2107         acc_odds  0.830674  0.899475            0.453680        0.068801   \n2108  acc_opportunity  0.815179  0.898983            0.493422        0.059980   \n\n      Statistical Parity  Equal Opportunity  Performance  Fairness  \\\n0               0.113825           0.059224     0.315930  0.113825   \n1               0.024473           0.034721     0.259502  0.039123   \n2               0.010864           0.017507     0.303159  0.017507   \n3               0.080113           0.019058     0.666937  0.080113   \n4               0.085725           0.060409     0.676661  0.064952   \n...                  ...                ...          ...       ...   \n2104            0.035018           0.065836     0.467394  0.041848   \n2105            0.057399           0.027124     0.485940  0.027124   \n2106            0.002590           0.183730     0.898163  0.002590   \n2107            0.070182           0.114781     0.899475  0.068801   \n2108            0.104507           0.083804     0.898983  0.083804   \n\n                                      Fitness Rule        Fitness Rule Abvr  \n0     Max(Mathew Correlation - Statistical Parity)  Max(MCC - Stat. Parity)  \n1         Max(Mathew Correlation - Equalized Odds)      Max(MCC - Eq. Opp.)  \n2      Max(Mathew Correlation - Equal Opportunity)      Max(MCC - Eq. Odds)  \n3               Max(Accuracy - Statistical Parity)  Max(Acc - Stat. Parity)  \n4                   Max(Accuracy - Equalized Odds)      Max(Acc - Eq. Opp.)  \n...                                            ...                      ...  \n2104      Max(Mathew Correlation - Equalized Odds)      Max(MCC - Eq. Opp.)  \n2105   Max(Mathew Correlation - Equal Opportunity)      Max(MCC - Eq. Odds)  \n2106            Max(Accuracy - Statistical Parity)  Max(Acc - Stat. Parity)  \n2107                Max(Accuracy - Equalized Odds)      Max(Acc - Eq. Opp.)  \n2108             Max(Accuracy - Equal Opportunity)      Max(Acc - Eq. Odds)  \n\n[2109 rows x 14 columns]",
      "text/html": "<div>\n<style scoped>\n    .dataframe tbody tr th:only-of-type {\n        vertical-align: middle;\n    }\n\n    .dataframe tbody tr th {\n        vertical-align: top;\n    }\n\n    .dataframe thead th {\n        text-align: right;\n    }\n</style>\n<table border=\"1\" class=\"dataframe\">\n  <thead>\n    <tr style=\"text-align: right;\">\n      <th></th>\n      <th>Unnamed: 0</th>\n      <th>dataset</th>\n      <th>method</th>\n      <th>fitness_rule</th>\n      <th>fitness</th>\n      <th>Accuracy</th>\n      <th>Mathew Correlation</th>\n      <th>Equalized Odds</th>\n      <th>Statistical Parity</th>\n      <th>Equal Opportunity</th>\n      <th>Performance</th>\n      <th>Fairness</th>\n      <th>Fitness Rule</th>\n      <th>Fitness Rule Abvr</th>\n    </tr>\n  </thead>\n  <tbody>\n    <tr>\n      <th>0</th>\n      <td>2</td>\n      <td>Compas Recidivism</td>\n      <td>Adversarial Debiasing</td>\n      <td>mcc_parity</td>\n      <td>0.202105</td>\n      <td>0.663695</td>\n      <td>0.315930</td>\n      <td>0.095539</td>\n      <td>0.113825</td>\n      <td>0.059224</td>\n      <td>0.315930</td>\n      <td>0.113825</td>\n      <td>Max(Mathew Correlation - Statistical Parity)</td>\n      <td>Max(MCC - Stat. Parity)</td>\n    </tr>\n    <tr>\n      <th>1</th>\n      <td>7</td>\n      <td>Compas Recidivism</td>\n      <td>Adversarial Debiasing</td>\n      <td>mcc_odds</td>\n      <td>0.220379</td>\n      <td>0.633712</td>\n      <td>0.259502</td>\n      <td>0.039123</td>\n      <td>0.024473</td>\n      <td>0.034721</td>\n      <td>0.259502</td>\n      <td>0.039123</td>\n      <td>Max(Mathew Correlation - Equalized Odds)</td>\n      <td>Max(MCC - Eq. Opp.)</td>\n    </tr>\n    <tr>\n      <th>2</th>\n      <td>12</td>\n      <td>Compas Recidivism</td>\n      <td>Adversarial Debiasing</td>\n      <td>mcc_opportunity</td>\n      <td>0.285652</td>\n      <td>0.660454</td>\n      <td>0.303159</td>\n      <td>0.010621</td>\n      <td>0.010864</td>\n      <td>0.017507</td>\n      <td>0.303159</td>\n      <td>0.017507</td>\n      <td>Max(Mathew Correlation - Equal Opportunity)</td>\n      <td>Max(MCC - Eq. Odds)</td>\n    </tr>\n    <tr>\n      <th>3</th>\n      <td>17</td>\n      <td>Compas Recidivism</td>\n      <td>Adversarial Debiasing</td>\n      <td>acc_parity</td>\n      <td>0.586824</td>\n      <td>0.666937</td>\n      <td>0.328174</td>\n      <td>0.049345</td>\n      <td>0.080113</td>\n      <td>0.019058</td>\n      <td>0.666937</td>\n      <td>0.080113</td>\n      <td>Max(Accuracy - Statistical Parity)</td>\n      <td>Max(Acc - Stat. Parity)</td>\n    </tr>\n    <tr>\n      <th>4</th>\n      <td>22</td>\n      <td>Compas Recidivism</td>\n      <td>Adversarial Debiasing</td>\n      <td>acc_odds</td>\n      <td>0.611710</td>\n      <td>0.676661</td>\n      <td>0.344075</td>\n      <td>0.064952</td>\n      <td>0.085725</td>\n      <td>0.060409</td>\n      <td>0.676661</td>\n      <td>0.064952</td>\n      <td>Max(Accuracy - Equalized Odds)</td>\n      <td>Max(Acc - Eq. Opp.)</td>\n    </tr>\n    <tr>\n      <th>...</th>\n      <td>...</td>\n      <td>...</td>\n      <td>...</td>\n      <td>...</td>\n      <td>...</td>\n      <td>...</td>\n      <td>...</td>\n      <td>...</td>\n      <td>...</td>\n      <td>...</td>\n      <td>...</td>\n      <td>...</td>\n      <td>...</td>\n      <td>...</td>\n    </tr>\n    <tr>\n      <th>2104</th>\n      <td>265</td>\n      <td>Bank Marketing</td>\n      <td>Adaptative Priority Reweighting</td>\n      <td>mcc_odds</td>\n      <td>0.425545</td>\n      <td>0.898983</td>\n      <td>0.467394</td>\n      <td>0.041848</td>\n      <td>0.035018</td>\n      <td>0.065836</td>\n      <td>0.467394</td>\n      <td>0.041848</td>\n      <td>Max(Mathew Correlation - Equalized Odds)</td>\n      <td>Max(MCC - Eq. Opp.)</td>\n    </tr>\n    <tr>\n      <th>2105</th>\n      <td>266</td>\n      <td>Bank Marketing</td>\n      <td>Adaptative Priority Reweighting</td>\n      <td>mcc_opportunity</td>\n      <td>0.458816</td>\n      <td>0.898819</td>\n      <td>0.485940</td>\n      <td>0.015736</td>\n      <td>0.057399</td>\n      <td>0.027124</td>\n      <td>0.485940</td>\n      <td>0.027124</td>\n      <td>Max(Mathew Correlation - Equal Opportunity)</td>\n      <td>Max(MCC - Eq. Odds)</td>\n    </tr>\n    <tr>\n      <th>2106</th>\n      <td>267</td>\n      <td>Bank Marketing</td>\n      <td>Adaptative Priority Reweighting</td>\n      <td>acc_parity</td>\n      <td>0.895573</td>\n      <td>0.898163</td>\n      <td>0.439099</td>\n      <td>0.093523</td>\n      <td>0.002590</td>\n      <td>0.183730</td>\n      <td>0.898163</td>\n      <td>0.002590</td>\n      <td>Max(Accuracy - Statistical Parity)</td>\n      <td>Max(Acc - Stat. Parity)</td>\n    </tr>\n    <tr>\n      <th>2107</th>\n      <td>268</td>\n      <td>Bank Marketing</td>\n      <td>Adaptative Priority Reweighting</td>\n      <td>acc_odds</td>\n      <td>0.830674</td>\n      <td>0.899475</td>\n      <td>0.453680</td>\n      <td>0.068801</td>\n      <td>0.070182</td>\n      <td>0.114781</td>\n      <td>0.899475</td>\n      <td>0.068801</td>\n      <td>Max(Accuracy - Equalized Odds)</td>\n      <td>Max(Acc - Eq. Opp.)</td>\n    </tr>\n    <tr>\n      <th>2108</th>\n      <td>269</td>\n      <td>Bank Marketing</td>\n      <td>Adaptative Priority Reweighting</td>\n      <td>acc_opportunity</td>\n      <td>0.815179</td>\n      <td>0.898983</td>\n      <td>0.493422</td>\n      <td>0.059980</td>\n      <td>0.104507</td>\n      <td>0.083804</td>\n      <td>0.898983</td>\n      <td>0.083804</td>\n      <td>Max(Accuracy - Equal Opportunity)</td>\n      <td>Max(Acc - Eq. Odds)</td>\n    </tr>\n  </tbody>\n</table>\n<p>2109 rows × 14 columns</p>\n</div>"
     },
     "metadata": {},
     "output_type": "display_data"
    }
   ],
   "source": [
    "display(results)"
   ]
  },
  {
   "cell_type": "code",
   "execution_count": 7,
   "metadata": {
    "ExecuteTime": {
     "end_time": "2024-01-02T16:57:31.235971487Z",
     "start_time": "2024-01-02T16:57:31.171089999Z"
    }
   },
   "outputs": [
    {
     "data": {
      "text/plain": "['Adult Income', 'Bank Marketing', 'Compas Recidivism', 'German Credit']"
     },
     "execution_count": 7,
     "metadata": {},
     "output_type": "execute_result"
    }
   ],
   "source": [
    "datasets = ['Adult Income', 'Bank Marketing', 'Compas Recidivism','German Credit']\n",
    "datasets"
   ]
  },
  {
   "cell_type": "code",
   "execution_count": 8,
   "metadata": {
    "ExecuteTime": {
     "end_time": "2024-01-02T16:57:31.236606235Z",
     "start_time": "2024-01-02T16:57:31.211554028Z"
    }
   },
   "outputs": [
    {
     "data": {
      "text/plain": "['mcc_parity',\n 'mcc_opportunity',\n 'mcc_odds',\n 'acc_parity',\n 'acc_opportunity',\n 'acc_odds']"
     },
     "execution_count": 8,
     "metadata": {},
     "output_type": "execute_result"
    }
   ],
   "source": [
    "fitness_rules = ['mcc_parity', 'mcc_opportunity', 'mcc_odds', 'acc_parity', 'acc_opportunity', 'acc_odds']\n",
    "fitness_rules"
   ]
  },
  {
   "cell_type": "code",
   "execution_count": 9,
   "metadata": {
    "ExecuteTime": {
     "end_time": "2024-01-02T16:57:31.237007781Z",
     "start_time": "2024-01-02T16:57:31.211710461Z"
    }
   },
   "outputs": [
    {
     "data": {
      "text/plain": "['Standard MLP (baseline)',\n 'Fair Transition Loss',\n 'Adversarial Debiasing',\n 'Prejudice Remover',\n 'Gerry Fair Classifier',\n 'Adaptative Priority Reweighting']"
     },
     "execution_count": 9,
     "metadata": {},
     "output_type": "execute_result"
    }
   ],
   "source": [
    "methods = ['Standard MLP (baseline)',\n",
    " 'Fair Transition Loss',\n",
    " 'Adversarial Debiasing',\n",
    " 'Prejudice Remover',\n",
    " 'Gerry Fair Classifier',\n",
    " 'Adaptative Priority Reweighting']\n",
    "methods"
   ]
  },
  {
   "cell_type": "code",
   "execution_count": 10,
   "outputs": [
    {
     "name": "stderr",
     "output_type": "stream",
     "text": [
      "Model comparisons: 100%|█████████▉| 14985/15000 [00:34<00:00, 434.32it/s]\n",
      "Model comparisons: 100%|█████████▉| 14985/15000 [00:33<00:00, 442.08it/s]\n",
      "Model comparisons: 100%|█████████▉| 14985/15000 [00:34<00:00, 440.54it/s]\n",
      "Model comparisons: 100%|█████████▉| 14985/15000 [00:33<00:00, 440.98it/s]\n",
      "Model comparisons: 100%|█████████▉| 14985/15000 [00:33<00:00, 444.68it/s]\n",
      "Model comparisons: 100%|█████████▉| 14985/15000 [00:33<00:00, 443.28it/s]\n",
      "Model comparisons: 100%|█████████▉| 14985/15000 [00:34<00:00, 439.91it/s]\n",
      "Model comparisons: 100%|█████████▉| 14985/15000 [00:34<00:00, 435.27it/s]\n",
      "Model comparisons: 100%|█████████▉| 14985/15000 [00:34<00:00, 434.37it/s]\n",
      "Model comparisons: 100%|█████████▉| 14985/15000 [00:33<00:00, 446.70it/s]\n",
      "Model comparisons: 100%|█████████▉| 14985/15000 [00:33<00:00, 440.90it/s]\n",
      "Model comparisons: 100%|█████████▉| 14985/15000 [00:34<00:00, 437.90it/s]\n",
      "Model comparisons: 100%|█████████▉| 14985/15000 [00:33<00:00, 452.44it/s]\n",
      "Model comparisons: 100%|█████████▉| 14985/15000 [00:33<00:00, 451.07it/s]\n",
      "Model comparisons: 100%|█████████▉| 14985/15000 [00:33<00:00, 441.03it/s]\n",
      "Model comparisons: 100%|█████████▉| 14985/15000 [00:33<00:00, 443.23it/s]\n",
      "Model comparisons: 100%|█████████▉| 14985/15000 [00:33<00:00, 441.04it/s]\n",
      "Model comparisons: 100%|█████████▉| 14985/15000 [00:33<00:00, 443.23it/s]\n",
      "Model comparisons: 100%|█████████▉| 14985/15000 [00:34<00:00, 431.82it/s]\n",
      "Model comparisons: 100%|█████████▉| 14985/15000 [00:33<00:00, 440.82it/s]\n",
      "Model comparisons: 100%|█████████▉| 14985/15000 [00:33<00:00, 447.93it/s]\n",
      "Model comparisons: 100%|█████████▉| 14985/15000 [00:33<00:00, 450.84it/s]\n",
      "Model comparisons: 100%|█████████▉| 14985/15000 [00:33<00:00, 450.73it/s]\n",
      "Model comparisons: 100%|█████████▉| 14985/15000 [00:33<00:00, 451.92it/s]\n"
     ]
    }
   ],
   "source": [
    "if os.path.exists('multi_aso_data_list.json'):\n",
    "    with open('multi_aso_data_list.json') as file:\n",
    "        multi_aso_data_list = json.load(file)\n",
    "else:    \n",
    "    multi_aso_data_list = []\n",
    "    for d in datasets:\n",
    "        multi_aso_data = []\n",
    "        for f in fitness_rules:\n",
    "            methods_results = []\n",
    "            for m in methods:\n",
    "                r = results.loc[ (results['dataset'] == d) &\n",
    "                                     (results['fitness_rule'] == f) &\n",
    "                                     (results['method'] == m) ]\\\n",
    "                            .fitness.tolist()\n",
    "                if len(r) == 0:\n",
    "                    r = [-1]\n",
    "                methods_results.append(r)\n",
    "            min_eps = deepsig.multi_aso(methods_results, confidence_level=0.95)\n",
    "            multi_aso_data_list.append({'fitness_rule': f, 'dataset': d, 'min_eps': min_eps.tolist()})\n",
    "    with open('multi_aso_data_list.json', 'w') as file:\n",
    "        json.dump(multi_aso_data_list, file)"
   ],
   "metadata": {
    "collapsed": false,
    "ExecuteTime": {
     "end_time": "2024-01-02T17:11:03.665895238Z",
     "start_time": "2024-01-02T16:57:31.211779336Z"
    }
   }
  },
  {
   "cell_type": "code",
   "execution_count": 11,
   "outputs": [
    {
     "name": "stderr",
     "output_type": "stream",
     "text": [
      "/tmp/ipykernel_356879/3353810814.py:34: FutureWarning: DataFrame.applymap has been deprecated. Use DataFrame.map instead.\n",
      "  formatted_significance = significance.applymap(lambda x: '\\\\textbf{' + f'{x:.2f}' + '}' if x < 0.5 else f'{x:.2f}' )\n"
     ]
    },
    {
     "name": "stdout",
     "output_type": "stream",
     "text": [
      "Significance Testing\n"
     ]
    },
    {
     "name": "stderr",
     "output_type": "stream",
     "text": [
      "/tmp/ipykernel_356879/3353810814.py:40: FutureWarning: DataFrame.applymap has been deprecated. Use DataFrame.map instead.\n",
      "  reverse_formatted_significance = reverse_significance.applymap(lambda x: '\\\\textit{' + f'{x:.2f}' + '}' if x < 0.5 else f'{x:.2f}' )\n"
     ]
    }
   ],
   "source": [
    "aso_df_resume = []\n",
    "reverse_aso_df_resume = []\n",
    "for aso_result in sorted(multi_aso_data_list, key=lambda x: x['dataset']):\n",
    "    fitness_rule = aso_result['fitness_rule']\n",
    "    dataset = aso_result['dataset']\n",
    "\n",
    "    aso_df = pd.DataFrame(aso_result['min_eps'], columns=methods)\n",
    "    aso_df['method'] = methods\n",
    "    aso_df['dataset'] = dataset\n",
    "    aso_df['fitness_rule'] = fitness_rule\n",
    "    aso_df = aso_df[aso_df['method'] == 'Fair Transition Loss' ]\n",
    "    aso_df = aso_df.drop(['Fair Transition Loss'], axis=1)\n",
    "    aso_df = aso_df.drop(['method'], axis=1)\n",
    "    aso_df_resume.append(aso_df)\n",
    "\n",
    "    reverse_aso_df = pd.DataFrame(aso_result['min_eps'], columns=methods).transpose()\n",
    "    mapping = dict()\n",
    "    for i, m in enumerate(methods):\n",
    "        mapping[reverse_aso_df.columns[i]] = m + ' (reverse)'\n",
    "    reverse_aso_df = reverse_aso_df.rename(columns=mapping)\n",
    "    reverse_aso_df['method'] = methods\n",
    "    reverse_aso_df['dataset'] = dataset\n",
    "    reverse_aso_df['fitness_rule'] = fitness_rule\n",
    "    reverse_aso_df = reverse_aso_df[reverse_aso_df['method'] == 'Fair Transition Loss' ]\n",
    "    reverse_aso_df = reverse_aso_df.drop(['Fair Transition Loss (reverse)'], axis=1)\n",
    "    reverse_aso_df = reverse_aso_df.drop(['method'], axis=1)\n",
    "    reverse_aso_df_resume.append(reverse_aso_df)\n",
    "\n",
    "print('Significance Testing')\n",
    "significance = pd.concat(aso_df_resume)\n",
    "significance = significance.set_index(['fitness_rule', 'dataset'])\n",
    "significance = significance.sort_values(by=['fitness_rule', 'dataset'])\n",
    "#display(pd.transpose(significance))\n",
    "formatted_significance = significance.applymap(lambda x: '\\\\textbf{' + f'{x:.2f}' + '}' if x < 0.5 else f'{x:.2f}' )\n",
    "formatted_significance.to_latex('tables/significance_resume.tex')\n",
    "\n",
    "reverse_significance = pd.concat(reverse_aso_df_resume)\n",
    "reverse_significance = reverse_significance.set_index(['fitness_rule', 'dataset'])\n",
    "reverse_significance = reverse_significance.sort_values(by=['fitness_rule', 'dataset'])\n",
    "reverse_formatted_significance = reverse_significance.applymap(lambda x: '\\\\textit{' + f'{x:.2f}' + '}' if x < 0.5 else f'{x:.2f}' )\n",
    "reverse_formatted_significance.to_latex('tables/reverse_significance_resume.tex')"
   ],
   "metadata": {
    "collapsed": false,
    "ExecuteTime": {
     "end_time": "2024-01-02T17:11:04.059442333Z",
     "start_time": "2024-01-02T17:11:03.721783313Z"
    }
   }
  },
  {
   "cell_type": "code",
   "execution_count": 12,
   "outputs": [
    {
     "data": {
      "text/plain": "                                  Standard MLP (baseline)  \\\nfitness_rule    dataset                                     \nacc_odds        Adult Income         \\textbf{0.01} (1.00)   \n                Bank Marketing                0.77 (1.00)   \n                Compas Recidivism    \\textbf{0.01} (1.00)   \n                German Credit        1.00 (\\textit{0.36})   \nacc_opportunity Adult Income                  0.90 (1.00)   \n                Bank Marketing                1.00 (0.76)   \n                Compas Recidivism    \\textbf{0.01} (0.99)   \n                German Credit                 1.00 (0.60)   \nacc_parity      Adult Income         \\textbf{0.01} (1.00)   \n                Bank Marketing       \\textbf{0.24} (1.00)   \n                Compas Recidivism    \\textbf{0.00} (1.00)   \n                German Credit                 1.00 (0.73)   \nmcc_odds        Adult Income         \\textbf{0.04} (1.00)   \n                Bank Marketing       \\textbf{0.44} (1.00)   \n                Compas Recidivism    \\textbf{0.01} (1.00)   \n                German Credit                 1.00 (1.00)   \nmcc_opportunity Adult Income         \\textbf{0.01} (1.00)   \n                Bank Marketing                0.81 (1.00)   \n                Compas Recidivism    \\textbf{0.00} (1.00)   \n                German Credit                 1.00 (0.84)   \nmcc_parity      Adult Income         \\textbf{0.00} (1.00)   \n                Bank Marketing       \\textbf{0.01} (1.00)   \n                Compas Recidivism    \\textbf{0.01} (1.00)   \n                German Credit        \\textbf{0.28} (1.00)   \n\n                                  Adversarial Debiasing     Prejudice Remover  \\\nfitness_rule    dataset                                                         \nacc_odds        Adult Income       \\textbf{0.21} (1.00)  \\textbf{0.19} (1.00)   \n                Bank Marketing     \\textbf{0.39} (1.00)           0.80 (1.00)   \n                Compas Recidivism  \\textbf{0.45} (1.00)  \\textbf{0.00} (1.00)   \n                German Credit      \\textbf{0.11} (1.00)  1.00 (\\textit{0.16})   \nacc_opportunity Adult Income                0.96 (1.00)           1.00 (0.50)   \n                Bank Marketing     \\textbf{0.38} (1.00)           0.81 (1.00)   \n                Compas Recidivism           0.80 (1.00)  \\textbf{0.00} (1.00)   \n                German Credit               0.63 (1.00)           1.00 (0.81)   \nacc_parity      Adult Income       \\textbf{0.28} (1.00)  \\textbf{0.32} (1.00)   \n                Bank Marketing              1.00 (0.56)           1.00 (0.73)   \n                Compas Recidivism  1.00 (\\textit{0.48})  \\textbf{0.11} (1.00)   \n                German Credit      \\textbf{0.25} (1.00)  1.00 (\\textit{0.40})   \nmcc_odds        Adult Income       \\textbf{0.25} (1.00)  \\textbf{0.44} (1.00)   \n                Bank Marketing     \\textbf{0.18} (1.00)  \\textbf{0.12} (1.00)   \n                Compas Recidivism           0.56 (1.00)  \\textbf{0.00} (1.00)   \n                German Credit      \\textbf{0.13} (1.00)           1.00 (0.89)   \nmcc_opportunity Adult Income       \\textbf{0.00} (1.00)  \\textbf{0.04} (1.00)   \n                Bank Marketing     \\textbf{0.18} (1.00)  \\textbf{0.24} (1.00)   \n                Compas Recidivism  1.00 (\\textit{0.16})  \\textbf{0.00} (1.00)   \n                German Credit      \\textbf{0.21} (1.00)           0.85 (1.00)   \nmcc_parity      Adult Income       \\textbf{0.15} (1.00)           1.00 (1.00)   \n                Bank Marketing     \\textbf{0.00} (1.00)  \\textbf{0.00} (1.00)   \n                Compas Recidivism  \\textbf{0.24} (1.00)  \\textbf{0.00} (1.00)   \n                German Credit      \\textbf{0.31} (1.00)  \\textbf{0.38} (1.00)   \n\n                                  Gerry Fair Classifier  \\\nfitness_rule    dataset                                   \nacc_odds        Adult Income       \\textbf{0.00} (1.00)   \n                Bank Marketing              1.00 (0.80)   \n                Compas Recidivism  \\textbf{0.01} (1.00)   \n                German Credit      1.00 (\\textit{0.46})   \nacc_opportunity Adult Income       \\textbf{0.25} (1.00)   \n                Bank Marketing     1.00 (\\textit{0.34})   \n                Compas Recidivism  \\textbf{0.09} (1.00)   \n                German Credit               1.00 (0.85)   \nacc_parity      Adult Income       \\textbf{0.00} (1.00)   \n                Bank Marketing              0.76 (1.00)   \n                Compas Recidivism           1.00 (0.71)   \n                German Credit               1.00 (0.83)   \nmcc_odds        Adult Income       \\textbf{0.00} (1.00)   \n                Bank Marketing     \\textbf{0.01} (1.00)   \n                Compas Recidivism  \\textbf{0.10} (1.00)   \n                German Credit      \\textbf{0.26} (1.00)   \nmcc_opportunity Adult Income       \\textbf{0.00} (1.00)   \n                Bank Marketing     \\textbf{0.09} (1.00)   \n                Compas Recidivism           0.63 (1.00)   \n                German Credit               0.77 (1.00)   \nmcc_parity      Adult Income       \\textbf{0.00} (1.00)   \n                Bank Marketing     \\textbf{0.00} (1.00)   \n                Compas Recidivism  \\textbf{0.02} (1.00)   \n                German Credit      \\textbf{0.24} (1.00)   \n\n                                  Adaptative Priority Reweighting  \nfitness_rule    dataset                                            \nacc_odds        Adult Income                          1.00 (0.93)  \n                Bank Marketing               1.00 (\\textit{0.20})  \n                Compas Recidivism            \\textbf{0.00} (1.00)  \n                German Credit                1.00 (\\textit{0.13})  \nacc_opportunity Adult Income                 1.00 (\\textit{0.13})  \n                Bank Marketing               1.00 (\\textit{0.25})  \n                Compas Recidivism            \\textbf{0.00} (1.00)  \n                German Credit                1.00 (\\textit{0.25})  \nacc_parity      Adult Income                          0.54 (1.00)  \n                Bank Marketing                        0.82 (1.00)  \n                Compas Recidivism            \\textbf{0.00} (1.00)  \n                German Credit                         1.00 (0.94)  \nmcc_odds        Adult Income                 \\textbf{0.00} (1.00)  \n                Bank Marketing               \\textbf{0.18} (1.00)  \n                Compas Recidivism            \\textbf{0.00} (1.00)  \n                German Credit                         1.00 (0.60)  \nmcc_opportunity Adult Income                          0.93 (0.98)  \n                Bank Marketing                        0.78 (1.00)  \n                Compas Recidivism            \\textbf{0.00} (1.00)  \n                German Credit                         0.78 (1.00)  \nmcc_parity      Adult Income                 1.00 (\\textit{0.35})  \n                Bank Marketing               \\textbf{0.00} (1.00)  \n                Compas Recidivism            \\textbf{0.00} (1.00)  \n                German Credit                \\textbf{0.32} (1.00)  ",
      "text/html": "<div>\n<style scoped>\n    .dataframe tbody tr th:only-of-type {\n        vertical-align: middle;\n    }\n\n    .dataframe tbody tr th {\n        vertical-align: top;\n    }\n\n    .dataframe thead th {\n        text-align: right;\n    }\n</style>\n<table border=\"1\" class=\"dataframe\">\n  <thead>\n    <tr style=\"text-align: right;\">\n      <th></th>\n      <th></th>\n      <th>Standard MLP (baseline)</th>\n      <th>Adversarial Debiasing</th>\n      <th>Prejudice Remover</th>\n      <th>Gerry Fair Classifier</th>\n      <th>Adaptative Priority Reweighting</th>\n    </tr>\n    <tr>\n      <th>fitness_rule</th>\n      <th>dataset</th>\n      <th></th>\n      <th></th>\n      <th></th>\n      <th></th>\n      <th></th>\n    </tr>\n  </thead>\n  <tbody>\n    <tr>\n      <th rowspan=\"4\" valign=\"top\">acc_odds</th>\n      <th>Adult Income</th>\n      <td>\\textbf{0.01} (1.00)</td>\n      <td>\\textbf{0.21} (1.00)</td>\n      <td>\\textbf{0.19} (1.00)</td>\n      <td>\\textbf{0.00} (1.00)</td>\n      <td>1.00 (0.93)</td>\n    </tr>\n    <tr>\n      <th>Bank Marketing</th>\n      <td>0.77 (1.00)</td>\n      <td>\\textbf{0.39} (1.00)</td>\n      <td>0.80 (1.00)</td>\n      <td>1.00 (0.80)</td>\n      <td>1.00 (\\textit{0.20})</td>\n    </tr>\n    <tr>\n      <th>Compas Recidivism</th>\n      <td>\\textbf{0.01} (1.00)</td>\n      <td>\\textbf{0.45} (1.00)</td>\n      <td>\\textbf{0.00} (1.00)</td>\n      <td>\\textbf{0.01} (1.00)</td>\n      <td>\\textbf{0.00} (1.00)</td>\n    </tr>\n    <tr>\n      <th>German Credit</th>\n      <td>1.00 (\\textit{0.36})</td>\n      <td>\\textbf{0.11} (1.00)</td>\n      <td>1.00 (\\textit{0.16})</td>\n      <td>1.00 (\\textit{0.46})</td>\n      <td>1.00 (\\textit{0.13})</td>\n    </tr>\n    <tr>\n      <th rowspan=\"4\" valign=\"top\">acc_opportunity</th>\n      <th>Adult Income</th>\n      <td>0.90 (1.00)</td>\n      <td>0.96 (1.00)</td>\n      <td>1.00 (0.50)</td>\n      <td>\\textbf{0.25} (1.00)</td>\n      <td>1.00 (\\textit{0.13})</td>\n    </tr>\n    <tr>\n      <th>Bank Marketing</th>\n      <td>1.00 (0.76)</td>\n      <td>\\textbf{0.38} (1.00)</td>\n      <td>0.81 (1.00)</td>\n      <td>1.00 (\\textit{0.34})</td>\n      <td>1.00 (\\textit{0.25})</td>\n    </tr>\n    <tr>\n      <th>Compas Recidivism</th>\n      <td>\\textbf{0.01} (0.99)</td>\n      <td>0.80 (1.00)</td>\n      <td>\\textbf{0.00} (1.00)</td>\n      <td>\\textbf{0.09} (1.00)</td>\n      <td>\\textbf{0.00} (1.00)</td>\n    </tr>\n    <tr>\n      <th>German Credit</th>\n      <td>1.00 (0.60)</td>\n      <td>0.63 (1.00)</td>\n      <td>1.00 (0.81)</td>\n      <td>1.00 (0.85)</td>\n      <td>1.00 (\\textit{0.25})</td>\n    </tr>\n    <tr>\n      <th rowspan=\"4\" valign=\"top\">acc_parity</th>\n      <th>Adult Income</th>\n      <td>\\textbf{0.01} (1.00)</td>\n      <td>\\textbf{0.28} (1.00)</td>\n      <td>\\textbf{0.32} (1.00)</td>\n      <td>\\textbf{0.00} (1.00)</td>\n      <td>0.54 (1.00)</td>\n    </tr>\n    <tr>\n      <th>Bank Marketing</th>\n      <td>\\textbf{0.24} (1.00)</td>\n      <td>1.00 (0.56)</td>\n      <td>1.00 (0.73)</td>\n      <td>0.76 (1.00)</td>\n      <td>0.82 (1.00)</td>\n    </tr>\n    <tr>\n      <th>Compas Recidivism</th>\n      <td>\\textbf{0.00} (1.00)</td>\n      <td>1.00 (\\textit{0.48})</td>\n      <td>\\textbf{0.11} (1.00)</td>\n      <td>1.00 (0.71)</td>\n      <td>\\textbf{0.00} (1.00)</td>\n    </tr>\n    <tr>\n      <th>German Credit</th>\n      <td>1.00 (0.73)</td>\n      <td>\\textbf{0.25} (1.00)</td>\n      <td>1.00 (\\textit{0.40})</td>\n      <td>1.00 (0.83)</td>\n      <td>1.00 (0.94)</td>\n    </tr>\n    <tr>\n      <th rowspan=\"4\" valign=\"top\">mcc_odds</th>\n      <th>Adult Income</th>\n      <td>\\textbf{0.04} (1.00)</td>\n      <td>\\textbf{0.25} (1.00)</td>\n      <td>\\textbf{0.44} (1.00)</td>\n      <td>\\textbf{0.00} (1.00)</td>\n      <td>\\textbf{0.00} (1.00)</td>\n    </tr>\n    <tr>\n      <th>Bank Marketing</th>\n      <td>\\textbf{0.44} (1.00)</td>\n      <td>\\textbf{0.18} (1.00)</td>\n      <td>\\textbf{0.12} (1.00)</td>\n      <td>\\textbf{0.01} (1.00)</td>\n      <td>\\textbf{0.18} (1.00)</td>\n    </tr>\n    <tr>\n      <th>Compas Recidivism</th>\n      <td>\\textbf{0.01} (1.00)</td>\n      <td>0.56 (1.00)</td>\n      <td>\\textbf{0.00} (1.00)</td>\n      <td>\\textbf{0.10} (1.00)</td>\n      <td>\\textbf{0.00} (1.00)</td>\n    </tr>\n    <tr>\n      <th>German Credit</th>\n      <td>1.00 (1.00)</td>\n      <td>\\textbf{0.13} (1.00)</td>\n      <td>1.00 (0.89)</td>\n      <td>\\textbf{0.26} (1.00)</td>\n      <td>1.00 (0.60)</td>\n    </tr>\n    <tr>\n      <th rowspan=\"4\" valign=\"top\">mcc_opportunity</th>\n      <th>Adult Income</th>\n      <td>\\textbf{0.01} (1.00)</td>\n      <td>\\textbf{0.00} (1.00)</td>\n      <td>\\textbf{0.04} (1.00)</td>\n      <td>\\textbf{0.00} (1.00)</td>\n      <td>0.93 (0.98)</td>\n    </tr>\n    <tr>\n      <th>Bank Marketing</th>\n      <td>0.81 (1.00)</td>\n      <td>\\textbf{0.18} (1.00)</td>\n      <td>\\textbf{0.24} (1.00)</td>\n      <td>\\textbf{0.09} (1.00)</td>\n      <td>0.78 (1.00)</td>\n    </tr>\n    <tr>\n      <th>Compas Recidivism</th>\n      <td>\\textbf{0.00} (1.00)</td>\n      <td>1.00 (\\textit{0.16})</td>\n      <td>\\textbf{0.00} (1.00)</td>\n      <td>0.63 (1.00)</td>\n      <td>\\textbf{0.00} (1.00)</td>\n    </tr>\n    <tr>\n      <th>German Credit</th>\n      <td>1.00 (0.84)</td>\n      <td>\\textbf{0.21} (1.00)</td>\n      <td>0.85 (1.00)</td>\n      <td>0.77 (1.00)</td>\n      <td>0.78 (1.00)</td>\n    </tr>\n    <tr>\n      <th rowspan=\"4\" valign=\"top\">mcc_parity</th>\n      <th>Adult Income</th>\n      <td>\\textbf{0.00} (1.00)</td>\n      <td>\\textbf{0.15} (1.00)</td>\n      <td>1.00 (1.00)</td>\n      <td>\\textbf{0.00} (1.00)</td>\n      <td>1.00 (\\textit{0.35})</td>\n    </tr>\n    <tr>\n      <th>Bank Marketing</th>\n      <td>\\textbf{0.01} (1.00)</td>\n      <td>\\textbf{0.00} (1.00)</td>\n      <td>\\textbf{0.00} (1.00)</td>\n      <td>\\textbf{0.00} (1.00)</td>\n      <td>\\textbf{0.00} (1.00)</td>\n    </tr>\n    <tr>\n      <th>Compas Recidivism</th>\n      <td>\\textbf{0.01} (1.00)</td>\n      <td>\\textbf{0.24} (1.00)</td>\n      <td>\\textbf{0.00} (1.00)</td>\n      <td>\\textbf{0.02} (1.00)</td>\n      <td>\\textbf{0.00} (1.00)</td>\n    </tr>\n    <tr>\n      <th>German Credit</th>\n      <td>\\textbf{0.28} (1.00)</td>\n      <td>\\textbf{0.31} (1.00)</td>\n      <td>\\textbf{0.38} (1.00)</td>\n      <td>\\textbf{0.24} (1.00)</td>\n      <td>\\textbf{0.32} (1.00)</td>\n    </tr>\n  </tbody>\n</table>\n</div>"
     },
     "execution_count": 12,
     "metadata": {},
     "output_type": "execute_result"
    }
   ],
   "source": [
    "for col, rev_col in zip(formatted_significance.columns, reverse_formatted_significance.columns):\n",
    "    formatted_significance[col] = formatted_significance[col] + (' (' + reverse_formatted_significance[rev_col] + ')')\n",
    "formatted_significance.to_latex('tables/combined_significance_resume.tex')\n",
    "formatted_significance"
   ],
   "metadata": {
    "collapsed": false,
    "ExecuteTime": {
     "end_time": "2024-01-02T17:11:04.072955663Z",
     "start_time": "2024-01-02T17:11:04.065628991Z"
    }
   }
  },
  {
   "cell_type": "code",
   "execution_count": 13,
   "outputs": [
    {
     "data": {
      "text/plain": "                                                                        fitness  \\\n                                                                           mean   \nFitness Rule Abvr       dataset       method                                      \nMax(Acc - Eq. Odds)     Adult Income  Adaptative Priority Reweighting  0.828577   \n                                      Prejudice Remover                0.809534   \n                                      Fair Transition Loss             0.787013   \n                                      Adversarial Debiasing            0.756054   \n                                      Standard MLP (baseline)          0.752260   \n...                                                                         ...   \nMax(MCC - Stat. Parity) German Credit Prejudice Remover                0.233727   \n                                      Standard MLP (baseline)          0.223085   \n                                      Gerry Fair Classifier            0.220550   \n                                      Adaptative Priority Reweighting  0.216517   \n                                      Adversarial Debiasing            0.200070   \n\n                                                                                 \\\n                                                                            std   \nFitness Rule Abvr       dataset       method                                      \nMax(Acc - Eq. Odds)     Adult Income  Adaptative Priority Reweighting  0.012771   \n                                      Prejudice Remover                0.022701   \n                                      Fair Transition Loss             0.083934   \n                                      Adversarial Debiasing            0.028345   \n                                      Standard MLP (baseline)          0.041790   \n...                                                                         ...   \nMax(MCC - Stat. Parity) German Credit Prejudice Remover                0.087339   \n                                      Standard MLP (baseline)          0.095145   \n                                      Gerry Fair Classifier            0.088103   \n                                      Adaptative Priority Reweighting  0.094516   \n                                      Adversarial Debiasing            0.172675   \n\n                                                                      Performance  \\\n                                                                             mean   \nFitness Rule Abvr       dataset       method                                        \nMax(Acc - Eq. Odds)     Adult Income  Adaptative Priority Reweighting    0.846582   \n                                      Prejudice Remover                  0.845788   \n                                      Fair Transition Loss               0.825826   \n                                      Adversarial Debiasing              0.847730   \n                                      Standard MLP (baseline)            0.849309   \n...                                                                           ...   \nMax(MCC - Stat. Parity) German Credit Prejudice Remover                  0.328818   \n                                      Standard MLP (baseline)            0.329618   \n                                      Gerry Fair Classifier              0.291429   \n                                      Adaptative Priority Reweighting    0.321270   \n                                      Adversarial Debiasing              0.367673   \n\n                                                                                 \\\n                                                                            std   \nFitness Rule Abvr       dataset       method                                      \nMax(Acc - Eq. Odds)     Adult Income  Adaptative Priority Reweighting  0.004174   \n                                      Prejudice Remover                0.003691   \n                                      Fair Transition Loss             0.069484   \n                                      Adversarial Debiasing            0.002904   \n                                      Standard MLP (baseline)          0.003078   \n...                                                                         ...   \nMax(MCC - Stat. Parity) German Credit Prejudice Remover                0.051833   \n                                      Standard MLP (baseline)          0.070975   \n                                      Gerry Fair Classifier            0.108332   \n                                      Adaptative Priority Reweighting  0.052610   \n                                      Adversarial Debiasing            0.056485   \n\n                                                                       Fairness  \\\n                                                                           mean   \nFitness Rule Abvr       dataset       method                                      \nMax(Acc - Eq. Odds)     Adult Income  Adaptative Priority Reweighting  0.018005   \n                                      Prejudice Remover                0.036254   \n                                      Fair Transition Loss             0.038813   \n                                      Adversarial Debiasing            0.091676   \n                                      Standard MLP (baseline)          0.097049   \n...                                                                         ...   \nMax(MCC - Stat. Parity) German Credit Prejudice Remover                0.095091   \n                                      Standard MLP (baseline)          0.106534   \n                                      Gerry Fair Classifier            0.070878   \n                                      Adaptative Priority Reweighting  0.104753   \n                                      Adversarial Debiasing            0.167603   \n\n                                                                                 \\\n                                                                            std   \nFitness Rule Abvr       dataset       method                                      \nMax(Acc - Eq. Odds)     Adult Income  Adaptative Priority Reweighting  0.011826   \n                                      Prejudice Remover                0.021244   \n                                      Fair Transition Loss             0.037378   \n                                      Adversarial Debiasing            0.027315   \n                                      Standard MLP (baseline)          0.042438   \n...                                                                         ...   \nMax(MCC - Stat. Parity) German Credit Prejudice Remover                0.061822   \n                                      Standard MLP (baseline)          0.069921   \n                                      Gerry Fair Classifier            0.059346   \n                                      Adaptative Priority Reweighting  0.060553   \n                                      Adversarial Debiasing            0.148864   \n\n                                                                       formatted_fitness  \\\n                                                                                           \nFitness Rule Abvr       dataset       method                                               \nMax(Acc - Eq. Odds)     Adult Income  Adaptative Priority Reweighting  $0.829 (\\pm0.01)$   \n                                      Prejudice Remover                $0.810 (\\pm0.02)$   \n                                      Fair Transition Loss             $0.787 (\\pm0.08)$   \n                                      Adversarial Debiasing            $0.756 (\\pm0.03)$   \n                                      Standard MLP (baseline)          $0.752 (\\pm0.04)$   \n...                                                                                  ...   \nMax(MCC - Stat. Parity) German Credit Prejudice Remover                $0.234 (\\pm0.09)$   \n                                      Standard MLP (baseline)          $0.223 (\\pm0.10)$   \n                                      Gerry Fair Classifier            $0.221 (\\pm0.09)$   \n                                      Adaptative Priority Reweighting  $0.217 (\\pm0.09)$   \n                                      Adversarial Debiasing            $0.200 (\\pm0.17)$   \n\n                                                                      formatted_performance  \\\n                                                                                              \nFitness Rule Abvr       dataset       method                                                  \nMax(Acc - Eq. Odds)     Adult Income  Adaptative Priority Reweighting     $0.847 (\\pm0.00)$   \n                                      Prejudice Remover                   $0.846 (\\pm0.00)$   \n                                      Fair Transition Loss                $0.826 (\\pm0.07)$   \n                                      Adversarial Debiasing               $0.848 (\\pm0.00)$   \n                                      Standard MLP (baseline)             $0.849 (\\pm0.00)$   \n...                                                                                     ...   \nMax(MCC - Stat. Parity) German Credit Prejudice Remover                   $0.329 (\\pm0.05)$   \n                                      Standard MLP (baseline)             $0.330 (\\pm0.07)$   \n                                      Gerry Fair Classifier               $0.291 (\\pm0.11)$   \n                                      Adaptative Priority Reweighting     $0.321 (\\pm0.05)$   \n                                      Adversarial Debiasing               $0.368 (\\pm0.06)$   \n\n                                                                      formatted_fairness  \n                                                                                          \nFitness Rule Abvr       dataset       method                                              \nMax(Acc - Eq. Odds)     Adult Income  Adaptative Priority Reweighting  $0.018 (\\pm0.01)$  \n                                      Prejudice Remover                $0.036 (\\pm0.02)$  \n                                      Fair Transition Loss             $0.039 (\\pm0.04)$  \n                                      Adversarial Debiasing            $0.092 (\\pm0.03)$  \n                                      Standard MLP (baseline)          $0.097 (\\pm0.04)$  \n...                                                                                  ...  \nMax(MCC - Stat. Parity) German Credit Prejudice Remover                $0.095 (\\pm0.06)$  \n                                      Standard MLP (baseline)          $0.107 (\\pm0.07)$  \n                                      Gerry Fair Classifier            $0.071 (\\pm0.06)$  \n                                      Adaptative Priority Reweighting  $0.105 (\\pm0.06)$  \n                                      Adversarial Debiasing            $0.168 (\\pm0.15)$  \n\n[138 rows x 9 columns]",
      "text/html": "<div>\n<style scoped>\n    .dataframe tbody tr th:only-of-type {\n        vertical-align: middle;\n    }\n\n    .dataframe tbody tr th {\n        vertical-align: top;\n    }\n\n    .dataframe thead tr th {\n        text-align: left;\n    }\n\n    .dataframe thead tr:last-of-type th {\n        text-align: right;\n    }\n</style>\n<table border=\"1\" class=\"dataframe\">\n  <thead>\n    <tr>\n      <th></th>\n      <th></th>\n      <th></th>\n      <th colspan=\"2\" halign=\"left\">fitness</th>\n      <th colspan=\"2\" halign=\"left\">Performance</th>\n      <th colspan=\"2\" halign=\"left\">Fairness</th>\n      <th>formatted_fitness</th>\n      <th>formatted_performance</th>\n      <th>formatted_fairness</th>\n    </tr>\n    <tr>\n      <th></th>\n      <th></th>\n      <th></th>\n      <th>mean</th>\n      <th>std</th>\n      <th>mean</th>\n      <th>std</th>\n      <th>mean</th>\n      <th>std</th>\n      <th></th>\n      <th></th>\n      <th></th>\n    </tr>\n    <tr>\n      <th>Fitness Rule Abvr</th>\n      <th>dataset</th>\n      <th>method</th>\n      <th></th>\n      <th></th>\n      <th></th>\n      <th></th>\n      <th></th>\n      <th></th>\n      <th></th>\n      <th></th>\n      <th></th>\n    </tr>\n  </thead>\n  <tbody>\n    <tr>\n      <th rowspan=\"5\" valign=\"top\">Max(Acc - Eq. Odds)</th>\n      <th rowspan=\"5\" valign=\"top\">Adult Income</th>\n      <th>Adaptative Priority Reweighting</th>\n      <td>0.828577</td>\n      <td>0.012771</td>\n      <td>0.846582</td>\n      <td>0.004174</td>\n      <td>0.018005</td>\n      <td>0.011826</td>\n      <td>$0.829 (\\pm0.01)$</td>\n      <td>$0.847 (\\pm0.00)$</td>\n      <td>$0.018 (\\pm0.01)$</td>\n    </tr>\n    <tr>\n      <th>Prejudice Remover</th>\n      <td>0.809534</td>\n      <td>0.022701</td>\n      <td>0.845788</td>\n      <td>0.003691</td>\n      <td>0.036254</td>\n      <td>0.021244</td>\n      <td>$0.810 (\\pm0.02)$</td>\n      <td>$0.846 (\\pm0.00)$</td>\n      <td>$0.036 (\\pm0.02)$</td>\n    </tr>\n    <tr>\n      <th>Fair Transition Loss</th>\n      <td>0.787013</td>\n      <td>0.083934</td>\n      <td>0.825826</td>\n      <td>0.069484</td>\n      <td>0.038813</td>\n      <td>0.037378</td>\n      <td>$0.787 (\\pm0.08)$</td>\n      <td>$0.826 (\\pm0.07)$</td>\n      <td>$0.039 (\\pm0.04)$</td>\n    </tr>\n    <tr>\n      <th>Adversarial Debiasing</th>\n      <td>0.756054</td>\n      <td>0.028345</td>\n      <td>0.847730</td>\n      <td>0.002904</td>\n      <td>0.091676</td>\n      <td>0.027315</td>\n      <td>$0.756 (\\pm0.03)$</td>\n      <td>$0.848 (\\pm0.00)$</td>\n      <td>$0.092 (\\pm0.03)$</td>\n    </tr>\n    <tr>\n      <th>Standard MLP (baseline)</th>\n      <td>0.752260</td>\n      <td>0.041790</td>\n      <td>0.849309</td>\n      <td>0.003078</td>\n      <td>0.097049</td>\n      <td>0.042438</td>\n      <td>$0.752 (\\pm0.04)$</td>\n      <td>$0.849 (\\pm0.00)$</td>\n      <td>$0.097 (\\pm0.04)$</td>\n    </tr>\n    <tr>\n      <th>...</th>\n      <th>...</th>\n      <th>...</th>\n      <td>...</td>\n      <td>...</td>\n      <td>...</td>\n      <td>...</td>\n      <td>...</td>\n      <td>...</td>\n      <td>...</td>\n      <td>...</td>\n      <td>...</td>\n    </tr>\n    <tr>\n      <th rowspan=\"5\" valign=\"top\">Max(MCC - Stat. Parity)</th>\n      <th rowspan=\"5\" valign=\"top\">German Credit</th>\n      <th>Prejudice Remover</th>\n      <td>0.233727</td>\n      <td>0.087339</td>\n      <td>0.328818</td>\n      <td>0.051833</td>\n      <td>0.095091</td>\n      <td>0.061822</td>\n      <td>$0.234 (\\pm0.09)$</td>\n      <td>$0.329 (\\pm0.05)$</td>\n      <td>$0.095 (\\pm0.06)$</td>\n    </tr>\n    <tr>\n      <th>Standard MLP (baseline)</th>\n      <td>0.223085</td>\n      <td>0.095145</td>\n      <td>0.329618</td>\n      <td>0.070975</td>\n      <td>0.106534</td>\n      <td>0.069921</td>\n      <td>$0.223 (\\pm0.10)$</td>\n      <td>$0.330 (\\pm0.07)$</td>\n      <td>$0.107 (\\pm0.07)$</td>\n    </tr>\n    <tr>\n      <th>Gerry Fair Classifier</th>\n      <td>0.220550</td>\n      <td>0.088103</td>\n      <td>0.291429</td>\n      <td>0.108332</td>\n      <td>0.070878</td>\n      <td>0.059346</td>\n      <td>$0.221 (\\pm0.09)$</td>\n      <td>$0.291 (\\pm0.11)$</td>\n      <td>$0.071 (\\pm0.06)$</td>\n    </tr>\n    <tr>\n      <th>Adaptative Priority Reweighting</th>\n      <td>0.216517</td>\n      <td>0.094516</td>\n      <td>0.321270</td>\n      <td>0.052610</td>\n      <td>0.104753</td>\n      <td>0.060553</td>\n      <td>$0.217 (\\pm0.09)$</td>\n      <td>$0.321 (\\pm0.05)$</td>\n      <td>$0.105 (\\pm0.06)$</td>\n    </tr>\n    <tr>\n      <th>Adversarial Debiasing</th>\n      <td>0.200070</td>\n      <td>0.172675</td>\n      <td>0.367673</td>\n      <td>0.056485</td>\n      <td>0.167603</td>\n      <td>0.148864</td>\n      <td>$0.200 (\\pm0.17)$</td>\n      <td>$0.368 (\\pm0.06)$</td>\n      <td>$0.168 (\\pm0.15)$</td>\n    </tr>\n  </tbody>\n</table>\n<p>138 rows × 9 columns</p>\n</div>"
     },
     "execution_count": 13,
     "metadata": {},
     "output_type": "execute_result"
    }
   ],
   "source": [
    "grouped_results = results\\\n",
    "    .groupby(['Fitness Rule Abvr', 'dataset', 'method'])\\\n",
    "    .agg({'fitness': ['mean', 'std'], 'Performance': ['mean', 'std'], 'Fairness': ['mean', 'std']})\\\n",
    "    .sort_values(by=['Fitness Rule Abvr', 'dataset', ('fitness','mean')], ascending=False)\n",
    "grouped_results['formatted_fitness'] = grouped_results.apply(lambda row: f\"${row[('fitness', 'mean')]:.3f} (\\pm{row[('fitness', 'std')]:.2f})$\", axis=1)\n",
    "grouped_results['formatted_performance'] = grouped_results.apply(lambda row: f\"${row[('Performance', 'mean')]:.3f} (\\pm{row[('Performance', 'std')]:.2f})$\", axis=1)\n",
    "grouped_results['formatted_fairness'] = grouped_results.apply(lambda row: f\"${row[('Fairness', 'mean')]:.3f} (\\pm{row[('Fairness', 'std')]:.2f})$\", axis=1)\n",
    "grouped_results = grouped_results.sort_values(by=['Fitness Rule Abvr', 'dataset'])\n",
    "grouped_results"
   ],
   "metadata": {
    "collapsed": false,
    "ExecuteTime": {
     "end_time": "2024-01-02T17:11:04.128436726Z",
     "start_time": "2024-01-02T17:11:04.074319174Z"
    }
   }
  },
  {
   "cell_type": "code",
   "execution_count": 14,
   "outputs": [],
   "source": [
    "selected_columns = ['formatted_fitness', 'formatted_performance', 'formatted_fairness']\n",
    "grouped_results[selected_columns].to_latex('tables/grouped_results.tex')"
   ],
   "metadata": {
    "collapsed": false,
    "ExecuteTime": {
     "end_time": "2024-01-02T17:11:04.163060803Z",
     "start_time": "2024-01-02T17:11:04.117748943Z"
    }
   }
  },
  {
   "cell_type": "code",
   "execution_count": 14,
   "outputs": [],
   "source": [],
   "metadata": {
    "collapsed": false,
    "ExecuteTime": {
     "end_time": "2024-01-02T17:11:04.163255147Z",
     "start_time": "2024-01-02T17:11:04.158388549Z"
    }
   }
  }
 ],
 "metadata": {
  "kernelspec": {
   "display_name": "Python 3 (ipykernel)",
   "language": "python",
   "name": "python3"
  },
  "language_info": {
   "codemirror_mode": {
    "name": "ipython",
    "version": 3
   },
   "file_extension": ".py",
   "mimetype": "text/x-python",
   "name": "python",
   "nbconvert_exporter": "python",
   "pygments_lexer": "ipython3",
   "version": "3.8.10"
  }
 },
 "nbformat": 4,
 "nbformat_minor": 1
}
