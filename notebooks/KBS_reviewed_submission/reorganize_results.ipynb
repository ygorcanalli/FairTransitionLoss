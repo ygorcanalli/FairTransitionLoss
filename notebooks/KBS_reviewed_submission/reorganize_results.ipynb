{
 "cells": [
  {
   "cell_type": "code",
   "execution_count": 6,
   "metadata": {
    "collapsed": true,
    "ExecuteTime": {
     "end_time": "2024-01-08T14:04:36.351956889Z",
     "start_time": "2024-01-08T14:04:36.349275965Z"
    }
   },
   "outputs": [],
   "source": [
    "import pandas as pd\n",
    "import os\n",
    "from IPython.display import display"
   ]
  },
  {
   "cell_type": "code",
   "execution_count": 7,
   "outputs": [],
   "source": [
    "def read_csv_files_from_folder(folder_path):\n",
    "    # Initialize an empty list to store DataFrames\n",
    "    dfs = []\n",
    "\n",
    "    # Get a list of files in the folder\n",
    "    file_list = os.listdir(folder_path)\n",
    "\n",
    "    # Iterate through the files in the folder\n",
    "    for file_name in file_list:\n",
    "        # Check if the file has a .csv extension\n",
    "        if file_name.endswith(\".csv\"):\n",
    "            file_path = os.path.join(folder_path, file_name)\n",
    "\n",
    "            # Read the CSV file into a DataFrame\n",
    "            df = pd.read_csv(file_path)\n",
    "\n",
    "            # Append the DataFrame to the list\n",
    "            dfs.append(df)\n",
    "\n",
    "    # Concatenate all DataFrames into a single DataFrame\n",
    "    combined_df = pd.concat(dfs, ignore_index=True)\n",
    "\n",
    "    return combined_df"
   ],
   "metadata": {
    "collapsed": false,
    "ExecuteTime": {
     "end_time": "2024-01-08T14:04:36.394004863Z",
     "start_time": "2024-01-08T14:04:36.351711351Z"
    }
   }
  },
  {
   "cell_type": "code",
   "execution_count": 8,
   "outputs": [
    {
     "data": {
      "text/plain": "      Unnamed: 0  overall_acc   bal_acc  avg_odds_diff  disp_imp  \\\n0              0     0.364668  0.371379       0.139842  1.550708   \n1              1     0.629660  0.638043       0.059950  0.906721   \n2              2     0.663695  0.656734       0.095539  0.826610   \n3              3     0.371961  0.380308       0.086285  0.921301   \n4              4     0.632091  0.608901       0.062264  0.902403   \n...          ...          ...       ...            ...       ...   \n1752          25     0.896851  0.669304       0.057653  2.118719   \n1753          26     0.896359  0.753549       0.072641  2.153847   \n1754          27     0.898655  0.696844       0.053642  1.420554   \n1755          28     0.901607  0.718345       0.145878  0.755483   \n1756          29     0.894064  0.687906       0.105366  1.858014   \n\n      stat_par_diff  eq_opp_diff  theil_ind  f1_score       TPR  ...  \\\n0          0.152136     0.061392   0.561578  0.296230  0.253067  ...   \n1          0.044583     0.016440   0.320804  0.633520  0.569986  ...   \n2          0.113825     0.059224   0.217829  0.703783  0.721816  ...   \n3          0.031290     0.120216   0.560273  0.312334  0.265861  ...   \n4          0.080319     0.014448   0.132399  0.720099  0.869048  ...   \n...             ...          ...        ...       ...       ...  ...   \n1752       0.074544     0.087314   0.093049  0.472758  0.364341  ...   \n1753       0.133189     0.120516   0.075922  0.584757  0.560453  ...   \n1754       0.034509     0.099174   0.086198  0.514914  0.427083  ...   \n1755       0.022450     0.286523   0.081914  0.551570  0.471867  ...   \n1756       0.069031     0.138699   0.090850  0.500000  0.409898  ...   \n\n           FOR       ACC       MCC   fitness  \\\n0     0.630829  0.364668 -0.265337 -0.417473   \n1     0.438235  0.629660  0.275422  0.230839   \n2     0.368217  0.663695  0.315930  0.202105   \n3     0.631990  0.371961 -0.246338 -0.277628   \n4     0.309859  0.632091  0.257688  0.177368   \n...        ...       ...       ...       ...   \n1752  0.086635  0.896851  0.445599  0.809537   \n1753  0.064991  0.896359  0.526321  0.775843   \n1754  0.078684  0.898655  0.473519  0.799482   \n1755  0.074522  0.901607  0.507223  0.615084   \n1756  0.083125  0.894064  0.457830  0.755364   \n\n                                               solution  \\\n0                       {'dropout': 0.1341639192169604}   \n1     {'dropout': 0.10200830650984788, 'privileged_d...   \n2         {'adversary_loss_weight': 0.8994664855734407}   \n3                            {'eta': 49.71844165180314}   \n4              {'C': 11.825914945150187, 'gamma': 0.01}   \n...                                                 ...   \n1752            {'C': 10.459577021264977, 'gamma': 0.1}   \n1753                  {'dropout': 0.000321942353699714}   \n1754  {'dropout': 0.014472416047403187, 'privileged_...   \n1755      {'adversary_loss_weight': 0.8391213408528397}   \n1756                         {'eta': 39.18922596420359}   \n\n                                   tune_results_history     fitness_rule  \\\n0     [{'overall_acc': 0.36879432624113473, 'bal_acc...       mcc_parity   \n1     [{'overall_acc': 0.5096251266464032, 'bal_acc'...       mcc_parity   \n2     [{'overall_acc': 0.6798378926038501, 'bal_acc'...       mcc_parity   \n3     [{'overall_acc': 0.3525835866261398, 'bal_acc'...       mcc_parity   \n4     [{'overall_acc': 0.5997973657548126, 'bal_acc'...       mcc_parity   \n...                                                 ...              ...   \n1752  [{'overall_acc': 0.8993439934399344, 'bal_acc'...  acc_opportunity   \n1753  [{'overall_acc': 0.9093890938909389, 'bal_acc'...  acc_opportunity   \n1754  [{'overall_acc': 0.8511685116851169, 'bal_acc'...  acc_opportunity   \n1755  [{'overall_acc': 0.8987289872898729, 'bal_acc'...  acc_opportunity   \n1756  [{'overall_acc': 0.8964739647396474, 'bal_acc'...  acc_opportunity   \n\n                                 method                dataset  \\\n0                simple_mlp_initializer  compas_dataset_reader   \n1                   ftl_mlp_initializer  compas_dataset_reader   \n2     adversarial_debiasing_initializer  compas_dataset_reader   \n3         prejudice_remover_initializer  compas_dataset_reader   \n4     gerry_fair_classifier_initializer  compas_dataset_reader   \n...                                 ...                    ...   \n1752  gerry_fair_classifier_initializer    bank_dataset_reader   \n1753             simple_mlp_initializer    bank_dataset_reader   \n1754                ftl_mlp_initializer    bank_dataset_reader   \n1755  adversarial_debiasing_initializer    bank_dataset_reader   \n1756      prejudice_remover_initializer    bank_dataset_reader   \n\n                               best_solution_tf_history  \n0     {'loss': [0.7595557213286125, 0.69979321408792...  \n1     {'loss': [0.6842847106343428, 0.65160468536928...  \n2                                                   NaN  \n3                                                   NaN  \n4                                                   NaN  \n...                                                 ...  \n1752                                                NaN  \n1753  {'loss': [0.2854798949427075, 0.22084286485976...  \n1754  {'loss': [0.49211953761153904, 0.4700222834873...  \n1755                                                NaN  \n1756                                                NaN  \n\n[1757 rows x 30 columns]",
      "text/html": "<div>\n<style scoped>\n    .dataframe tbody tr th:only-of-type {\n        vertical-align: middle;\n    }\n\n    .dataframe tbody tr th {\n        vertical-align: top;\n    }\n\n    .dataframe thead th {\n        text-align: right;\n    }\n</style>\n<table border=\"1\" class=\"dataframe\">\n  <thead>\n    <tr style=\"text-align: right;\">\n      <th></th>\n      <th>Unnamed: 0</th>\n      <th>overall_acc</th>\n      <th>bal_acc</th>\n      <th>avg_odds_diff</th>\n      <th>disp_imp</th>\n      <th>stat_par_diff</th>\n      <th>eq_opp_diff</th>\n      <th>theil_ind</th>\n      <th>f1_score</th>\n      <th>TPR</th>\n      <th>...</th>\n      <th>FOR</th>\n      <th>ACC</th>\n      <th>MCC</th>\n      <th>fitness</th>\n      <th>solution</th>\n      <th>tune_results_history</th>\n      <th>fitness_rule</th>\n      <th>method</th>\n      <th>dataset</th>\n      <th>best_solution_tf_history</th>\n    </tr>\n  </thead>\n  <tbody>\n    <tr>\n      <th>0</th>\n      <td>0</td>\n      <td>0.364668</td>\n      <td>0.371379</td>\n      <td>0.139842</td>\n      <td>1.550708</td>\n      <td>0.152136</td>\n      <td>0.061392</td>\n      <td>0.561578</td>\n      <td>0.296230</td>\n      <td>0.253067</td>\n      <td>...</td>\n      <td>0.630829</td>\n      <td>0.364668</td>\n      <td>-0.265337</td>\n      <td>-0.417473</td>\n      <td>{'dropout': 0.1341639192169604}</td>\n      <td>[{'overall_acc': 0.36879432624113473, 'bal_acc...</td>\n      <td>mcc_parity</td>\n      <td>simple_mlp_initializer</td>\n      <td>compas_dataset_reader</td>\n      <td>{'loss': [0.7595557213286125, 0.69979321408792...</td>\n    </tr>\n    <tr>\n      <th>1</th>\n      <td>1</td>\n      <td>0.629660</td>\n      <td>0.638043</td>\n      <td>0.059950</td>\n      <td>0.906721</td>\n      <td>0.044583</td>\n      <td>0.016440</td>\n      <td>0.320804</td>\n      <td>0.633520</td>\n      <td>0.569986</td>\n      <td>...</td>\n      <td>0.438235</td>\n      <td>0.629660</td>\n      <td>0.275422</td>\n      <td>0.230839</td>\n      <td>{'dropout': 0.10200830650984788, 'privileged_d...</td>\n      <td>[{'overall_acc': 0.5096251266464032, 'bal_acc'...</td>\n      <td>mcc_parity</td>\n      <td>ftl_mlp_initializer</td>\n      <td>compas_dataset_reader</td>\n      <td>{'loss': [0.6842847106343428, 0.65160468536928...</td>\n    </tr>\n    <tr>\n      <th>2</th>\n      <td>2</td>\n      <td>0.663695</td>\n      <td>0.656734</td>\n      <td>0.095539</td>\n      <td>0.826610</td>\n      <td>0.113825</td>\n      <td>0.059224</td>\n      <td>0.217829</td>\n      <td>0.703783</td>\n      <td>0.721816</td>\n      <td>...</td>\n      <td>0.368217</td>\n      <td>0.663695</td>\n      <td>0.315930</td>\n      <td>0.202105</td>\n      <td>{'adversary_loss_weight': 0.8994664855734407}</td>\n      <td>[{'overall_acc': 0.6798378926038501, 'bal_acc'...</td>\n      <td>mcc_parity</td>\n      <td>adversarial_debiasing_initializer</td>\n      <td>compas_dataset_reader</td>\n      <td>NaN</td>\n    </tr>\n    <tr>\n      <th>3</th>\n      <td>3</td>\n      <td>0.371961</td>\n      <td>0.380308</td>\n      <td>0.086285</td>\n      <td>0.921301</td>\n      <td>0.031290</td>\n      <td>0.120216</td>\n      <td>0.560273</td>\n      <td>0.312334</td>\n      <td>0.265861</td>\n      <td>...</td>\n      <td>0.631990</td>\n      <td>0.371961</td>\n      <td>-0.246338</td>\n      <td>-0.277628</td>\n      <td>{'eta': 49.71844165180314}</td>\n      <td>[{'overall_acc': 0.3525835866261398, 'bal_acc'...</td>\n      <td>mcc_parity</td>\n      <td>prejudice_remover_initializer</td>\n      <td>compas_dataset_reader</td>\n      <td>NaN</td>\n    </tr>\n    <tr>\n      <th>4</th>\n      <td>4</td>\n      <td>0.632091</td>\n      <td>0.608901</td>\n      <td>0.062264</td>\n      <td>0.902403</td>\n      <td>0.080319</td>\n      <td>0.014448</td>\n      <td>0.132399</td>\n      <td>0.720099</td>\n      <td>0.869048</td>\n      <td>...</td>\n      <td>0.309859</td>\n      <td>0.632091</td>\n      <td>0.257688</td>\n      <td>0.177368</td>\n      <td>{'C': 11.825914945150187, 'gamma': 0.01}</td>\n      <td>[{'overall_acc': 0.5997973657548126, 'bal_acc'...</td>\n      <td>mcc_parity</td>\n      <td>gerry_fair_classifier_initializer</td>\n      <td>compas_dataset_reader</td>\n      <td>NaN</td>\n    </tr>\n    <tr>\n      <th>...</th>\n      <td>...</td>\n      <td>...</td>\n      <td>...</td>\n      <td>...</td>\n      <td>...</td>\n      <td>...</td>\n      <td>...</td>\n      <td>...</td>\n      <td>...</td>\n      <td>...</td>\n      <td>...</td>\n      <td>...</td>\n      <td>...</td>\n      <td>...</td>\n      <td>...</td>\n      <td>...</td>\n      <td>...</td>\n      <td>...</td>\n      <td>...</td>\n      <td>...</td>\n      <td>...</td>\n    </tr>\n    <tr>\n      <th>1752</th>\n      <td>25</td>\n      <td>0.896851</td>\n      <td>0.669304</td>\n      <td>0.057653</td>\n      <td>2.118719</td>\n      <td>0.074544</td>\n      <td>0.087314</td>\n      <td>0.093049</td>\n      <td>0.472758</td>\n      <td>0.364341</td>\n      <td>...</td>\n      <td>0.086635</td>\n      <td>0.896851</td>\n      <td>0.445599</td>\n      <td>0.809537</td>\n      <td>{'C': 10.459577021264977, 'gamma': 0.1}</td>\n      <td>[{'overall_acc': 0.8993439934399344, 'bal_acc'...</td>\n      <td>acc_opportunity</td>\n      <td>gerry_fair_classifier_initializer</td>\n      <td>bank_dataset_reader</td>\n      <td>NaN</td>\n    </tr>\n    <tr>\n      <th>1753</th>\n      <td>26</td>\n      <td>0.896359</td>\n      <td>0.753549</td>\n      <td>0.072641</td>\n      <td>2.153847</td>\n      <td>0.133189</td>\n      <td>0.120516</td>\n      <td>0.075922</td>\n      <td>0.584757</td>\n      <td>0.560453</td>\n      <td>...</td>\n      <td>0.064991</td>\n      <td>0.896359</td>\n      <td>0.526321</td>\n      <td>0.775843</td>\n      <td>{'dropout': 0.000321942353699714}</td>\n      <td>[{'overall_acc': 0.9093890938909389, 'bal_acc'...</td>\n      <td>acc_opportunity</td>\n      <td>simple_mlp_initializer</td>\n      <td>bank_dataset_reader</td>\n      <td>{'loss': [0.2854798949427075, 0.22084286485976...</td>\n    </tr>\n    <tr>\n      <th>1754</th>\n      <td>27</td>\n      <td>0.898655</td>\n      <td>0.696844</td>\n      <td>0.053642</td>\n      <td>1.420554</td>\n      <td>0.034509</td>\n      <td>0.099174</td>\n      <td>0.086198</td>\n      <td>0.514914</td>\n      <td>0.427083</td>\n      <td>...</td>\n      <td>0.078684</td>\n      <td>0.898655</td>\n      <td>0.473519</td>\n      <td>0.799482</td>\n      <td>{'dropout': 0.014472416047403187, 'privileged_...</td>\n      <td>[{'overall_acc': 0.8511685116851169, 'bal_acc'...</td>\n      <td>acc_opportunity</td>\n      <td>ftl_mlp_initializer</td>\n      <td>bank_dataset_reader</td>\n      <td>{'loss': [0.49211953761153904, 0.4700222834873...</td>\n    </tr>\n    <tr>\n      <th>1755</th>\n      <td>28</td>\n      <td>0.901607</td>\n      <td>0.718345</td>\n      <td>0.145878</td>\n      <td>0.755483</td>\n      <td>0.022450</td>\n      <td>0.286523</td>\n      <td>0.081914</td>\n      <td>0.551570</td>\n      <td>0.471867</td>\n      <td>...</td>\n      <td>0.074522</td>\n      <td>0.901607</td>\n      <td>0.507223</td>\n      <td>0.615084</td>\n      <td>{'adversary_loss_weight': 0.8391213408528397}</td>\n      <td>[{'overall_acc': 0.8987289872898729, 'bal_acc'...</td>\n      <td>acc_opportunity</td>\n      <td>adversarial_debiasing_initializer</td>\n      <td>bank_dataset_reader</td>\n      <td>NaN</td>\n    </tr>\n    <tr>\n      <th>1756</th>\n      <td>29</td>\n      <td>0.894064</td>\n      <td>0.687906</td>\n      <td>0.105366</td>\n      <td>1.858014</td>\n      <td>0.069031</td>\n      <td>0.138699</td>\n      <td>0.090850</td>\n      <td>0.500000</td>\n      <td>0.409898</td>\n      <td>...</td>\n      <td>0.083125</td>\n      <td>0.894064</td>\n      <td>0.457830</td>\n      <td>0.755364</td>\n      <td>{'eta': 39.18922596420359}</td>\n      <td>[{'overall_acc': 0.8964739647396474, 'bal_acc'...</td>\n      <td>acc_opportunity</td>\n      <td>prejudice_remover_initializer</td>\n      <td>bank_dataset_reader</td>\n      <td>NaN</td>\n    </tr>\n  </tbody>\n</table>\n<p>1757 rows × 30 columns</p>\n</div>"
     },
     "metadata": {},
     "output_type": "display_data"
    }
   ],
   "source": [
    "cols = ['dataset', 'method', 'fitness_rule', 'fitness', 'ACC', 'MCC', 'avg_odds_diff', 'stat_par_diff', 'eq_opp_diff']\n",
    "old_results = read_csv_files_from_folder('../2023-07-26/results')\n",
    "display(old_results)"
   ],
   "metadata": {
    "collapsed": false,
    "ExecuteTime": {
     "end_time": "2024-01-08T14:04:37.159273720Z",
     "start_time": "2024-01-08T14:04:36.393733620Z"
    }
   }
  },
  {
   "cell_type": "code",
   "execution_count": 9,
   "outputs": [],
   "source": [
    "# remove old Gerry Fair Classifier Results and keep the others\n",
    "old_results_without_gfc = old_results.query(\"method != 'gerry_fair_classifier_initializer'\")\n",
    "\n",
    "# get new Gerry Fair Classifier results\n",
    "gfc_results = read_csv_files_from_folder('../2023-10-04/results')\n",
    "\n",
    "# merge old results with new GFC\n",
    "old_and_gfc_results = pd.concat([old_results_without_gfc, gfc_results])\n",
    "\n",
    "# remove german credit dataset results exept adversarial debiasing\n",
    "old_and_gfc_results_without_german = old_and_gfc_results.query(\"dataset != 'german_dataset_reader' or method == 'adversarial_debiasing_initializer'\")\n",
    "\n",
    "# read new german credit results\n",
    "german_results = read_csv_files_from_folder('../2023-10-17/results')\n",
    "\n",
    "# read results from APW method\n",
    "apw_results = read_csv_files_from_folder('../2024-01-08/results')\n",
    "\n",
    "# merge definitive results\n",
    "results = pd.concat([old_and_gfc_results_without_german, german_results, apw_results])\n"
   ],
   "metadata": {
    "collapsed": false,
    "ExecuteTime": {
     "end_time": "2024-01-08T14:04:37.775999729Z",
     "start_time": "2024-01-08T14:04:37.159125806Z"
    }
   }
  },
  {
   "cell_type": "code",
   "execution_count": 10,
   "outputs": [],
   "source": [
    "# save results by method\n",
    "for method in ['simple_mlp_initializer', 'ftl_mlp_initializer', 'adversarial_debiasing_initializer', 'prejudice_remover_initializer', 'gerry_fair_classifier_initializer', 'adaptative_priority_reweighting_classifier_initializer']:\n",
    "    csv_path = method.replace('_initializer', '_results') + '.csv'\n",
    "    results[results.method == method][cols].to_csv(f'results/{csv_path}')"
   ],
   "metadata": {
    "collapsed": false,
    "ExecuteTime": {
     "end_time": "2024-01-08T14:04:37.806326257Z",
     "start_time": "2024-01-08T14:04:37.779111900Z"
    }
   }
  },
  {
   "cell_type": "code",
   "execution_count": 10,
   "outputs": [],
   "source": [],
   "metadata": {
    "collapsed": false,
    "ExecuteTime": {
     "end_time": "2024-01-08T14:04:37.847506573Z",
     "start_time": "2024-01-08T14:04:37.806989495Z"
    }
   }
  }
 ],
 "metadata": {
  "kernelspec": {
   "display_name": "Python 3",
   "language": "python",
   "name": "python3"
  },
  "language_info": {
   "codemirror_mode": {
    "name": "ipython",
    "version": 2
   },
   "file_extension": ".py",
   "mimetype": "text/x-python",
   "name": "python",
   "nbconvert_exporter": "python",
   "pygments_lexer": "ipython2",
   "version": "2.7.6"
  }
 },
 "nbformat": 4,
 "nbformat_minor": 0
}
